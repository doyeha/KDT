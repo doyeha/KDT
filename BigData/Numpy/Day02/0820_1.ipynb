{
 "cells": [
  {
   "cell_type": "code",
   "execution_count": 1,
   "metadata": {},
   "outputs": [],
   "source": [
    "import numpy as np\n",
    "import pandas as pd"
   ]
  },
  {
   "cell_type": "markdown",
   "metadata": {},
   "source": [
    "### Chap 01"
   ]
  },
  {
   "cell_type": "code",
   "execution_count": 3,
   "metadata": {},
   "outputs": [
    {
     "name": "stdout",
     "output_type": "stream",
     "text": [
      "<class 'numpy.ndarray'>\n"
     ]
    }
   ],
   "source": [
    "print(np.ndarray)"
   ]
  },
  {
   "cell_type": "code",
   "execution_count": 6,
   "metadata": {},
   "outputs": [
    {
     "data": {
      "text/plain": [
       "'ndarray'"
      ]
     },
     "execution_count": 6,
     "metadata": {},
     "output_type": "execute_result"
    }
   ],
   "source": [
    "np.ndarray.__name__"
   ]
  },
  {
   "cell_type": "code",
   "execution_count": 7,
   "metadata": {},
   "outputs": [
    {
     "name": "stdout",
     "output_type": "stream",
     "text": [
      "T\n",
      "all\n",
      "any\n",
      "argmax\n",
      "argmin\n",
      "argpartition\n",
      "argsort\n",
      "astype\n",
      "base\n",
      "byteswap\n",
      "choose\n",
      "clip\n",
      "compress\n",
      "conj\n",
      "conjugate\n",
      "copy\n",
      "ctypes\n",
      "cumprod\n",
      "cumsum\n",
      "data\n",
      "diagonal\n",
      "dot\n",
      "dtype\n",
      "dump\n",
      "dumps\n",
      "fill\n",
      "flags\n",
      "flat\n",
      "flatten\n",
      "getfield\n",
      "imag\n",
      "item\n",
      "itemset\n",
      "itemsize\n",
      "max\n",
      "mean\n",
      "min\n",
      "nbytes\n",
      "ndim\n",
      "newbyteorder\n",
      "nonzero\n",
      "partition\n",
      "prod\n",
      "ptp\n",
      "put\n",
      "ravel\n",
      "real\n",
      "repeat\n",
      "reshape\n",
      "resize\n",
      "round\n",
      "searchsorted\n",
      "setfield\n",
      "setflags\n",
      "shape\n",
      "size\n",
      "sort\n",
      "squeeze\n",
      "std\n",
      "strides\n",
      "sum\n",
      "swapaxes\n",
      "take\n",
      "tobytes\n",
      "tofile\n",
      "tolist\n",
      "tostring\n",
      "trace\n",
      "transpose\n",
      "var\n",
      "view\n"
     ]
    }
   ],
   "source": [
    "for i in dir(np.ndarray):\n",
    "    if not i.startswith(\"_\"):\n",
    "        if type(np.ndarray.__dict__[i] != type(np.ndarray.var)):\n",
    "            print(i)"
   ]
  },
  {
   "cell_type": "code",
   "execution_count": 12,
   "metadata": {},
   "outputs": [
    {
     "data": {
      "text/plain": [
       "(array([1, 2, 3, 4]), numpy.ndarray)"
      ]
     },
     "execution_count": 12,
     "metadata": {},
     "output_type": "execute_result"
    }
   ],
   "source": [
    "a = [1,2,3,4]\n",
    "b = np.array(a)\n",
    "b, type(b)"
   ]
  },
  {
   "cell_type": "code",
   "execution_count": 15,
   "metadata": {},
   "outputs": [
    {
     "data": {
      "text/plain": [
       "array([1, 2, 3, 4])"
      ]
     },
     "execution_count": 15,
     "metadata": {},
     "output_type": "execute_result"
    }
   ],
   "source": [
    "b.data.obj"
   ]
  },
  {
   "cell_type": "code",
   "execution_count": 17,
   "metadata": {},
   "outputs": [
    {
     "ename": "NameError",
     "evalue": "name 'e' is not defined",
     "output_type": "error",
     "traceback": [
      "\u001b[1;31m---------------------------------------------------------------------------\u001b[0m",
      "\u001b[1;31mNameError\u001b[0m                                 Traceback (most recent call last)",
      "Cell \u001b[1;32mIn[17], line 2\u001b[0m\n\u001b[0;32m      1\u001b[0m \u001b[38;5;66;03m# e = np.array(a,dtype=np.float)\u001b[39;00m\n\u001b[1;32m----> 2\u001b[0m e\n",
      "\u001b[1;31mNameError\u001b[0m: name 'e' is not defined"
     ]
    }
   ],
   "source": [
    "# e = np.array(a,dtype=np.float)\n",
    "e"
   ]
  },
  {
   "cell_type": "code",
   "execution_count": 21,
   "metadata": {},
   "outputs": [
    {
     "data": {
      "text/plain": [
       "((2, 3), 2, dtype('int32'), 4, 6, (12, 4))"
      ]
     },
     "execution_count": 21,
     "metadata": {},
     "output_type": "execute_result"
    }
   ],
   "source": [
    "a2 = np.array([[1,2,3],[4,5,6]])\n",
    "a2.shape, a2.ndim, a2.dtype, a2.itemsize, a2.size, a2.strides"
   ]
  },
  {
   "cell_type": "code",
   "execution_count": 22,
   "metadata": {},
   "outputs": [
    {
     "data": {
      "text/plain": [
       "numpy.ufunc"
      ]
     },
     "execution_count": 22,
     "metadata": {},
     "output_type": "execute_result"
    }
   ],
   "source": [
    "a = dir(np)\n",
    "np.ufunc"
   ]
  },
  {
   "cell_type": "code",
   "execution_count": 24,
   "metadata": {},
   "outputs": [
    {
     "name": "stdout",
     "output_type": "stream",
     "text": [
      "ALLOW_THREADS BUFSIZE CLIP DataSource ERR_CALL \n",
      "ERR_DEFAULT ERR_IGNORE ERR_LOG ERR_PRINT ERR_RAISE \n",
      "ERR_WARN FLOATING_POINT_SUPPORT FPE_DIVIDEBYZERO FPE_INVALID FPE_OVERFLOW \n",
      "FPE_UNDERFLOW False_ Inf Infinity MAXDIMS \n",
      "MAY_SHARE_BOUNDS MAY_SHARE_EXACT NAN NINF NZERO \n",
      "NaN PINF PZERO RAISE RankWarning \n",
      "SHIFT_DIVIDEBYZERO SHIFT_INVALID SHIFT_OVERFLOW SHIFT_UNDERFLOW ScalarType \n",
      "True_ UFUNC_BUFSIZE_DEFAULT UFUNC_PYVALS_NAME WRAP _CopyMode \n",
      "_NoValue _UFUNC_API __NUMPY_SETUP__ __all__ __builtins__ \n",
      "__cached__ __config__ __deprecated_attrs__ __dir__ __doc__ \n",
      "__expired_functions__ __file__ __former_attrs__ __future_scalars__ __getattr__ \n",
      "__loader__ __name__ __package__ __path__ __spec__ \n",
      "__version__ _add_newdoc_ufunc _builtins _distributor_init _financial_names \n",
      "_get_promotion_state _globals _int_extended_msg _mat _no_nep50_warning \n",
      "_pyinstaller_hooks_dir _pytesttester _set_promotion_state _specific_msg _typing \n",
      "_using_numpy2_behavior _utils abs absolute add \n",
      "add_docstring add_newdoc add_newdoc_ufunc all allclose \n",
      "alltrue amax amin angle any \n",
      "append apply_along_axis apply_over_axes arange arccos \n",
      "arccosh arcsin arcsinh arctan arctan2 \n",
      "arctanh argmax argmin argpartition argsort \n",
      "argwhere around array array2string array_equal \n",
      "array_equiv array_repr array_split array_str asanyarray \n",
      "asarray asarray_chkfinite ascontiguousarray asfarray asfortranarray \n",
      "asmatrix atleast_1d atleast_2d atleast_3d average \n",
      "bartlett base_repr binary_repr bincount bitwise_and \n",
      "bitwise_not bitwise_or bitwise_xor blackman block \n",
      "bmat bool_ broadcast broadcast_arrays broadcast_shapes \n",
      "broadcast_to busday_count busday_offset busdaycalendar byte \n",
      "byte_bounds bytes_ c_ can_cast cast \n",
      "cbrt cdouble ceil cfloat char \n",
      "character chararray choose clip clongdouble \n",
      "clongfloat column_stack common_type compare_chararrays compat \n",
      "complex128 complex64 complex_ complexfloating compress \n",
      "concatenate conj conjugate convolve copy \n",
      "copysign copyto corrcoef correlate cos \n",
      "cosh count_nonzero cov cross csingle \n",
      "ctypeslib cumprod cumproduct cumsum datetime64 \n",
      "datetime_as_string datetime_data deg2rad degrees delete \n",
      "deprecate deprecate_with_doc diag diag_indices diag_indices_from \n",
      "diagflat diagonal diff digitize disp \n",
      "divide divmod dot double dsplit \n",
      "dstack dtype dtypes e ediff1d \n",
      "einsum einsum_path emath empty empty_like \n",
      "equal errstate euler_gamma exceptions exp \n",
      "exp2 expand_dims expm1 expm1x extract \n",
      "eye fabs fastCopyAndTranspose fft fill_diagonal \n",
      "find_common_type finfo fix flatiter flatnonzero \n",
      "flexible flip fliplr flipud float16 \n",
      "float32 float64 float_ float_power floating \n",
      "floor floor_divide fmax fmin fmod \n",
      "format_float_positional format_float_scientific format_parser frexp from_dlpack \n",
      "frombuffer fromfile fromfunction fromiter frompyfunc \n",
      "fromregex fromstring full full_like gcd \n",
      "generic genfromtxt geomspace get_array_wrap get_include \n",
      "get_printoptions getbufsize geterr geterrcall geterrobj \n",
      "gradient greater greater_equal half hamming \n",
      "hanning heaviside histogram histogram2d histogram_bin_edges \n",
      "histogramdd hsplit hstack hypot i0 \n",
      "identity iinfo imag in1d index_exp \n",
      "indices inexact inf info infty \n",
      "inner insert int16 int32 int64 \n",
      "int8 int_ intc integer interp \n",
      "intersect1d intp invert is_busday isclose \n",
      "iscomplex iscomplexobj isfinite isfortran isin \n",
      "isinf isnan isnat isneginf isposinf \n",
      "isreal isrealobj isscalar issctype issubclass_ \n",
      "issubdtype issubsctype iterable ix_ kaiser \n",
      "kron lcm ldexp left_shift less \n",
      "less_equal lexsort lib linalg linspace \n",
      "little_endian load loadtxt log log10 \n",
      "log1p log2 logaddexp logaddexp2 logical_and \n",
      "logical_not logical_or logical_xor logspace longcomplex \n",
      "longdouble longfloat longlong lookfor ma \n",
      "mask_indices mat matmul matrix max \n",
      "maximum maximum_sctype may_share_memory mean median \n",
      "memmap meshgrid mgrid min min_scalar_type \n",
      "minimum mintypecode mod modf moveaxis \n",
      "msort multiply nan nan_to_num nanargmax \n",
      "nanargmin nancumprod nancumsum nanmax nanmean \n",
      "nanmedian nanmin nanpercentile nanprod nanquantile \n",
      "nanstd nansum nanvar nbytes ndarray \n",
      "ndenumerate ndim ndindex nditer negative \n",
      "nested_iters newaxis nextafter nonzero not_equal \n",
      "numarray number obj2sctype object_ ogrid \n",
      "oldnumeric ones ones_like outer packbits \n",
      "pad partition percentile pi piecewise \n",
      "place poly poly1d polyadd polyder \n",
      "polydiv polyfit polyint polymul polynomial \n",
      "polysub polyval positive power printoptions \n",
      "prod product promote_types ptp put \n",
      "put_along_axis putmask quantile r_ rad2deg \n",
      "radians random ravel ravel_multi_index real \n",
      "real_if_close rec recarray recfromcsv recfromtxt \n",
      "reciprocal record remainder repeat require \n",
      "reshape resize result_type right_shift rint \n",
      "roll rollaxis roots rot90 round \n",
      "round_ row_stack s_ safe_eval save \n",
      "savetxt savez savez_compressed sctype2char sctypeDict \n",
      "sctypes searchsorted select set_numeric_ops set_printoptions \n",
      "set_string_function setbufsize setdiff1d seterr seterrcall \n",
      "seterrobj setxor1d shape shares_memory short \n",
      "show_config show_runtime sign signbit signedinteger \n",
      "sin sinc single singlecomplex sinh \n",
      "size sometrue sort sort_complex source \n",
      "spacing split sqrt square squeeze \n",
      "stack std str_ string_ subtract \n",
      "sum swapaxes take take_along_axis tan \n",
      "tanh tensordot test "
     ]
    },
    {
     "ename": "KeyError",
     "evalue": "'testing'",
     "output_type": "error",
     "traceback": [
      "\u001b[1;31m---------------------------------------------------------------------------\u001b[0m",
      "\u001b[1;31mKeyError\u001b[0m                                  Traceback (most recent call last)",
      "Cell \u001b[1;32mIn[24], line 5\u001b[0m\n\u001b[0;32m      3\u001b[0m \u001b[38;5;28;01mif\u001b[39;00m i \u001b[38;5;241m==\u001b[39m \u001b[38;5;124m\"\u001b[39m\u001b[38;5;124mTester\u001b[39m\u001b[38;5;124m\"\u001b[39m :\n\u001b[0;32m      4\u001b[0m     \u001b[38;5;28;01mcontinue\u001b[39;00m\n\u001b[1;32m----> 5\u001b[0m \u001b[38;5;28;01mif\u001b[39;00m \u001b[38;5;28mtype\u001b[39m(np\u001b[38;5;241m.\u001b[39m\u001b[38;5;18m__dict__\u001b[39m[i] \u001b[38;5;241m==\u001b[39m np\u001b[38;5;241m.\u001b[39mufunc):\n\u001b[0;32m      6\u001b[0m     \u001b[38;5;28mprint\u001b[39m(i, end\u001b[38;5;241m=\u001b[39m\u001b[38;5;124m\"\u001b[39m\u001b[38;5;124m \u001b[39m\u001b[38;5;124m\"\u001b[39m)\n\u001b[0;32m      7\u001b[0m     count \u001b[38;5;241m+\u001b[39m\u001b[38;5;241m=\u001b[39m \u001b[38;5;241m1\u001b[39m\n",
      "\u001b[1;31mKeyError\u001b[0m: 'testing'"
     ]
    }
   ],
   "source": [
    "count = 0\n",
    "for i in a :\n",
    "    if i == \"Tester\" :\n",
    "        continue\n",
    "    if type(np.__dict__[i] == np.ufunc):\n",
    "        print(i, end=\" \")\n",
    "        count += 1\n",
    "        if count % 5 == 0:\n",
    "            print()"
   ]
  },
  {
   "cell_type": "code",
   "execution_count": 26,
   "metadata": {},
   "outputs": [
    {
     "data": {
      "text/plain": [
       "array([6, 7, 8, 9])"
      ]
     },
     "execution_count": 26,
     "metadata": {},
     "output_type": "execute_result"
    }
   ],
   "source": [
    "a = np.arange(6,10)\n",
    "a"
   ]
  },
  {
   "cell_type": "code",
   "execution_count": 27,
   "metadata": {},
   "outputs": [
    {
     "data": {
      "text/plain": [
       "array([10, 11, 12, 13])"
      ]
     },
     "execution_count": 27,
     "metadata": {},
     "output_type": "execute_result"
    }
   ],
   "source": [
    "b = np.arange(10,14)\n",
    "b"
   ]
  },
  {
   "cell_type": "code",
   "execution_count": 28,
   "metadata": {},
   "outputs": [
    {
     "data": {
      "text/plain": [
       "array([ 60,  77,  96, 117])"
      ]
     },
     "execution_count": 28,
     "metadata": {},
     "output_type": "execute_result"
    }
   ],
   "source": [
    "c = a * b\n",
    "c"
   ]
  },
  {
   "cell_type": "code",
   "execution_count": 29,
   "metadata": {},
   "outputs": [
    {
     "data": {
      "text/plain": [
       "array([1, 2, 3, 4])"
      ]
     },
     "execution_count": 29,
     "metadata": {},
     "output_type": "execute_result"
    }
   ],
   "source": [
    "a2 = np.array([1,2,3,4])\n",
    "a2"
   ]
  },
  {
   "cell_type": "code",
   "execution_count": 30,
   "metadata": {},
   "outputs": [
    {
     "data": {
      "text/plain": [
       "array([[1, 2],\n",
       "       [3, 4]])"
      ]
     },
     "execution_count": 30,
     "metadata": {},
     "output_type": "execute_result"
    }
   ],
   "source": [
    "a2 = a2.reshape(2,2)\n",
    "a2"
   ]
  },
  {
   "cell_type": "code",
   "execution_count": 31,
   "metadata": {},
   "outputs": [
    {
     "data": {
      "text/plain": [
       "(10, array([4, 6]), array([3, 7]))"
      ]
     },
     "execution_count": 31,
     "metadata": {},
     "output_type": "execute_result"
    }
   ],
   "source": [
    "np.sum(a2), np.sum(a2, axis = 0), np.sum(a2, axis = 1)"
   ]
  },
  {
   "cell_type": "code",
   "execution_count": 32,
   "metadata": {},
   "outputs": [
    {
     "data": {
      "text/plain": [
       "((2,), (3,))"
      ]
     },
     "execution_count": 32,
     "metadata": {},
     "output_type": "execute_result"
    }
   ],
   "source": [
    "a = np.array([4,5])\n",
    "b = np.array([3,4,6])\n",
    "a.shape, b.shape"
   ]
  },
  {
   "cell_type": "code",
   "execution_count": 33,
   "metadata": {},
   "outputs": [
    {
     "name": "stdout",
     "output_type": "stream",
     "text": [
      "operands could not be broadcast together with shapes (2,) (3,) \n"
     ]
    }
   ],
   "source": [
    "try:\n",
    "    a+b\n",
    "except Exception as e:\n",
    "    print(e)"
   ]
  },
  {
   "cell_type": "code",
   "execution_count": null,
   "metadata": {},
   "outputs": [],
   "source": []
  },
  {
   "cell_type": "markdown",
   "metadata": {},
   "source": [
    "### Chap 02"
   ]
  },
  {
   "cell_type": "markdown",
   "metadata": {},
   "source": [
    "### Chap 03"
   ]
  }
 ],
 "metadata": {
  "kernelspec": {
   "display_name": "base",
   "language": "python",
   "name": "python3"
  },
  "language_info": {
   "codemirror_mode": {
    "name": "ipython",
    "version": 3
   },
   "file_extension": ".py",
   "mimetype": "text/x-python",
   "name": "python",
   "nbconvert_exporter": "python",
   "pygments_lexer": "ipython3",
   "version": "3.11.7"
  }
 },
 "nbformat": 4,
 "nbformat_minor": 2
}
