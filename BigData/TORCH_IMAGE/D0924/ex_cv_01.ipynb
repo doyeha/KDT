{
 "cells": [
  {
   "cell_type": "markdown",
   "metadata": {},
   "source": [
    "#### OpenCV 기본 사용법"
   ]
  },
  {
   "cell_type": "code",
   "execution_count": 35,
   "metadata": {},
   "outputs": [],
   "source": [
    "import cv2\n",
    "import os\n",
    "import numpy as np"
   ]
  },
  {
   "cell_type": "code",
   "execution_count": 36,
   "metadata": {},
   "outputs": [],
   "source": [
    "# 이미지 관련 공통 변수\n",
    "IMG_DIR = '../image/'"
   ]
  },
  {
   "cell_type": "markdown",
   "metadata": {},
   "source": [
    "[1] 이미지 읽기 ==> ndarray\n"
   ]
  },
  {
   "cell_type": "code",
   "execution_count": 37,
   "metadata": {},
   "outputs": [],
   "source": [
    "# 이미지 파일 경로 +\n",
    "IMG_FILE = IMG_DIR+'logo.png'\n",
    "\n",
    "# 이미지 데이터\n",
    "im_data = cv2.imread(IMG_FILE)\n",
    "gray_data = cv2.imread(IMG_FILE, flags=cv2.IMREAD_GRAYSCALE)  # 회색 이미지로 가지고 와라"
   ]
  },
  {
   "cell_type": "code",
   "execution_count": 38,
   "metadata": {},
   "outputs": [
    {
     "name": "stdout",
     "output_type": "stream",
     "text": [
      "shape (184, 544, 3)\n",
      "ndim 3\n"
     ]
    }
   ],
   "source": [
    "print(f'shape {im_data.shape}')\n",
    "print(f'ndim {im_data.ndim}')   # 행과 열이라 세로 가로임 "
   ]
  },
  {
   "cell_type": "code",
   "execution_count": 39,
   "metadata": {},
   "outputs": [
    {
     "name": "stdout",
     "output_type": "stream",
     "text": [
      "[[[[  0   0   0]\n",
      "  [  0   0   0]\n",
      "  [  0   0   0]\n",
      "  ...\n",
      "  [255 255   0]\n",
      "  [255 255   0]\n",
      "  [255 255   0]]\n",
      "\n",
      " [[255 255   0]\n",
      "  [255 255   0]\n",
      "  [255 255   0]\n",
      "  ...\n",
      "  [255 255   0]\n",
      "  [255 255   0]\n",
      "  [255 255   0]]\n",
      "\n",
      " [[255 255   0]\n",
      "  [255 255   0]\n",
      "  [255 255   0]\n",
      "  ...\n",
      "  [243 133  66]\n",
      "  [243 133  66]\n",
      "  [243 133  66]]\n",
      "\n",
      " ...\n",
      "\n",
      " [[233 127  63]\n",
      "  [233 127  63]\n",
      "  [233 127  63]\n",
      "  ...\n",
      "  [233 127  63]\n",
      "  [233 127  63]\n",
      "  [233 127  63]]\n",
      "\n",
      " [[233 127  63]\n",
      "  [233 127  63]\n",
      "  [233 127  63]\n",
      "  ...\n",
      "  [233 127  63]\n",
      "  [233 127  63]\n",
      "  [233 127  63]]\n",
      "\n",
      " [[233 127  63]\n",
      "  [233 127  63]\n",
      "  [233 127  63]\n",
      "  ...\n",
      "  [233 127  63]\n",
      "  [233 127  63]\n",
      "  [233 127  63]]]]\n",
      "shape (184, 544, 3)\n",
      "ndim 3D\n",
      "[[[  0   0   0 ... 178 178 178]\n",
      " [178 178 178 ... 178 178 178]\n",
      " [178 178 178 ... 125 125 125]\n",
      " ...\n",
      " [119 119 119 ... 119 119 119]\n",
      " [119 119 119 ... 119 119 119]\n",
      " [119 119 119 ... 119 119 119]]]\n",
      "shape (184, 544)\n",
      "ndim 2D\n"
     ]
    }
   ],
   "source": [
    "def printdf(data):\n",
    "    print(f'[{data}]')\n",
    "    print(f'shape {data.shape}')\n",
    "    print(f'ndim {data.ndim}D')\n",
    "\n",
    "printdf(im_data)\n",
    "printdf(gray_data)"
   ]
  },
  {
   "cell_type": "code",
   "execution_count": 40,
   "metadata": {},
   "outputs": [],
   "source": [
    "# cv2.imshow('[IM_DATA]', im_data)\n",
    "# cv2.waitKey()"
   ]
  },
  {
   "cell_type": "code",
   "execution_count": 41,
   "metadata": {},
   "outputs": [],
   "source": [
    "# for _ in range(10):\n",
    "#     print(cv2.waitKey(1000) )   # ms 마다 기다림"
   ]
  },
  {
   "cell_type": "markdown",
   "metadata": {},
   "source": [
    " - [2] 이밎 화면 출력 ==> imshow()\n"
   ]
  },
  {
   "cell_type": "code",
   "execution_count": 42,
   "metadata": {},
   "outputs": [],
   "source": [
    "# import time\n",
    "# #이미지 창 띄우기 \n",
    "# cv2.imshow(\"IM_DATA\", im_data)\n",
    "# cv2.imshow(\"GRAY_DATA\", gray_data)\n",
    "\n",
    "\n",
    "\n",
    "# cv2.waitKey()\n",
    "# cv2.destroyAllWindows(\"IM_DATA\")\n",
    "# time.sleep(1)\n",
    "# cv2.destroyAllWindows(\"IM_DATA\")"
   ]
  },
  {
   "cell_type": "markdown",
   "metadata": {},
   "source": [
    "###"
   ]
  },
  {
   "cell_type": "code",
   "execution_count": 43,
   "metadata": {},
   "outputs": [],
   "source": [
    "# .### x, x 업적 시 ㅁ도든 장니ㅣㅇ 니힐,ㄹ ㅇ닐,\n",
    "# cv2.fluiso\n",
    "# prunt(*f\"ket_code = >graydata\n",
    "#       llplt.alkl[[]]\")"
   ]
  },
  {
   "cell_type": "code",
   "execution_count": 45,
   "metadata": {},
   "outputs": [
    {
     "ename": "ValueError",
     "evalue": "chr() arg not in range(0x110000)",
     "output_type": "error",
     "traceback": [
      "\u001b[1;31m---------------------------------------------------------------------------\u001b[0m",
      "\u001b[1;31mValueError\u001b[0m                                Traceback (most recent call last)",
      "Cell \u001b[1;32mIn[45], line 9\u001b[0m\n\u001b[0;32m      7\u001b[0m \u001b[38;5;66;03m# 키보드 대기 함수 \u001b[39;00m\n\u001b[0;32m      8\u001b[0m key_code \u001b[38;5;241m=\u001b[39m cv2\u001b[38;5;241m.\u001b[39mwaitKey()\n\u001b[1;32m----> 9\u001b[0m \u001b[38;5;28mprint\u001b[39m(\u001b[38;5;124mf\u001b[39m\u001b[38;5;124m'\u001b[39m\u001b[38;5;124mkey_code => \u001b[39m\u001b[38;5;132;01m{\u001b[39;00mkey_code\u001b[38;5;132;01m}\u001b[39;00m\u001b[38;5;124m, \u001b[39m\u001b[38;5;132;01m{\u001b[39;00m\u001b[38;5;28mchr\u001b[39m(key_code)\u001b[38;5;132;01m}\u001b[39;00m\u001b[38;5;124m'\u001b[39m)\n\u001b[0;32m     11\u001b[0m \u001b[38;5;28;01mif\u001b[39;00m \u001b[38;5;28mchr\u001b[39m(key_code) \u001b[38;5;129;01min\u001b[39;00m [\u001b[38;5;124m'\u001b[39m\u001b[38;5;124mx\u001b[39m\u001b[38;5;124m'\u001b[39m,\u001b[38;5;124m'\u001b[39m\u001b[38;5;124mX \u001b[39m\u001b[38;5;124m'\u001b[39m]:\n\u001b[0;32m     12\u001b[0m     cv2\u001b[38;5;241m.\u001b[39mdestroyAllWindows()\n",
      "\u001b[1;31mValueError\u001b[0m: chr() arg not in range(0x110000)"
     ]
    }
   ],
   "source": [
    "import time\n",
    "#이미지 창 띄우기 \n",
    "cv2.imshow(\"IM_DATA\", im_data)\n",
    "cv2.imshow(\"GRAY_DATA\", gray_data)\n",
    "\n",
    "while True:\n",
    "\n",
    "    # 키보드 대기 함수 \n",
    "    key_code = cv2.waitKey()\n",
    "    print(f'key_code => {key_code}, {chr(key_code)}')\n",
    "\n",
    "    if chr(key_code) in ['x','X ']:\n",
    "        cv2.destroyAllWindows()\n",
    "    elif chr (key_code) in [s''''StopAsyncIterationcv]\n",
    "                            \n",
    "                            "
   ]
  }
 ],
 "metadata": {
  "kernelspec": {
   "display_name": "TORCH_CV_38",
   "language": "python",
   "name": "python3"
  },
  "language_info": {
   "codemirror_mode": {
    "name": "ipython",
    "version": 3
   },
   "file_extension": ".py",
   "mimetype": "text/x-python",
   "name": "python",
   "nbconvert_exporter": "python",
   "pygments_lexer": "ipython3",
   "version": "3.8.19"
  }
 },
 "nbformat": 4,
 "nbformat_minor": 2
}
