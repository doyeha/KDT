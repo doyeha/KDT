{
 "cells": [
  {
   "cell_type": "markdown",
   "metadata": {},
   "source": [
    "#### ndarray & tensor의 차원 축소 & 추가\n",
    " - 모델에 입출력 시에 shape 설정을 위해서 필요함 ㅔ67"
   ]
  },
  {
   "cell_type": "code",
   "execution_count": 17,
   "metadata": {},
   "outputs": [],
   "source": [
    "## 모듈 로딩\n",
    "import cv2\n",
    "import numpy as np\n",
    "import torch"
   ]
  },
  {
   "cell_type": "code",
   "execution_count": 18,
   "metadata": {},
   "outputs": [
    {
     "data": {
      "text/plain": [
       "((200, 100), 2)"
      ]
     },
     "execution_count": 18,
     "metadata": {},
     "output_type": "execute_result"
    }
   ],
   "source": [
    "# 임의의 데이터 생성\n",
    "data = np.full((200,100), 7)    # 2차원 생성\n",
    "data.shape, data.ndim"
   ]
  },
  {
   "cell_type": "markdown",
   "metadata": {},
   "source": [
    "- [차원 추가] <hr>\n",
    "    * numpy 경우 : ndarray.reshape(), np.expand_dims(), mp.newaxis\n",
    "    * Pytorch 경우 :  reshape, unsqueeze"
   ]
  },
  {
   "cell_type": "code",
   "execution_count": 19,
   "metadata": {},
   "outputs": [
    {
     "data": {
      "text/plain": [
       "((200, 100, 1), 3)"
      ]
     },
     "execution_count": 19,
     "metadata": {},
     "output_type": "execute_result"
    }
   ],
   "source": [
    "## numpy 기반\n",
    "## - 채널 차원을 추가하기 => 방법1 reshape()\n",
    "data1 = data.reshape((200,100,1))\n",
    "data1.shape, data1.ndim"
   ]
  },
  {
   "cell_type": "code",
   "execution_count": 20,
   "metadata": {},
   "outputs": [
    {
     "data": {
      "text/plain": [
       "((200, 100, 1), 3)"
      ]
     },
     "execution_count": 20,
     "metadata": {},
     "output_type": "execute_result"
    }
   ],
   "source": [
    "## - 채널 차원을 추가하기 => 방법2 np.expand_dims()\n",
    "data2 = np.expand_dims(data, axis=2)    \n",
    "data2.shape, data2.ndim"
   ]
  },
  {
   "cell_type": "code",
   "execution_count": 21,
   "metadata": {},
   "outputs": [
    {
     "name": "stdout",
     "output_type": "stream",
     "text": [
      "(200, 100) 2\n"
     ]
    },
    {
     "data": {
      "text/plain": [
       "((200, 100, 1), 3)"
      ]
     },
     "execution_count": 21,
     "metadata": {},
     "output_type": "execute_result"
    }
   ],
   "source": [
    "## - 채널 차원을 추가하기 => 방법3\n",
    "print(data.shape, data.ndim)\n",
    "\n",
    "data3 = data[:,:,np.newaxis]   #\n",
    "data3.shape, data3.ndim     \n"
   ]
  },
  {
   "cell_type": "code",
   "execution_count": 22,
   "metadata": {},
   "outputs": [
    {
     "data": {
      "text/plain": [
       "((200, 1, 100), 3)"
      ]
     },
     "execution_count": 22,
     "metadata": {},
     "output_type": "execute_result"
    }
   ],
   "source": [
    "data4 = data[:,np.newaxis, :]   #\n",
    "data4.shape, data4.ndim  "
   ]
  },
  {
   "cell_type": "code",
   "execution_count": 23,
   "metadata": {},
   "outputs": [
    {
     "name": "stdout",
     "output_type": "stream",
     "text": [
      "<class 'numpy.ndarray'> (200, 100) 2\n"
     ]
    },
    {
     "data": {
      "text/plain": [
       "torch.Size([200, 100])"
      ]
     },
     "execution_count": 23,
     "metadata": {},
     "output_type": "execute_result"
    }
   ],
   "source": [
    "# --------------------------------------------------------------\n",
    "# Pytorch 기반\n",
    "# --------------------------------------------------------------\n",
    "print(type(data), data.shape, data.ndim)\n",
    "\n",
    "dataTS = torch.IntTensor(data)\n",
    "dataTS.shape"
   ]
  },
  {
   "cell_type": "code",
   "execution_count": 24,
   "metadata": {},
   "outputs": [
    {
     "data": {
      "text/plain": [
       "torch.Size([200, 100, 1])"
      ]
     },
     "execution_count": 24,
     "metadata": {},
     "output_type": "execute_result"
    }
   ],
   "source": [
    "## 채널 차우너을 추가 하기 => 방법1 reshape\n",
    "dataTS1 = dataTS.reshape((200,100,1))\n",
    "dataTS1.shape"
   ]
  },
  {
   "cell_type": "code",
   "execution_count": 28,
   "metadata": {},
   "outputs": [
    {
     "data": {
      "text/plain": [
       "torch.Size([1, 200, 100])"
      ]
     },
     "execution_count": 28,
     "metadata": {},
     "output_type": "execute_result"
    }
   ],
   "source": [
    "## 채널 차원을 추가하기 => 방법2 unsqueeze(dim=숫자)\n",
    "dataTS2 = dataTS.unsqueeze(dim=0)\n",
    "dataTS2.shape"
   ]
  },
  {
   "cell_type": "markdown",
   "metadata": {},
   "source": [
    "- [shape 변경] <hr>\n",
    "    * numpy 경우 : T 속성, transpose()\n",
    "    * pytorch 경우 : T 속성, transpose(), permute"
   ]
  },
  {
   "cell_type": "code",
   "execution_count": 29,
   "metadata": {},
   "outputs": [
    {
     "name": "stdout",
     "output_type": "stream",
     "text": [
      "torch.Size([1, 200, 100])\n",
      "torch.Size([1, 200, 100, 1])\n"
     ]
    }
   ],
   "source": [
    "## shape 변경 => 방법1) 속성 T, transpose(), permute()\n",
    "print(dataTS2.shape)\n",
    "dataTS3 = dataTS2.unsqueeze(dim=3)\n",
    "print(dataTS3.shape)"
   ]
  },
  {
   "cell_type": "code",
   "execution_count": 30,
   "metadata": {},
   "outputs": [
    {
     "name": "stdout",
     "output_type": "stream",
     "text": [
      "2D = >  torch.Size([100, 200])\n",
      "3D = >  torch.Size([100, 200, 1])\n",
      "4D = >  torch.Size([1, 100, 200, 1])\n"
     ]
    }
   ],
   "source": [
    "# - shape 변경 방법1) 속성 T : 현재 axis를 역순으로 변경\n",
    "print(\"2D = > \", dataTS.T.shape)\n",
    "print(\"3D = > \", dataTS2.T.shape)\n",
    "print(\"4D = > \", dataTS3.T.shape)\n"
   ]
  },
  {
   "cell_type": "code",
   "execution_count": 31,
   "metadata": {},
   "outputs": [
    {
     "name": "stdout",
     "output_type": "stream",
     "text": [
      "torch.Size([200, 100])\n",
      "torch.Size([1, 200, 100])\n",
      "torch.Size([1, 200, 100, 1])\n"
     ]
    }
   ],
   "source": [
    "## shape() 변경 => 방법2) transpose() : 2개의 축 원하는 축 위치로 변경\n",
    "print(dataTS.shape)\n",
    "print(dataTS2.shape)\n",
    "print(dataTS3.shape)"
   ]
  },
  {
   "cell_type": "code",
   "execution_count": 32,
   "metadata": {},
   "outputs": [
    {
     "name": "stdout",
     "output_type": "stream",
     "text": [
      "torch.Size([1, 100, 200])\n",
      "torch.Size([1, 1, 100, 200])\n"
     ]
    }
   ],
   "source": [
    "print(dataTS2.transpose(1,2).shape)\n",
    "print(dataTS3.transpose(1,3).shape)"
   ]
  },
  {
   "cell_type": "code",
   "execution_count": 34,
   "metadata": {},
   "outputs": [
    {
     "name": "stdout",
     "output_type": "stream",
     "text": [
      "torch.Size([200, 100])\n",
      "torch.Size([1, 200, 100])\n",
      "torch.Size([1, 200, 100, 1])\n"
     ]
    }
   ],
   "source": [
    "## shape() 변경 => 방법3) permute() : 모든 축 원하는 축 위치로 변경\n",
    "print(dataTS.shape)\n",
    "print(dataTS2.shape)\n",
    "print(dataTS3.shape)"
   ]
  },
  {
   "cell_type": "code",
   "execution_count": 33,
   "metadata": {},
   "outputs": [
    {
     "name": "stdout",
     "output_type": "stream",
     "text": [
      "torch.Size([100, 1, 200])\n",
      "torch.Size([200, 1, 1, 100])\n"
     ]
    }
   ],
   "source": [
    "print(dataTS2.permute(2,0,1).shape)\n",
    "print(dataTS3.permute(1,0,3,2).shape)"
   ]
  },
  {
   "cell_type": "markdown",
   "metadata": {},
   "source": [
    "- [차원 제거] <hr>\n",
    "    * Numpy 경우 : reshape, squeeze()\n",
    "    * PYtorch 경우 : reshape, squeeze()"
   ]
  },
  {
   "cell_type": "code",
   "execution_count": 35,
   "metadata": {},
   "outputs": [
    {
     "name": "stdout",
     "output_type": "stream",
     "text": [
      "(200, 100)\n",
      "(200, 100, 1)\n",
      "(200, 100, 1)\n"
     ]
    }
   ],
   "source": [
    "# Numpy 경우\n",
    "print(data.shape)\n",
    "print(data1.shape)\n",
    "print(data2.shape)"
   ]
  },
  {
   "cell_type": "code",
   "execution_count": 36,
   "metadata": {},
   "outputs": [
    {
     "name": "stdout",
     "output_type": "stream",
     "text": [
      "(200, 100, 1)\n",
      "(200, 1, 100, 1)\n"
     ]
    }
   ],
   "source": [
    "data2 = np.expand_dims(data, axis=2)\n",
    "data3 = np.expand_dims(data2, axis=1)\n",
    "\n",
    "print(data2.shape)\n",
    "print(data3.shape)"
   ]
  },
  {
   "cell_type": "code",
   "execution_count": 38,
   "metadata": {},
   "outputs": [
    {
     "name": "stdout",
     "output_type": "stream",
     "text": [
      "(200, 100)\n",
      "(200, 100)\n"
     ]
    }
   ],
   "source": [
    "# 1차원 축 제거 => 방법1) reshape()\n",
    "print(data2.reshape(200,-1).shape)\n",
    "print(data3.reshape(200,-1).shape)"
   ]
  },
  {
   "cell_type": "code",
   "execution_count": 40,
   "metadata": {},
   "outputs": [
    {
     "name": "stdout",
     "output_type": "stream",
     "text": [
      "(200, 100)\n",
      "(200, 100)\n",
      "(200, 1, 100, 1)\n",
      "(200, 100, 1)\n"
     ]
    }
   ],
   "source": [
    "# 1차원 축 제거 => 방법2) : 1인 축 제거\n",
    "print(data2.squeeze().shape)\n",
    "print(data3.squeeze().shape)    # 디폴트는 1 제외ㅐ 다 삭제\n",
    "print(data3.shape)\n",
    "print(data3.squeeze(axis=1).shape)  # 삭제 대싱 지정 "
   ]
  },
  {
   "cell_type": "code",
   "execution_count": 41,
   "metadata": {},
   "outputs": [
    {
     "name": "stdout",
     "output_type": "stream",
     "text": [
      "(200, 100, 1)\n",
      "(200, 1, 100, 1)\n"
     ]
    }
   ],
   "source": [
    "# --------------------------------------------------------------\n",
    "# Pytorch 기반\n",
    "# --------------------------------------------------------------\n",
    "data2 = np.expand_dims(data, axis=2)\n",
    "data3 = np.expand_dims(data2, axis=1)\n",
    "\n",
    "\n",
    "dataTS2 = torch.IntTensor(data2)\n",
    "datsTS3 = torch.IntTensor(data3)\n",
    "print(data2.shape)\n",
    "print(data3.shape)"
   ]
  },
  {
   "cell_type": "code",
   "execution_count": 42,
   "metadata": {},
   "outputs": [
    {
     "name": "stdout",
     "output_type": "stream",
     "text": [
      "torch.Size([200, 100])\n",
      "torch.Size([200, 100])\n",
      "torch.Size([1, 200, 100, 1])\n",
      "torch.Size([200, 100, 1])\n"
     ]
    }
   ],
   "source": [
    "# 1차원 축 제거 -> 방법2) squeeze()\n",
    "print(dataTS2.squeeze().shape)\n",
    "print(dataTS3.squeeze().shape)\n",
    "print(dataTS3.squeeze(dim=1).shape)\n",
    "print(dataTS3.squeeze(dim=0).shape)"
   ]
  },
  {
   "cell_type": "code",
   "execution_count": 46,
   "metadata": {},
   "outputs": [
    {
     "name": "stdout",
     "output_type": "stream",
     "text": [
      "torch.Size([1, 200, 100, 1])\n"
     ]
    }
   ],
   "source": [
    "# Pytorchㅇ[ㅔ서 메서드의 경우 메서드명_() : 우ㅡㅓㄴ본 텐서에 적용 즉, pandas 의 inplace=true와 동일\n",
    "print(dataTS3.squeeze_(dim=1).shape)    # _ = inplace True 기능 "
   ]
  },
  {
   "cell_type": "code",
   "execution_count": 45,
   "metadata": {},
   "outputs": [
    {
     "data": {
      "text/plain": [
       "torch.Size([1, 200, 100, 1])"
      ]
     },
     "execution_count": 45,
     "metadata": {},
     "output_type": "execute_result"
    }
   ],
   "source": [
    "dataTS3.shape"
   ]
  }
 ],
 "metadata": {
  "kernelspec": {
   "display_name": "TORCH_CV_38",
   "language": "python",
   "name": "python3"
  },
  "language_info": {
   "codemirror_mode": {
    "name": "ipython",
    "version": 3
   },
   "file_extension": ".py",
   "mimetype": "text/x-python",
   "name": "python",
   "nbconvert_exporter": "python",
   "pygments_lexer": "ipython3",
   "version": "3.8.19"
  }
 },
 "nbformat": 4,
 "nbformat_minor": 2
}
