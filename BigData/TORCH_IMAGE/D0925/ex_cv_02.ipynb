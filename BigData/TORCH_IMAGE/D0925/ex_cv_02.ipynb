{
 "cells": [
  {
   "cell_type": "markdown",
   "metadata": {},
   "source": [
    "#### Video 처리\n",
    " - cv2.VideoCapture (동영상 또는 카메라 번호) 함수"
   ]
  },
  {
   "cell_type": "code",
   "execution_count": 2,
   "metadata": {},
   "outputs": [],
   "source": [
    "#### 모듈 로딩\n",
    "import cv2\n",
    "import numpy as np"
   ]
  },
  {
   "cell_type": "code",
   "execution_count": 3,
   "metadata": {},
   "outputs": [],
   "source": [
    "# 데이터 관련 변수  \n",
    "DIR_PATH = '../image/'\n",
    "\n",
    "CAM_DEVICE = 0\n",
    "# CAM_FILE = 'mp4'"
   ]
  },
  {
   "cell_type": "code",
   "execution_count": 20,
   "metadata": {},
   "outputs": [
    {
     "name": "stdout",
     "output_type": "stream",
     "text": [
      "2024 9 25 269\n",
      "24_09_25_10_26_45\n"
     ]
    },
    {
     "data": {
      "text/plain": [
       "'capture_24_09_25_10_26_45.jpg'"
      ]
     },
     "execution_count": 20,
     "metadata": {},
     "output_type": "execute_result"
    },
    {
     "ename": "",
     "evalue": "",
     "output_type": "error",
     "traceback": [
      "\u001b[1;31mThe Kernel crashed while executing code in the current cell or a previous cell. \n",
      "\u001b[1;31mPlease review the code in the cell(s) to identify a possible cause of the failure. \n",
      "\u001b[1;31mClick <a href='https://aka.ms/vscodeJupyterKernelCrash'>here</a> for more info. \n",
      "\u001b[1;31mView Jupyter <a href='command:jupyter.viewOutput'>log</a> for further details."
     ]
    }
   ],
   "source": [
    "import time\n",
    "\n",
    "\n",
    "# localtime << 현재ㅇ연결되어있는 인터넷 지역의 시간 나옴.그래서 구글 코랩에서는 코랩 컴퓨터가 있는 곳의 시간을 출력\n",
    "# 현재 날짜 시간 정보 저장 인스턴스\n",
    "cur_time = time.localtime()\n",
    "cur_time\n",
    "\n",
    "print(cur_time.tm_year, cur_time.tm_mon, cur_time.tm_mday, cur_time.tm_yday)\n",
    "\n",
    "\n",
    "\n",
    "print(time.strftime('%y_%m_%d_%H_%M_%S', cur_time))\n",
    "\n",
    "time.ctime(), time.time(), time.strftime(\"%M_%D_%H\")\n",
    "SAVE_FILE = f\"capture_{(time.strftime('%y_%m_%d_%H_%M_%S', cur_time))}.jpg\"\n",
    "SAVE_FILE"
   ]
  },
  {
   "cell_type": "markdown",
   "metadata": {},
   "source": [
    "[카메라 관련 영상 처리]"
   ]
  },
  {
   "cell_type": "code",
   "execution_count": 5,
   "metadata": {},
   "outputs": [
    {
     "ename": "KeyboardInterrupt",
     "evalue": "",
     "output_type": "error",
     "traceback": [
      "\u001b[1;31m---------------------------------------------------------------------------\u001b[0m",
      "\u001b[1;31mKeyboardInterrupt\u001b[0m                         Traceback (most recent call last)",
      "Cell \u001b[1;32mIn[5], line 10\u001b[0m\n\u001b[0;32m      8\u001b[0m \u001b[38;5;28;01mif\u001b[39;00m ret:\n\u001b[0;32m      9\u001b[0m     cv2\u001b[38;5;241m.\u001b[39mimshow(\u001b[38;5;124m\"\u001b[39m\u001b[38;5;124mVIDEO\u001b[39m\u001b[38;5;124m\"\u001b[39m, img)\n\u001b[1;32m---> 10\u001b[0m     \u001b[38;5;28;01mif\u001b[39;00m \u001b[43mcv2\u001b[49m\u001b[38;5;241;43m.\u001b[39;49m\u001b[43mwaitKey\u001b[49m\u001b[43m(\u001b[49m\u001b[38;5;241;43m10\u001b[39;49m\u001b[43m)\u001b[49m \u001b[38;5;241m!=\u001b[39m \u001b[38;5;241m-\u001b[39m\u001b[38;5;241m1\u001b[39m:\n\u001b[0;32m     11\u001b[0m         \u001b[38;5;28mprint\u001b[39m(\u001b[38;5;124m\"\u001b[39m\u001b[38;5;124m영상 재생 정지\u001b[39m\u001b[38;5;124m\"\u001b[39m)\n\u001b[0;32m     12\u001b[0m         cv2\u001b[38;5;241m.\u001b[39mimwrite(DIR_PATH\u001b[38;5;241m+\u001b[39m\u001b[38;5;124m\"\u001b[39m\u001b[38;5;124mcapture.jpg\u001b[39m\u001b[38;5;124m\"\u001b[39m, img)\n",
      "\u001b[1;31mKeyboardInterrupt\u001b[0m: "
     ]
    }
   ],
   "source": [
    "# 카메라와 연결 여부 체크\n",
    "camera = cv2.VideoCapture(CAM_DEVICE)\n",
    "\n",
    "# \n",
    "if camera.isOpened():   # boolean 반환\n",
    "    while True:\n",
    "        ret, img = camera.read()  # 읽었는가에 대한 정보값과 img 반환\n",
    "        if ret:\n",
    "            cv2.imshow(\"VIDEO\", img)\n",
    "            if cv2.waitKey(10) != -1:\n",
    "                print(\"영상 재생 정지\")\n",
    "                cv2.imwrite(DIR_PATH+\"capture.jpg\", img)\n",
    "                cv2.destroyAllWindows()\n",
    "                break\n",
    "        else:\n",
    "            print(\"영상 읽기 실패\")\n",
    "            break\n",
    "else:\n",
    "    print(\"카메라 연결 실패, 체크 필요\")"
   ]
  }
 ],
 "metadata": {
  "kernelspec": {
   "display_name": "TORCH_CV_38",
   "language": "python",
   "name": "python3"
  },
  "language_info": {
   "codemirror_mode": {
    "name": "ipython",
    "version": 3
   },
   "file_extension": ".py",
   "mimetype": "text/x-python",
   "name": "python",
   "nbconvert_exporter": "python",
   "pygments_lexer": "ipython3",
   "version": "3.8.19"
  }
 },
 "nbformat": 4,
 "nbformat_minor": 2
}
