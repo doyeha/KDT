{
 "cells": [
  {
   "cell_type": "markdown",
   "metadata": {},
   "source": [
    "##### 한국어 형태소 분석\n",
    "- Konlpy 패키지 활용\n",
    "    * 내부에 5가지 형태소 분석 패키지 포함\n",
    "    * 5가지 형태소 분석기 사용법 동일. 쉬움"
   ]
  },
  {
   "cell_type": "markdown",
   "metadata": {},
   "source": [
    "- [1] 모듈 로딩 <hr>"
   ]
  },
  {
   "cell_type": "code",
   "execution_count": 1,
   "metadata": {},
   "outputs": [],
   "source": [
    "from konlpy.tag import *        # *의미 : 패키지 안에 모든 것 가져오기"
   ]
  },
  {
   "cell_type": "markdown",
   "metadata": {},
   "source": [
    "- [2] 다양한 형태소 분석기 활용 <hr>"
   ]
  },
  {
   "cell_type": "code",
   "execution_count": 2,
   "metadata": {},
   "outputs": [],
   "source": [
    "#### 한나눔 형태소 분석기\n",
    "han=Hannanum()\n",
    "\n",
    "text=\"누구인가? 누가 지금 기침 소리를 내었는가 말이야!\""
   ]
  },
  {
   "cell_type": "code",
   "execution_count": 3,
   "metadata": {},
   "outputs": [
    {
     "name": "stdout",
     "output_type": "stream",
     "text": [
      "['누구', '이', 'ㄴ가', '?', '누구', '가', '지금', '기침', '소리', '를', '내', '이', '었는가', '말', '이', '야', '!']\n"
     ]
    }
   ],
   "source": [
    "### 형태소 분리\n",
    "result=han.morphs(text)\n",
    "\n",
    "print(result)"
   ]
  },
  {
   "cell_type": "code",
   "execution_count": 4,
   "metadata": {},
   "outputs": [
    {
     "name": "stdout",
     "output_type": "stream",
     "text": [
      "['누구', '누구', '기침', '소리', '내', '말']\n"
     ]
    }
   ],
   "source": [
    "### 명사만 추출 분리\n",
    "result=han.nouns(text)\n",
    "\n",
    "print(result)"
   ]
  },
  {
   "cell_type": "code",
   "execution_count": 5,
   "metadata": {},
   "outputs": [
    {
     "name": "stdout",
     "output_type": "stream",
     "text": [
      "[('누구', 'N'), ('이', 'J'), ('ㄴ가', 'E'), ('?', 'S'), ('누구', 'N'), ('가', 'J'), ('지금', 'M'), ('기침', 'N'), ('소리', 'N'), ('를', 'J'), ('내', 'N'), ('이', 'J'), ('었는가', 'E'), ('말', 'N'), ('이', 'J'), ('야', 'E'), ('!', 'S')]\n"
     ]
    }
   ],
   "source": [
    "### 품사태깅 추출 분리 => 형태소 분리 후 품사 태깅 처리\n",
    "result=han.pos(text)\n",
    "\n",
    "print(result)"
   ]
  },
  {
   "cell_type": "code",
   "execution_count": 6,
   "metadata": {},
   "outputs": [],
   "source": [
    "#### 꼬꼬마 형태소 분석기\n",
    "kkma=Kkma()"
   ]
  },
  {
   "cell_type": "code",
   "execution_count": 7,
   "metadata": {},
   "outputs": [
    {
     "name": "stdout",
     "output_type": "stream",
     "text": [
      "['누구', '이', 'ㄴ가', '?', '누', '가', '지금', '기침', '소리', '를', '내', '었', '는가', '말', '이', '야', '!']\n",
      "['누구', '누', '기침', '소리', '내', '말']\n",
      "[('누구', 'NP'), ('이', 'VCP'), ('ㄴ가', 'EFQ'), ('?', 'SF'), ('누', 'NNG'), ('가', 'JKS'), ('지금', 'MAG'), ('기침', 'NNG'), ('소리', 'NNG'), ('를', 'JKO'), ('내', 'NP'), ('었', 'VV'), ('는가', 'EFQ'), ('말', 'NNG'), ('이', 'VCP'), ('야', 'EFN'), ('!', 'SF')]\n"
     ]
    }
   ],
   "source": [
    "### 형태소 분석\n",
    "print(kkma.morphs(text))\n",
    "\n",
    "### 명사만 추출\n",
    "print(kkma.nouns(text))\n",
    "\n",
    "### 품사 태깅 후 분리\n",
    "print(kkma.pos(text))"
   ]
  },
  {
   "cell_type": "code",
   "execution_count": 8,
   "metadata": {},
   "outputs": [],
   "source": [
    "#### 코모란 형태소 분석기\n",
    "komo=Komoran()"
   ]
  },
  {
   "cell_type": "code",
   "execution_count": 9,
   "metadata": {},
   "outputs": [
    {
     "name": "stdout",
     "output_type": "stream",
     "text": [
      "['누구', '이', 'ㄴ가', '?', '누구', '가', '지금', '기침', '소리', '를', '내', '었', '는가', '말', '이', '야', '!']\n",
      "['기침', '소리', '말']\n",
      "[('누구', 'NP'), ('이', 'VCP'), ('ㄴ가', 'EF'), ('?', 'SF'), ('누구', 'NP'), ('가', 'JKS'), ('지금', 'MAG'), ('기침', 'NNP'), ('소리', 'NNG'), ('를', 'JKO'), ('내', 'VX'), ('었', 'EP'), ('는가', 'EC'), ('말', 'NNG'), ('이', 'VCP'), ('야', 'EF'), ('!', 'SF')]\n"
     ]
    }
   ],
   "source": [
    "### 형태소 분석\n",
    "print(komo.morphs(text))\n",
    "\n",
    "### 명사만 추출\n",
    "print(komo.nouns(text))\n",
    "\n",
    "### 품사 태깅 후 분리\n",
    "print(komo.pos(text))"
   ]
  },
  {
   "cell_type": "code",
   "execution_count": 10,
   "metadata": {},
   "outputs": [],
   "source": [
    "#### OKT 형태소 분석기\n",
    "okt=Okt()"
   ]
  },
  {
   "cell_type": "code",
   "execution_count": 11,
   "metadata": {},
   "outputs": [
    {
     "name": "stdout",
     "output_type": "stream",
     "text": [
      "['누구', '인가', '?', '누가', '지금', '기침', '소리', '를', '내었는가', '말', '이야', '!']\n",
      "['누구', '누가', '지금', '기침', '소리', '말']\n",
      "[('누구', 'Noun'), ('인가', 'Josa'), ('?', 'Punctuation'), ('누가', 'Noun'), ('지금', 'Noun'), ('기침', 'Noun'), ('소리', 'Noun'), ('를', 'Josa'), ('내었는가', 'Verb'), ('말', 'Noun'), ('이야', 'Josa'), ('!', 'Punctuation')]\n"
     ]
    }
   ],
   "source": [
    "### 형태소 분석\n",
    "print(okt.morphs(text))\n",
    "\n",
    "### 명사만 추출\n",
    "print(okt.nouns(text))\n",
    "\n",
    "### 품사 태깅 후 분리\n",
    "print(okt.pos(text))"
   ]
  },
  {
   "cell_type": "code",
   "execution_count": 12,
   "metadata": {},
   "outputs": [],
   "source": [
    "#### Mecab 형태소 분석기 ==> Windows 지원 X"
   ]
  }
 ],
 "metadata": {
  "kernelspec": {
   "display_name": "TORCH_TEXT",
   "language": "python",
   "name": "python3"
  },
  "language_info": {
   "codemirror_mode": {
    "name": "ipython",
    "version": 3
   },
   "file_extension": ".py",
   "mimetype": "text/x-python",
   "name": "python",
   "nbconvert_exporter": "python",
   "pygments_lexer": "ipython3",
   "version": "3.8.19"
  }
 },
 "nbformat": 4,
 "nbformat_minor": 2
}
