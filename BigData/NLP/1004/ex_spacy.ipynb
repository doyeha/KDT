{
 "cells": [
  {
   "cell_type": "markdown",
   "metadata": {},
   "source": [
    "#### 한국어 형태소 분석기 spacy\n",
    " - 빠른 속도와 정확도가 높은 형태소 분석기\n",
    " - 설치 2단계\n",
    "    * 형태소 분석기 설치\n",
    "    * 언어별 모델 설치"
   ]
  },
  {
   "cell_type": "code",
   "execution_count": 34,
   "metadata": {},
   "outputs": [],
   "source": [
    "# 모듈 로딩\n",
    "import spacy"
   ]
  },
  {
   "cell_type": "code",
   "execution_count": 35,
   "metadata": {},
   "outputs": [],
   "source": [
    "### 언어 모델 설정 <= 본인 설치 한 것\n",
    "LANG_MODEL = 'ko_core_news_lg'\n",
    "# ko_core_news_sm"
   ]
  },
  {
   "cell_type": "code",
   "execution_count": 36,
   "metadata": {},
   "outputs": [],
   "source": [
    "### 한국어 분석기 생성\n",
    "nlp = spacy.load(LANG_MODEL)"
   ]
  },
  {
   "cell_type": "code",
   "execution_count": 37,
   "metadata": {},
   "outputs": [
    {
     "name": "stdout",
     "output_type": "stream",
     "text": [
      "[doc] \n",
      " 일만 하고 놀지 않으면 바보가 된다.\n"
     ]
    }
   ],
   "source": [
    "text = \"일만 하고 놀지 않으면 바보가 된다.\"\n",
    "doc = nlp(text)\n",
    "\n",
    "print(f'[doc] \\n {doc}')"
   ]
  },
  {
   "cell_type": "code",
   "execution_count": 38,
   "metadata": {},
   "outputs": [
    {
     "name": "stdout",
     "output_type": "stream",
     "text": [
      "일만     일+만    ncpa+jxc False\n",
      "하고     하+고    pvg+ecs False\n",
      "놀지     놀+지    pvg+ecx False\n",
      "않으면    않+으면   px+ecs False\n",
      "바보가    바보+가   ncpa+jcc False\n",
      "된다     되+ㄴ다   pvg+ef False\n",
      ".      .      sf     False\n"
     ]
    }
   ],
   "source": [
    "text = \"일만 하고 놀지 않으면 바보가 된다.\"\n",
    "doc = nlp(text)\n",
    "\n",
    "for token in doc:\n",
    "    # 표제어, 단어 품사, 자세한 품사, 불용어 여부\n",
    "    print(f'{token.text:6} {token.lemma_:6} {token.tag_:6} {token.is_stop}')"
   ]
  },
  {
   "cell_type": "code",
   "execution_count": 39,
   "metadata": {},
   "outputs": [
    {
     "name": "stdout",
     "output_type": "stream",
     "text": [
      "일만\n",
      "일+만\n",
      "ADV\n",
      "ncpa+jxc\n",
      "False\n",
      "False\n",
      "\n",
      "하고\n",
      "하+고\n",
      "SCONJ\n",
      "pvg+ecs\n",
      "False\n",
      "False\n",
      "\n",
      "놀지\n",
      "놀+지\n",
      "VERB\n",
      "pvg+ecx\n",
      "False\n",
      "False\n",
      "\n",
      "않으면\n",
      "않+으면\n",
      "SCONJ\n",
      "px+ecs\n",
      "False\n",
      "False\n",
      "\n",
      "바보가\n",
      "바보+가\n",
      "NOUN\n",
      "ncpa+jcc\n",
      "False\n",
      "False\n",
      "\n",
      "된다\n",
      "되+ㄴ다\n",
      "VERB\n",
      "pvg+ef\n",
      "False\n",
      "False\n",
      "\n",
      ".\n",
      ".\n",
      "PUNCT\n",
      "sf\n",
      "False\n",
      "True\n",
      "\n"
     ]
    }
   ],
   "source": [
    "my_token = []\n",
    "for token in doc:\n",
    "    print(token.text)       # 토큰에 저장된 텍스트 속성\n",
    "    print(token.lemma_)     # 토큰의 표제어 속성\n",
    "    print(token.pos_)       # 토큰의 품사 속성\n",
    "    print(token.tag_)       # 토큰의 상세품사 속성\n",
    "    print(token.is_stop)    # 토큰의 불용어 여부 속성\n",
    "    print(token.is_punct)   # 토큰의 구두점 여부 속성\n",
    "    print()"
   ]
  },
  {
   "cell_type": "code",
   "execution_count": 40,
   "metadata": {},
   "outputs": [
    {
     "data": {
      "text/plain": [
       "[일만, 하고, 놀지, 않으면, 바보가, 된다, .]"
      ]
     },
     "execution_count": 40,
     "metadata": {},
     "output_type": "execute_result"
    }
   ],
   "source": [
    "my_token = []\n",
    "for token in doc:\n",
    "\n",
    "    if (not token.is_punct) or (not token.is_stop):\n",
    "        my_token.append(token)\n",
    "\n",
    "my_token"
   ]
  },
  {
   "cell_type": "code",
   "execution_count": 41,
   "metadata": {},
   "outputs": [],
   "source": [
    "# text = \"마춤뻡.\"\n",
    "# doc = nlp(text)\n",
    "# my_token = []\n",
    "# for token in doc:\n",
    "#     print(token.text)\n",
    "#     print(token.lemma_)\n",
    "#     print(token.pos_)\n",
    "#     print(token.tag_)\n",
    "#     print(token.is_stop)\n",
    "#     print(token.is_punct)\n",
    "#     print()"
   ]
  },
  {
   "cell_type": "code",
   "execution_count": 42,
   "metadata": {},
   "outputs": [
    {
     "data": {
      "text/html": [
       "<span class=\"tex2jax_ignore\"><svg xmlns=\"http://www.w3.org/2000/svg\" xmlns:xlink=\"http://www.w3.org/1999/xlink\" xml:lang=\"ko\" id=\"7e6ebdb5af96444694946601c91f9285-0\" class=\"displacy\" width=\"1100\" height=\"312.0\" direction=\"ltr\" style=\"max-width: none; height: 312.0px; color: #000000; background: #ffffff; font-family: Arial; direction: ltr\">\n",
       "<text class=\"displacy-token\" fill=\"currentColor\" text-anchor=\"middle\" y=\"222.0\">\n",
       "    <tspan class=\"displacy-word\" fill=\"currentColor\" x=\"50\">일만</tspan>\n",
       "    <tspan class=\"displacy-tag\" dy=\"2em\" fill=\"currentColor\" x=\"50\">ADV</tspan>\n",
       "</text>\n",
       "\n",
       "<text class=\"displacy-token\" fill=\"currentColor\" text-anchor=\"middle\" y=\"222.0\">\n",
       "    <tspan class=\"displacy-word\" fill=\"currentColor\" x=\"225\">하고</tspan>\n",
       "    <tspan class=\"displacy-tag\" dy=\"2em\" fill=\"currentColor\" x=\"225\">SCONJ</tspan>\n",
       "</text>\n",
       "\n",
       "<text class=\"displacy-token\" fill=\"currentColor\" text-anchor=\"middle\" y=\"222.0\">\n",
       "    <tspan class=\"displacy-word\" fill=\"currentColor\" x=\"400\">놀지</tspan>\n",
       "    <tspan class=\"displacy-tag\" dy=\"2em\" fill=\"currentColor\" x=\"400\">VERB</tspan>\n",
       "</text>\n",
       "\n",
       "<text class=\"displacy-token\" fill=\"currentColor\" text-anchor=\"middle\" y=\"222.0\">\n",
       "    <tspan class=\"displacy-word\" fill=\"currentColor\" x=\"575\">않으면</tspan>\n",
       "    <tspan class=\"displacy-tag\" dy=\"2em\" fill=\"currentColor\" x=\"575\">SCONJ</tspan>\n",
       "</text>\n",
       "\n",
       "<text class=\"displacy-token\" fill=\"currentColor\" text-anchor=\"middle\" y=\"222.0\">\n",
       "    <tspan class=\"displacy-word\" fill=\"currentColor\" x=\"750\">바보가</tspan>\n",
       "    <tspan class=\"displacy-tag\" dy=\"2em\" fill=\"currentColor\" x=\"750\">NOUN</tspan>\n",
       "</text>\n",
       "\n",
       "<text class=\"displacy-token\" fill=\"currentColor\" text-anchor=\"middle\" y=\"222.0\">\n",
       "    <tspan class=\"displacy-word\" fill=\"currentColor\" x=\"925\">된다.</tspan>\n",
       "    <tspan class=\"displacy-tag\" dy=\"2em\" fill=\"currentColor\" x=\"925\">VERB</tspan>\n",
       "</text>\n",
       "\n",
       "<g class=\"displacy-arrow\">\n",
       "    <path class=\"displacy-arc\" id=\"arrow-7e6ebdb5af96444694946601c91f9285-0-0\" stroke-width=\"2px\" d=\"M70,177.0 C70,89.5 220.0,89.5 220.0,177.0\" fill=\"none\" stroke=\"currentColor\"/>\n",
       "    <text dy=\"1.25em\" style=\"font-size: 0.8em; letter-spacing: 1px\">\n",
       "        <textPath xlink:href=\"#arrow-7e6ebdb5af96444694946601c91f9285-0-0\" class=\"displacy-label\" startOffset=\"50%\" side=\"left\" fill=\"currentColor\" text-anchor=\"middle\">advcl</textPath>\n",
       "    </text>\n",
       "    <path class=\"displacy-arrowhead\" d=\"M70,179.0 L62,167.0 78,167.0\" fill=\"currentColor\"/>\n",
       "</g>\n",
       "\n",
       "<g class=\"displacy-arrow\">\n",
       "    <path class=\"displacy-arc\" id=\"arrow-7e6ebdb5af96444694946601c91f9285-0-1\" stroke-width=\"2px\" d=\"M245,177.0 C245,2.0 925.0,2.0 925.0,177.0\" fill=\"none\" stroke=\"currentColor\"/>\n",
       "    <text dy=\"1.25em\" style=\"font-size: 0.8em; letter-spacing: 1px\">\n",
       "        <textPath xlink:href=\"#arrow-7e6ebdb5af96444694946601c91f9285-0-1\" class=\"displacy-label\" startOffset=\"50%\" side=\"left\" fill=\"currentColor\" text-anchor=\"middle\">ccomp</textPath>\n",
       "    </text>\n",
       "    <path class=\"displacy-arrowhead\" d=\"M245,179.0 L237,167.0 253,167.0\" fill=\"currentColor\"/>\n",
       "</g>\n",
       "\n",
       "<g class=\"displacy-arrow\">\n",
       "    <path class=\"displacy-arc\" id=\"arrow-7e6ebdb5af96444694946601c91f9285-0-2\" stroke-width=\"2px\" d=\"M245,177.0 C245,89.5 395.0,89.5 395.0,177.0\" fill=\"none\" stroke=\"currentColor\"/>\n",
       "    <text dy=\"1.25em\" style=\"font-size: 0.8em; letter-spacing: 1px\">\n",
       "        <textPath xlink:href=\"#arrow-7e6ebdb5af96444694946601c91f9285-0-2\" class=\"displacy-label\" startOffset=\"50%\" side=\"left\" fill=\"currentColor\" text-anchor=\"middle\">conj</textPath>\n",
       "    </text>\n",
       "    <path class=\"displacy-arrowhead\" d=\"M395.0,179.0 L403.0,167.0 387.0,167.0\" fill=\"currentColor\"/>\n",
       "</g>\n",
       "\n",
       "<g class=\"displacy-arrow\">\n",
       "    <path class=\"displacy-arc\" id=\"arrow-7e6ebdb5af96444694946601c91f9285-0-3\" stroke-width=\"2px\" d=\"M420,177.0 C420,89.5 570.0,89.5 570.0,177.0\" fill=\"none\" stroke=\"currentColor\"/>\n",
       "    <text dy=\"1.25em\" style=\"font-size: 0.8em; letter-spacing: 1px\">\n",
       "        <textPath xlink:href=\"#arrow-7e6ebdb5af96444694946601c91f9285-0-3\" class=\"displacy-label\" startOffset=\"50%\" side=\"left\" fill=\"currentColor\" text-anchor=\"middle\">aux</textPath>\n",
       "    </text>\n",
       "    <path class=\"displacy-arrowhead\" d=\"M570.0,179.0 L578.0,167.0 562.0,167.0\" fill=\"currentColor\"/>\n",
       "</g>\n",
       "\n",
       "<g class=\"displacy-arrow\">\n",
       "    <path class=\"displacy-arc\" id=\"arrow-7e6ebdb5af96444694946601c91f9285-0-4\" stroke-width=\"2px\" d=\"M770,177.0 C770,89.5 920.0,89.5 920.0,177.0\" fill=\"none\" stroke=\"currentColor\"/>\n",
       "    <text dy=\"1.25em\" style=\"font-size: 0.8em; letter-spacing: 1px\">\n",
       "        <textPath xlink:href=\"#arrow-7e6ebdb5af96444694946601c91f9285-0-4\" class=\"displacy-label\" startOffset=\"50%\" side=\"left\" fill=\"currentColor\" text-anchor=\"middle\">csubj</textPath>\n",
       "    </text>\n",
       "    <path class=\"displacy-arrowhead\" d=\"M770,179.0 L762,167.0 778,167.0\" fill=\"currentColor\"/>\n",
       "</g>\n",
       "</svg></span>"
      ],
      "text/plain": [
       "<IPython.core.display.HTML object>"
      ]
     },
     "metadata": {},
     "output_type": "display_data"
    },
    {
     "data": {
      "text/plain": [
       "<IPython.core.display.SVG object>"
      ]
     },
     "execution_count": 42,
     "metadata": {},
     "output_type": "execute_result"
    }
   ],
   "source": [
    "from IPython.display import SVG\n",
    "SVG(spacy.displacy.render(doc))"
   ]
  },
  {
   "cell_type": "code",
   "execution_count": 44,
   "metadata": {},
   "outputs": [
    {
     "data": {
      "text/plain": [
       "('../data/2016-10-20.txt', <http.client.HTTPMessage at 0x15a985fa7c0>)"
      ]
     },
     "execution_count": 44,
     "metadata": {},
     "output_type": "execute_result"
    }
   ],
   "source": [
    "# 데이터 파일 다운로드\n",
    "from urllib.request import urlretrieve\n",
    "data_url = 'https://raw.githubusercontent.com/lovit/soynlp/master/tutorials/2016-10-20.txt'\n",
    "data_filename='../data/2016-10-20.txt'\n",
    "urlretrieve(data_url, data_filename)"
   ]
  },
  {
   "cell_type": "code",
   "execution_count": null,
   "metadata": {},
   "outputs": [],
   "source": []
  }
 ],
 "metadata": {
  "kernelspec": {
   "display_name": "TEXT_38",
   "language": "python",
   "name": "python3"
  },
  "language_info": {
   "codemirror_mode": {
    "name": "ipython",
    "version": 3
   },
   "file_extension": ".py",
   "mimetype": "text/x-python",
   "name": "python",
   "nbconvert_exporter": "python",
   "pygments_lexer": "ipython3",
   "version": "3.8.19"
  }
 },
 "nbformat": 4,
 "nbformat_minor": 2
}
