{
 "cells": [
  {
   "cell_type": "code",
   "execution_count": 1,
   "metadata": {},
   "outputs": [],
   "source": [
    "## 모듈로딩\n",
    "from Korpora import Korpora                     # Open Korean Dataset\n",
    "from konlpy.tag import *                        # 형태소 분석기\n",
    "import spacy                                    # 형태소 분석기\n",
    "# from torchtext.data.utils import get_tokenizer  # Pytorch 자연어처리 모듈\n",
    "# from torchtext.vocab import *                   # Pytorch 자연어처리 단어사전 관련 모듈\n",
    "from torch.utils.data import Dataset, DataLoader# Pytorch Dataset 관련 모듈\n",
    "import pandas as pd\n",
    "from sklearn.feature_extraction.text import CountVectorizer\n",
    "import re"
   ]
  },
  {
   "cell_type": "code",
   "execution_count": 2,
   "metadata": {},
   "outputs": [
    {
     "name": "stdout",
     "output_type": "stream",
     "text": [
      "\n",
      "    Korpora 는 다른 분들이 연구 목적으로 공유해주신 말뭉치들을\n",
      "    손쉽게 다운로드, 사용할 수 있는 기능만을 제공합니다.\n",
      "\n",
      "    말뭉치들을 공유해 주신 분들에게 감사드리며, 각 말뭉치 별 설명과 라이센스를 공유 드립니다.\n",
      "    해당 말뭉치에 대해 자세히 알고 싶으신 분은 아래의 description 을 참고,\n",
      "    해당 말뭉치를 연구/상용의 목적으로 이용하실 때에는 아래의 라이센스를 참고해 주시기 바랍니다.\n",
      "\n",
      "    # Description\n",
      "    Author : e9t@github\n",
      "    Repository : https://github.com/e9t/nsmc\n",
      "    References : www.lucypark.kr/docs/2015-pyconkr/#39\n",
      "\n",
      "    Naver sentiment movie corpus v1.0\n",
      "    This is a movie review dataset in the Korean language.\n",
      "    Reviews were scraped from Naver Movies.\n",
      "\n",
      "    The dataset construction is based on the method noted in\n",
      "    [Large movie review dataset][^1] from Maas et al., 2011.\n",
      "\n",
      "    [^1]: http://ai.stanford.edu/~amaas/data/sentiment/\n",
      "\n",
      "    # License\n",
      "    CC0 1.0 Universal (CC0 1.0) Public Domain Dedication\n",
      "    Details in https://creativecommons.org/publicdomain/zero/1.0/\n",
      "\n",
      "[Korpora] Corpus `nsmc` is already installed at C:\\Users\\kjy19\\Korpora\\nsmc\\ratings_train.txt\n",
      "[Korpora] Corpus `nsmc` is already installed at C:\\Users\\kjy19\\Korpora\\nsmc\\ratings_test.txt\n"
     ]
    }
   ],
   "source": [
    "nsmc=Korpora.load('nsmc')"
   ]
  },
  {
   "cell_type": "code",
   "execution_count": 3,
   "metadata": {},
   "outputs": [
    {
     "name": "stdout",
     "output_type": "stream",
     "text": [
      "<class 'pandas.core.frame.DataFrame'>\n",
      "RangeIndex: 50000 entries, 0 to 49999\n",
      "Data columns (total 2 columns):\n",
      " #   Column  Non-Null Count  Dtype \n",
      "---  ------  --------------  ----- \n",
      " 0   text    50000 non-null  object\n",
      " 1   label   50000 non-null  int64 \n",
      "dtypes: int64(1), object(1)\n",
      "memory usage: 781.4+ KB\n"
     ]
    }
   ],
   "source": [
    "nsmcDF=pd.DataFrame(nsmc.test)\n",
    "nsmcDF.info()"
   ]
  },
  {
   "cell_type": "code",
   "execution_count": 4,
   "metadata": {},
   "outputs": [],
   "source": [
    "class TextDataset(Dataset):\n",
    "    def __init__(self,feature,label):\n",
    "        self.feature=feature\n",
    "        self.label=label\n",
    "        self.length=feature.shape[0]\n",
    "\n",
    "    def __len__(self):\n",
    "        return self.length\n",
    "\n",
    "    def __getitem__(self, index):\n",
    "        return self.feature.iloc[index],self.label.iloc[index]"
   ]
  },
  {
   "cell_type": "code",
   "execution_count": 6,
   "metadata": {},
   "outputs": [],
   "source": [
    "nsmcDS=TextDataset(nsmcDF['text'],nsmcDF['label'])"
   ]
  },
  {
   "cell_type": "code",
   "execution_count": 7,
   "metadata": {},
   "outputs": [
    {
     "name": "stdout",
     "output_type": "stream",
     "text": [
      "굳 ㅋ 1\n",
      "GDNTOPCLASSINTHECLUB 0\n",
      "뭐야 이 평점들은.... 나쁘진 않지만 10점 짜리는 더더욱 아니잖아 0\n",
      "지루하지는 않은데 완전 막장임... 돈주고 보기에는.... 0\n",
      "3D만 아니었어도 별 다섯 개 줬을텐데.. 왜 3D로 나와서 제 심기를 불편하게 하죠?? 0\n",
      "음악이 주가 된, 최고의 음악영화 1\n",
      "진정한 쓰레기 0\n",
      "마치 미국애니에서 튀어나온듯한 창의력없는 로봇디자인부터가,고개를 젖게한다 0\n",
      "갈수록 개판되가는 중국영화 유치하고 내용없음 폼잡다 끝남 말도안되는 무기에 유치한cg남무 아 그립다 동사서독같은 영화가 이건 3류아류작이다 0\n",
      "이별의 아픔뒤에 찾아오는 새로운 인연의 기쁨 But, 모든 사람이 그렇지는 않네.. 1\n"
     ]
    }
   ],
   "source": [
    "n=0\n",
    "for feature,label in nsmcDS:\n",
    "    print(feature,label)\n",
    "    n+=1\n",
    "    if n==10:\n",
    "        break"
   ]
  },
  {
   "cell_type": "code",
   "execution_count": 8,
   "metadata": {},
   "outputs": [],
   "source": [
    "okt=Okt()"
   ]
  },
  {
   "cell_type": "code",
   "execution_count": 9,
   "metadata": {},
   "outputs": [],
   "source": [
    "def generateToken(dataset):\n",
    "    tokenlists=[]\n",
    "    for text,label in dataset:\n",
    "        # 한글빼고 다지우기\n",
    "        text=re.sub('[^ㄱ-ㅎ가-힣]+',' ',text)\n",
    "        tokenlist=''\n",
    "        # 기본형으로 토큰 주세요\n",
    "        tokens=okt.pos(text,norm=True,stem=True)\n",
    "        for token in tokens:\n",
    "            if (len(token[0])>1):\n",
    "                tokenlist=tokenlist+' '+str(token[0])\n",
    "        tokenlists.append(tokenlist)\n",
    "    return tokenlists\n",
    "\n",
    "def vectorize(tokenlist,padding=20):\n",
    "    ### 단어 사전 생성 및 변환\n",
    "    cv=CountVectorizer()\n",
    "    cv.fit_transform(tokenlist)\n",
    "    vo=cv.vocabulary_\n",
    "    vectorlist=tokenlist.copy()\n",
    "    for idx,sen in enumerate(vectorlist):\n",
    "        senlist=sen.split(' ')[1:]\n",
    "        length=len(senlist)\n",
    "        if length<padding:\n",
    "            for ind,st in enumerate(senlist):\n",
    "                senlist[ind]=vo[st]\n",
    "            vectorlist[idx]=senlist+([0]*(padding-length))\n",
    "        else:\n",
    "            for ind,st in enumerate(senlist):\n",
    "                senlist[ind]=vo[st]\n",
    "            vectorlist[idx]=senlist[:padding]\n",
    "\n",
    "    return vectorlist"
   ]
  },
  {
   "cell_type": "code",
   "execution_count": 10,
   "metadata": {},
   "outputs": [],
   "source": [
    "tokenlist=generateToken(nsmcDS)\n",
    "vectorlist=vectorize(tokenlist,padding=20)"
   ]
  }
 ],
 "metadata": {
  "kernelspec": {
   "display_name": "TEXT_38",
   "language": "python",
   "name": "python3"
  },
  "language_info": {
   "codemirror_mode": {
    "name": "ipython",
    "version": 3
   },
   "file_extension": ".py",
   "mimetype": "text/x-python",
   "name": "python",
   "nbconvert_exporter": "python",
   "pygments_lexer": "ipython3",
   "version": "3.8.19"
  }
 },
 "nbformat": 4,
 "nbformat_minor": 2
}
