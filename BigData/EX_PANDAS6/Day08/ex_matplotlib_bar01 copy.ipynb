{
 "cells": [
  {
   "cell_type": "markdown",
   "metadata": {},
   "source": [
    "#### [ 시도별 전출입 인구수 분석 - Matplotlib ]\n",
    " - 데이터셋 : 1970년 ~ 2017년까지 인구이동수\n",
    " - 대구의 타지역 이동 인구수 분석\n",
    " - 전국의 인구 이동수에 대한 분석\n",
    " - 과정\n",
    "  * 데이터파일 확인\n",
    "    - 첫번째 줄이 컬럼명이 맞는지 확인 \n",
    "    - 불필요한 컬럼이나 행이 있는지 확인\n",
    "    - 결측치 정도 확인\n",
    "  * 전처리\n",
    "    - 파일 확인 후 체크한 사항 진행\n",
    "    - 결측치 처리\n",
    "    - 이상치 처리\n",
    "    - 중복데이터 처리\n",
    "    - 형변환 => 실제 데이터와 타입 일치\n",
    "  * 데이터 가공 : 분석하고자하는 데이터 형태\n",
    "    - 행인덱스 처리 : 멀티인덱스 / 컬럼 => 행인덱스 / 행인덱스 초기화\n",
    "    - 필요한 컬럼 & 행 추출\n",
    "    - 추가적인 결측치 / 이상치 / 중복데이터 처리\n",
    "  * 데이터 분석\n",
    "    - 탐색적 분석 : 주어진 데이터를 기반으로 의미를 찾아내는 것\n",
    "    - 시각화 및 분석 결과 텍스트 요약 정리"
   ]
  },
  {
   "cell_type": "markdown",
   "metadata": {},
   "source": [
    "- [1] 준비 과정"
   ]
  },
  {
   "cell_type": "code",
   "execution_count": 192,
   "metadata": {},
   "outputs": [],
   "source": [
    "# [1-1] 모듈로딩\n",
    "import pandas as pd     # 데이터 분석용 모듈\n",
    "import matplotlib.pyplot as plt         # 데이터 시각화용 모듈"
   ]
  },
  {
   "cell_type": "code",
   "execution_count": 193,
   "metadata": {},
   "outputs": [],
   "source": [
    "F_DATA = r'C:\\Git\\KDT\\BigData\\EX_PANDAS6\\Day07\\시도별 전출입 인구수.xlsx'"
   ]
  },
  {
   "cell_type": "code",
   "execution_count": 194,
   "metadata": {},
   "outputs": [],
   "source": [
    "# [1-3] DATA ==> DataFrame 형태 저장\n",
    "dataDF = pd.read_excel(F_DATA, engine = 'openpyxl')"
   ]
  },
  {
   "cell_type": "markdown",
   "metadata": {},
   "source": [
    "- [2] 데이터 확인 : 행과 컬럼수, 실제 데이터와 컬럼 타입, 결측치 체크"
   ]
  },
  {
   "cell_type": "code",
   "execution_count": 195,
   "metadata": {},
   "outputs": [
    {
     "name": "stdout",
     "output_type": "stream",
     "text": [
      "<class 'pandas.core.frame.DataFrame'>\n",
      "RangeIndex: 325 entries, 0 to 324\n",
      "Data columns (total 50 columns):\n",
      " #   Column  Non-Null Count  Dtype \n",
      "---  ------  --------------  ----- \n",
      " 0   전출지별    18 non-null     object\n",
      " 1   전입지별    324 non-null    object\n",
      " 2   1970    325 non-null    object\n",
      " 3   1971    325 non-null    object\n",
      " 4   1972    325 non-null    object\n",
      " 5   1973    325 non-null    object\n",
      " 6   1974    325 non-null    object\n",
      " 7   1975    325 non-null    object\n",
      " 8   1976    325 non-null    object\n",
      " 9   1977    325 non-null    object\n",
      " 10  1978    325 non-null    object\n",
      " 11  1979    325 non-null    object\n",
      " 12  1980    325 non-null    object\n",
      " 13  1981    325 non-null    object\n",
      " 14  1982    325 non-null    object\n",
      " 15  1983    325 non-null    object\n",
      " 16  1984    322 non-null    object\n",
      " 17  1985    322 non-null    object\n",
      " 18  1986    322 non-null    object\n",
      " 19  1987    325 non-null    object\n",
      " 20  1988    325 non-null    object\n",
      " 21  1989    325 non-null    object\n",
      " 22  1990    325 non-null    object\n",
      " 23  1991    325 non-null    object\n",
      " 24  1992    325 non-null    object\n",
      " 25  1993    325 non-null    object\n",
      " 26  1994    325 non-null    object\n",
      " 27  1995    325 non-null    object\n",
      " 28  1996    325 non-null    object\n",
      " 29  1997    325 non-null    object\n",
      " 30  1998    325 non-null    object\n",
      " 31  1999    325 non-null    object\n",
      " 32  2000    325 non-null    object\n",
      " 33  2001    325 non-null    object\n",
      " 34  2002    325 non-null    object\n",
      " 35  2003    325 non-null    object\n",
      " 36  2004    325 non-null    object\n",
      " 37  2005    325 non-null    object\n",
      " 38  2006    325 non-null    object\n",
      " 39  2007    325 non-null    object\n",
      " 40  2008    325 non-null    object\n",
      " 41  2009    325 non-null    object\n",
      " 42  2010    325 non-null    object\n",
      " 43  2011    325 non-null    object\n",
      " 44  2012    325 non-null    object\n",
      " 45  2013    325 non-null    object\n",
      " 46  2014    325 non-null    object\n",
      " 47  2015    325 non-null    object\n",
      " 48  2016    325 non-null    object\n",
      " 49  2017    325 non-null    object\n",
      "dtypes: object(50)\n",
      "memory usage: 127.1+ KB\n"
     ]
    }
   ],
   "source": [
    "# [2-1] 기본 정보 확인 => info(), dexcribe()\n",
    "# - 행 수, 컬럼 수, 컬럼별 결측치 아닌 (non-null) 데이터 수, 컬럼별 데이터 타입 \n",
    "# - 메모리 사용량\n",
    "dataDF.info()"
   ]
  },
  {
   "cell_type": "code",
   "execution_count": 196,
   "metadata": {},
   "outputs": [
    {
     "data": {
      "text/html": [
       "<div>\n",
       "<style scoped>\n",
       "    .dataframe tbody tr th:only-of-type {\n",
       "        vertical-align: middle;\n",
       "    }\n",
       "\n",
       "    .dataframe tbody tr th {\n",
       "        vertical-align: top;\n",
       "    }\n",
       "\n",
       "    .dataframe thead th {\n",
       "        text-align: right;\n",
       "    }\n",
       "</style>\n",
       "<table border=\"1\" class=\"dataframe\">\n",
       "  <thead>\n",
       "    <tr style=\"text-align: right;\">\n",
       "      <th></th>\n",
       "      <th>전출지별</th>\n",
       "      <th>전입지별</th>\n",
       "      <th>1970</th>\n",
       "      <th>1971</th>\n",
       "      <th>1972</th>\n",
       "      <th>1973</th>\n",
       "      <th>1974</th>\n",
       "      <th>1975</th>\n",
       "      <th>1976</th>\n",
       "      <th>1977</th>\n",
       "      <th>...</th>\n",
       "      <th>2008</th>\n",
       "      <th>2009</th>\n",
       "      <th>2010</th>\n",
       "      <th>2011</th>\n",
       "      <th>2012</th>\n",
       "      <th>2013</th>\n",
       "      <th>2014</th>\n",
       "      <th>2015</th>\n",
       "      <th>2016</th>\n",
       "      <th>2017</th>\n",
       "    </tr>\n",
       "  </thead>\n",
       "  <tbody>\n",
       "    <tr>\n",
       "      <th>count</th>\n",
       "      <td>18</td>\n",
       "      <td>324</td>\n",
       "      <td>325</td>\n",
       "      <td>325</td>\n",
       "      <td>325</td>\n",
       "      <td>325</td>\n",
       "      <td>325</td>\n",
       "      <td>325</td>\n",
       "      <td>325</td>\n",
       "      <td>325</td>\n",
       "      <td>...</td>\n",
       "      <td>325</td>\n",
       "      <td>325</td>\n",
       "      <td>325</td>\n",
       "      <td>325</td>\n",
       "      <td>325</td>\n",
       "      <td>325</td>\n",
       "      <td>325</td>\n",
       "      <td>325</td>\n",
       "      <td>325</td>\n",
       "      <td>325</td>\n",
       "    </tr>\n",
       "    <tr>\n",
       "      <th>unique</th>\n",
       "      <td>18</td>\n",
       "      <td>18</td>\n",
       "      <td>146</td>\n",
       "      <td>146</td>\n",
       "      <td>146</td>\n",
       "      <td>146</td>\n",
       "      <td>145</td>\n",
       "      <td>146</td>\n",
       "      <td>146</td>\n",
       "      <td>146</td>\n",
       "      <td>...</td>\n",
       "      <td>289</td>\n",
       "      <td>289</td>\n",
       "      <td>289</td>\n",
       "      <td>291</td>\n",
       "      <td>323</td>\n",
       "      <td>320</td>\n",
       "      <td>321</td>\n",
       "      <td>324</td>\n",
       "      <td>322</td>\n",
       "      <td>323</td>\n",
       "    </tr>\n",
       "    <tr>\n",
       "      <th>top</th>\n",
       "      <td>전국</td>\n",
       "      <td>전국</td>\n",
       "      <td>-</td>\n",
       "      <td>-</td>\n",
       "      <td>-</td>\n",
       "      <td>-</td>\n",
       "      <td>-</td>\n",
       "      <td>-</td>\n",
       "      <td>-</td>\n",
       "      <td>-</td>\n",
       "      <td>...</td>\n",
       "      <td>-</td>\n",
       "      <td>-</td>\n",
       "      <td>-</td>\n",
       "      <td>-</td>\n",
       "      <td>1489</td>\n",
       "      <td>822</td>\n",
       "      <td>2026</td>\n",
       "      <td>1468</td>\n",
       "      <td>907</td>\n",
       "      <td>947</td>\n",
       "    </tr>\n",
       "    <tr>\n",
       "      <th>freq</th>\n",
       "      <td>1</td>\n",
       "      <td>18</td>\n",
       "      <td>180</td>\n",
       "      <td>180</td>\n",
       "      <td>180</td>\n",
       "      <td>180</td>\n",
       "      <td>180</td>\n",
       "      <td>180</td>\n",
       "      <td>180</td>\n",
       "      <td>180</td>\n",
       "      <td>...</td>\n",
       "      <td>35</td>\n",
       "      <td>35</td>\n",
       "      <td>35</td>\n",
       "      <td>35</td>\n",
       "      <td>2</td>\n",
       "      <td>2</td>\n",
       "      <td>2</td>\n",
       "      <td>2</td>\n",
       "      <td>2</td>\n",
       "      <td>2</td>\n",
       "    </tr>\n",
       "  </tbody>\n",
       "</table>\n",
       "<p>4 rows × 50 columns</p>\n",
       "</div>"
      ],
      "text/plain": [
       "       전출지별 전입지별 1970 1971 1972 1973 1974 1975 1976 1977  ... 2008 2009 2010  \\\n",
       "count    18  324  325  325  325  325  325  325  325  325  ...  325  325  325   \n",
       "unique   18   18  146  146  146  146  145  146  146  146  ...  289  289  289   \n",
       "top      전국   전국    -    -    -    -    -    -    -    -  ...    -    -    -   \n",
       "freq      1   18  180  180  180  180  180  180  180  180  ...   35   35   35   \n",
       "\n",
       "       2011  2012 2013  2014  2015 2016 2017  \n",
       "count   325   325  325   325   325  325  325  \n",
       "unique  291   323  320   321   324  322  323  \n",
       "top       -  1489  822  2026  1468  907  947  \n",
       "freq     35     2    2     2     2    2    2  \n",
       "\n",
       "[4 rows x 50 columns]"
      ]
     },
     "execution_count": 196,
     "metadata": {},
     "output_type": "execute_result"
    }
   ],
   "source": [
    "# [2-1] 기본 정보 확인 => info(), describe()\n",
    "# - 수치 데이터 컬럼의 데이터 분포 확인 : 최대값, 최소값, 표준편차, 사분위수, 평균값\n",
    "# - 범주 데이터 컬럼의 데이터 분포 확인 : 고유값, 가장 많이 나온 값, 가장 많이 나온 값의 빈도수\n",
    "dataDF.describe(include='all')"
   ]
  },
  {
   "cell_type": "code",
   "execution_count": 197,
   "metadata": {},
   "outputs": [
    {
     "data": {
      "text/html": [
       "<div>\n",
       "<style scoped>\n",
       "    .dataframe tbody tr th:only-of-type {\n",
       "        vertical-align: middle;\n",
       "    }\n",
       "\n",
       "    .dataframe tbody tr th {\n",
       "        vertical-align: top;\n",
       "    }\n",
       "\n",
       "    .dataframe thead th {\n",
       "        text-align: right;\n",
       "    }\n",
       "</style>\n",
       "<table border=\"1\" class=\"dataframe\">\n",
       "  <thead>\n",
       "    <tr style=\"text-align: right;\">\n",
       "      <th></th>\n",
       "      <th>전출지별</th>\n",
       "      <th>전입지별</th>\n",
       "      <th>1970</th>\n",
       "      <th>1971</th>\n",
       "      <th>1972</th>\n",
       "      <th>1973</th>\n",
       "      <th>1974</th>\n",
       "      <th>1975</th>\n",
       "      <th>1976</th>\n",
       "      <th>1977</th>\n",
       "      <th>...</th>\n",
       "      <th>2008</th>\n",
       "      <th>2009</th>\n",
       "      <th>2010</th>\n",
       "      <th>2011</th>\n",
       "      <th>2012</th>\n",
       "      <th>2013</th>\n",
       "      <th>2014</th>\n",
       "      <th>2015</th>\n",
       "      <th>2016</th>\n",
       "      <th>2017</th>\n",
       "    </tr>\n",
       "  </thead>\n",
       "  <tbody>\n",
       "    <tr>\n",
       "      <th>0</th>\n",
       "      <td>NaN</td>\n",
       "      <td>NaN</td>\n",
       "      <td>이동자수 (명)</td>\n",
       "      <td>이동자수 (명)</td>\n",
       "      <td>이동자수 (명)</td>\n",
       "      <td>이동자수 (명)</td>\n",
       "      <td>이동자수 (명)</td>\n",
       "      <td>이동자수 (명)</td>\n",
       "      <td>이동자수 (명)</td>\n",
       "      <td>이동자수 (명)</td>\n",
       "      <td>...</td>\n",
       "      <td>이동자수 (명)</td>\n",
       "      <td>이동자수 (명)</td>\n",
       "      <td>이동자수 (명)</td>\n",
       "      <td>이동자수 (명)</td>\n",
       "      <td>이동자수 (명)</td>\n",
       "      <td>이동자수 (명)</td>\n",
       "      <td>이동자수 (명)</td>\n",
       "      <td>이동자수 (명)</td>\n",
       "      <td>이동자수 (명)</td>\n",
       "      <td>이동자수 (명)</td>\n",
       "    </tr>\n",
       "    <tr>\n",
       "      <th>1</th>\n",
       "      <td>전국</td>\n",
       "      <td>전국</td>\n",
       "      <td>4046536</td>\n",
       "      <td>4210164</td>\n",
       "      <td>3687938</td>\n",
       "      <td>4860418</td>\n",
       "      <td>5297969</td>\n",
       "      <td>9011440</td>\n",
       "      <td>6773250</td>\n",
       "      <td>7397623</td>\n",
       "      <td>...</td>\n",
       "      <td>8808256</td>\n",
       "      <td>8487275</td>\n",
       "      <td>8226594</td>\n",
       "      <td>8127195</td>\n",
       "      <td>7506691</td>\n",
       "      <td>7411784</td>\n",
       "      <td>7629098</td>\n",
       "      <td>7755286</td>\n",
       "      <td>7378430</td>\n",
       "      <td>7154226</td>\n",
       "    </tr>\n",
       "    <tr>\n",
       "      <th>2</th>\n",
       "      <td>NaN</td>\n",
       "      <td>서울특별시</td>\n",
       "      <td>1742813</td>\n",
       "      <td>1671705</td>\n",
       "      <td>1349333</td>\n",
       "      <td>1831858</td>\n",
       "      <td>2050392</td>\n",
       "      <td>3396662</td>\n",
       "      <td>2756510</td>\n",
       "      <td>2893403</td>\n",
       "      <td>...</td>\n",
       "      <td>2025358</td>\n",
       "      <td>1873188</td>\n",
       "      <td>1733015</td>\n",
       "      <td>1721748</td>\n",
       "      <td>1555281</td>\n",
       "      <td>1520090</td>\n",
       "      <td>1573594</td>\n",
       "      <td>1589431</td>\n",
       "      <td>1515602</td>\n",
       "      <td>1472937</td>\n",
       "    </tr>\n",
       "    <tr>\n",
       "      <th>3</th>\n",
       "      <td>NaN</td>\n",
       "      <td>부산광역시</td>\n",
       "      <td>448577</td>\n",
       "      <td>389797</td>\n",
       "      <td>362202</td>\n",
       "      <td>482061</td>\n",
       "      <td>680984</td>\n",
       "      <td>805979</td>\n",
       "      <td>724664</td>\n",
       "      <td>785117</td>\n",
       "      <td>...</td>\n",
       "      <td>514502</td>\n",
       "      <td>519310</td>\n",
       "      <td>519334</td>\n",
       "      <td>508043</td>\n",
       "      <td>461042</td>\n",
       "      <td>478451</td>\n",
       "      <td>485710</td>\n",
       "      <td>507031</td>\n",
       "      <td>459015</td>\n",
       "      <td>439073</td>\n",
       "    </tr>\n",
       "    <tr>\n",
       "      <th>4</th>\n",
       "      <td>NaN</td>\n",
       "      <td>대구광역시</td>\n",
       "      <td>-</td>\n",
       "      <td>-</td>\n",
       "      <td>-</td>\n",
       "      <td>-</td>\n",
       "      <td>-</td>\n",
       "      <td>-</td>\n",
       "      <td>-</td>\n",
       "      <td>-</td>\n",
       "      <td>...</td>\n",
       "      <td>409938</td>\n",
       "      <td>398626</td>\n",
       "      <td>370817</td>\n",
       "      <td>370563</td>\n",
       "      <td>348642</td>\n",
       "      <td>351873</td>\n",
       "      <td>350213</td>\n",
       "      <td>351424</td>\n",
       "      <td>328228</td>\n",
       "      <td>321182</td>\n",
       "    </tr>\n",
       "  </tbody>\n",
       "</table>\n",
       "<p>5 rows × 50 columns</p>\n",
       "</div>"
      ],
      "text/plain": [
       "  전출지별   전입지별      1970      1971      1972      1973      1974      1975  \\\n",
       "0  NaN    NaN  이동자수 (명)  이동자수 (명)  이동자수 (명)  이동자수 (명)  이동자수 (명)  이동자수 (명)   \n",
       "1   전국     전국   4046536   4210164   3687938   4860418   5297969   9011440   \n",
       "2  NaN  서울특별시   1742813   1671705   1349333   1831858   2050392   3396662   \n",
       "3  NaN  부산광역시    448577    389797    362202    482061    680984    805979   \n",
       "4  NaN  대구광역시         -         -         -         -         -         -   \n",
       "\n",
       "       1976      1977  ...      2008      2009      2010      2011      2012  \\\n",
       "0  이동자수 (명)  이동자수 (명)  ...  이동자수 (명)  이동자수 (명)  이동자수 (명)  이동자수 (명)  이동자수 (명)   \n",
       "1   6773250   7397623  ...   8808256   8487275   8226594   8127195   7506691   \n",
       "2   2756510   2893403  ...   2025358   1873188   1733015   1721748   1555281   \n",
       "3    724664    785117  ...    514502    519310    519334    508043    461042   \n",
       "4         -         -  ...    409938    398626    370817    370563    348642   \n",
       "\n",
       "       2013      2014      2015      2016      2017  \n",
       "0  이동자수 (명)  이동자수 (명)  이동자수 (명)  이동자수 (명)  이동자수 (명)  \n",
       "1   7411784   7629098   7755286   7378430   7154226  \n",
       "2   1520090   1573594   1589431   1515602   1472937  \n",
       "3    478451    485710    507031    459015    439073  \n",
       "4    351873    350213    351424    328228    321182  \n",
       "\n",
       "[5 rows x 50 columns]"
      ]
     },
     "execution_count": 197,
     "metadata": {},
     "output_type": "execute_result"
    }
   ],
   "source": [
    "# [2-3] 실제 데이터 info()에서 확인 한 타입 비교 => head() / tail()\n",
    "dataDF.head()"
   ]
  },
  {
   "cell_type": "code",
   "execution_count": 198,
   "metadata": {},
   "outputs": [],
   "source": [
    "### 기본정보 확인 후 결과\n",
    "# - 불필요한 행/컬럼 : 0번행 삭제\n",
    "# - 결측치 : '전출지별' 컬럼,\n",
    "# - 이상치 : 행별로 '-' 값이 수치값과 섞여 있음 ==> 처리 필요!\n"
   ]
  },
  {
   "cell_type": "markdown",
   "metadata": {},
   "source": [
    "- [3] 데이터 전처리 \n",
    "    * 기본확인 파악된 내용들 처리\n",
    "    * 불필요 데이터 삭제 : 0번행 삭제\n",
    "    * 결측치 데이터 처리 : '전출지별' 컬럼 처리\n",
    "    * 이상치 데이터 처리 : '-'\n",
    "    * 데이터 자료형 일치 : 형변환"
   ]
  },
  {
   "cell_type": "code",
   "execution_count": 199,
   "metadata": {},
   "outputs": [
    {
     "name": "stdout",
     "output_type": "stream",
     "text": [
      "확인\n",
      "  전출지별   전입지별     1970     1971     1972     1973     1974     1975     1976  \\\n",
      "1   전국     전국  4046536  4210164  3687938  4860418  5297969  9011440  6773250   \n",
      "2  NaN  서울특별시  1742813  1671705  1349333  1831858  2050392  3396662  2756510   \n",
      "3  NaN  부산광역시   448577   389797   362202   482061   680984   805979   724664   \n",
      "\n",
      "      1977  ...     2008     2009     2010     2011     2012     2013  \\\n",
      "1  7397623  ...  8808256  8487275  8226594  8127195  7506691  7411784   \n",
      "2  2893403  ...  2025358  1873188  1733015  1721748  1555281  1520090   \n",
      "3   785117  ...   514502   519310   519334   508043   461042   478451   \n",
      "\n",
      "      2014     2015     2016     2017  \n",
      "1  7629098  7755286  7378430  7154226  \n",
      "2  1573594  1589431  1515602  1472937  \n",
      "3   485710   507031   459015   439073  \n",
      "\n",
      "[3 rows x 50 columns]\n"
     ]
    }
   ],
   "source": [
    "# [3-1] 불필요 데이터 처리\n",
    "copyDF = dataDF.drop(index=0)\n",
    "print(f'확인\\n{copyDF.head(3)}')\n"
   ]
  },
  {
   "cell_type": "code",
   "execution_count": 200,
   "metadata": {},
   "outputs": [
    {
     "data": {
      "text/plain": [
       "전출지별    306\n",
       "전입지별      0\n",
       "1970      0\n",
       "1971      0\n",
       "1972      0\n",
       "1973      0\n",
       "1974      0\n",
       "1975      0\n",
       "1976      0\n",
       "1977      0\n",
       "1978      0\n",
       "1979      0\n",
       "1980      0\n",
       "1981      0\n",
       "1982      0\n",
       "1983      0\n",
       "1984      3\n",
       "1985      3\n",
       "1986      3\n",
       "1987      0\n",
       "1988      0\n",
       "1989      0\n",
       "1990      0\n",
       "1991      0\n",
       "1992      0\n",
       "1993      0\n",
       "1994      0\n",
       "1995      0\n",
       "1996      0\n",
       "1997      0\n",
       "1998      0\n",
       "1999      0\n",
       "2000      0\n",
       "2001      0\n",
       "2002      0\n",
       "2003      0\n",
       "2004      0\n",
       "2005      0\n",
       "2006      0\n",
       "2007      0\n",
       "2008      0\n",
       "2009      0\n",
       "2010      0\n",
       "2011      0\n",
       "2012      0\n",
       "2013      0\n",
       "2014      0\n",
       "2015      0\n",
       "2016      0\n",
       "2017      0\n",
       "dtype: int64"
      ]
     },
     "execution_count": 200,
     "metadata": {},
     "output_type": "execute_result"
    }
   ],
   "source": [
    "# [3-1] 결측치 데이터 처리 => isna() / isnull()\n",
    "copyDF.isna().sum()\n",
    "# print"
   ]
  },
  {
   "cell_type": "code",
   "execution_count": null,
   "metadata": {},
   "outputs": [],
   "source": []
  },
  {
   "cell_type": "code",
   "execution_count": 201,
   "metadata": {},
   "outputs": [
    {
     "data": {
      "text/html": [
       "<div>\n",
       "<style scoped>\n",
       "    .dataframe tbody tr th:only-of-type {\n",
       "        vertical-align: middle;\n",
       "    }\n",
       "\n",
       "    .dataframe tbody tr th {\n",
       "        vertical-align: top;\n",
       "    }\n",
       "\n",
       "    .dataframe thead th {\n",
       "        text-align: right;\n",
       "    }\n",
       "</style>\n",
       "<table border=\"1\" class=\"dataframe\">\n",
       "  <thead>\n",
       "    <tr style=\"text-align: right;\">\n",
       "      <th></th>\n",
       "      <th>1984</th>\n",
       "      <th>1985</th>\n",
       "      <th>1986</th>\n",
       "    </tr>\n",
       "  </thead>\n",
       "  <tbody>\n",
       "    <tr>\n",
       "      <th>34</th>\n",
       "      <td>True</td>\n",
       "      <td>True</td>\n",
       "      <td>True</td>\n",
       "    </tr>\n",
       "    <tr>\n",
       "      <th>35</th>\n",
       "      <td>True</td>\n",
       "      <td>True</td>\n",
       "      <td>True</td>\n",
       "    </tr>\n",
       "    <tr>\n",
       "      <th>36</th>\n",
       "      <td>True</td>\n",
       "      <td>True</td>\n",
       "      <td>True</td>\n",
       "    </tr>\n",
       "  </tbody>\n",
       "</table>\n",
       "</div>"
      ],
      "text/plain": [
       "    1984  1985  1986\n",
       "34  True  True  True\n",
       "35  True  True  True\n",
       "36  True  True  True"
      ]
     },
     "execution_count": 201,
     "metadata": {},
     "output_type": "execute_result"
    }
   ],
   "source": [
    "# - '1984','1985','1986' 컬럼만 추출\n",
    "# print()\n",
    "a = copyDF[['1984','1985','1986']].isna()\n",
    "a[a.sum(axis = 1) > 0]\n",
    "\n",
    "\n",
    "\n",
    "# copyDF[copyDF[[1984,1985,1986]].isna()]"
   ]
  },
  {
   "cell_type": "code",
   "execution_count": 202,
   "metadata": {},
   "outputs": [
    {
     "name": "stderr",
     "output_type": "stream",
     "text": [
      "C:\\Users\\kjy19\\AppData\\Local\\Temp\\ipykernel_11452\\1896782043.py:2: FutureWarning: A value is trying to be set on a copy of a DataFrame or Series through chained assignment using an inplace method.\n",
      "The behavior will change in pandas 3.0. This inplace method will never work because the intermediate object on which we are setting values always behaves as a copy.\n",
      "\n",
      "For example, when doing 'df[col].method(value, inplace=True)', try using 'df.method({col: value}, inplace=True)' or df[col] = df[col].method(value) instead, to perform the operation inplace on the original object.\n",
      "\n",
      "\n",
      "  copyDF['전출지별'].ffill(inplace=True)\n"
     ]
    }
   ],
   "source": [
    "# - 전출지별\n",
    "copyDF['전출지별'].ffill(inplace=True)\n",
    "\n",
    "pd.set_option('future.no_silent_downcasting', True)\n",
    "copyDF.fillna(0, inplace=True)"
   ]
  },
  {
   "cell_type": "code",
   "execution_count": 203,
   "metadata": {},
   "outputs": [],
   "source": [
    "# copyDF[copyDF['전출지별']=='대구광역시']"
   ]
  },
  {
   "cell_type": "code",
   "execution_count": 204,
   "metadata": {},
   "outputs": [],
   "source": [
    "copyDF[['1984','1985','1986']] = copyDF[['1984','1985','1986']].fillna(0)"
   ]
  },
  {
   "cell_type": "code",
   "execution_count": 205,
   "metadata": {},
   "outputs": [
    {
     "data": {
      "text/html": [
       "<div>\n",
       "<style scoped>\n",
       "    .dataframe tbody tr th:only-of-type {\n",
       "        vertical-align: middle;\n",
       "    }\n",
       "\n",
       "    .dataframe tbody tr th {\n",
       "        vertical-align: top;\n",
       "    }\n",
       "\n",
       "    .dataframe thead th {\n",
       "        text-align: right;\n",
       "    }\n",
       "</style>\n",
       "<table border=\"1\" class=\"dataframe\">\n",
       "  <thead>\n",
       "    <tr style=\"text-align: right;\">\n",
       "      <th></th>\n",
       "      <th>0</th>\n",
       "      <th>1</th>\n",
       "      <th>2</th>\n",
       "    </tr>\n",
       "  </thead>\n",
       "  <tbody>\n",
       "    <tr>\n",
       "      <th>0</th>\n",
       "      <td>1</td>\n",
       "      <td>1</td>\n",
       "      <td>&lt;NA&gt;</td>\n",
       "    </tr>\n",
       "    <tr>\n",
       "      <th>1</th>\n",
       "      <td>&lt;NA&gt;</td>\n",
       "      <td>&lt;NA&gt;</td>\n",
       "      <td>2</td>\n",
       "    </tr>\n",
       "    <tr>\n",
       "      <th>2</th>\n",
       "      <td>&lt;NA&gt;</td>\n",
       "      <td>3</td>\n",
       "      <td>3</td>\n",
       "    </tr>\n",
       "  </tbody>\n",
       "</table>\n",
       "</div>"
      ],
      "text/plain": [
       "      0     1     2\n",
       "0     1     1  <NA>\n",
       "1  <NA>  <NA>     2\n",
       "2  <NA>     3     3"
      ]
     },
     "execution_count": 205,
     "metadata": {},
     "output_type": "execute_result"
    }
   ],
   "source": [
    "df2 = pd.DataFrame([[1,1,pd.NA], [pd.NA, pd.NA,2], [pd.NA,3,3]])\n",
    "df2"
   ]
  },
  {
   "cell_type": "code",
   "execution_count": 206,
   "metadata": {},
   "outputs": [
    {
     "name": "stdout",
     "output_type": "stream",
     "text": [
      "None\n",
      "   0     1     2\n",
      "0  1     1  <NA>\n",
      "1  1  <NA>     2\n",
      "2  1     3     3\n"
     ]
    },
    {
     "name": "stderr",
     "output_type": "stream",
     "text": [
      "C:\\Users\\kjy19\\AppData\\Local\\Temp\\ipykernel_11452\\198597017.py:2: FutureWarning: A value is trying to be set on a copy of a DataFrame or Series through chained assignment using an inplace method.\n",
      "The behavior will change in pandas 3.0. This inplace method will never work because the intermediate object on which we are setting values always behaves as a copy.\n",
      "\n",
      "For example, when doing 'df[col].method(value, inplace=True)', try using 'df.method({col: value}, inplace=True)' or df[col] = df[col].method(value) instead, to perform the operation inplace on the original object.\n",
      "\n",
      "\n",
      "  a = df2[0].ffill(inplace=True)\n"
     ]
    }
   ],
   "source": [
    "# - 0번 컬럼을 이전 행 값으로 채우기\n",
    "a = df2[0].ffill(inplace=True)\n",
    "print(a, df2, sep=\"\\n\")"
   ]
  },
  {
   "cell_type": "code",
   "execution_count": 207,
   "metadata": {},
   "outputs": [
    {
     "data": {
      "text/html": [
       "<div>\n",
       "<style scoped>\n",
       "    .dataframe tbody tr th:only-of-type {\n",
       "        vertical-align: middle;\n",
       "    }\n",
       "\n",
       "    .dataframe tbody tr th {\n",
       "        vertical-align: top;\n",
       "    }\n",
       "\n",
       "    .dataframe thead th {\n",
       "        text-align: right;\n",
       "    }\n",
       "</style>\n",
       "<table border=\"1\" class=\"dataframe\">\n",
       "  <thead>\n",
       "    <tr style=\"text-align: right;\">\n",
       "      <th></th>\n",
       "      <th>0</th>\n",
       "      <th>1</th>\n",
       "      <th>2</th>\n",
       "    </tr>\n",
       "  </thead>\n",
       "  <tbody>\n",
       "    <tr>\n",
       "      <th>0</th>\n",
       "      <td>1</td>\n",
       "      <td>None</td>\n",
       "      <td>None</td>\n",
       "    </tr>\n",
       "    <tr>\n",
       "      <th>1</th>\n",
       "      <td>1</td>\n",
       "      <td>None</td>\n",
       "      <td>None</td>\n",
       "    </tr>\n",
       "    <tr>\n",
       "      <th>2</th>\n",
       "      <td>1</td>\n",
       "      <td>None</td>\n",
       "      <td>None</td>\n",
       "    </tr>\n",
       "  </tbody>\n",
       "</table>\n",
       "</div>"
      ],
      "text/plain": [
       "   0     1     2\n",
       "0  1  None  None\n",
       "1  1  None  None\n",
       "2  1  None  None"
      ]
     },
     "execution_count": 207,
     "metadata": {},
     "output_type": "execute_result"
    }
   ],
   "source": [
    "# df2[[1,2]].ffill(inplace=True)\n",
    "\n",
    "df2[[1,2]] = a\n",
    "df2"
   ]
  },
  {
   "cell_type": "code",
   "execution_count": 208,
   "metadata": {},
   "outputs": [
    {
     "data": {
      "text/html": [
       "<div>\n",
       "<style scoped>\n",
       "    .dataframe tbody tr th:only-of-type {\n",
       "        vertical-align: middle;\n",
       "    }\n",
       "\n",
       "    .dataframe tbody tr th {\n",
       "        vertical-align: top;\n",
       "    }\n",
       "\n",
       "    .dataframe thead th {\n",
       "        text-align: right;\n",
       "    }\n",
       "</style>\n",
       "<table border=\"1\" class=\"dataframe\">\n",
       "  <thead>\n",
       "    <tr style=\"text-align: right;\">\n",
       "      <th></th>\n",
       "      <th>0</th>\n",
       "      <th>1</th>\n",
       "      <th>2</th>\n",
       "    </tr>\n",
       "  </thead>\n",
       "  <tbody>\n",
       "    <tr>\n",
       "      <th>0</th>\n",
       "      <td>1</td>\n",
       "      <td>None</td>\n",
       "      <td>None</td>\n",
       "    </tr>\n",
       "    <tr>\n",
       "      <th>1</th>\n",
       "      <td>1</td>\n",
       "      <td>None</td>\n",
       "      <td>None</td>\n",
       "    </tr>\n",
       "    <tr>\n",
       "      <th>2</th>\n",
       "      <td>1</td>\n",
       "      <td>None</td>\n",
       "      <td>None</td>\n",
       "    </tr>\n",
       "  </tbody>\n",
       "</table>\n",
       "</div>"
      ],
      "text/plain": [
       "   0     1     2\n",
       "0  1  None  None\n",
       "1  1  None  None\n",
       "2  1  None  None"
      ]
     },
     "execution_count": 208,
     "metadata": {},
     "output_type": "execute_result"
    }
   ],
   "source": [
    "df2"
   ]
  },
  {
   "cell_type": "code",
   "execution_count": 209,
   "metadata": {},
   "outputs": [],
   "source": [
    "# [3-3] 이상치 데이터 처리\n",
    "copyDF.replace('-',0,inplace=True)\n"
   ]
  },
  {
   "cell_type": "code",
   "execution_count": 210,
   "metadata": {},
   "outputs": [],
   "source": [
    "# [3-4] 자료형 변환\n",
    "d_ = dict(zip(copyDF.columns[2:].to_list(),['int']*(copyDF.shape[1]-2)))     # 전출지 전입자 칼럼은 날려야하니까\n",
    "# copyDF = copyDF.astype({1970:'int',1971:'float',....,2017:'int'})\n",
    "copyDF=copyDF.astype(d_)"
   ]
  },
  {
   "cell_type": "code",
   "execution_count": null,
   "metadata": {},
   "outputs": [],
   "source": []
  },
  {
   "cell_type": "markdown",
   "metadata": {},
   "source": [
    "- [4] 데이터 가공\n",
    " * "
   ]
  },
  {
   "cell_type": "code",
   "execution_count": 211,
   "metadata": {},
   "outputs": [],
   "source": [
    "#  - 대구광역시 데이터만 추출\n",
    "mask = copyDF['전출지별'] == '대구광역시'\n",
    "cityDF = copyDF[mask]\n",
    "# cityDF"
   ]
  },
  {
   "cell_type": "code",
   "execution_count": 212,
   "metadata": {},
   "outputs": [],
   "source": [
    "#  - 전출지별 칼럼 삭제\n",
    "cityDF = copyDF.drop('전출지별', axis=1)\n",
    "#  - 전dlq지별 칼럼 god 인덱스 설정\n",
    "cityDF.set_index('전입지별', inplace=True)"
   ]
  },
  {
   "cell_type": "code",
   "execution_count": 213,
   "metadata": {},
   "outputs": [],
   "source": [
    "# 전국 행 삭제\n",
    "cityDF.drop(['대구광역시','전국'],inplace=True)"
   ]
  },
  {
   "cell_type": "code",
   "execution_count": 214,
   "metadata": {},
   "outputs": [
    {
     "name": "stdout",
     "output_type": "stream",
     "text": [
      "cityDF.dtype\n",
      " 1970    int64\n",
      "1971    int64\n",
      "1972    int64\n",
      "1973    int64\n",
      "1974    int64\n",
      "1975    int64\n",
      "1976    int64\n",
      "1977    int64\n",
      "1978    int64\n",
      "1979    int64\n",
      "1980    int64\n",
      "1981    int64\n",
      "1982    int64\n",
      "1983    int64\n",
      "1984    int64\n",
      "1985    int64\n",
      "1986    int64\n",
      "1987    int64\n",
      "1988    int64\n",
      "1989    int64\n",
      "1990    int64\n",
      "1991    int64\n",
      "1992    int64\n",
      "1993    int64\n",
      "1994    int64\n",
      "1995    int64\n",
      "1996    int64\n",
      "1997    int64\n",
      "1998    int64\n",
      "1999    int64\n",
      "2000    int64\n",
      "2001    int64\n",
      "2002    int64\n",
      "2003    int64\n",
      "2004    int64\n",
      "2005    int64\n",
      "2006    int64\n",
      "2007    int64\n",
      "2008    int64\n",
      "2009    int64\n",
      "2010    int64\n",
      "2011    int64\n",
      "2012    int64\n",
      "2013    int64\n",
      "2014    int64\n",
      "2015    int64\n",
      "2016    int64\n",
      "2017    int64\n",
      "dtype: object\n"
     ]
    }
   ],
   "source": [
    "print(f'cityDF.dtype\\n {cityDF.dtypes}')"
   ]
  },
  {
   "cell_type": "markdown",
   "metadata": {},
   "source": [
    "#### [5] 히스토그램으로 특정 컬럼 데이터 분포 시각화"
   ]
  },
  {
   "cell_type": "code",
   "execution_count": 215,
   "metadata": {},
   "outputs": [
    {
     "data": {
      "text/plain": [
       "Index(['1970', '1971', '1972', '1973', '1974', '1975', '1976', '1977', '1978',\n",
       "       '1979', '1980', '1981', '1982', '1983', '1984', '1985', '1986', '1987',\n",
       "       '1988', '1989', '1990', '1991', '1992', '1993', '1994', '1995', '1996',\n",
       "       '1997', '1998', '1999', '2000', '2001', '2002', '2003', '2004', '2005',\n",
       "       '2006', '2007', '2008', '2009', '2010', '2011', '2012', '2013', '2014',\n",
       "       '2015', '2016', '2017'],\n",
       "      dtype='object')"
      ]
     },
     "execution_count": 215,
     "metadata": {},
     "output_type": "execute_result"
    }
   ],
   "source": [
    "# 2000년도 데이터의 분포\n",
    "cityDF.columns"
   ]
  },
  {
   "cell_type": "code",
   "execution_count": 216,
   "metadata": {},
   "outputs": [
    {
     "data": {
      "text/plain": [
       "전입지별\n",
       "서울특별시      2219407\n",
       "경기도        2042327\n",
       "서울특별시      1582429\n",
       "경기도        1284156\n",
       "부산광역시       595975\n",
       "            ...   \n",
       "세종특별자치시          0\n",
       "세종특별자치시          0\n",
       "세종특별자치시          0\n",
       "세종특별자치시          0\n",
       "세종특별자치시          0\n",
       "Name: 2000, Length: 288, dtype: int64"
      ]
     },
     "execution_count": 216,
     "metadata": {},
     "output_type": "execute_result"
    }
   ],
   "source": [
    "# 값 기준 정렬 ==> [기본] 오름차순\n",
    "cityDF['2000'].sort_values(ascending = False)"
   ]
  },
  {
   "cell_type": "code",
   "execution_count": 217,
   "metadata": {},
   "outputs": [
    {
     "data": {
      "image/png": "[encoded data removed]",
      "text/plain": [
       "<Figure size 1000x500 with 2 Axes>"
      ]
     },
     "metadata": {},
     "output_type": "display_data"
    }
   ],
   "source": [
    "# 2000년도 대구 지역에서 타지역으로 이동인구수 분포\n",
    "fig = plt.figure(figsize=(10,5))\n",
    "ax1, ax2 = fig.subplots(1,2,sharey=True)\n",
    "ax1.hist(cityDF['2000'], bins=15, histtype='stepfilled')\n",
    "ax2.hist(cityDF['2017'], bins=15, histtype='step')\n",
    "\n",
    "plt.show()"
   ]
  },
  {
   "cell_type": "code",
   "execution_count": 218,
   "metadata": {},
   "outputs": [
    {
     "data": {
      "image/png": "[encoded data removed]",
      "text/plain": [
       "<Figure size 640x480 with 1 Axes>"
      ]
     },
     "metadata": {},
     "output_type": "display_data"
    }
   ],
   "source": [
    "# 2000년도 대구 지역에서 타지역으로 이동인구수 분포\n",
    "n, bin, obj = plt.hist(cityDF['2000'], bins = 15, histtype='stepfilled')\n",
    "# print(f'n => {n}')\n",
    "# print(f'bin => {bin.tolist()}')\n",
    "labels = list(map(int,bin.tolist()))\n",
    "plt.xticks(bin[::4], labels[::4])\n",
    "plt.show()"
   ]
  }
 ],
 "metadata": {
  "kernelspec": {
   "display_name": "EV_PY39",
   "language": "python",
   "name": "python3"
  },
  "language_info": {
   "codemirror_mode": {
    "name": "ipython",
    "version": 3
   },
   "file_extension": ".py",
   "mimetype": "text/x-python",
   "name": "python",
   "nbconvert_exporter": "python",
   "pygments_lexer": "ipython3",
   "version": "3.9.19"
  }
 },
 "nbformat": 4,
 "nbformat_minor": 2
}
