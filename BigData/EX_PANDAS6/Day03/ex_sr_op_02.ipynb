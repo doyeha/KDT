{
 "cells": [
  {
   "cell_type": "markdown",
   "metadata": {},
   "source": [
    "### [Series 연산 - 2]\n",
    " - Series와 Series 연산 수행\n",
    " - 각 Series에서 해당하는 인덱스의 요소끼리 연산을 수행"
   ]
  },
  {
   "cell_type": "code",
   "execution_count": 1,
   "metadata": {},
   "outputs": [],
   "source": [
    "# \n",
    "import pandas as pd"
   ]
  },
  {
   "cell_type": "code",
   "execution_count": 2,
   "metadata": {},
   "outputs": [],
   "source": [
    "bibibig = [13, 600, 1500]"
   ]
  },
  {
   "cell_type": "code",
   "execution_count": 6,
   "metadata": {},
   "outputs": [],
   "source": [
    "# [3]\n",
    "sr1 = pd.Series(bibibig, dtype='int16')\n",
    "sr2 = sr1*2"
   ]
  },
  {
   "cell_type": "code",
   "execution_count": 7,
   "metadata": {},
   "outputs": [
    {
     "name": "stdout",
     "output_type": "stream",
     "text": [
      "0      13\n",
      "1     600\n",
      "2    1500\n",
      "dtype: int16\n",
      "0      26\n",
      "1    1200\n",
      "2    3000\n",
      "dtype: int16\n"
     ]
    }
   ],
   "source": [
    "print(sr1, sr2, sep=\"\\n\")"
   ]
  },
  {
   "cell_type": "code",
   "execution_count": 11,
   "metadata": {},
   "outputs": [
    {
     "name": "stdout",
     "output_type": "stream",
     "text": [
      "sr1+sr2\n",
      " 0      39\n",
      "1    1800\n",
      "2    4500\n",
      "dtype: int16 \n",
      "\n",
      "\n",
      "sr1-sr2\n",
      " 0     -13\n",
      "1    -600\n",
      "2   -1500\n",
      "dtype: int16 \n",
      "\n",
      "\n",
      "sr1<sr2\n",
      " 0    True\n",
      "1    True\n",
      "2    True\n",
      "dtype: bool \n",
      "\n",
      "\n",
      "sr1>sr2\n",
      " 0    False\n",
      "1    False\n",
      "2    False\n",
      "dtype: bool \n",
      "\n",
      "\n"
     ]
    }
   ],
   "source": [
    "# [4]\n",
    "\n",
    "print(\"sr1+sr2\\n\", sr1 + sr2, \"\\n\\n\")\n",
    "print(\"sr1-sr2\\n\", sr1 - sr2, \"\\n\\n\")\n",
    "print(\"sr1<sr2\\n\", sr1 <= sr2, \"\\n\\n\")\n",
    "print(\"sr1>sr2\\n\", sr1 >= sr2, \"\\n\\n\")"
   ]
  },
  {
   "cell_type": "code",
   "execution_count": null,
   "metadata": {},
   "outputs": [],
   "source": []
  },
  {
   "cell_type": "code",
   "execution_count": null,
   "metadata": {},
   "outputs": [],
   "source": []
  },
  {
   "cell_type": "code",
   "execution_count": null,
   "metadata": {},
   "outputs": [],
   "source": []
  }
 ],
 "metadata": {
  "kernelspec": {
   "display_name": "EV_PY39",
   "language": "python",
   "name": "python3"
  },
  "language_info": {
   "codemirror_mode": {
    "name": "ipython",
    "version": 3
   },
   "file_extension": ".py",
   "mimetype": "text/x-python",
   "name": "python",
   "nbconvert_exporter": "python",
   "pygments_lexer": "ipython3",
   "version": "3.9.19"
  }
 },
 "nbformat": 4,
 "nbformat_minor": 2
}
