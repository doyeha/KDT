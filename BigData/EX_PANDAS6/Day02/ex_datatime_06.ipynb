- [실습] 열 / 컬럼 삭제 : 변수명.drop(,axis=1 또는  axis="columns)  메서드
 -  삭제 방향 즉, 기준을 열로 설정

 # 모듈로딩
 import pandas as pd

 data = 