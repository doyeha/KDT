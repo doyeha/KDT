{
 "cells": [
  {
   "cell_type": "markdown",
   "metadata": {},
   "source": [
    "PPT 파일에 예제 직접 다 해보기!!!"
   ]
  },
  {
   "cell_type": "markdown",
   "metadata": {},
   "source": [
    "$ y = ax + b $  \n",
    "-> $$ 사이에 수식 넣으면 왼쪽 정렬\n",
    "$$ y = ax + b $$\n",
    "                                                    -> $$ $$ 사이에 수식 넣으면 오른쪽 정렬"
   ]
  },
  {
   "cell_type": "markdown",
   "metadata": {},
   "source": []
  },
  {
   "cell_type": "markdown",
   "metadata": {},
   "source": [
    "1. 시리즈 : 서로 다른 종류의 데이터를 1차원 배열에 저장하는 구조화 데이터\n",
    "    - 형식 : index + Data(Value) => 키와 값으로 구성된 딕셔너리와 비슷하다.\n",
    "2. 데이터프레임 : 서로 다른 종류의 데이터를 2차원 배열에 저장하는 구조화 데이터"
   ]
  },
  {
   "cell_type": "code",
   "execution_count": 1,
   "metadata": {},
   "outputs": [
    {
     "name": "stdout",
     "output_type": "stream",
     "text": [
      "<class 'pandas.core.series.Series'>\n",
      "\n",
      "\n",
      "a    1\n",
      "b    2\n",
      "c    3\n",
      "dtype: int64\n"
     ]
    }
   ],
   "source": [
    "import pandas as pd\n",
    "\n",
    "dict_data = {'a':1,'b':2,'c':3}\n",
    "\n",
    "sr = pd.Series(dict_data)\n",
    "\n",
    "print(type(sr))\n",
    "print(\"\\n\")\n",
    "\n",
    "print(sr)"
   ]
  },
  {
   "cell_type": "code",
   "execution_count": 3,
   "metadata": {},
   "outputs": [
    {
     "name": "stdout",
     "output_type": "stream",
     "text": [
      "0    2019-01-02\n",
      "1          3.14\n",
      "2           ABC\n",
      "3           100\n",
      "4          True\n",
      "dtype: object\n",
      "\n",
      "\n"
     ]
    }
   ],
   "source": [
    "# 리스트 => 시리즈\n",
    "import pandas as pd\n",
    "\n",
    "list_data = ['2019-01-02', 3.14, 'ABC', 100, True]\n",
    "sr = pd.Series(list_data)\n",
    "print(sr)\n",
    "print(\"\\n\")\n",
    "\n",
    "idx = sr.index\n",
    "val = sr.values"
   ]
  },
  {
   "cell_type": "code",
   "execution_count": 10,
   "metadata": {},
   "outputs": [
    {
     "name": "stdout",
     "output_type": "stream",
     "text": [
      "이름              영인\n",
      "생년월일    2010-05-01\n",
      "성별               여\n",
      "학생여부          True\n",
      "dtype: object\n",
      "\n",
      "\n",
      "영인\n",
      "영인\n",
      "\n",
      "\n",
      "\n",
      "\n",
      "다음 예제\n",
      "sr[[1,2]] =\n",
      " 생년월일    2010-05-01\n",
      "성별               여\n",
      "dtype: object\n",
      "\n",
      "\n",
      "sr[['생년월일','성별']] =\n",
      " 생년월일    2010-05-01\n",
      "성별               여\n",
      "dtype: object\n",
      "\n",
      "\n",
      "sr[1:2] =\n",
      " 생년월일    2010-05-01\n",
      "dtype: object\n",
      "\n",
      "\n",
      "sr[\"생년월일\":\"성별\"] =\n",
      " 생년월일    2010-05-01\n",
      "성별               여\n",
      "dtype: object\n"
     ]
    },
    {
     "name": "stderr",
     "output_type": "stream",
     "text": [
      "C:\\Users\\kjy19\\AppData\\Local\\Temp\\ipykernel_6264\\719652728.py:8: FutureWarning: Series.__getitem__ treating keys as positions is deprecated. In a future version, integer keys will always be treated as labels (consistent with DataFrame behavior). To access a value by position, use `ser.iloc[pos]`\n",
      "  print(sr[0])\n",
      "C:\\Users\\kjy19\\AppData\\Local\\Temp\\ipykernel_6264\\719652728.py:14: FutureWarning: Series.__getitem__ treating keys as positions is deprecated. In a future version, integer keys will always be treated as labels (consistent with DataFrame behavior). To access a value by position, use `ser.iloc[pos]`\n",
      "  print(f\"sr[[1,2]] =\\n {sr[[1,2]]}\")\n"
     ]
    }
   ],
   "source": [
    "import pandas as pd\n",
    "tup_data = ('영인','2010-05-01','여',True)\n",
    "sr = pd.Series(tup_data, index = ['이름','생년월일','성별','학생여부'])\n",
    "# 인덱스... 행?을 따로 지정해줌. 그 값에 대한 자료도 같이 해야 명확한 자료니까.\n",
    "print(sr)\n",
    "print(\"\\n\")\n",
    "\n",
    "print(sr[0])\n",
    "print(sr[\"이름\"])\n",
    "# 그래도 인덱스가 0번째임은 여전하니 인덱스 0으로 부르던 \"이름\"으로 부르던 같은 영인이라는 값이 나온다.\n",
    "\n",
    "print(\"\\n\\n\\n\")\n",
    "print(\"다음 예제\")\n",
    "print(f\"sr[[1,2]] =\\n {sr[[1,2]]}\")\n",
    "print(\"\\n\")\n",
    "print(f\"sr[['생년월일','성별']] =\\n {sr[['생년월일','성별']]}\")\n",
    "print(\"\\n\")\n",
    "\n",
    "print(f\"sr[1:2] =\\n {sr[1:2]}\")\n",
    "print(\"\\n\")\n",
    "print(f'sr[\"생년월일\":\"성별\"] =\\n {sr[\"생년월일\":\"성별\"]}')"
   ]
  },
  {
   "cell_type": "markdown",
   "metadata": {},
   "source": [
    "## 데이터프레임 (~57p)"
   ]
  },
  {
   "cell_type": "code",
   "execution_count": 11,
   "metadata": {},
   "outputs": [
    {
     "name": "stdout",
     "output_type": "stream",
     "text": [
      "<class 'pandas.core.frame.DataFrame'>\n",
      "\n",
      "\n",
      "   c0  c1  c2  c3  c4\n",
      "0   1   4   7  10  13\n",
      "1   2   5   8  11  14\n",
      "2   3   6   9  12  15\n"
     ]
    }
   ],
   "source": [
    "import pandas as pd\n",
    "dict_data = {'c0':[1,2,3], 'c1':[4,5,6], 'c2':[7,8,9], 'c3':[10,11,12], 'c4':[13,14,15]}\n",
    "\n",
    "# dict => DF변환\n",
    "df = pd.DataFrame(dict_data)\n",
    "\n",
    "print(type(df))\n",
    "print(\"\\n\")\n",
    "print(df)"
   ]
  },
  {
   "cell_type": "code",
   "execution_count": 13,
   "metadata": {},
   "outputs": [
    {
     "name": "stdout",
     "output_type": "stream",
     "text": [
      "df =================================\n",
      "     나이 성별   학교\n",
      "준서  15  남  덕영중\n",
      "예은  17  여  수리중\n",
      "df.index =>  Index(['준서', '예은'], dtype='object')\n",
      "df.column =>  Index(['나이', '성별', '학교'], dtype='object')\n",
      "\n",
      "\n",
      "예제 이어가기\n",
      "     연령 남녀   소속\n",
      "학생1  15  남  덕영중\n",
      "학생2  17  여  수리중\n",
      "\n",
      "\n",
      "Index(['학생1', '학생2'], dtype='object')\n",
      "\n",
      "\n",
      "Index(['연령', '남녀', '소속'], dtype='object')\n"
     ]
    }
   ],
   "source": [
    "import pandas as pd\n",
    "\n",
    "df = pd.DataFrame([ [15,'남','덕영중'], [17,'여','수리중']], index = ['준서','예은'], columns=['나이', '성별', '학교'])\n",
    "# 데이터 프레임 한줄씩 나이 / 성별 / 학교 값 먼저 입력해주고 // 그 다음에 행에 그 정보값의 주인들, 이후에 그 값의 성격을 열로 지정\n",
    "\n",
    "print(\"df =================================\\n\", df)\n",
    "\n",
    "print(\"df.index => \", df.index)\n",
    "print(\"df.column => \", df.columns)\n",
    "\n",
    "\n",
    "print(\"\\n\\n예제 이어가기\")\n",
    "df.index=[\"학생1\",'학생2']\n",
    "df.columns=['연령','남녀','소속']\n",
    "# 정보는 그대로 하고 열,행 값 변경. 그대로 덮어씌우기\n",
    "print(df)\n",
    "print(\"\\n\")\n",
    "print(df.index)\n",
    "print(\"\\n\")\n",
    "print(df.columns)"
   ]
  },
  {
   "cell_type": "code",
   "execution_count": 16,
   "metadata": {},
   "outputs": [
    {
     "name": "stdout",
     "output_type": "stream",
     "text": [
      "df ======= \n",
      "None\n",
      "     나이 성별   학교\n",
      "학생1  15  남  덕영중\n",
      "학생2  17  여  수리중\n",
      "df2 ======= \n",
      "     연령 남녀   소속\n",
      "준서  15  남  덕영중\n",
      "예은  17  여  수리중\n"
     ]
    }
   ],
   "source": [
    "import pandas as pd\n",
    "\n",
    "df = pd.DataFrame([ [15,'남','덕영중'], [17,'여','수리중']], index = ['준서','예은'], columns=['나이', '성별', '학교'])\n",
    "\n",
    "df2 = df.rename(columns={\"나이\":\"연령\", \"성별\":\"남녀\", \"학교\":\"소속\"})\n",
    "df3 = df.rename(index={\"준서\":\"학생1\", \"예은\":\"학생2\"}, inplace=True)\n",
    "\n",
    "print(f\"df ======= \\n{df3}\\n{df}\")\n",
    "print(f\"df2 ======= \\n {df2}\")"
   ]
  },
  {
   "cell_type": "markdown",
   "metadata": {},
   "source": [
    "##### 행 삭제"
   ]
  },
  {
   "cell_type": "code",
   "execution_count": 20,
   "metadata": {},
   "outputs": [
    {
     "name": "stdout",
     "output_type": "stream",
     "text": [
      "    수학  영어   음악   체육\n",
      "서준  90  98   85  100\n",
      "우현  80  89   95   90\n",
      "인아  70  95  100   90\n",
      "\n",
      "\n",
      "    수학  영어   음악   체육\n",
      "서준  90  98   85  100\n",
      "인아  70  95  100   90\n",
      "\n",
      "\n",
      "    수학  영어  음악   체육\n",
      "서준  90  98  85  100\n"
     ]
    },
    {
     "name": "stderr",
     "output_type": "stream",
     "text": [
      "C:\\Users\\kjy19\\AppData\\Local\\Temp\\ipykernel_6264\\1217529581.py:11: SettingWithCopyWarning: \n",
      "A value is trying to be set on a copy of a slice from a DataFrame\n",
      "\n",
      "See the caveats in the documentation: https://pandas.pydata.org/pandas-docs/stable/user_guide/indexing.html#returning-a-view-versus-a-copy\n",
      "  df2.drop('우현', inplace=True)\n",
      "C:\\Users\\kjy19\\AppData\\Local\\Temp\\ipykernel_6264\\1217529581.py:17: SettingWithCopyWarning: \n",
      "A value is trying to be set on a copy of a slice from a DataFrame\n",
      "\n",
      "See the caveats in the documentation: https://pandas.pydata.org/pandas-docs/stable/user_guide/indexing.html#returning-a-view-versus-a-copy\n",
      "  df3.drop(['우현', '인아'], axis=0, inplace=True)    # 원래 axis 기본값 0, 0은 오른쪽, 1은 위아래 방향 ...\n"
     ]
    }
   ],
   "source": [
    "import pandas as pd\n",
    "\n",
    "exam_data = {'수학':[90,80,70], '영어':[98,89,95], '음악':[85,95,100], '체육':[100,90,90]}\n",
    "\n",
    "df = pd.DataFrame(exam_data, index=['서준', '우현', '인아'])\n",
    "print(df)\n",
    "print('\\n')\n",
    "# drop은 데이터에 변화를 주지 않고 drop이 실행된 복사본을 제공한다.\n",
    "\n",
    "\n",
    "\n",
    "df2 = df[:]\n",
    "df2.drop('우현', inplace=True)\n",
    "\n",
    "print(df2)\n",
    "print('\\n')\n",
    "\n",
    "df3 = df[:]\n",
    "df3.drop(['우현', '인아'], axis=0, inplace=True)    # 원래 axis 기본값 0, 0은 오른쪽, 1은 위아래 방향 ...\n",
    "# 근데 0, 기본값이니까 우현, 인하에 대한 것 삭제\n",
    "print(df3)\n",
    "\n"
   ]
  },
  {
   "cell_type": "code",
   "execution_count": 21,
   "metadata": {},
   "outputs": [
    {
     "name": "stdout",
     "output_type": "stream",
     "text": [
      "    수학  영어   음악   체육\n",
      "서준  90  98   85  100\n",
      "우현  80  89   95   90\n",
      "인아  70  95  100   90\n",
      "\n",
      "\n",
      "    영어   음악   체육\n",
      "서준  98   85  100\n",
      "우현  89   95   90\n",
      "인아  95  100   90\n",
      "\n",
      "\n",
      "    수학   체육\n",
      "서준  90  100\n",
      "우현  80   90\n",
      "인아  70   90\n"
     ]
    },
    {
     "name": "stderr",
     "output_type": "stream",
     "text": [
      "C:\\Users\\kjy19\\AppData\\Local\\Temp\\ipykernel_6264\\2875092980.py:10: SettingWithCopyWarning: \n",
      "A value is trying to be set on a copy of a slice from a DataFrame\n",
      "\n",
      "See the caveats in the documentation: https://pandas.pydata.org/pandas-docs/stable/user_guide/indexing.html#returning-a-view-versus-a-copy\n",
      "  df4.drop('수학', axis=1, inplace=True)  # 열 삭제, 세로 방향\n",
      "C:\\Users\\kjy19\\AppData\\Local\\Temp\\ipykernel_6264\\2875092980.py:15: SettingWithCopyWarning: \n",
      "A value is trying to be set on a copy of a slice from a DataFrame\n",
      "\n",
      "See the caveats in the documentation: https://pandas.pydata.org/pandas-docs/stable/user_guide/indexing.html#returning-a-view-versus-a-copy\n",
      "  df5.drop(['영어', '음악'], axis=1, inplace=True)\n"
     ]
    }
   ],
   "source": [
    "import pandas as pd\n",
    "\n",
    "exam_data = {'수학':[90,80,70], '영어':[98,89,95], '음악':[85,95,100], '체육':[100,90,90]}\n",
    "\n",
    "df = pd.DataFrame(exam_data, index=['서준', '우현', '인아'])\n",
    "print(df)\n",
    "print('\\n')\n",
    "\n",
    "df4 = df[:]\n",
    "df4.drop('수학', axis=1, inplace=True)  # 열 삭제, 세로 방향\n",
    "print(df4)\n",
    "print('\\n')\n",
    "\n",
    "df5 = df[:]\n",
    "df5.drop(['영어', '음악'], axis=1, inplace=True)\n",
    "print(df5)"
   ]
  },
  {
   "cell_type": "markdown",
   "metadata": {},
   "source": [
    "##### 선택 출력"
   ]
  },
  {
   "cell_type": "code",
   "execution_count": 23,
   "metadata": {},
   "outputs": [
    {
     "name": "stdout",
     "output_type": "stream",
     "text": [
      "df ============\n",
      "     수학  영어   음악   체육\n",
      "서준  90  98   85  100\n",
      "우현  80  89   95   90\n",
      "인아  70  95  100   90\n",
      "\n",
      "\n",
      "label1 => \n",
      " 수학     90\n",
      "영어     98\n",
      "음악     85\n",
      "체육    100\n",
      "Name: 서준, dtype: int64\n",
      "\n",
      "\n",
      "position1 => \n",
      " 수학     90\n",
      "영어     98\n",
      "음악     85\n",
      "체육    100\n",
      "Name: 서준, dtype: int64\n",
      "\n",
      "\n"
     ]
    }
   ],
   "source": [
    "import pandas as pd\n",
    "\n",
    "exam_data = {'수학':[90,80,70], '영어':[98,89,95], '음악':[85,95,100], '체육':[100,90,90]}\n",
    "\n",
    "df = pd.DataFrame(exam_data, index=['서준', '우현', '인아'])\n",
    "print(\"df ============\\n\", df )\n",
    "print(\"\\n\")\n",
    "\n",
    "label1 = df.loc[\"서준\"] # loc니까 지정인덱스\n",
    "position1 = df.iloc[0] # iloc니까 숫자인덱스 결과는 같다.\n",
    "print(\"label1 => \\n\", label1)\n",
    "print('\\n')\n",
    "print(\"position1 => \\n\", position1)\n",
    "print('\\n')"
   ]
  },
  {
   "cell_type": "code",
   "execution_count": 29,
   "metadata": {},
   "outputs": [
    {
     "name": "stdout",
     "output_type": "stream",
     "text": [
      "label2 =>     수학  영어  음악   체육\n",
      "서준  90  98  85  100\n",
      "우현  80  89  95   90\n",
      "\n",
      "\n",
      "position2 =>     수학  영어  음악   체육\n",
      "서준  90  98  85  100\n",
      "우현  80  89  95   90\n",
      "\n",
      "\n",
      "    수학  영어  음악   체육\n",
      "서준  90  98  85  100\n",
      "우현  80  89  95   90\n",
      "\n",
      "\n",
      "    수학  영어  음악   체육\n",
      "서준  90  98  85  100\n"
     ]
    }
   ],
   "source": [
    "import pandas as pd\n",
    "exam_data = {'수학':[90,80,70], '영어':[98,89,95], '음악':[85,95,100], '체육':[100,90,90]}\n",
    "df = pd.DataFrame(exam_data, index=[\"서준\", \"우현\", \"인아\"])\n",
    "\n",
    "\n",
    "label2 = df.loc[[\"서준\", \"우현\"]]   # 리스트 그 자체를 []로 묶어 하나의 인덱스 취급\n",
    "position2 = df.iloc[[0,1]]\n",
    "print(f\"label2 => {label2}\")\n",
    "print('\\n')\n",
    "print(f\"position2 => {position2}\")\n",
    "print('\\n')\n",
    "\n",
    "\n",
    "\n",
    "label3 = df.loc[\"서준\":\"우현\"]      # : 를 , 로 잘못쳤었더니 계속 오류 떴었음. 슬라이싱이 아니라 리스트 식이면 [] 넣기 기억.\n",
    "position3 = df.iloc[0:1]\n",
    "print(label3)\n",
    "print('\\n')\n",
    "print(position3)"
   ]
  },
  {
   "cell_type": "code",
   "execution_count": 31,
   "metadata": {},
   "outputs": [
    {
     "name": "stdout",
     "output_type": "stream",
     "text": [
      "   이름  수학  영어   음악   체육\n",
      "0  서준  90  98   85  100\n",
      "1  우현  80  89   95   90\n",
      "2  인아  70  95  100   90\n",
      "<class 'pandas.core.frame.DataFrame'>\n",
      "\n",
      "\n",
      "0    90\n",
      "1    80\n",
      "2    70\n",
      "Name: 수학, dtype: int64\n",
      "<class 'pandas.core.series.Series'>\n",
      "\n",
      "\n"
     ]
    }
   ],
   "source": [
    "import pandas as pd\n",
    "exam_data = {'이름':['서준','우현','인아'],'수학':[90,80,70],'영어':[98,89,95],'음악':[85,95,100],'체육':[100,90,90]}\n",
    "df = pd.DataFrame(exam_data)\n",
    "\n",
    "print(df)\n",
    "print(type(df))\n",
    "print('\\n')\n",
    "\n",
    "math1 = df['수학']      # 수학 열만 뽑아옴\n",
    "print(math1)\n",
    "print(type(math1))\n",
    "print('\\n')"
   ]
  },
  {
   "cell_type": "code",
   "execution_count": 33,
   "metadata": {},
   "outputs": [
    {
     "name": "stdout",
     "output_type": "stream",
     "text": [
      "영어 점수만 뽑아보기\n",
      "0    98\n",
      "1    89\n",
      "2    95\n",
      "Name: 영어, dtype: int64\n",
      "<class 'pandas.core.series.Series'>\n",
      "    음악   체육\n",
      "0   85  100\n",
      "1   95   90\n",
      "2  100   90\n",
      "<class 'pandas.core.frame.DataFrame'>\n",
      "   수학\n",
      "0  90\n",
      "1  80\n",
      "2  70\n",
      "<class 'pandas.core.frame.DataFrame'>\n"
     ]
    }
   ],
   "source": [
    "import pandas as pd\n",
    "exam_data = {'이름':['서준','우현','인아'],'수학':[90,80,70],'영어':[98,89,95],'음악':[85,95,100],'체육':[100,90,90]}\n",
    "df = pd.DataFrame(exam_data)\n",
    "\n",
    "\n",
    "english = df.영어       # 아까는 df['수학'] 로 표현햇는데 얘도 되네\n",
    "print('영어 점수만 뽑아보기')\n",
    "print(english)\n",
    "print(type(english))\n",
    "\n",
    "music_gym = df[['음악', '체육']]    # 리스트 인덱스 #\n",
    "print(music_gym)\n",
    "print(type(music_gym))\n",
    "\n",
    "math2 = df[['수학']]    # df.영어는 열 상세가 안나오는데 df[[\"수학\"]]은 수학이라고 나온다.\n",
    "print(math2)\n",
    "print(type(math2))"
   ]
  },
  {
   "cell_type": "code",
   "execution_count": 37,
   "metadata": {},
   "outputs": [
    {
     "name": "stdout",
     "output_type": "stream",
     "text": [
      "    수학  영어   음악   체육\n",
      "이름                  \n",
      "서준  90  98   85  100\n",
      "우현  80  89   95   90\n",
      "인아  70  95  100   90\n",
      "a, loc[서준음악] 결과\n",
      "85\n",
      "\n",
      "b, iloc[0,2] 결과\n",
      "85\n",
      "\n",
      "c, loc[서준, [음악,체육] 결과\n",
      "음악     85\n",
      "체육    100\n",
      "Name: 서준, dtype: int64\n",
      "\n",
      "d, iloc[0 [2,3]] 결과\n",
      "음악     85\n",
      "체육    100\n",
      "Name: 서준, dtype: int64\n",
      "\n",
      "e, loc[서준, [음악:체육] 결과\n",
      "음악     85\n",
      "체육    100\n",
      "Name: 서준, dtype: int64\n"
     ]
    }
   ],
   "source": [
    "import pandas as pd\n",
    "exam_data = {'이름':['서준','우현','인아'],'수학':[90,80,70],'영어':[98,89,95],'음악':[85,95,100],'체육':[100,90,90]}\n",
    "df = pd.DataFrame(exam_data)\n",
    "\n",
    "df.set_index('이름', inplace=True)\n",
    "print(df)\n",
    "\n",
    "print(f'a, loc[서준음악] 결과')\n",
    "a = df.loc['서준', '음악']\n",
    "print(a)\n",
    "\n",
    "print(f'\\nb, iloc[0,2] 결과')\n",
    "b = df.iloc[0, 2]\n",
    "print(b)\n",
    "\n",
    "print(f'\\nc, loc[서준, [음악,체육] 결과')\n",
    "c = df.loc['서준', ['음악', '체육']]\n",
    "print(c)\n",
    "\n",
    "print(f'\\nd, iloc[0 [2,3]] 결과')\n",
    "d = df.iloc[0, [2, 3]]\n",
    "print(d)\n",
    "\n",
    "print(f'\\ne, loc[서준, [음악:체육] 결과')\n",
    "e = df.loc['서준', '음악':'체육']\n",
    "print(e)\n",
    "# 아니 왤케 많으세요 \n"
   ]
  },
  {
   "cell_type": "code",
   "execution_count": 62,
   "metadata": {},
   "outputs": [
    {
     "name": "stdout",
     "output_type": "stream",
     "text": [
      "    수학  영어   음악   체육\n",
      "이름                  \n",
      "서준  90  98   85  100\n",
      "우현  80  89   95   90\n",
      "인아  70  95  100   90\n",
      "\n",
      "f, iloc[0, 2:] 결과\n",
      "음악     85\n",
      "체육    100\n",
      "Name: 서준, dtype: int64\n",
      "\n",
      "\n",
      "\n",
      "g, loc['서준', '우현'], ['음악', '체육']] 결과\n",
      "    음악   체육\n",
      "이름         \n",
      "서준  85  100\n",
      "우현  95   90\n",
      "\n",
      "h, iloc[0, 1], [2, 3] 결과\n",
      "    음악   체육\n",
      "이름         \n",
      "서준  85  100\n",
      "우현  95   90\n",
      "\n",
      "i, loc['서준' : '우현'], ['음악' : '체육']] 결과\n",
      "    음악   체육\n",
      "이름         \n",
      "서준  85  100\n",
      "우현  95   90\n",
      "\n",
      "j, iloc[0:2, 2:] 결과\n",
      "    음악   체육\n",
      "이름         \n",
      "서준  85  100\n",
      "우현  95   90\n"
     ]
    }
   ],
   "source": [
    "import pandas as pd\n",
    "exam_data = {'이름':['서준','우현','인아'],'수학':[90,80,70],'영어':[98,89,95],'음악':[85,95,100],'체육':[100,90,90]}\n",
    "df = pd.DataFrame(exam_data)\n",
    "\n",
    "df.set_index('이름', inplace=True)\n",
    "print(df)\n",
    "# 얘 없으면 g에서  \"None of [Index(['서준', '우현'], dtype='object')] are in the [index]\" 에러 발생.\n",
    "\n",
    "\n",
    "print(f'\\nf, iloc[0, 2:] 결과')\n",
    "f = df.iloc[0, 2:]\n",
    "print(f )\n",
    "print('\\n')\n",
    "\n",
    "print(f\"\\ng, loc['서준', '우현'], ['음악', '체육']] 결과\")\n",
    "g = df.loc[['서준', '우현'], ['음악', '체육']]\n",
    "print(g)\n",
    "\n",
    "print(f'\\nh, iloc[0, 1], [2, 3] 결과')\n",
    "h = df.iloc[[0, 1], [2, 3]]\n",
    "print(h)\n",
    "\n",
    "print(f\"\\ni, loc['서준' : '우현'], ['음악' : '체육']] 결과\")\n",
    "i = df.loc['서준':'우현', '음악':'체육']\n",
    "print(i)\n",
    "\n",
    "print(f'\\nj, iloc[0:2, 2:] 결과')\n",
    "j = df.iloc[0:2, 2:]\n",
    "print( j)"
   ]
  },
  {
   "cell_type": "code",
   "execution_count": 44,
   "metadata": {},
   "outputs": [
    {
     "name": "stdout",
     "output_type": "stream",
     "text": [
      "   이름  수학  영어   음악   체육\n",
      "0  서준  90  98   85  100\n",
      "1  우현  80  89   95   90\n",
      "2  인아  70  95  100   90\n",
      "\n",
      "\n",
      "   이름  수학  영어   음악   체육  국어\n",
      "0  서준  90  98   85  100  80\n",
      "1  우현  80  89   95   90  80\n",
      "2  인아  70  95  100   90  80\n"
     ]
    }
   ],
   "source": [
    "import pandas as pd\n",
    "exam_data = {'이름':['서준','우현','인아'],'수학':[90,80,70],'영어':[98,89,95],'음악':[85,95,100],'체육':[100,90,90]}\n",
    "df = pd.DataFrame(exam_data)\n",
    "print(df)\n",
    "print('\\n')\n",
    "\n",
    "df['국어'] = 80 # 밀려서 체육이랑 헷갈리기는 하는데 국어 서준 우현 인아 모두 80으로 고정 디폴트 값 되어버림.\n",
    "print(df)"
   ]
  },
  {
   "cell_type": "code",
   "execution_count": 49,
   "metadata": {},
   "outputs": [
    {
     "name": "stdout",
     "output_type": "stream",
     "text": [
      "   이름  수학  영어   음악   체육\n",
      "0  서준  90  98   85  100\n",
      "1  우현  80  89   95   90\n",
      "2  인아  70  95  100   90\n",
      "\n",
      "\n",
      "   이름  수학  영어   음악   체육\n",
      "0  서준  90  98   85  100\n",
      "1  우현  80  89   95   90\n",
      "2  인아  70  95  100   90\n",
      "3   0   0   0    0    0\n",
      "    이름    수학    영어     음악     체육    5\n",
      "0   서준  90.0  98.0   85.0  100.0  NaN\n",
      "1   우현  80.0  89.0   95.0   90.0  NaN\n",
      "2   인아  70.0  95.0  100.0   90.0  NaN\n",
      "3    0   0.0   0.0    0.0    0.0  NaN\n",
      "4  NaN   NaN   NaN    NaN    NaN  0.0\n"
     ]
    }
   ],
   "source": [
    "import pandas as pd\n",
    "exam_data = {'이름' : ['서준','우현','인아'],\n",
    "             '수학' : [90,80,70],\n",
    "             '영어' : [98,89,95],\n",
    "             '음악' : [85,95,100],\n",
    "             '체육' : [100,90,90]}\n",
    "df = pd.DataFrame(exam_data)\n",
    "\n",
    "print(df)\n",
    "print('\\n')\n",
    "\n",
    "df.loc[3] = 0   # 새로운 행 [3(,0)생략?인가] 추가. 그 행 값은 모두 0\n",
    "print(df)\n",
    "\n",
    "# self, not 예제\n",
    "df.loc[4,5] = 0\n",
    "print(df)   # ..?"
   ]
  },
  {
   "cell_type": "code",
   "execution_count": 55,
   "metadata": {},
   "outputs": [
    {
     "name": "stdout",
     "output_type": "stream",
     "text": [
      "   이름  수학  영어   음악   체육\n",
      "0  서준  90  98   85  100\n",
      "1  우현  80  89   95   90\n",
      "2  인아  70  95  100   90\n",
      "4  동규  90  80   70   60\n",
      "\n",
      "\n",
      "    이름  수학  영어   음악   체육\n",
      "0   서준  90  98   85  100\n",
      "1   우현  80  89   95   90\n",
      "2   인아  70  95  100   90\n",
      "4   동규  90  80   70   60\n",
      "행5  동규  90  80   70   60\n"
     ]
    }
   ],
   "source": [
    "\n",
    "import pandas as pd\n",
    "exam_data = {'이름' : ['서준','우현','인아'],\n",
    "             '수학' : [90,80,70],\n",
    "             '영어' : [98,89,95],\n",
    "             '음악' : [85,95,100],\n",
    "             '체육' : [100,90,90]}\n",
    "df = pd.DataFrame(exam_data)\n",
    "\n",
    "df.loc[4] = ['동규', 90, 80, 70, 60]\n",
    "print(df)\n",
    "print('\\n')\n",
    "\n",
    "df.loc['행5'] = df.loc[4]       # 예제는 df.loc[3]이었는데 오류 발생.\n",
    "print(df)"
   ]
  },
  {
   "cell_type": "code",
   "execution_count": 57,
   "metadata": {},
   "outputs": [
    {
     "name": "stdout",
     "output_type": "stream",
     "text": [
      "    수학  영어   음악   체육\n",
      "이름                  \n",
      "서준  90  98   85  100\n",
      "우현  80  89   95   90\n",
      "인아  70  95  100   90\n",
      "\n",
      "    수학  영어   음악  체육\n",
      "이름                 \n",
      "서준  90  98   85  80\n",
      "우현  80  89   95  90\n",
      "인아  70  95  100  90\n",
      "\n",
      "\n"
     ]
    },
    {
     "name": "stderr",
     "output_type": "stream",
     "text": [
      "C:\\Users\\kjy19\\AppData\\Local\\Temp\\ipykernel_6264\\122179216.py:12: FutureWarning: ChainedAssignmentError: behaviour will change in pandas 3.0!\n",
      "You are setting values through chained assignment. Currently this works in certain cases, but when using Copy-on-Write (which will become the default behaviour in pandas 3.0) this will never work to update the original DataFrame or Series, because the intermediate object on which we are setting values will behave as a copy.\n",
      "A typical example is when you are setting values in a column of a DataFrame, like:\n",
      "\n",
      "df[\"col\"][row_indexer] = value\n",
      "\n",
      "Use `df.loc[row_indexer, \"col\"] = values` instead, to perform the assignment in a single step and ensure this keeps updating the original `df`.\n",
      "\n",
      "See the caveats in the documentation: https://pandas.pydata.org/pandas-docs/stable/user_guide/indexing.html#returning-a-view-versus-a-copy\n",
      "\n",
      "  df.iloc[0][3] = 80\n",
      "C:\\Users\\kjy19\\AppData\\Local\\Temp\\ipykernel_6264\\122179216.py:12: FutureWarning: Series.__setitem__ treating keys as positions is deprecated. In a future version, integer keys will always be treated as labels (consistent with DataFrame behavior). To set a value by position, use `ser.iloc[pos] = value`\n",
      "  df.iloc[0][3] = 80\n"
     ]
    }
   ],
   "source": [
    "import pandas as pd\n",
    "exam_data = {'이름' : ['서준','우현','인아'],\n",
    "             '수학' : [90,80,70],\n",
    "             '영어' : [98,89,95],\n",
    "             '음악' : [85,95,100],\n",
    "             '체육' : [100,90,90]}\n",
    "df = pd.DataFrame(exam_data)\n",
    "\n",
    "df.set_index('이름', inplace=True)\n",
    "print(df)\n",
    "print()\n",
    "df.iloc[0][3] = 80  # 서준의 체육 점수 수정\n",
    "print(df)"
   ]
  },
  {
   "cell_type": "code",
   "execution_count": 61,
   "metadata": {},
   "outputs": [
    {
     "name": "stdout",
     "output_type": "stream",
     "text": [
      "['서준']['체육'] = 90 (기존점수 : 100) \n",
      "    수학  영어   음악  체육\n",
      "이름                 \n",
      "서준  90  98  100  90\n",
      "우현  80  89   95  90\n",
      "인아  70  95  100  90\n",
      "\n",
      "loc['서준', '체육'] = 100 // 복구\n",
      "    수학  영어   음악   체육\n",
      "이름                  \n",
      "서준  90  98  100  100\n",
      "우현  80  89   95   90\n",
      "인아  70  95  100   90\n",
      "\n",
      "loc['서준', ['음악', '체육']] = 50 (기존 서준의 점수 : 85, 100)\n",
      "    수학  영어   음악  체육\n",
      "이름                 \n",
      "서준  90  98   50  50\n",
      "우현  80  89   95  90\n",
      "인아  70  95  100  90\n",
      "\n",
      "loc['서준', ['음악', '체육']] = 100, 50 // 50에서 복구\n",
      "    수학  영어   음악  체육\n",
      "이름                 \n",
      "서준  90  98  100  50\n",
      "우현  80  89   95  90\n",
      "인아  70  95  100  90\n"
     ]
    },
    {
     "name": "stderr",
     "output_type": "stream",
     "text": [
      "C:\\Users\\kjy19\\AppData\\Local\\Temp\\ipykernel_6264\\1883855147.py:9: FutureWarning: ChainedAssignmentError: behaviour will change in pandas 3.0!\n",
      "You are setting values through chained assignment. Currently this works in certain cases, but when using Copy-on-Write (which will become the default behaviour in pandas 3.0) this will never work to update the original DataFrame or Series, because the intermediate object on which we are setting values will behave as a copy.\n",
      "A typical example is when you are setting values in a column of a DataFrame, like:\n",
      "\n",
      "df[\"col\"][row_indexer] = value\n",
      "\n",
      "Use `df.loc[row_indexer, \"col\"] = values` instead, to perform the assignment in a single step and ensure this keeps updating the original `df`.\n",
      "\n",
      "See the caveats in the documentation: https://pandas.pydata.org/pandas-docs/stable/user_guide/indexing.html#returning-a-view-versus-a-copy\n",
      "\n",
      "  df.loc['서준']['체육'] = 90\n"
     ]
    }
   ],
   "source": [
    "\"\"\"\n",
    "'이름' : ['서준','우현','인아'],\n",
    "             '수학' : [90,80,70],\n",
    "             '영어' : [98,89,95],\n",
    "             '음악' : [85,95,100],\n",
    "             '체육' : [100,90,90]}\n",
    "\"\"\"\n",
    "\n",
    "df.loc['서준']['체육'] = 90\n",
    "print(f\"['서준']['체육'] = 90 (기존점수 : 100) \")\n",
    "print(df)\n",
    "print()\n",
    "\n",
    "print(f\"loc['서준', '체육'] = 100 // 복구\")\n",
    "df.loc['서준', '체육'] = 100\n",
    "print(df)\n",
    "print()\n",
    "\n",
    "df.loc['서준', ['음악', '체육']] = 50   # 둘다 50점으로\n",
    "print(f\"loc['서준', ['음악', '체육']] = 50 (기존 서준의 점수 : 85, 100)\")\n",
    "print(df)\n",
    "print()\n",
    "\n",
    "print(f\"loc['서준', ['음악', '체육']] = 100, 50 // 50에서 복구\")\n",
    "df.loc['서준', ['음악', '체육']] = 100, 50\n",
    "print(df)"
   ]
  },
  {
   "cell_type": "code",
   "execution_count": null,
   "metadata": {},
   "outputs": [],
   "source": [
    "import pandas as pd\n",
    "exam_data = {'이름' : ['서준','우현','인아'],\n",
    "             '수학' : [90,80,70],\n",
    "             '영어' : [98,89,95],\n",
    "             '음악' : [85,95,100],\n",
    "             '체육' : [100,90,90]}\n",
    "df = pd.DataFrame(exam_data)\n",
    "print(df)\n",
    "\n",
    "df = df.transpose() # 행열 위치 바꾸기 메서드\n",
    "print(df)\n",
    "\n",
    "df = df.T       # 얘도 트렌스포즈 쟤랑 같음.\n",
    "print(df)\n",
    "\n",
    "# PPT 83 나중ㅇ ㅔ다시 하기"
   ]
  }
 ],
 "metadata": {
  "kernelspec": {
   "display_name": "EV_PY39",
   "language": "python",
   "name": "python3"
  },
  "language_info": {
   "codemirror_mode": {
    "name": "ipython",
    "version": 3
   },
   "file_extension": ".py",
   "mimetype": "text/x-python",
   "name": "python",
   "nbconvert_exporter": "python",
   "pygments_lexer": "ipython3",
   "version": "3.9.19"
  }
 },
 "nbformat": 4,
 "nbformat_minor": 2
}
