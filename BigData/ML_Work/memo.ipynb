{
 "cells": [
  {
   "cell_type": "markdown",
   "metadata": {},
   "source": [
    "Tunning => 모델 수정\n",
    " - 모델의 성능 높이기\n",
    "  * scikit-learn에서 모델 인스턴스의 score메서드\n",
    "\n",
    "\n",
    "\n",
    "\n",
    " - 피쳐 제어\n",
    "   * 피쳐 개수 조절\n",
    "   * 피쳐 추출 / 압축\n",
    "\n",
    "   "
   ]
  },
  {
   "cell_type": "markdown",
   "metadata": {},
   "source": [
    "### ML Process\n",
    " 1. 데이터 준비\n",
    "   => 데이터 로딩, 데이터 확인 ( 실제 데이터 확인 및 탐색 )\n",
    " 2. 데이터 전처리\n",
    "   => 정제 (결측치, 중복값, 이상치, 컬럼 고유값)\n",
    "   => 피쳐에 대한 처리 (인코딩, 스케일링)\n",
    "   => 피쳐 선택, 가공\n",
    "   => 피쳐와 타겟 (독립변수와 종수변수)\n",
    " 3. 학습 준비 => 데이터셋 (train, validation, test)\n",
    "        -> 데이터 부족 및 일반화 위해서 train test 데이터 셋 분리\n",
    " 4. 학습 진행\n",
    "    => 교차검증으로 학습 진행\n",
    " 5. 모델평가\n",
    "    => test 데이터셋으로 평가\n",
    "    => 평가기준 : 분류와 회귀가 다름!\n",
    "    \n",
    "    *** 모델의 성능을 높이는 작업 즉, 튜닝 진행\n",
    "     - Hyper Parameter 제어 : 모델 인스턴스 생성 시 매개변수로 설정\n",
    "     - 새로운 모델로 학습 진행 => 평가"
   ]
  },
  {
   "cell_type": "code",
   "execution_count": null,
   "metadata": {
    "vscode": {
     "languageId": "plaintext"
    }
   },
   "outputs": [],
   "source": []
  },
  {
   "cell_type": "markdown",
   "metadata": {},
   "source": [
    "feature 2차원이어야함\n",
    "target 1차원. \n",
    "\n",
    "분류 \n",
    "선형회귀 \n",
    "\n",
    "\n",
    "LinearRegression\n",
    "DecisionTreeClassifier\n",
    "KNeighborsClassifier\n",
    "model_selectio"
   ]
  },
  {
   "cell_type": "markdown",
   "metadata": {},
   "source": [
    "### KNeighborsClassifier\n",
    "kneighbors"
   ]
  },
  {
   "cell_type": "markdown",
   "metadata": {},
   "source": [
    "### 모듈, 클래스\n",
    "\n",
    "train_test_split (stratify)\n",
    "fit\n",
    "score"
   ]
  },
  {
   "cell_type": "markdown",
   "metadata": {},
   "source": [
    "\n",
    "### LinearRegression\n",
    "    Feature가 많으면 안된다.\n",
    "     Why? 계산이 길어지고, 메모리 공간, 과적합 문제 발생\n",
    "\n",
    "선형회귀 (ML_DAY01 PPT에 있음 118p)\n",
    " \n",
    " 비용/손실 함수\n",
    " 평균 제곱 오차 함수 \n",
    " 예측값과 타겟값과의 차이를 제곱해서 ㄷ모두 더 한 후 평균을 취하는 함수\n",
    "\n",
    " \n",
    "\n",
    "회귀선\n",
    "기울기 : {model.coef_}\n",
    "절편 : {model.intercept_}'"
   ]
  },
  {
   "cell_type": "markdown",
   "metadata": {},
   "source": [
    "피쳐가 많으면 다중회귀. "
   ]
  },
  {
   "cell_type": "markdown",
   "metadata": {},
   "source": [
    "## 0902\n",
    "    데이터 탐색적 분석 \n",
    "        * 전처리 : 모든 것을 수치화 => 범주형 : 인코딩 [ 소분류 >> 대분류]\n",
    "    \n",
    "    -> 지도/비지도/강화 \n",
    "    -> 학습 알고리즘\n",
    "\n",
    "    선형 모델\n",
    "        - 피쳐와 타겟의 관계가 선형관계를 이룰 때 // 선형의 정규분포\n",
    "        - 정규분포 기반\n",
    "        - 선형식 : y = ax + b   --> wx + b --> x₀ + w₁x + w₂x + ... + wnx\n",
    "        - coefficent 또는 Weight\n",
    "        : 학습을 통해서 다양한 피쳐들의 영향 정도를 정확하게 반영하기 위해서 사용됨\n",
    "\n",
    "\n",
    "        피쳐를 다 때려넣고 교육 시키면 과대적합 가능성이 높다ㅓ\n",
    "\n",
    "\n",
    "        릿지 : 가중치 조절, 피쳐의 영향력을 낮춰 과대적합 억제\n",
    "        라쏘 : 계수값을 0으로 만들어 영향력을 없앤다.\n",
    "        엘라스틴 : 릿지 + 라쏘\n",
    "\n",
    "    파라미터\n",
    "        - 모델 파라미터\n",
    "            : fit() 학습 진행 후 설정되는 파라미터       \n",
    "            모델.파라미터명 _ \n",
    "        - 하이퍼 파라미터 \n",
    "            : 모델 인스턴스 생성 시 매개변수\n",
    "            : 모델 인스턴스 생성할 때 개발자가 값을 설정\n",
    "            : 모델 성능에 영향 미침  \n",
    "            (ex) 규제강도 alpha(비례), K개수, 학습횟수 max_iter\n",
    "                규제강도 C (alpha 역수, 반비례)\n",
    "\n",
    "\n",
    "    튜닝 \n",
    "    : 모델 성능을 높이는 작업\n",
    "    즉, 모델의 하이퍼 파라미터 값을 조절해서 성능 올리기\n",
    "\n",
    "    좋은 모델\n",
    "    - 일반화가 잘 된 모델\n",
    "    - 모델 복잡도 => 간소한 모델 (피쳐 수가 간소한 것)\n",
    "\n",
    "\n",
    "₀ ₁ \n"
   ]
  },
  {
   "cell_type": "markdown",
   "metadata": {},
   "source": [
    "## 0902 - 2\n",
    "    2진 분류기 \n",
    "        [0,1,2,3,4] 분류 5 * (5-1)/2 = 8개\n",
    "        0 ->      0vs1 0vs2 0vs3 0vs4\n",
    "        1 ->           1vs2 1vs3 1vs4\n",
    "        2 ->                2vs3 2vs4\n",
    "        3 ->                     3vs4\n",
    "        4 -> \n",
    "        이미 한 분류 및 자기 자신과의 분류는 제거.\n",
    "\n",
    "        [0,1,2,3,4,5,6,7,8,9] 10개 분류 -> 10 * (10-1)/2 = 45개\n",
    "\n",
    "     "
   ]
  },
  {
   "cell_type": "markdown",
   "metadata": {},
   "source": [
    "## 0903\n",
    " - 전처리 방법\n",
    "  A,B,C\n",
    "\n",
    "    모델 - 회귀 관련 모델 5개\n",
    "    전처리 A => 모델 5개 ==> 성능지표\n",
    "    전처리 B => 모델 5개 ==> 성능지표\n",
    "    전처리 C => 모델 5개 ==> 성능지표\n",
    "\n",
    "    튜닝\n",
    "\n",
    "    [일반화가 잘된 성능 좋은 모델]\n",
    "\n",
    "    데이터셋 공유\n",
    "    모델하나씩 맡고 튜닝까지. \n",
    "\n",
    "  Model \n",
    "  Voting 데이터\n",
    "  \n",
    "\n",
    "\n"
   ]
  },
  {
   "cell_type": "markdown",
   "metadata": {},
   "source": []
  },
  {
   "cell_type": "markdown",
   "metadata": {},
   "source": [
    "## 0904\n",
    "\n",
    "GridSearchCV(\n",
    "    refit : True or False 가장 좋은 파라미터 반복 \n",
    ")\n",
    "\n",
    "importances <- coef ... 예?\n",
    "\n",
    "\n",
    "DT\n",
    "C3.0\n",
    "C4.5\n",
    "C5.0\n",
    "CART 범주형, 수치형 ==> 모두 처리 회귀/분류\n",
    "    sklearn => 범주형 X ===> Encoding\n",
    "    * LabelEncoder   => 0,1 ...         1D : y, target\n",
    "    * OrdinalEncoder => 0, 1...         2D :    \n",
    "         \n",
    "    * OneHotEncoder  => 1이 하나인 패턴  2D : \n",
    "        순서가 아니라 그냥 단순 분류? 느낌이면 원핫쓰면 댐.\n",
    "\n",
    "\n",
    "OridinalEncoder (https://scikit-learn.org/stable/modules/generated/sklearn.preprocessing.OrdinalEncoder.html)\n",
    "    - 우리가 데이터를 준다. 2차원으로 . 준 데이터에서 성별 커럼에서\n",
    "    - ['male',1].['female',3],['female',2] 이면 각 인덱스 0과 1 따로 0 1 2번을 따로 메긴ㄷ다.\n",
    "    * 즉, [0,0],[1,2],[2,1] 이렇게 준다는 것 np.nan은 그대로 결측치 처리로 하는데.\n",
    "        * 그건 encoded_missing_value = -1 과같은 것으로 디폴트 지정 처리도 가능.\n",
    "    \n",
    "\n",
    "\n",
    "KNN\n",
    "Linear-model : LinearRegression => 다중(피쳐가 많은 것), 다항(곡선)\n",
    "                                => 과대적합 => 모델 직접 제어 즉, 규제 alpha 매개변수 0~ 강하게\n",
    "                                            : 릿지(영향력 낮은 피쳐의 coef_ 0에 가깝게)\n",
    "                                            라쏘(영향 낮은 피쳐 Coef_를 0으로.)\n",
    "                                            엘라스틱(라쏘 + 릿지)\n",
    "                                => 분류 ==> 선형식 결과 ==> 확률값으로 로지스틱회귀\n",
    "                                            OvR / OvA : 2진 분류기를 여러개 => 지만큼 c개면 c개.\n",
    "                                            OvO : 2진 분류기를 여러개 => 클래스 수(c) c(c-1) / 2\n",
    "\n",
    "Tree-model : DecisionTree (CART) => 회귀/분류 : 범주형/수치형\n",
    "            * 하이퍼 파라미터 많음\n",
    "\n",
    "sklean 에서는 범주형 미지원. 그래서 인코딩함\n",
    "수치형만 지원\n",
    "\n",
    "Ensemble-model : Voting, Bagging -> RandomForestC/R\n",
    "\n",
    "\n",
    "RandomForest(의사결정 트리 출력 결합 // 회귀 분류 모두 가능.)\n",
    "\n",
    "앙상블 방법 : 예측 집계 후 가장 인기있는 결과 도출\n",
    "    - 배깅"
   ]
  }
 ],
 "metadata": {
  "language_info": {
   "name": "python"
  }
 },
 "nbformat": 4,
 "nbformat_minor": 2
}
