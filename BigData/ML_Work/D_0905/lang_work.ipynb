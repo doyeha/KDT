{
 "cells": [
  {
   "cell_type": "markdown",
   "metadata": {},
   "source": [
    "##### 알파벳 기반 언어 식별 모델\n",
    " - 데이터셋 : lang.zip 사용해서 생성 -> csv, json, ...\n",
    " - 학습방법 : 지도학습 > 분류 - 다중분류\n",
    " - 알고리즘 : 다양하게"
   ]
  },
  {
   "cell_type": "markdown",
   "metadata": {},
   "source": [
    "[1] 모듈 로딩 및 데이터 준비"
   ]
  },
  {
   "cell_type": "code",
   "execution_count": 56,
   "metadata": {},
   "outputs": [],
   "source": [
    "# 모듈로딩\n",
    "import pandas as pd\n",
    "import numpy as np\n",
    "import os\n",
    "from collections import Counter "
   ]
  },
  {
   "cell_type": "code",
   "execution_count": 57,
   "metadata": {},
   "outputs": [],
   "source": [
    "# 데이터 파일\n",
    "TRAIN_PATH = '../data/lang/train/'\n",
    "TEST_PATH = '../data/lang/test/'\n",
    "TRAIN_CSV = '../data/lang/lang_train.csv'\n",
    "TEST_CSV = '../data/lang/lang_test.csv'"
   ]
  },
  {
   "cell_type": "code",
   "execution_count": 58,
   "metadata": {},
   "outputs": [
    {
     "name": "stdout",
     "output_type": "stream",
     "text": [
      "../data/lang/lang_train.csv파일이 없습니다\n"
     ]
    }
   ],
   "source": [
    "# 파일 읽기 => open() -> read() -> readline(), readlines() -> close()\n",
    "#          => with open() as 구문   close안해도 댐\n",
    "if not os.path.exists(TRAIN_CSV):   # 파일이 있는지 확인\n",
    "    print(f'{TRAIN_CSV}파일이 없습니다')\n",
    "else:\n",
    "    with open(TRAIN_CSV, mode='r') as f:\n",
    "        alldata = f.read()\n",
    "        print(f'[FILE_DATA] {alldata}')"
   ]
  },
  {
   "cell_type": "code",
   "execution_count": 59,
   "metadata": {},
   "outputs": [
    {
     "name": "stdout",
     "output_type": "stream",
     "text": [
      "en-1.txt ../data/lang/train/en-1.txt True\n",
      "Label => en\n",
      "all data => 5941\n",
      "alldata => the main henry ford museum building houses some of the classrooms for the henry ford academyhenry ford academy is the first charter school in the united states to be developed jointly by a global corporation, public education, and a major nonprofit cultural institution. the school is sponsored by the ford motor company, wayne county regional educational service agency and the henry ford museum and admits high school students. it is located in dearborn, michigan on the campus of the henry ford museum. enrollment is taken from a lottery in the area and totaled 467 in 2010.[1]freshman meet inside the main museum building in glass walled classrooms, while older students use a converted carousel building and pullman cars on a siding of the greenfield village railroad. classes are expected to include use of the museum artifacts, a tradition of the original village schools. when the museum was established in 1929, it included a school which served grades kindergarten to college/trade school ages. the last part of the original school closed in 1969.the henry ford learning institute is using the henry ford academy model for further charter schools including the power house high in chicago and alameda school for art + design in san antonio.the building received the international annual design award of the council of educational facilities planners international for 2001, the james d. macconnell award for outstanding new educational facilities. notable attendees include chris stroud and isaac sudut.see also[edit]list of public school academy districts in michiganreferences[edit]^ technology plan, henry ford academy, 2010]external links[edit]henry ford academy websitecefpivtehigh schools in wayne county, michiganpublic high schoolsdetroit public schoolsneighborhood schoolscentralcodydenbyeast english villagefordkingmumfordnorthwesternosbornpershingsoutheasternwestern internationalalternative schoolsacademy of the americasbarsamian preparatory centercass technicalcommunication & media artscrosmandavis aerospacedetroit international academy for young womendetroit technology high schooldetroit school of artsdouglass academymillennium schoolrenaissancetrombly alternativewest side academy alternative educationwhite centerclosed or mergedchadseycooleycrockettdetroit cityfinneyketteringmackenziemurray-wrightnortheasternnorthernredfordsouthwesterncatherine ferguson academy (alternative)other public schoolsneighborhood schoolsallen parkannapolis (dearborn heights)carlson (gibraltar)winston churchill (livonia)clarencevillecrestwood (dearborn heights)dearbornecorse communityedsel ford (dearborn)flat rockfordson (dearborn)benjamin franklin (livonia)garden cityjohn glenn (westland)grosse ilegrosse pointe northgrosse pointe southhamtramckharper woodsjohn f. kennedy (taylor)lincoln parkmelvindalenorthvilleplymouth-canton educational park (canton)plymouth (canton)redford unionrobichaud (dearborn heights)river rougeromulustheodore roosevelt (wyandotte)southgate andersonadlai e. stevenson (livonia)thurston (redford)trentonharry s. truman (taylor)wayne memorialwoodhaven (brownstown township)alternative schoolsburger school for students with autism (inkster)dearborn center for math, science and technologydearborn magnethenry ford collegiate academy (dearborn)closedhighland park communityinkstercharter schoolschandler park academy (harper woods)cesar chavez academy (detroit)clara b. ford academy (dearborn heights)consortium college prep (detroit)cornerstone schools high school (detroit)henry ford academy (dearborn)plymouth educational center (detroit)jalen rose leadership academy (detroit)universal academy (detroit)universal learning academy (westland)university prep schools (detroit)closedcatherine ferguson academy (detroit)independentsecular privateuniversity liggett schoolreligiouscabrinidetroit cristo reyhuron valley lutheraninter-city baptist schoolladywoodlutheran high westlandloyolauniversity of detroit jesuitclosed or mergedholy redeemernotre dameour lady of mount carmelst. floriantrinity catholicmoveddetroit catholic central (to novi in 2005)regina (to warren in 2007)this list is incomplete.vtemetro detroittopicsarchitectureculturedetroit rivereconomyfreewayshistoryhistoric placesinternational riverfrontlake st. clairmediamusicparks and beachespeopleperforming artsskyscraperssportstourismtransportationdetroitdowntown detroitmidtown detroitnew centermunicipalitiesover 80,000canton townshipclinton townshipdearbornlivoniasterling heightstroywarrenwestlandmunicipalities40,000 to 80,000bloomfield townshipchesterfield townshipdearborn heightsfarmington hillsgrosse pointemacomb townshipnovipontiacredford townshiprochester hillsroyal oakst. clair shoresshelby charter townshipsouthfieldtaylorwaterford townshipwest bloomfield townshipcultural enclavesann arborauburn hillsbirminghambloomfield hillsdearborndowntown detroitgrosse pointemidtown detroitnew centernorthvillerochesterroyal oaksouthfieldtroyplymouthsatellite citiesann arborbrightonflinthowelllapeermonroeport hurontoledowindsorypsilanticounties in msalapeerlivingstonmacomboaklandst. clairwaynecounties in csageneseemonroewashtenawsoutheast michigan united statescoordinates: 42°18′11.9″n 83°13′52″w﻿ / ﻿42.303306°n 83.23111°w﻿ / 42.303306; -83.23111this michigan school-related article is a stub. you can help wikipedia by expanding it.vte\n",
      "all data => 5358\n"
     ]
    }
   ],
   "source": [
    "# 폴더 안에 파일을 가져오기\n",
    "files = os.listdir(TRAIN_PATH)    # 파일 리스트를 준다.\n",
    "\n",
    "for file in files:\n",
    "    print(file, TRAIN_PATH + file, os.path.exists(TRAIN_PATH+file))\n",
    "    label = file[:2]\n",
    "    print(f'Label => {label}')\n",
    "\n",
    "    with open(TRAIN_PATH+file, mode='r') as f:\n",
    "        alldata = f.read()\n",
    "    print(f'all data => {len(alldata)}')\n",
    "\n",
    "    # print(f'alldata => {alldata}')\n",
    "    \n",
    "    # 대소문자 통일\n",
    "    alldata = alldata.lower()\n",
    "    # print(f'alldata => {alldata}')\n",
    "\n",
    "    # 알파벳 아닌 문자들 제거\n",
    "    alldata = alldata.replace('\\n','')\n",
    "    print(f'alldata => {alldata}')\n",
    "\n",
    "    for ch in alldata:\n",
    "        if ord('a') > ord(ch) >  ord('z'):\n",
    "            alldata = alldata.replace(ch,'')\n",
    "    print(f'all data => {len(alldata)}')\n",
    "    # break\n",
    "\n",
    "        # print(f'[File Data] {f.read()}')\n",
    "        # pass\n",
    "\n",
    "    # a ~ z 개수 카운팅 \n",
    "    # data = {}\n",
    "    # for ch in alldata:\n",
    "    #     if ch in data:\n",
    "    #         data[ch] = data[ch] + 1\n",
    "    #     else:\n",
    "    #         data[ch] = 1\n",
    "    # print(data)\n",
    "\n",
    "    with open(TRAIN_CSV, mode='a') as f:\n",
    "        cc = dicte(Ccount(alldata)) as \\er\n",
    "    break\n"
   ]
  },
  {
   "cell_type": "code",
   "execution_count": 60,
   "metadata": {},
   "outputs": [
    {
     "name": "stdout",
     "output_type": "stream",
     "text": [
      "count_data =>  Counter({' ': 527, 'e': 484, 'o': 412, 't': 370, 'r': 357, 'n': 356, 'a': 349, 'i': 340, 's': 282, 'l': 247, 'd': 212, 'c': 210, 'h': 201, 'm': 121, 'u': 119, 'y': 92, 'g': 88, 'p': 76, 'f': 72, 'w': 65, 'b': 59, 'v': 45, '(': 34, ')': 34, '.': 28, '0': 26, 'k': 25, '1': 16, ',': 15, '2': 12, '3': 12, 'j': 8, '8': 6, '4': 5, ']': 5, '9': 5, '-': 5, '6': 4, '[': 4, '°': 4, 'x': 3, '/': 3, '\\ufeff': 3, '7': 2, 'z': 2, '5': 2, '\\xa0': 2, '′': 2, '″': 2, '+': 1, '^': 1, '&': 1, ':': 1, ';': 1})\n"
     ]
    }
   ],
   "source": [
    "count_data = Counter(alldata)\n",
    "print('count_data => ', count_data)\n",
    "# print(data)"
   ]
  },
  {
   "cell_type": "code",
   "execution_count": 62,
   "metadata": {},
   "outputs": [],
   "source": [
    "# 파일쓰기 => mode='w' : 파일이 존재하면 덮어쓰기, 파일이 없으면 생성 후 쓰기\n",
    "# 파일쓰기 => mode='a' : 파일이 존재하면 추가하기, 파일이 없으면 생성 후 쓰기\n",
    "with open('../data/lang_train.csv', mode='r') as f:\n",
    "    with open('kkk.csv', mode='w') as wf:\n",
    "        data = f.read()\n",
    "        wf.write(data)"
   ]
  },
  {
   "cell_type": "code",
   "execution_count": null,
   "metadata": {},
   "outputs": [],
   "source": []
  },
  {
   "cell_type": "code",
   "execution_count": null,
   "metadata": {},
   "outputs": [],
   "source": [
    "# 폴더 안에 파일을 가져오기\n",
    "def make_dataset(dir_path, flle_path):\n",
    "    files = os.listdir(dir_path)    # 파일 리스트를 준다.\n",
    "\n",
    "    for file in files:\n",
    "        print(file, dir_path + file, os.path.exists(dir_path+file))\n",
    "        label = file[:2]\n",
    "        print(f'Label => {label}')\n",
    "\n",
    "        with open(dir_path+file, mode='r') as f:\n",
    "            alldata = f.read()\n",
    "        print(f'all data => {len(alldata)}')\n",
    "\n",
    "        # print(f'alldata => {alldata}')\n",
    "        \n",
    "        # 대소문자 통일\n",
    "        alldata = alldata.lower()\n",
    "        # print(f'alldata => {alldata}')\n",
    "\n",
    "        # 알파벳 아닌 문자들 제거\n",
    "        alldata = alldata.replace('\\n','')\n",
    "        print(f'alldata => {alldata}')\n",
    "\n",
    "        for ch in alldata:\n",
    "            if ord('a') > ord(ch) >  ord('z'):\n",
    "                alldata = alldata.replace(ch,'')\n",
    "        print(f'all data => {len(alldata)}')\n",
    "        # break\n",
    "\n",
    "            # print(f'[File Data] {f.read()}')\n",
    "            # pass\n",
    "\n",
    "        # a ~ z 개수 카운팅 \n",
    "        # data = {}\n",
    "        # for ch in alldata:\n",
    "        #     if ch in data:\n",
    "        #         data[ch] = data[ch] + 1\n",
    "        #     else:\n",
    "        #         data[ch] = 1\n",
    "        # print(data)\n",
    "\n",
    "        with open(TRAIN_CSV, mode='a') as f:\n",
    "            cc = dict(Counter(alldata))\n",
    "            f.write(label + ',')\n",
    "            f.write(','.join([str(value) for value in cc.values()]) + '\\n')\n",
    "        # break\n",
    "\n",
    "        with open(file_path, mode='a') as f:\n",
    "            a_z = []\n",
    "            for _ in range(ord('a'), ord('z')+1):\n",
    "                cnt = alldata.count(chr(_))\n",
    "                a_z.append(str(cnt/len(alldata)))\n",
    "\n",
    "            f.write(label+',')\n",
    "            f.write(','.join(a_z)+'\\n')"
   ]
  },
  {
   "cell_type": "code",
   "execution_count": null,
   "metadata": {},
   "outputs": [],
   "source": [
    "make_dataset(TRAIN_PATH, TRAIN_CSV)\n",
    "make_dataset(TEST_PATH, TEST_CSV)"
   ]
  },
  {
   "cell_type": "code",
   "execution_count": 64,
   "metadata": {},
   "outputs": [],
   "source": []
  }
 ],
 "metadata": {
  "kernelspec": {
   "display_name": "ML_38",
   "language": "python",
   "name": "python3"
  },
  "language_info": {
   "codemirror_mode": {
    "name": "ipython",
    "version": 3
   },
   "file_extension": ".py",
   "mimetype": "text/x-python",
   "name": "python",
   "nbconvert_exporter": "python",
   "pygments_lexer": "ipython3",
   "version": "3.8.19"
  }
 },
 "nbformat": 4,
 "nbformat_minor": 2
}
