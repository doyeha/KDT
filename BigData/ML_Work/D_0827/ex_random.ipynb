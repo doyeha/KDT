{
 "cells": [
  {
   "cell_type": "markdown",
   "metadata": {},
   "source": [
    "#### 임의의 숫자 즉, 난수 추출\n",
    " - random 모듈 존재\n",
    " - 0.0~1.0 실수 추출\n",
    " - n ~ m 정수 추출\n",
    " - random 값 고정 ==> seed 기능"
   ]
  },
  {
   "cell_type": "code",
   "execution_count": 2,
   "metadata": {},
   "outputs": [],
   "source": [
    "import random"
   ]
  },
  {
   "cell_type": "code",
   "execution_count": 3,
   "metadata": {},
   "outputs": [
    {
     "data": {
      "text/plain": [
       "6"
      ]
     },
     "execution_count": 3,
     "metadata": {},
     "output_type": "execute_result"
    }
   ],
   "source": [
    "random.randint(1,10)"
   ]
  },
  {
   "cell_type": "code",
   "execution_count": 4,
   "metadata": {},
   "outputs": [
    {
     "data": {
      "text/plain": [
       "'\\n학습 시킬 때는 랜덤을 통해 제대로 잘 되었는지 확인하는데, 이게 매번 완전 랜덤으로 하면 모데링 좋은건지 확인이 정확히 불가능하다.\\n그러니 랜덤을 하더라도 랜덤된 수가 고정되어야하기 때문에 seed를 사요ㅕㅇ한다.\\n'"
      ]
     },
     "execution_count": 4,
     "metadata": {},
     "output_type": "execute_result"
    }
   ],
   "source": [
    "### 학습을 시킬때는 \n",
    "\"\"\"\n",
    "학습 시킬 때는 랜덤을 통해 제대로 잘 되었는지 확인하는데, 이게 매번 완전 랜덤으로 하면 모데링 좋은건지 확인이 정확히 불가능하다.\n",
    "그러니 랜덤을 하더라도 랜덤된 수가 고정되어야하기 때문에 seed를 사요ㅕㅇ한다.\n",
    "\"\"\"\n",
    "###"
   ]
  },
  {
   "cell_type": "code",
   "execution_count": 5,
   "metadata": {},
   "outputs": [
    {
     "name": "stdout",
     "output_type": "stream",
     "text": [
      "0.5714025946899135\n",
      "0.4288890546751146\n",
      "0.5780913011344704\n",
      "0.20609823213950174\n",
      "0.81332125135732\n",
      "0.8235888725334455\n",
      "0.6534725339011758\n",
      "0.16022955651881965\n",
      "0.5206693596399246\n",
      "0.32777281162209315\n"
     ]
    }
   ],
   "source": [
    "random.seed(10)\n",
    "for _ in range(10):\n",
    "    print( random.random())"
   ]
  },
  {
   "cell_type": "code",
   "execution_count": 6,
   "metadata": {},
   "outputs": [],
   "source": [
    "random.seed(10)"
   ]
  },
  {
   "cell_type": "code",
   "execution_count": 7,
   "metadata": {},
   "outputs": [],
   "source": [
    "X = [[10],[3],[9],[5],[8],[7],\n",
    "     [12],[67],[91],[45],[2],[17]]\n",
    "\n",
    "y = [1,2,3,4,5,6,7,8,9,10,11,12]"
   ]
  },
  {
   "cell_type": "code",
   "execution_count": 8,
   "metadata": {},
   "outputs": [],
   "source": [
    "from sklearn.model_selection import train_test_split"
   ]
  },
  {
   "cell_type": "code",
   "execution_count": 9,
   "metadata": {},
   "outputs": [
    {
     "data": {
      "text/plain": [
       "[[[7], [17], [91], [2], [5], [3], [10], [8], [45]],\n",
       " [[9], [12], [67]],\n",
       " [6, 12, 9, 11, 4, 2, 1, 5, 10],\n",
       " [3, 7, 8]]"
      ]
     },
     "execution_count": 9,
     "metadata": {},
     "output_type": "execute_result"
    }
   ],
   "source": [
    "# 섞어서 학습용/테스트용 데이터셋 분리\n",
    "# random에서 seed 설정 역할 매개변수 -> random_state\n",
    "\n",
    "# X_train, X_test, y_train, y_test = train_test_split(X,y, shuffle=False)\n",
    "\n",
    "X_train, X_test, y_train, y_test = train_test_split(X,y, random_state=10)\n",
    "# random_state=10 => random.seed 역할. \n",
    "\n",
    "train_test_split(X,y, random_state=10)"
   ]
  },
  {
   "cell_type": "code",
   "execution_count": 10,
   "metadata": {},
   "outputs": [
    {
     "name": "stdout",
     "output_type": "stream",
     "text": [
      "X : [[10], [3], [9], [5], [8], [7], [12], [67], [91], [45], [2], [17]]\n",
      "X_train : [[7], [17], [91], [2], [5], [3], [10], [8], [45]]\n",
      "X_test : [[9], [12], [67]]\n"
     ]
    }
   ],
   "source": [
    "print(f'X : {X}')\n",
    "print(f'X_train : {X_train}')\n",
    "print(f'X_test : {X_test}')"
   ]
  }
 ],
 "metadata": {
  "kernelspec": {
   "display_name": "ML_38",
   "language": "python",
   "name": "python3"
  },
  "language_info": {
   "codemirror_mode": {
    "name": "ipython",
    "version": 3
   },
   "file_extension": ".py",
   "mimetype": "text/x-python",
   "name": "python",
   "nbconvert_exporter": "python",
   "pygments_lexer": "ipython3",
   "version": "3.8.19"
  }
 },
 "nbformat": 4,
 "nbformat_minor": 2
}
