{
 "cells": [
  {
   "cell_type": "markdown",
   "metadata": {},
   "source": [
    "#### 결정트리 알고리즘 기반 모델\n",
    " - 데이터셋의 피쳐 (특성)을 기준으로 데이터를 분류하는 알고리즘\n",
    " - 질문방식으로 Yes/No 결과에 따라 데이터셋 분리가 됨\n",
    " - 장점 : 스케일링이나 정규화 불필요 ==> 성능의 영향 X, 쉬운 알고리즘\n",
    " - 단점 : 과대작업 ==> 해결을 위한 많은 하이퍼 파라미터 존재!\n",
    " - 다른 ML 알고리즘에 비해 성능이 좋지 않음 ==> 단, 여러 개의 DT가 모이면 성능 강해짐\n",
    "    * 앙상블에 주로 사용됨."
   ]
  },
  {
   "cell_type": "markdown",
   "metadata": {},
   "source": [
    "[1] 모듈 로딩 및 데이터 준비"
   ]
  },
  {
   "cell_type": "code",
   "execution_count": 2,
   "metadata": {},
   "outputs": [],
   "source": [
    "# 모듈 로딩\n",
    "import pandas as pd\n",
    "import numpy as np\n",
    "from sklearn.datasets import load_iris"
   ]
  },
  {
   "cell_type": "code",
   "execution_count": 3,
   "metadata": {},
   "outputs": [
    {
     "name": "stdout",
     "output_type": "stream",
     "text": [
      "featureDF : (150, 4), 2D\n",
      "targetSR : (150,), 1D\n"
     ]
    }
   ],
   "source": [
    "# 데이터 로딩\n",
    "featureDF, targetSR = load_iris(as_frame=True, return_X_y=True)\n",
    "\n",
    "print(f'featureDF : {featureDF.shape}, {featureDF.ndim}D')\n",
    "print(f'targetSR : {targetSR.shape}, {targetSR.ndim}D')"
   ]
  },
  {
   "cell_type": "markdown",
   "metadata": {},
   "source": [
    "[2] 학습용 데이터셋 준비"
   ]
  },
  {
   "cell_type": "code",
   "execution_count": 4,
   "metadata": {},
   "outputs": [],
   "source": [
    "from sklearn.model_selection import train_test_split\n",
    "from sklearn.tree import DecisionTreeClassifier"
   ]
  },
  {
   "cell_type": "code",
   "execution_count": 5,
   "metadata": {},
   "outputs": [],
   "source": [
    "X_train, X_test, y_train, y_test = train_test_split(featureDF, targetSR, random_state=10, stratify=targetSR)"
   ]
  },
  {
   "cell_type": "code",
   "execution_count": 6,
   "metadata": {},
   "outputs": [
    {
     "name": "stdout",
     "output_type": "stream",
     "text": [
      "X_train : (112, 4), 2D      y_train : (112,), 1D\n",
      "X_test : (38, 4), 2D      y_test : (38,), 1D\n"
     ]
    }
   ],
   "source": [
    "print(f'X_train : {X_train.shape}, {X_train.ndim}D      y_train : {y_train.shape}, {y_train.ndim}D')\n",
    "print(f'X_test : {X_test.shape}, {X_test.ndim}D      y_test : {y_test.shape}, {y_test.ndim}D')"
   ]
  },
  {
   "cell_type": "markdown",
   "metadata": {},
   "source": [
    "[3] 학습 - 기본 학습"
   ]
  },
  {
   "cell_type": "code",
   "execution_count": 7,
   "metadata": {},
   "outputs": [
    {
     "data": {
      "text/html": [
       "<style>#sk-container-id-1 {color: black;}#sk-container-id-1 pre{padding: 0;}#sk-container-id-1 div.sk-toggleable {background-color: white;}#sk-container-id-1 label.sk-toggleable__label {cursor: pointer;display: block;width: 100%;margin-bottom: 0;padding: 0.3em;box-sizing: border-box;text-align: center;}#sk-container-id-1 label.sk-toggleable__label-arrow:before {content: \"▸\";float: left;margin-right: 0.25em;color: #696969;}#sk-container-id-1 label.sk-toggleable__label-arrow:hover:before {color: black;}#sk-container-id-1 div.sk-estimator:hover label.sk-toggleable__label-arrow:before {color: black;}#sk-container-id-1 div.sk-toggleable__content {max-height: 0;max-width: 0;overflow: hidden;text-align: left;background-color: #f0f8ff;}#sk-container-id-1 div.sk-toggleable__content pre {margin: 0.2em;color: black;border-radius: 0.25em;background-color: #f0f8ff;}#sk-container-id-1 input.sk-toggleable__control:checked~div.sk-toggleable__content {max-height: 200px;max-width: 100%;overflow: auto;}#sk-container-id-1 input.sk-toggleable__control:checked~label.sk-toggleable__label-arrow:before {content: \"▾\";}#sk-container-id-1 div.sk-estimator input.sk-toggleable__control:checked~label.sk-toggleable__label {background-color: #d4ebff;}#sk-container-id-1 div.sk-label input.sk-toggleable__control:checked~label.sk-toggleable__label {background-color: #d4ebff;}#sk-container-id-1 input.sk-hidden--visually {border: 0;clip: rect(1px 1px 1px 1px);clip: rect(1px, 1px, 1px, 1px);height: 1px;margin: -1px;overflow: hidden;padding: 0;position: absolute;width: 1px;}#sk-container-id-1 div.sk-estimator {font-family: monospace;background-color: #f0f8ff;border: 1px dotted black;border-radius: 0.25em;box-sizing: border-box;margin-bottom: 0.5em;}#sk-container-id-1 div.sk-estimator:hover {background-color: #d4ebff;}#sk-container-id-1 div.sk-parallel-item::after {content: \"\";width: 100%;border-bottom: 1px solid gray;flex-grow: 1;}#sk-container-id-1 div.sk-label:hover label.sk-toggleable__label {background-color: #d4ebff;}#sk-container-id-1 div.sk-serial::before {content: \"\";position: absolute;border-left: 1px solid gray;box-sizing: border-box;top: 0;bottom: 0;left: 50%;z-index: 0;}#sk-container-id-1 div.sk-serial {display: flex;flex-direction: column;align-items: center;background-color: white;padding-right: 0.2em;padding-left: 0.2em;position: relative;}#sk-container-id-1 div.sk-item {position: relative;z-index: 1;}#sk-container-id-1 div.sk-parallel {display: flex;align-items: stretch;justify-content: center;background-color: white;position: relative;}#sk-container-id-1 div.sk-item::before, #sk-container-id-1 div.sk-parallel-item::before {content: \"\";position: absolute;border-left: 1px solid gray;box-sizing: border-box;top: 0;bottom: 0;left: 50%;z-index: -1;}#sk-container-id-1 div.sk-parallel-item {display: flex;flex-direction: column;z-index: 1;position: relative;background-color: white;}#sk-container-id-1 div.sk-parallel-item:first-child::after {align-self: flex-end;width: 50%;}#sk-container-id-1 div.sk-parallel-item:last-child::after {align-self: flex-start;width: 50%;}#sk-container-id-1 div.sk-parallel-item:only-child::after {width: 0;}#sk-container-id-1 div.sk-dashed-wrapped {border: 1px dashed gray;margin: 0 0.4em 0.5em 0.4em;box-sizing: border-box;padding-bottom: 0.4em;background-color: white;}#sk-container-id-1 div.sk-label label {font-family: monospace;font-weight: bold;display: inline-block;line-height: 1.2em;}#sk-container-id-1 div.sk-label-container {text-align: center;}#sk-container-id-1 div.sk-container {/* jupyter's `normalize.less` sets `[hidden] { display: none; }` but bootstrap.min.css set `[hidden] { display: none !important; }` so we also need the `!important` here to be able to override the default hidden behavior on the sphinx rendered scikit-learn.org. See: https://github.com/scikit-learn/scikit-learn/issues/21755 */display: inline-block !important;position: relative;}#sk-container-id-1 div.sk-text-repr-fallback {display: none;}</style><div id=\"sk-container-id-1\" class=\"sk-top-container\"><div class=\"sk-text-repr-fallback\"><pre>DecisionTreeClassifier(random_state=10)</pre><b>In a Jupyter environment, please rerun this cell to show the HTML representation or trust the notebook. <br />On GitHub, the HTML representation is unable to render, please try loading this page with nbviewer.org.</b></div><div class=\"sk-container\" hidden><div class=\"sk-item\"><div class=\"sk-estimator sk-toggleable\"><input class=\"sk-toggleable__control sk-hidden--visually\" id=\"sk-estimator-id-1\" type=\"checkbox\" checked><label for=\"sk-estimator-id-1\" class=\"sk-toggleable__label sk-toggleable__label-arrow\">DecisionTreeClassifier</label><div class=\"sk-toggleable__content\"><pre>DecisionTreeClassifier(random_state=10)</pre></div></div></div></div></div>"
      ],
      "text/plain": [
       "DecisionTreeClassifier(random_state=10)"
      ]
     },
     "execution_count": 7,
     "metadata": {},
     "output_type": "execute_result"
    }
   ],
   "source": [
    "# 모델 인스턴스 생성\n",
    "dt_model = DecisionTreeClassifier(random_state=10)\n",
    "dt_model.fit(X_train, y_train)"
   ]
  },
  {
   "cell_type": "code",
   "execution_count": 8,
   "metadata": {},
   "outputs": [
    {
     "name": "stdout",
     "output_type": "stream",
     "text": [
      "[dt_model.classes_] [0 1 2]\n",
      "[dt_model.n_classes_] 3\n",
      "[dt_model.max_features] 4\n",
      "[dt_model.feature_names_in_] ['sepal length (cm)' 'sepal width (cm)' 'petal length (cm)'\n",
      " 'petal width (cm)']\n",
      "[dt_model.feature_importances_] [0.03125249 0.         0.06844775 0.90029976]\n"
     ]
    }
   ],
   "source": [
    "# 모델 파라미터 : 학습fit() 후에 학습용 데이터셋을 기반으로 설정된 값들\n",
    "print(f'[dt_model.classes_] {dt_model.classes_}')\n",
    "print(f'[dt_model.n_classes_] {dt_model.n_classes_}')\n",
    "print(f'[dt_model.max_features] {dt_model.max_features_}')\n",
    "print(f'[dt_model.feature_names_in_] {dt_model.feature_names_in_}')\n",
    "print(f'[dt_model.feature_importances_] {dt_model.feature_importances_}')"
   ]
  },
  {
   "cell_type": "markdown",
   "metadata": {},
   "source": [
    "# 성능 체크"
   ]
  },
  {
   "cell_type": "code",
   "execution_count": 9,
   "metadata": {},
   "outputs": [],
   "source": [
    "# 학습용 데이터셋에 대한 성능\n",
    "train_score = dt_model.score(X_train, y_train)\n",
    "# 테스트용 데이터셋에 대한 성능\n",
    "test_score = dt_model.score(X_test, y_test)"
   ]
  },
  {
   "cell_type": "code",
   "execution_count": 10,
   "metadata": {},
   "outputs": [
    {
     "name": "stdout",
     "output_type": "stream",
     "text": [
      "train_score : test_score = 1.0 : 1.0\n"
     ]
    }
   ],
   "source": [
    "print(f'train_score : test_score = {train_score} : {test_score}')"
   ]
  },
  {
   "cell_type": "code",
   "execution_count": 11,
   "metadata": {},
   "outputs": [],
   "source": [
    "# 데이터 부족, cross_validate ...."
   ]
  },
  {
   "cell_type": "markdown",
   "metadata": {},
   "source": [
    "[4] 교차검증 => 데이터셋 부족 해결 및 과대적합을 회피"
   ]
  },
  {
   "cell_type": "code",
   "execution_count": 12,
   "metadata": {},
   "outputs": [],
   "source": [
    "from sklearn.model_selection import StratifiedKFold, cross_validate"
   ]
  },
  {
   "cell_type": "code",
   "execution_count": 13,
   "metadata": {},
   "outputs": [],
   "source": [
    "# 교차검증 준비 ==> 모델 인스턴스, trainDS, cv=5 [기본]\n",
    "dt_model2 = DecisionTreeClassifier(random_state=1)\n",
    "result =cross_validate(dt_model2, X_train, y_train,\n",
    "               return_train_score=True,\n",
    "               return_estimator=True)"
   ]
  },
  {
   "cell_type": "code",
   "execution_count": 14,
   "metadata": {},
   "outputs": [
    {
     "data": {
      "text/html": [
       "<div>\n",
       "<style scoped>\n",
       "    .dataframe tbody tr th:only-of-type {\n",
       "        vertical-align: middle;\n",
       "    }\n",
       "\n",
       "    .dataframe tbody tr th {\n",
       "        vertical-align: top;\n",
       "    }\n",
       "\n",
       "    .dataframe thead th {\n",
       "        text-align: right;\n",
       "    }\n",
       "</style>\n",
       "<table border=\"1\" class=\"dataframe\">\n",
       "  <thead>\n",
       "    <tr style=\"text-align: right;\">\n",
       "      <th></th>\n",
       "      <th>fit_time</th>\n",
       "      <th>score_time</th>\n",
       "      <th>estimator</th>\n",
       "      <th>test_score</th>\n",
       "      <th>train_score</th>\n",
       "    </tr>\n",
       "  </thead>\n",
       "  <tbody>\n",
       "    <tr>\n",
       "      <th>0</th>\n",
       "      <td>0.003014</td>\n",
       "      <td>0.002522</td>\n",
       "      <td>DecisionTreeClassifier(random_state=1)</td>\n",
       "      <td>0.956522</td>\n",
       "      <td>1.0</td>\n",
       "    </tr>\n",
       "    <tr>\n",
       "      <th>1</th>\n",
       "      <td>0.003008</td>\n",
       "      <td>0.001002</td>\n",
       "      <td>DecisionTreeClassifier(random_state=1)</td>\n",
       "      <td>0.956522</td>\n",
       "      <td>1.0</td>\n",
       "    </tr>\n",
       "    <tr>\n",
       "      <th>2</th>\n",
       "      <td>0.001508</td>\n",
       "      <td>0.001016</td>\n",
       "      <td>DecisionTreeClassifier(random_state=1)</td>\n",
       "      <td>0.954545</td>\n",
       "      <td>1.0</td>\n",
       "    </tr>\n",
       "    <tr>\n",
       "      <th>3</th>\n",
       "      <td>0.002015</td>\n",
       "      <td>0.002006</td>\n",
       "      <td>DecisionTreeClassifier(random_state=1)</td>\n",
       "      <td>0.863636</td>\n",
       "      <td>1.0</td>\n",
       "    </tr>\n",
       "    <tr>\n",
       "      <th>4</th>\n",
       "      <td>0.001508</td>\n",
       "      <td>0.001015</td>\n",
       "      <td>DecisionTreeClassifier(random_state=1)</td>\n",
       "      <td>0.909091</td>\n",
       "      <td>1.0</td>\n",
       "    </tr>\n",
       "  </tbody>\n",
       "</table>\n",
       "</div>"
      ],
      "text/plain": [
       "   fit_time  score_time                               estimator  test_score  \\\n",
       "0  0.003014    0.002522  DecisionTreeClassifier(random_state=1)    0.956522   \n",
       "1  0.003008    0.001002  DecisionTreeClassifier(random_state=1)    0.956522   \n",
       "2  0.001508    0.001016  DecisionTreeClassifier(random_state=1)    0.954545   \n",
       "3  0.002015    0.002006  DecisionTreeClassifier(random_state=1)    0.863636   \n",
       "4  0.001508    0.001015  DecisionTreeClassifier(random_state=1)    0.909091   \n",
       "\n",
       "   train_score  \n",
       "0          1.0  \n",
       "1          1.0  \n",
       "2          1.0  \n",
       "3          1.0  \n",
       "4          1.0  "
      ]
     },
     "execution_count": 14,
     "metadata": {},
     "output_type": "execute_result"
    }
   ],
   "source": [
    "# dict => DataFrame\n",
    "resultDF = pd.DataFrame(result)\n",
    "resultDF"
   ]
  },
  {
   "cell_type": "markdown",
   "metadata": {},
   "source": [
    "[5] 성능 향상 위한 튜닝 ==> 하이퍼파라미터 설정\n",
    " - 단점 : 과대적합\n",
    "    * max_depth, min_samples_leaf, .... ==> 많음\n",
    "    "
   ]
  },
  {
   "cell_type": "code",
   "execution_count": 15,
   "metadata": {},
   "outputs": [],
   "source": [
    "from sklearn.model_selection import GridSearchCV"
   ]
  },
  {
   "cell_type": "code",
   "execution_count": 16,
   "metadata": {},
   "outputs": [],
   "source": [
    "#  하이퍼 파라미터  dit 생성\n",
    "params = {'max_depth':[4,3,2,1],\n",
    "       'min_samples_leaf' : [5,3,2]}"
   ]
  },
  {
   "cell_type": "code",
   "execution_count": 1,
   "metadata": {},
   "outputs": [
    {
     "ename": "NameError",
     "evalue": "name 'GridSearchCV' is not defined",
     "output_type": "error",
     "traceback": [
      "\u001b[1;31m---------------------------------------------------------------------------\u001b[0m",
      "\u001b[1;31mNameError\u001b[0m                                 Traceback (most recent call last)",
      "Cell \u001b[1;32mIn[1], line 1\u001b[0m\n\u001b[1;32m----> 1\u001b[0m gscv \u001b[38;5;241m=\u001b[39m \u001b[43mGridSearchCV\u001b[49m(DecisionTreeClassifier(), param_grid\u001b[38;5;241m=\u001b[39mparams, refit\u001b[38;5;241m=\u001b[39m\u001b[38;5;28;01mTrue\u001b[39;00m)\n\u001b[0;32m      2\u001b[0m gscv\u001b[38;5;241m.\u001b[39mfit(X_train, y_train)\n",
      "\u001b[1;31mNameError\u001b[0m: name 'GridSearchCV' is not defined"
     ]
    }
   ],
   "source": [
    "gscv =(DecisionTreeClassifier(), param_grid=params, refit=True)\n",
    "gscv.fit(X_train, y_train)"
   ]
  },
  {
   "cell_type": "code",
   "execution_count": 18,
   "metadata": {},
   "outputs": [
    {
     "name": "stdout",
     "output_type": "stream",
     "text": [
      "[gscv.best_params_] {'max_depth': 4, 'min_samples_leaf': 2}\n",
      "[gscv.best_score_] 0.9371541501976285\n",
      "[gscv.best_estimator_] DecisionTreeClassifier(max_depth=4, min_samples_leaf=2)\n"
     ]
    }
   ],
   "source": [
    "# 모델 파라미터\n",
    "print(f'[gscv.best_params_] {gscv.best_params_}')\n",
    "print(f'[gscv.best_score_] {gscv.best_score_}')\n",
    "print(f'[gscv.best_estimator_] {gscv.best_estimator_}')\n",
    "# print(f'[gscv.cv_results_] {gscv.cv_results_}')\n",
    "\n",
    "cv_resultDF = pd.DataFrame(gscv.cv_results_)"
   ]
  },
  {
   "cell_type": "markdown",
   "metadata": {},
   "source": [
    "- 주요 피쳐 시각화"
   ]
  },
  {
   "cell_type": "code",
   "execution_count": 19,
   "metadata": {},
   "outputs": [
    {
     "name": "stdout",
     "output_type": "stream",
     "text": [
      "[best_model.max_depth] : 4\n",
      "[best_model.min_samples_leaf] : 2\n"
     ]
    }
   ],
   "source": [
    "# 가장 좋은 모델\n",
    "best_model = gscv.best_estimator_\n",
    "print(f'[best_model.max_depth] : {best_model.max_depth}')\n",
    "print(f'[best_model.min_samples_leaf] : {best_model.min_samples_leaf}')"
   ]
  },
  {
   "cell_type": "code",
   "execution_count": 20,
   "metadata": {},
   "outputs": [
    {
     "data": {
      "text/plain": [
       "(array([0.01321873, 0.        , 0.07164651, 0.91513476]), 4)"
      ]
     },
     "execution_count": 20,
     "metadata": {},
     "output_type": "execute_result"
    }
   ],
   "source": [
    "# 피쳐 중요도 및 개수\n",
    "best_model.feature_importances_, best_model.n_features_in_"
   ]
  },
  {
   "cell_type": "code",
   "execution_count": 49,
   "metadata": {},
   "outputs": [
    {
     "data": {
      "text/plain": [
       "4"
      ]
     },
     "execution_count": 49,
     "metadata": {},
     "output_type": "execute_result"
    }
   ],
   "source": [
    "best_model.n_features_in_"
   ]
  },
  {
   "cell_type": "code",
   "execution_count": 21,
   "metadata": {},
   "outputs": [
    {
     "data": {
      "image/png": "[encoded data removed]",
      "text/plain": [
       "<Figure size 640x480 with 1 Axes>"
      ]
     },
     "metadata": {},
     "output_type": "display_data"
    }
   ],
   "source": [
    "import matplotlib.pyplot as plt\n",
    "\n",
    "plt.barh(range(best_model.n_features_in_), best_model.feature_importances_, align = 'center')\n",
    "plt.yticks(np.arange(best_model.n_features_in_), best_model.feature_names_in_)\n",
    "plt.xlabel('[Feature Importance]')\n",
    "plt.ylabel('Feature')\n",
    "plt.show()"
   ]
  },
  {
   "cell_type": "markdown",
   "metadata": {},
   "source": [
    "- DT 그래프 시각화\n",
    "    -  Graphviz 프로그램(OS에 맞는 버전) 설치 + Python용 패키지 graphviz 설치"
   ]
  },
  {
   "cell_type": "code",
   "execution_count": 47,
   "metadata": {},
   "outputs": [],
   "source": [
    "# [1] DT 모델을 dot 포멧의 파일로 저장 ==> export_graphviz()\n",
    "\n",
    "from sklearn.tree import export_graphviz\n",
    "\n",
    "export_graphviz(best_model, out_file = 'tree.dot', class_names = ['setosa', 'versicolor','verginia'],\n",
    "                feature_names=best_model.feature_names_in_,\n",
    "                impurity=True, filled=True, rounded=True, rotate=True)"
   ]
  },
  {
   "cell_type": "code",
   "execution_count": 48,
   "metadata": {},
   "outputs": [
    {
     "data": {
      "image/svg+xml": [
       "<?xml version=\"1.0\" encoding=\"UTF-8\" standalone=\"no\"?>\n",
       "<!DOCTYPE svg PUBLIC \"-//W3C//DTD SVG 1.1//EN\"\n",
       " \"http://www.w3.org/Graphics/SVG/1.1/DTD/svg11.dtd\">\n",
       "<!-- Generated by graphviz version 12.1.0 (20240811.2233)\n",
       " -->\n",
       "<!-- Title: Tree Pages: 1 -->\n",
       "<svg width=\"920pt\" height=\"459pt\"\n",
       " viewBox=\"0.00 0.00 919.75 459.00\" xmlns=\"http://www.w3.org/2000/svg\" xmlns:xlink=\"http://www.w3.org/1999/xlink\">\n",
       "<g id=\"graph0\" class=\"graph\" transform=\"scale(1 1) rotate(0) translate(4 455)\">\n",
       "<title>Tree</title>\n",
       "<polygon fill=\"white\" stroke=\"none\" points=\"-4,4 -4,-455 915.75,-455 915.75,4 -4,4\"/>\n",
       "<!-- 0 -->\n",
       "<g id=\"node1\" class=\"node\">\n",
       "<title>0</title>\n",
       "<path fill=\"#fffdfc\" stroke=\"black\" d=\"M142.75,-265.88C142.75,-265.88 12,-265.88 12,-265.88 6,-265.88 0,-259.88 0,-253.88 0,-253.88 0,-191.12 0,-191.12 0,-185.12 6,-179.12 12,-179.12 12,-179.12 142.75,-179.12 142.75,-179.12 148.75,-179.12 154.75,-185.12 154.75,-191.12 154.75,-191.12 154.75,-253.88 154.75,-253.88 154.75,-259.88 148.75,-265.88 142.75,-265.88\"/>\n",
       "<text text-anchor=\"middle\" x=\"77.38\" y=\"-248.57\" font-family=\"Helvetica,sans-Serif\" font-size=\"14.00\">petal width (cm) &lt;= 0.8</text>\n",
       "<text text-anchor=\"middle\" x=\"77.38\" y=\"-232.82\" font-family=\"Helvetica,sans-Serif\" font-size=\"14.00\">gini = 0.667</text>\n",
       "<text text-anchor=\"middle\" x=\"77.38\" y=\"-217.07\" font-family=\"Helvetica,sans-Serif\" font-size=\"14.00\">samples = 112</text>\n",
       "<text text-anchor=\"middle\" x=\"77.38\" y=\"-201.32\" font-family=\"Helvetica,sans-Serif\" font-size=\"14.00\">value = [38, 37, 37]</text>\n",
       "<text text-anchor=\"middle\" x=\"77.38\" y=\"-185.57\" font-family=\"Helvetica,sans-Serif\" font-size=\"14.00\">class = setosa</text>\n",
       "</g>\n",
       "<!-- 1 -->\n",
       "<g id=\"node2\" class=\"node\">\n",
       "<title>1</title>\n",
       "<path fill=\"#e58139\" stroke=\"black\" d=\"M318.12,-307C318.12,-307 225.62,-307 225.62,-307 219.62,-307 213.62,-301 213.62,-295 213.62,-295 213.62,-248 213.62,-248 213.62,-242 219.62,-236 225.62,-236 225.62,-236 318.12,-236 318.12,-236 324.12,-236 330.12,-242 330.12,-248 330.12,-248 330.12,-295 330.12,-295 330.12,-301 324.12,-307 318.12,-307\"/>\n",
       "<text text-anchor=\"middle\" x=\"271.88\" y=\"-289.7\" font-family=\"Helvetica,sans-Serif\" font-size=\"14.00\">gini = 0.0</text>\n",
       "<text text-anchor=\"middle\" x=\"271.88\" y=\"-273.95\" font-family=\"Helvetica,sans-Serif\" font-size=\"14.00\">samples = 38</text>\n",
       "<text text-anchor=\"middle\" x=\"271.88\" y=\"-258.2\" font-family=\"Helvetica,sans-Serif\" font-size=\"14.00\">value = [38, 0, 0]</text>\n",
       "<text text-anchor=\"middle\" x=\"271.88\" y=\"-242.45\" font-family=\"Helvetica,sans-Serif\" font-size=\"14.00\">class = setosa</text>\n",
       "</g>\n",
       "<!-- 0&#45;&gt;1 -->\n",
       "<g id=\"edge1\" class=\"edge\">\n",
       "<title>0&#45;&gt;1</title>\n",
       "<path fill=\"none\" stroke=\"black\" d=\"M155.01,-242.01C170.62,-245.98 186.94,-250.14 202.25,-254.03\"/>\n",
       "<polygon fill=\"black\" stroke=\"black\" points=\"201.17,-257.37 211.73,-256.44 202.9,-250.59 201.17,-257.37\"/>\n",
       "<text text-anchor=\"middle\" x=\"191.7\" y=\"-264.16\" font-family=\"Helvetica,sans-Serif\" font-size=\"14.00\">True</text>\n",
       "</g>\n",
       "<!-- 2 -->\n",
       "<g id=\"node3\" class=\"node\">\n",
       "<title>2</title>\n",
       "<path fill=\"#ffffff\" stroke=\"black\" d=\"M341,-217.88C341,-217.88 202.75,-217.88 202.75,-217.88 196.75,-217.88 190.75,-211.88 190.75,-205.88 190.75,-205.88 190.75,-143.12 190.75,-143.12 190.75,-137.12 196.75,-131.12 202.75,-131.12 202.75,-131.12 341,-131.12 341,-131.12 347,-131.12 353,-137.12 353,-143.12 353,-143.12 353,-205.88 353,-205.88 353,-211.88 347,-217.88 341,-217.88\"/>\n",
       "<text text-anchor=\"middle\" x=\"271.88\" y=\"-200.57\" font-family=\"Helvetica,sans-Serif\" font-size=\"14.00\">petal width (cm) &lt;= 1.75</text>\n",
       "<text text-anchor=\"middle\" x=\"271.88\" y=\"-184.82\" font-family=\"Helvetica,sans-Serif\" font-size=\"14.00\">gini = 0.5</text>\n",
       "<text text-anchor=\"middle\" x=\"271.88\" y=\"-169.07\" font-family=\"Helvetica,sans-Serif\" font-size=\"14.00\">samples = 74</text>\n",
       "<text text-anchor=\"middle\" x=\"271.88\" y=\"-153.32\" font-family=\"Helvetica,sans-Serif\" font-size=\"14.00\">value = [0, 37, 37]</text>\n",
       "<text text-anchor=\"middle\" x=\"271.88\" y=\"-137.57\" font-family=\"Helvetica,sans-Serif\" font-size=\"14.00\">class = versicolor</text>\n",
       "</g>\n",
       "<!-- 0&#45;&gt;2 -->\n",
       "<g id=\"edge2\" class=\"edge\">\n",
       "<title>0&#45;&gt;2</title>\n",
       "<path fill=\"none\" stroke=\"black\" d=\"M155.01,-203.39C163.01,-201.4 171.2,-199.35 179.35,-197.32\"/>\n",
       "<polygon fill=\"black\" stroke=\"black\" points=\"180.08,-200.75 188.93,-194.93 178.38,-193.96 180.08,-200.75\"/>\n",
       "<text text-anchor=\"middle\" x=\"168.97\" y=\"-176.27\" font-family=\"Helvetica,sans-Serif\" font-size=\"14.00\">False</text>\n",
       "</g>\n",
       "<!-- 3 -->\n",
       "<g id=\"node4\" class=\"node\">\n",
       "<title>3</title>\n",
       "<path fill=\"#54e992\" stroke=\"black\" d=\"M544.5,-270.88C544.5,-270.88 401,-270.88 401,-270.88 395,-270.88 389,-264.88 389,-258.88 389,-258.88 389,-196.12 389,-196.12 389,-190.12 395,-184.12 401,-184.12 401,-184.12 544.5,-184.12 544.5,-184.12 550.5,-184.12 556.5,-190.12 556.5,-196.12 556.5,-196.12 556.5,-258.88 556.5,-258.88 556.5,-264.88 550.5,-270.88 544.5,-270.88\"/>\n",
       "<text text-anchor=\"middle\" x=\"472.75\" y=\"-253.57\" font-family=\"Helvetica,sans-Serif\" font-size=\"14.00\">petal length (cm) &lt;= 4.95</text>\n",
       "<text text-anchor=\"middle\" x=\"472.75\" y=\"-237.82\" font-family=\"Helvetica,sans-Serif\" font-size=\"14.00\">gini = 0.214</text>\n",
       "<text text-anchor=\"middle\" x=\"472.75\" y=\"-222.07\" font-family=\"Helvetica,sans-Serif\" font-size=\"14.00\">samples = 41</text>\n",
       "<text text-anchor=\"middle\" x=\"472.75\" y=\"-206.32\" font-family=\"Helvetica,sans-Serif\" font-size=\"14.00\">value = [0, 36, 5]</text>\n",
       "<text text-anchor=\"middle\" x=\"472.75\" y=\"-190.57\" font-family=\"Helvetica,sans-Serif\" font-size=\"14.00\">class = versicolor</text>\n",
       "</g>\n",
       "<!-- 2&#45;&gt;3 -->\n",
       "<g id=\"edge3\" class=\"edge\">\n",
       "<title>2&#45;&gt;3</title>\n",
       "<path fill=\"none\" stroke=\"black\" d=\"M353.48,-195.98C361.47,-198.11 369.64,-200.29 377.75,-202.45\"/>\n",
       "<polygon fill=\"black\" stroke=\"black\" points=\"376.74,-205.8 387.3,-205 378.54,-199.04 376.74,-205.8\"/>\n",
       "</g>\n",
       "<!-- 10 -->\n",
       "<g id=\"node11\" class=\"node\">\n",
       "<title>10</title>\n",
       "<path fill=\"#853fe6\" stroke=\"black\" d=\"M544.5,-165.88C544.5,-165.88 401,-165.88 401,-165.88 395,-165.88 389,-159.88 389,-153.88 389,-153.88 389,-91.12 389,-91.12 389,-85.12 395,-79.12 401,-79.12 401,-79.12 544.5,-79.12 544.5,-79.12 550.5,-79.12 556.5,-85.12 556.5,-91.12 556.5,-91.12 556.5,-153.88 556.5,-153.88 556.5,-159.88 550.5,-165.88 544.5,-165.88\"/>\n",
       "<text text-anchor=\"middle\" x=\"472.75\" y=\"-148.57\" font-family=\"Helvetica,sans-Serif\" font-size=\"14.00\">petal length (cm) &lt;= 4.85</text>\n",
       "<text text-anchor=\"middle\" x=\"472.75\" y=\"-132.82\" font-family=\"Helvetica,sans-Serif\" font-size=\"14.00\">gini = 0.059</text>\n",
       "<text text-anchor=\"middle\" x=\"472.75\" y=\"-117.08\" font-family=\"Helvetica,sans-Serif\" font-size=\"14.00\">samples = 33</text>\n",
       "<text text-anchor=\"middle\" x=\"472.75\" y=\"-101.33\" font-family=\"Helvetica,sans-Serif\" font-size=\"14.00\">value = [0, 1, 32]</text>\n",
       "<text text-anchor=\"middle\" x=\"472.75\" y=\"-85.58\" font-family=\"Helvetica,sans-Serif\" font-size=\"14.00\">class = verginia</text>\n",
       "</g>\n",
       "<!-- 2&#45;&gt;10 -->\n",
       "<g id=\"edge10\" class=\"edge\">\n",
       "<title>2&#45;&gt;10</title>\n",
       "<path fill=\"none\" stroke=\"black\" d=\"M353.48,-153.42C361.47,-151.33 369.64,-149.2 377.75,-147.08\"/>\n",
       "<polygon fill=\"black\" stroke=\"black\" points=\"378.51,-150.5 387.3,-144.58 376.74,-143.72 378.51,-150.5\"/>\n",
       "</g>\n",
       "<!-- 4 -->\n",
       "<g id=\"node5\" class=\"node\">\n",
       "<title>4</title>\n",
       "<path fill=\"#3fe685\" stroke=\"black\" d=\"M743.5,-373.88C743.5,-373.88 604.5,-373.88 604.5,-373.88 598.5,-373.88 592.5,-367.88 592.5,-361.88 592.5,-361.88 592.5,-299.12 592.5,-299.12 592.5,-293.12 598.5,-287.12 604.5,-287.12 604.5,-287.12 743.5,-287.12 743.5,-287.12 749.5,-287.12 755.5,-293.12 755.5,-299.12 755.5,-299.12 755.5,-361.88 755.5,-361.88 755.5,-367.88 749.5,-373.88 743.5,-373.88\"/>\n",
       "<text text-anchor=\"middle\" x=\"674\" y=\"-356.57\" font-family=\"Helvetica,sans-Serif\" font-size=\"14.00\">sepal length (cm) &lt;= 5.1</text>\n",
       "<text text-anchor=\"middle\" x=\"674\" y=\"-340.82\" font-family=\"Helvetica,sans-Serif\" font-size=\"14.00\">gini = 0.056</text>\n",
       "<text text-anchor=\"middle\" x=\"674\" y=\"-325.07\" font-family=\"Helvetica,sans-Serif\" font-size=\"14.00\">samples = 35</text>\n",
       "<text text-anchor=\"middle\" x=\"674\" y=\"-309.32\" font-family=\"Helvetica,sans-Serif\" font-size=\"14.00\">value = [0, 34, 1]</text>\n",
       "<text text-anchor=\"middle\" x=\"674\" y=\"-293.57\" font-family=\"Helvetica,sans-Serif\" font-size=\"14.00\">class = versicolor</text>\n",
       "</g>\n",
       "<!-- 3&#45;&gt;4 -->\n",
       "<g id=\"edge4\" class=\"edge\">\n",
       "<title>3&#45;&gt;4</title>\n",
       "<path fill=\"none\" stroke=\"black\" d=\"M556.81,-270.44C565.16,-274.75 573.67,-279.15 582.09,-283.51\"/>\n",
       "<polygon fill=\"black\" stroke=\"black\" points=\"580.48,-286.61 590.97,-288.1 583.69,-280.39 580.48,-286.61\"/>\n",
       "</g>\n",
       "<!-- 7 -->\n",
       "<g id=\"node8\" class=\"node\">\n",
       "<title>7</title>\n",
       "<path fill=\"#c09cf2\" stroke=\"black\" d=\"M743.12,-268.88C743.12,-268.88 604.88,-268.88 604.88,-268.88 598.88,-268.88 592.88,-262.88 592.88,-256.88 592.88,-256.88 592.88,-194.12 592.88,-194.12 592.88,-188.12 598.88,-182.12 604.88,-182.12 604.88,-182.12 743.12,-182.12 743.12,-182.12 749.12,-182.12 755.12,-188.12 755.12,-194.12 755.12,-194.12 755.12,-256.88 755.12,-256.88 755.12,-262.88 749.12,-268.88 743.12,-268.88\"/>\n",
       "<text text-anchor=\"middle\" x=\"674\" y=\"-251.57\" font-family=\"Helvetica,sans-Serif\" font-size=\"14.00\">petal width (cm) &lt;= 1.55</text>\n",
       "<text text-anchor=\"middle\" x=\"674\" y=\"-235.82\" font-family=\"Helvetica,sans-Serif\" font-size=\"14.00\">gini = 0.444</text>\n",
       "<text text-anchor=\"middle\" x=\"674\" y=\"-220.07\" font-family=\"Helvetica,sans-Serif\" font-size=\"14.00\">samples = 6</text>\n",
       "<text text-anchor=\"middle\" x=\"674\" y=\"-204.32\" font-family=\"Helvetica,sans-Serif\" font-size=\"14.00\">value = [0, 2, 4]</text>\n",
       "<text text-anchor=\"middle\" x=\"674\" y=\"-188.57\" font-family=\"Helvetica,sans-Serif\" font-size=\"14.00\">class = verginia</text>\n",
       "</g>\n",
       "<!-- 3&#45;&gt;7 -->\n",
       "<g id=\"edge7\" class=\"edge\">\n",
       "<title>3&#45;&gt;7</title>\n",
       "<path fill=\"none\" stroke=\"black\" d=\"M556.81,-226.67C564.86,-226.59 573.07,-226.5 581.2,-226.42\"/>\n",
       "<polygon fill=\"black\" stroke=\"black\" points=\"581.16,-229.92 591.12,-226.32 581.09,-222.92 581.16,-229.92\"/>\n",
       "</g>\n",
       "<!-- 5 -->\n",
       "<g id=\"node6\" class=\"node\">\n",
       "<title>5</title>\n",
       "<path fill=\"#ffffff\" stroke=\"black\" d=\"M899.75,-451C899.75,-451 803.5,-451 803.5,-451 797.5,-451 791.5,-445 791.5,-439 791.5,-439 791.5,-392 791.5,-392 791.5,-386 797.5,-380 803.5,-380 803.5,-380 899.75,-380 899.75,-380 905.75,-380 911.75,-386 911.75,-392 911.75,-392 911.75,-439 911.75,-439 911.75,-445 905.75,-451 899.75,-451\"/>\n",
       "<text text-anchor=\"middle\" x=\"851.62\" y=\"-433.7\" font-family=\"Helvetica,sans-Serif\" font-size=\"14.00\">gini = 0.5</text>\n",
       "<text text-anchor=\"middle\" x=\"851.62\" y=\"-417.95\" font-family=\"Helvetica,sans-Serif\" font-size=\"14.00\">samples = 2</text>\n",
       "<text text-anchor=\"middle\" x=\"851.62\" y=\"-402.2\" font-family=\"Helvetica,sans-Serif\" font-size=\"14.00\">value = [0, 1, 1]</text>\n",
       "<text text-anchor=\"middle\" x=\"851.62\" y=\"-386.45\" font-family=\"Helvetica,sans-Serif\" font-size=\"14.00\">class = versicolor</text>\n",
       "</g>\n",
       "<!-- 4&#45;&gt;5 -->\n",
       "<g id=\"edge5\" class=\"edge\">\n",
       "<title>4&#45;&gt;5</title>\n",
       "<path fill=\"none\" stroke=\"black\" d=\"M755.87,-369.64C764.23,-373.69 772.67,-377.77 780.89,-381.75\"/>\n",
       "<polygon fill=\"black\" stroke=\"black\" points=\"779.27,-384.85 789.79,-386.06 782.32,-378.55 779.27,-384.85\"/>\n",
       "</g>\n",
       "<!-- 6 -->\n",
       "<g id=\"node7\" class=\"node\">\n",
       "<title>6</title>\n",
       "<path fill=\"#39e581\" stroke=\"black\" d=\"M899.75,-362C899.75,-362 803.5,-362 803.5,-362 797.5,-362 791.5,-356 791.5,-350 791.5,-350 791.5,-303 791.5,-303 791.5,-297 797.5,-291 803.5,-291 803.5,-291 899.75,-291 899.75,-291 905.75,-291 911.75,-297 911.75,-303 911.75,-303 911.75,-350 911.75,-350 911.75,-356 905.75,-362 899.75,-362\"/>\n",
       "<text text-anchor=\"middle\" x=\"851.62\" y=\"-344.7\" font-family=\"Helvetica,sans-Serif\" font-size=\"14.00\">gini = 0.0</text>\n",
       "<text text-anchor=\"middle\" x=\"851.62\" y=\"-328.95\" font-family=\"Helvetica,sans-Serif\" font-size=\"14.00\">samples = 33</text>\n",
       "<text text-anchor=\"middle\" x=\"851.62\" y=\"-313.2\" font-family=\"Helvetica,sans-Serif\" font-size=\"14.00\">value = [0, 33, 0]</text>\n",
       "<text text-anchor=\"middle\" x=\"851.62\" y=\"-297.45\" font-family=\"Helvetica,sans-Serif\" font-size=\"14.00\">class = versicolor</text>\n",
       "</g>\n",
       "<!-- 4&#45;&gt;6 -->\n",
       "<g id=\"edge6\" class=\"edge\">\n",
       "<title>4&#45;&gt;6</title>\n",
       "<path fill=\"none\" stroke=\"black\" d=\"M755.87,-328.66C763.86,-328.48 771.92,-328.29 779.79,-328.11\"/>\n",
       "<polygon fill=\"black\" stroke=\"black\" points=\"779.73,-331.62 789.64,-327.89 779.57,-324.62 779.73,-331.62\"/>\n",
       "</g>\n",
       "<!-- 8 -->\n",
       "<g id=\"node9\" class=\"node\">\n",
       "<title>8</title>\n",
       "<path fill=\"#8139e5\" stroke=\"black\" d=\"M894.5,-265C894.5,-265 808.75,-265 808.75,-265 802.75,-265 796.75,-259 796.75,-253 796.75,-253 796.75,-206 796.75,-206 796.75,-200 802.75,-194 808.75,-194 808.75,-194 894.5,-194 894.5,-194 900.5,-194 906.5,-200 906.5,-206 906.5,-206 906.5,-253 906.5,-253 906.5,-259 900.5,-265 894.5,-265\"/>\n",
       "<text text-anchor=\"middle\" x=\"851.62\" y=\"-247.7\" font-family=\"Helvetica,sans-Serif\" font-size=\"14.00\">gini = 0.0</text>\n",
       "<text text-anchor=\"middle\" x=\"851.62\" y=\"-231.95\" font-family=\"Helvetica,sans-Serif\" font-size=\"14.00\">samples = 3</text>\n",
       "<text text-anchor=\"middle\" x=\"851.62\" y=\"-216.2\" font-family=\"Helvetica,sans-Serif\" font-size=\"14.00\">value = [0, 0, 3]</text>\n",
       "<text text-anchor=\"middle\" x=\"851.62\" y=\"-200.45\" font-family=\"Helvetica,sans-Serif\" font-size=\"14.00\">class = verginia</text>\n",
       "</g>\n",
       "<!-- 7&#45;&gt;8 -->\n",
       "<g id=\"edge8\" class=\"edge\">\n",
       "<title>7&#45;&gt;8</title>\n",
       "<path fill=\"none\" stroke=\"black\" d=\"M755.62,-227.34C765.42,-227.56 775.35,-227.79 784.91,-228\"/>\n",
       "<polygon fill=\"black\" stroke=\"black\" points=\"784.76,-231.5 794.83,-228.23 784.92,-224.5 784.76,-231.5\"/>\n",
       "</g>\n",
       "<!-- 9 -->\n",
       "<g id=\"node10\" class=\"node\">\n",
       "<title>9</title>\n",
       "<path fill=\"#9cf2c0\" stroke=\"black\" d=\"M899.75,-176C899.75,-176 803.5,-176 803.5,-176 797.5,-176 791.5,-170 791.5,-164 791.5,-164 791.5,-117 791.5,-117 791.5,-111 797.5,-105 803.5,-105 803.5,-105 899.75,-105 899.75,-105 905.75,-105 911.75,-111 911.75,-117 911.75,-117 911.75,-164 911.75,-164 911.75,-170 905.75,-176 899.75,-176\"/>\n",
       "<text text-anchor=\"middle\" x=\"851.62\" y=\"-158.7\" font-family=\"Helvetica,sans-Serif\" font-size=\"14.00\">gini = 0.444</text>\n",
       "<text text-anchor=\"middle\" x=\"851.62\" y=\"-142.95\" font-family=\"Helvetica,sans-Serif\" font-size=\"14.00\">samples = 3</text>\n",
       "<text text-anchor=\"middle\" x=\"851.62\" y=\"-127.2\" font-family=\"Helvetica,sans-Serif\" font-size=\"14.00\">value = [0, 2, 1]</text>\n",
       "<text text-anchor=\"middle\" x=\"851.62\" y=\"-111.45\" font-family=\"Helvetica,sans-Serif\" font-size=\"14.00\">class = versicolor</text>\n",
       "</g>\n",
       "<!-- 7&#45;&gt;9 -->\n",
       "<g id=\"edge9\" class=\"edge\">\n",
       "<title>7&#45;&gt;9</title>\n",
       "<path fill=\"none\" stroke=\"black\" d=\"M755.62,-186.48C764.14,-182.36 772.76,-178.19 781.14,-174.13\"/>\n",
       "<polygon fill=\"black\" stroke=\"black\" points=\"782.39,-177.41 789.87,-169.9 779.35,-171.11 782.39,-177.41\"/>\n",
       "</g>\n",
       "<!-- 11 -->\n",
       "<g id=\"node12\" class=\"node\">\n",
       "<title>11</title>\n",
       "<path fill=\"#ffffff\" stroke=\"black\" d=\"M722.12,-160C722.12,-160 625.88,-160 625.88,-160 619.88,-160 613.88,-154 613.88,-148 613.88,-148 613.88,-101 613.88,-101 613.88,-95 619.88,-89 625.88,-89 625.88,-89 722.12,-89 722.12,-89 728.12,-89 734.12,-95 734.12,-101 734.12,-101 734.12,-148 734.12,-148 734.12,-154 728.12,-160 722.12,-160\"/>\n",
       "<text text-anchor=\"middle\" x=\"674\" y=\"-142.7\" font-family=\"Helvetica,sans-Serif\" font-size=\"14.00\">gini = 0.5</text>\n",
       "<text text-anchor=\"middle\" x=\"674\" y=\"-126.95\" font-family=\"Helvetica,sans-Serif\" font-size=\"14.00\">samples = 2</text>\n",
       "<text text-anchor=\"middle\" x=\"674\" y=\"-111.2\" font-family=\"Helvetica,sans-Serif\" font-size=\"14.00\">value = [0, 1, 1]</text>\n",
       "<text text-anchor=\"middle\" x=\"674\" y=\"-95.45\" font-family=\"Helvetica,sans-Serif\" font-size=\"14.00\">class = versicolor</text>\n",
       "</g>\n",
       "<!-- 10&#45;&gt;11 -->\n",
       "<g id=\"edge11\" class=\"edge\">\n",
       "<title>10&#45;&gt;11</title>\n",
       "<path fill=\"none\" stroke=\"black\" d=\"M556.81,-123.33C571.8,-123.48 587.32,-123.64 601.94,-123.79\"/>\n",
       "<polygon fill=\"black\" stroke=\"black\" points=\"601.89,-127.29 611.93,-123.89 601.96,-120.29 601.89,-127.29\"/>\n",
       "</g>\n",
       "<!-- 12 -->\n",
       "<g id=\"node13\" class=\"node\">\n",
       "<title>12</title>\n",
       "<path fill=\"#8139e5\" stroke=\"black\" d=\"M720.25,-71C720.25,-71 627.75,-71 627.75,-71 621.75,-71 615.75,-65 615.75,-59 615.75,-59 615.75,-12 615.75,-12 615.75,-6 621.75,0 627.75,0 627.75,0 720.25,0 720.25,0 726.25,0 732.25,-6 732.25,-12 732.25,-12 732.25,-59 732.25,-59 732.25,-65 726.25,-71 720.25,-71\"/>\n",
       "<text text-anchor=\"middle\" x=\"674\" y=\"-53.7\" font-family=\"Helvetica,sans-Serif\" font-size=\"14.00\">gini = 0.0</text>\n",
       "<text text-anchor=\"middle\" x=\"674\" y=\"-37.95\" font-family=\"Helvetica,sans-Serif\" font-size=\"14.00\">samples = 31</text>\n",
       "<text text-anchor=\"middle\" x=\"674\" y=\"-22.2\" font-family=\"Helvetica,sans-Serif\" font-size=\"14.00\">value = [0, 0, 31]</text>\n",
       "<text text-anchor=\"middle\" x=\"674\" y=\"-6.45\" font-family=\"Helvetica,sans-Serif\" font-size=\"14.00\">class = verginia</text>\n",
       "</g>\n",
       "<!-- 10&#45;&gt;12 -->\n",
       "<g id=\"edge12\" class=\"edge\">\n",
       "<title>10&#45;&gt;12</title>\n",
       "<path fill=\"none\" stroke=\"black\" d=\"M556.81,-86.23C572.86,-79.23 589.5,-71.96 605,-65.19\"/>\n",
       "<polygon fill=\"black\" stroke=\"black\" points=\"606.38,-68.41 614.14,-61.2 603.58,-61.99 606.38,-68.41\"/>\n",
       "</g>\n",
       "</g>\n",
       "</svg>\n"
      ],
      "text/plain": [
       "<graphviz.sources.Source at 0x24e0bcf6250>"
      ]
     },
     "execution_count": 48,
     "metadata": {},
     "output_type": "execute_result"
    }
   ],
   "source": [
    "# (2) dot 파일 출력\n",
    "import graphviz\n",
    "\n",
    "# 파일에서 데이터 읽어오기\n",
    "\n",
    "with open('tree.dot') as f:\n",
    "    dot_data = f.read()\n",
    "\n",
    "graphviz.Source(dot_data)\n"
   ]
  },
  {
   "cell_type": "markdown",
   "metadata": {},
   "source": [
    "[6]  새로운 데이터 예측)2\n",
    "new_data - feadDtx 0  X_trom"
   ]
  },
  {
   "cell_type": "code",
   "execution_count": null,
   "metadata": {},
   "outputs": [],
   "source": [
    "                                        "
   ]
  },
  {
   "cell_type": "code",
   "execution_count": null,
   "metadata": {},
   "outputs": [],
   "source": []
  },
  {
   "cell_type": "code",
   "execution_count": null,
   "metadata": {},
   "outputs": [],
   "source": []
  }
 ],
 "metadata": {
  "kernelspec": {
   "display_name": "ML_38",
   "language": "python",
   "name": "python3"
  },
  "language_info": {
   "codemirror_mode": {
    "name": "ipython",
    "version": 3
   },
   "file_extension": ".py",
   "mimetype": "text/x-python",
   "name": "python",
   "nbconvert_exporter": "python",
   "pygments_lexer": "ipython3",
   "version": "3.8.19"
  }
 },
 "nbformat": 4,
 "nbformat_minor": 2
}
