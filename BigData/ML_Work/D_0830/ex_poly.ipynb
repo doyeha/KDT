{
 "cells": [
  {
   "cell_type": "markdown",
   "metadata": {},
   "source": [
    "### 생선 분류\n",
    " - 데이터셋 : fish.csv\n",
    " - 피쳐/속성 : Length\n",
    " - 타겟/라벨 : Weight\n",
    " - 학습 방법 : 지도학습 => 회귀\n",
    " - 알고리즘 : 선형회귀 >>> 데이터 분포가 선형의 형태"
   ]
  },
  {
   "cell_type": "code",
   "execution_count": 57,
   "metadata": {},
   "outputs": [],
   "source": [
    "import pandas as pd\n",
    "import matplotlib.pyplot as plt\n",
    "import numpy as np"
   ]
  },
  {
   "cell_type": "code",
   "execution_count": 58,
   "metadata": {},
   "outputs": [],
   "source": [
    "fishDF = pd.read_csv('../data/fish.csv')\n",
    "fishDF = fishDF[fishDF['Species']=='Perch']"
   ]
  },
  {
   "cell_type": "code",
   "execution_count": 59,
   "metadata": {},
   "outputs": [
    {
     "name": "stdout",
     "output_type": "stream",
     "text": [
      "<class 'pandas.core.frame.DataFrame'>\n",
      "Index: 56 entries, 72 to 127\n",
      "Data columns (total 6 columns):\n",
      " #   Column    Non-Null Count  Dtype  \n",
      "---  ------    --------------  -----  \n",
      " 0   Species   56 non-null     object \n",
      " 1   Weight    56 non-null     float64\n",
      " 2   Length    56 non-null     float64\n",
      " 3   Diagonal  56 non-null     float64\n",
      " 4   Height    56 non-null     float64\n",
      " 5   Width     56 non-null     float64\n",
      "dtypes: float64(5), object(1)\n",
      "memory usage: 3.1+ KB\n"
     ]
    }
   ],
   "source": [
    "# 결측치 확인\n",
    "fishDF.isnull().sum()\n",
    "fishDF.info()"
   ]
  },
  {
   "cell_type": "code",
   "execution_count": 60,
   "metadata": {},
   "outputs": [],
   "source": [
    "feature = pd.DataFrame(fishDF[['Length']])\n",
    "target = fishDF['Weight']"
   ]
  },
  {
   "cell_type": "code",
   "execution_count": 61,
   "metadata": {},
   "outputs": [
    {
     "data": {
      "text/plain": [
       "((56,), 1)"
      ]
     },
     "execution_count": 61,
     "metadata": {},
     "output_type": "execute_result"
    }
   ],
   "source": [
    "feature.shape, feature.ndim\n",
    "target.shape, target.ndim"
   ]
  },
  {
   "cell_type": "code",
   "execution_count": 62,
   "metadata": {},
   "outputs": [
    {
     "data": {
      "image/png": "[encoded data removed]",
      "text/plain": [
       "<Figure size 640x480 with 1 Axes>"
      ]
     },
     "metadata": {},
     "output_type": "display_data"
    }
   ],
   "source": [
    "plt.scatter(feature, target)\n",
    "plt.show()"
   ]
  },
  {
   "cell_type": "code",
   "execution_count": 63,
   "metadata": {},
   "outputs": [],
   "source": [
    "from sklearn.model_selection import train_test_split\n",
    "X_train, X_test, y_train, y_test = train_test_split(feature,\n",
    "                                                    target,\n",
    "                                                    test_size = 0.2,\n",
    "                                                    # stratify=target,\n",
    "                                                    random_state=10)"
   ]
  },
  {
   "cell_type": "code",
   "execution_count": 65,
   "metadata": {},
   "outputs": [
    {
     "data": {
      "text/plain": [
       "array([ 1.88985491e+02,  4.18864545e+02,  5.92150572e+01,  4.80918772e+01,\n",
       "        7.26605859e+02,  9.49069460e+02,  8.00760393e+02,  1.33369591e+02,\n",
       "        6.33912692e+02,  8.37837659e+02,  1.70446858e+02, -1.08569587e-01,\n",
       "       -1.37294457e+02,  1.33369591e+02,  8.37837659e+02,  2.07524124e+02,\n",
       "        3.74371825e+02,  9.11992193e+02,  1.88985491e+02,  6.52451325e+02,\n",
       "        2.21377905e+01,  1.44492771e+02,  1.70446858e+02,  8.00760393e+02,\n",
       "        3.74371825e+02,  2.44601391e+02,  1.33369591e+02,  6.89528592e+02,\n",
       "        1.70446858e+02,  9.67608093e+02,  7.08067226e+02,  7.26605859e+02,\n",
       "        9.49069460e+02,  9.86146726e+02,  8.14614173e+01,  8.37837659e+02,\n",
       "        3.37294558e+02,  2.44601391e+02,  3.03925018e+02,  8.37837659e+02,\n",
       "       -3.33803970e+02,  1.70446858e+02,  4.67064992e+02,  9.62923240e+01])"
      ]
     },
     "execution_count": 65,
     "metadata": {},
     "output_type": "execute_result"
    }
   ],
   "source": [
    "from sklearn.linear_model import LinearRegression\n",
    "model = LinearRegression()\n",
    "\n",
    "model.fit(X_train, y_train)\n",
    "model.predict(X_train)"
   ]
  },
  {
   "cell_type": "code",
   "execution_count": 70,
   "metadata": {},
   "outputs": [
    {
     "data": {
      "text/plain": [
       "0.9240032680854626"
      ]
     },
     "execution_count": 70,
     "metadata": {},
     "output_type": "execute_result"
    }
   ],
   "source": [
    "model.score(X_train, y_train)"
   ]
  },
  {
   "cell_type": "code",
   "execution_count": 72,
   "metadata": {},
   "outputs": [
    {
     "data": {
      "image/png": "[encoded data removed]",
      "text/plain": [
       "<Figure size 640x480 with 1 Axes>"
      ]
     },
     "metadata": {},
     "output_type": "display_data"
    },
    {
     "ename": "",
     "evalue": "",
     "output_type": "error",
     "traceback": [
      "\u001b[1;31mThe Kernel crashed while executing code in the current cell or a previous cell. \n",
      "\u001b[1;31mPlease review the code in the cell(s) to identify a possible cause of the failure. \n",
      "\u001b[1;31mClick <a href='https://aka.ms/vscodeJupyterKernelCrash'>here</a> for more info. \n",
      "\u001b[1;31mView Jupyter <a href='command:jupyter.viewOutput'>log</a> for further details."
     ]
    }
   ],
   "source": [
    "plt.plot(X_test, y_test, 'bo')\n",
    "plt.plot(X_test, model.predict(X_test),'ro')\n",
    "plt.show()"
   ]
  },
  {
   "cell_type": "code",
   "execution_count": 68,
   "metadata": {},
   "outputs": [
    {
     "name": "stdout",
     "output_type": "stream",
     "text": [
      "기울기 : [37.07726677] 절편 : -645.2530112984248\n"
     ]
    }
   ],
   "source": [
    "print(f'기울기 : {model.coef_} 절편 : {model.intercept_}')"
   ]
  },
  {
   "cell_type": "code",
   "execution_count": null,
   "metadata": {},
   "outputs": [],
   "source": [
    "# from sklearn.metrics import mean_squared_error, mean_absolute_error, r2_score\n",
    "# mse = mean_squared_error(feature, pre_y)\n",
    "# rmse = mean_squared_error(jumsuSR, pre_y, squared=False)\n",
    "# mae = mean_absolute_error(jumsuSR, pre_y)\n",
    "# r2 = r2_score(jumsuSR, pre_y)"
   ]
  }
 ],
 "metadata": {
  "kernelspec": {
   "display_name": "ML_38",
   "language": "python",
   "name": "python3"
  },
  "language_info": {
   "codemirror_mode": {
    "name": "ipython",
    "version": 3
   },
   "file_extension": ".py",
   "mimetype": "text/x-python",
   "name": "python",
   "nbconvert_exporter": "python",
   "pygments_lexer": "ipython3",
   "version": "3.8.19"
  }
 },
 "nbformat": 4,
 "nbformat_minor": 2
}
