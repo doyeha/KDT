{
 "cells": [
  {
   "cell_type": "markdown",
   "metadata": {},
   "source": [
    "# 보스턴 집값 예측 모델 \n",
    "- 데이터셋 : boston.csv\n",
    "- 학습방법 : 지도학습 -> 회귀\n",
    "- 피쳐/독립 : 13개 \n",
    "- 타겟/종속 : 1개 "
   ]
  },
  {
   "cell_type": "code",
   "execution_count": 2,
   "metadata": {},
   "outputs": [],
   "source": [
    "# 모듈 로딩 \n",
    "import pandas as pd\n",
    "import numpy as np\n",
    "from sklearn.preprocessing import StandardScaler, MinMaxScaler, RobustScaler\n",
    "from sklearn.model_selection import train_test_split"
   ]
  },
  {
   "cell_type": "code",
   "execution_count": 3,
   "metadata": {},
   "outputs": [
    {
     "name": "stdout",
     "output_type": "stream",
     "text": [
      "<class 'pandas.core.frame.DataFrame'>\n",
      "RangeIndex: 506 entries, 0 to 505\n",
      "Data columns (total 14 columns):\n",
      " #   Column   Non-Null Count  Dtype  \n",
      "---  ------   --------------  -----  \n",
      " 0   CRIM     506 non-null    float64\n",
      " 1   ZN       506 non-null    float64\n",
      " 2   INDUS    506 non-null    float64\n",
      " 3   CHAS     506 non-null    int64  \n",
      " 4   NOX      506 non-null    float64\n",
      " 5   RM       506 non-null    float64\n",
      " 6   AGE      506 non-null    float64\n",
      " 7   DIS      506 non-null    float64\n",
      " 8   RAD      506 non-null    int64  \n",
      " 9   TAX      506 non-null    float64\n",
      " 10  PTRATIO  506 non-null    float64\n",
      " 11  B        506 non-null    float64\n",
      " 12  LSTAT    506 non-null    float64\n",
      " 13  MEDV     506 non-null    float64\n",
      "dtypes: float64(12), int64(2)\n",
      "memory usage: 55.5 KB\n"
     ]
    }
   ],
   "source": [
    "# CSV -> DAtaFrame\n",
    "dataDF = pd.read_csv('../data/boston.csv')\n",
    "dataDF.head(2)\n",
    "\n",
    "dataDF.info()"
   ]
  },
  {
   "cell_type": "markdown",
   "metadata": {},
   "source": [
    "## [2] 전처리\n",
    "### [2-1] 데이터 정제"
   ]
  },
  {
   "cell_type": "markdown",
   "metadata": {},
   "source": [
    "- 결측치, 중복값, 이상치, 칼럼별 고유값 추출로 이상 데이터 체크"
   ]
  },
  {
   "cell_type": "markdown",
   "metadata": {},
   "source": []
  },
  {
   "cell_type": "markdown",
   "metadata": {},
   "source": [
    "[2-2] 표준화 & 정규화 ==> 진행여부에 따라 성능의 변화는 경우에 따라 다름!!\n",
    " - 정규분포 데이터셋을 기반으로 한 모델 -> StandardScaler, MinMaxScaler, Log 변환\n",
    " = 피쳐의 값의 범위 차이를 줄이기 => 피쳐 스케일링, MinMaxScaler, RobustScaler\n",
    " - 범주형 피쳐 => 수치화 인코딩 OneHotEncoder, OrdinalEncoder\n",
    " - 문자열 타겟 => 정수 라벨 인코딩 LabelEncoder"
   ]
  },
  {
   "cell_type": "markdown",
   "metadata": {},
   "source": [
    "## [2-2] 표준화 & 정규화 \n",
    "-> 진행 여부에 따라 성능의 변화는 경우에 따라 다름\n",
    "- 정규분포 데이터셋을 기반으로 한 모델 -> StandardScaler, MinMaxScaler, Log 변환 \n",
    "- 피쳐의 값의 범위 차이를 줄이기 -> 피쳐 스케일링, MinMaxScaler, RobustScaler....\n",
    "- 범주형 피쳐 -> 수치화 인코딩 : OneHotEncoder, OrdinalEncoder\n",
    "- 문자열 타겟 -> 정수 라벨 인코딩 : LabelEncoder"
   ]
  },
  {
   "cell_type": "markdown",
   "metadata": {},
   "source": [
    "[2-3] 피쳐와 타겟 분리"
   ]
  },
  {
   "cell_type": "code",
   "execution_count": 4,
   "metadata": {},
   "outputs": [],
   "source": [
    "featureDF = dataDF.iloc[:, :-1]\n",
    "targetSR = dataDF['MEDV']"
   ]
  },
  {
   "cell_type": "code",
   "execution_count": 5,
   "metadata": {},
   "outputs": [
    {
     "name": "stdout",
     "output_type": "stream",
     "text": [
      "featureDF : (506, 13), targetSR : (506,)\n"
     ]
    }
   ],
   "source": [
    "print(f'featureDF : {featureDF.shape}, targetSR : {targetSR.shape}')"
   ]
  },
  {
   "cell_type": "markdown",
   "metadata": {},
   "source": [
    "[3] 학습 준비"
   ]
  },
  {
   "cell_type": "markdown",
   "metadata": {},
   "source": [
    "[3-1] 학습용 데이터셋과 테스트용 데이터셋 분리"
   ]
  },
  {
   "cell_type": "code",
   "execution_count": 6,
   "metadata": {},
   "outputs": [],
   "source": [
    "X_train, X_test, y_train, y_test = train_test_split(featureDF, targetSR, random_state=10)"
   ]
  },
  {
   "cell_type": "code",
   "execution_count": 7,
   "metadata": {},
   "outputs": [
    {
     "name": "stdout",
     "output_type": "stream",
     "text": [
      "X_train : (379, 13), y_train : (379,)\n",
      "X_test : (127, 13), y_test : (127,)\n"
     ]
    }
   ],
   "source": [
    "print(f'X_train : {X_train.shape}, y_train : {y_train.shape}')\n",
    "print(f'X_test : {X_test.shape}, y_test : {y_test.shape}')"
   ]
  },
  {
   "cell_type": "markdown",
   "metadata": {},
   "source": [
    "[3-2] 학습용 데이터셋으로 스케일러 생성"
   ]
  },
  {
   "cell_type": "code",
   "execution_count": 8,
   "metadata": {},
   "outputs": [
    {
     "data": {
      "text/html": [
       "<style>#sk-container-id-1 {color: black;}#sk-container-id-1 pre{padding: 0;}#sk-container-id-1 div.sk-toggleable {background-color: white;}#sk-container-id-1 label.sk-toggleable__label {cursor: pointer;display: block;width: 100%;margin-bottom: 0;padding: 0.3em;box-sizing: border-box;text-align: center;}#sk-container-id-1 label.sk-toggleable__label-arrow:before {content: \"▸\";float: left;margin-right: 0.25em;color: #696969;}#sk-container-id-1 label.sk-toggleable__label-arrow:hover:before {color: black;}#sk-container-id-1 div.sk-estimator:hover label.sk-toggleable__label-arrow:before {color: black;}#sk-container-id-1 div.sk-toggleable__content {max-height: 0;max-width: 0;overflow: hidden;text-align: left;background-color: #f0f8ff;}#sk-container-id-1 div.sk-toggleable__content pre {margin: 0.2em;color: black;border-radius: 0.25em;background-color: #f0f8ff;}#sk-container-id-1 input.sk-toggleable__control:checked~div.sk-toggleable__content {max-height: 200px;max-width: 100%;overflow: auto;}#sk-container-id-1 input.sk-toggleable__control:checked~label.sk-toggleable__label-arrow:before {content: \"▾\";}#sk-container-id-1 div.sk-estimator input.sk-toggleable__control:checked~label.sk-toggleable__label {background-color: #d4ebff;}#sk-container-id-1 div.sk-label input.sk-toggleable__control:checked~label.sk-toggleable__label {background-color: #d4ebff;}#sk-container-id-1 input.sk-hidden--visually {border: 0;clip: rect(1px 1px 1px 1px);clip: rect(1px, 1px, 1px, 1px);height: 1px;margin: -1px;overflow: hidden;padding: 0;position: absolute;width: 1px;}#sk-container-id-1 div.sk-estimator {font-family: monospace;background-color: #f0f8ff;border: 1px dotted black;border-radius: 0.25em;box-sizing: border-box;margin-bottom: 0.5em;}#sk-container-id-1 div.sk-estimator:hover {background-color: #d4ebff;}#sk-container-id-1 div.sk-parallel-item::after {content: \"\";width: 100%;border-bottom: 1px solid gray;flex-grow: 1;}#sk-container-id-1 div.sk-label:hover label.sk-toggleable__label {background-color: #d4ebff;}#sk-container-id-1 div.sk-serial::before {content: \"\";position: absolute;border-left: 1px solid gray;box-sizing: border-box;top: 0;bottom: 0;left: 50%;z-index: 0;}#sk-container-id-1 div.sk-serial {display: flex;flex-direction: column;align-items: center;background-color: white;padding-right: 0.2em;padding-left: 0.2em;position: relative;}#sk-container-id-1 div.sk-item {position: relative;z-index: 1;}#sk-container-id-1 div.sk-parallel {display: flex;align-items: stretch;justify-content: center;background-color: white;position: relative;}#sk-container-id-1 div.sk-item::before, #sk-container-id-1 div.sk-parallel-item::before {content: \"\";position: absolute;border-left: 1px solid gray;box-sizing: border-box;top: 0;bottom: 0;left: 50%;z-index: -1;}#sk-container-id-1 div.sk-parallel-item {display: flex;flex-direction: column;z-index: 1;position: relative;background-color: white;}#sk-container-id-1 div.sk-parallel-item:first-child::after {align-self: flex-end;width: 50%;}#sk-container-id-1 div.sk-parallel-item:last-child::after {align-self: flex-start;width: 50%;}#sk-container-id-1 div.sk-parallel-item:only-child::after {width: 0;}#sk-container-id-1 div.sk-dashed-wrapped {border: 1px dashed gray;margin: 0 0.4em 0.5em 0.4em;box-sizing: border-box;padding-bottom: 0.4em;background-color: white;}#sk-container-id-1 div.sk-label label {font-family: monospace;font-weight: bold;display: inline-block;line-height: 1.2em;}#sk-container-id-1 div.sk-label-container {text-align: center;}#sk-container-id-1 div.sk-container {/* jupyter's `normalize.less` sets `[hidden] { display: none; }` but bootstrap.min.css set `[hidden] { display: none !important; }` so we also need the `!important` here to be able to override the default hidden behavior on the sphinx rendered scikit-learn.org. See: https://github.com/scikit-learn/scikit-learn/issues/21755 */display: inline-block !important;position: relative;}#sk-container-id-1 div.sk-text-repr-fallback {display: none;}</style><div id=\"sk-container-id-1\" class=\"sk-top-container\"><div class=\"sk-text-repr-fallback\"><pre>StandardScaler()</pre><b>In a Jupyter environment, please rerun this cell to show the HTML representation or trust the notebook. <br />On GitHub, the HTML representation is unable to render, please try loading this page with nbviewer.org.</b></div><div class=\"sk-container\" hidden><div class=\"sk-item\"><div class=\"sk-estimator sk-toggleable\"><input class=\"sk-toggleable__control sk-hidden--visually\" id=\"sk-estimator-id-1\" type=\"checkbox\" checked><label for=\"sk-estimator-id-1\" class=\"sk-toggleable__label sk-toggleable__label-arrow\">StandardScaler</label><div class=\"sk-toggleable__content\"><pre>StandardScaler()</pre></div></div></div></div></div>"
      ],
      "text/plain": [
       "StandardScaler()"
      ]
     },
     "execution_count": 8,
     "metadata": {},
     "output_type": "execute_result"
    }
   ],
   "source": [
    "### - 수치 피쳐 값의 범위 차가 큼 ==> Scaling 진행\n",
    "ssScaler = StandardScaler()\n",
    "ssScaler.fit(X_train)"
   ]
  },
  {
   "cell_type": "code",
   "execution_count": 9,
   "metadata": {},
   "outputs": [],
   "source": [
    "X_train_scaled = ssScaler.transform(X_train)\n",
    "X_test_Scaled = ssScaler.transform(X_test)"
   ]
  },
  {
   "cell_type": "markdown",
   "metadata": {},
   "source": [
    "[4] 학습 진행 ==> 교차검증으로 진행"
   ]
  },
  {
   "cell_type": "code",
   "execution_count": 29,
   "metadata": {},
   "outputs": [],
   "source": [
    "from sklearn.model_selection import cross_validate\n",
    "from sklearn.linear_model import Ridge\n",
    "from sklearn.linear_model import Lasso"
   ]
  },
  {
   "cell_type": "code",
   "execution_count": 12,
   "metadata": {},
   "outputs": [],
   "source": []
  },
  {
   "cell_type": "code",
   "execution_count": 28,
   "metadata": {},
   "outputs": [
    {
     "name": "stdout",
     "output_type": "stream",
     "text": [
      "[-1.39035961  1.53043843  0.11109741  0.6621853  -2.29024619  2.34249774\n",
      "  0.10030677 -3.52062389  2.57481444 -2.20749462 -1.86406784  1.03607796\n",
      " -3.48102887]\n",
      "[-1.39035961  1.53043843  0.11109741  0.6621853  -2.29024619  2.34249774\n",
      "  0.10030677 -3.52062389  2.57481444 -2.20749462 -1.86406784  1.03607796\n",
      " -3.48102887]\n",
      "[-1.39035961  1.53043843  0.11109741  0.6621853  -2.29024619  2.34249774\n",
      "  0.10030677 -3.52062389  2.57481444 -2.20749462 -1.86406784  1.03607796\n",
      " -3.48102887]\n",
      "[-1.39035961  1.53043843  0.11109741  0.6621853  -2.29024619  2.34249774\n",
      "  0.10030677 -3.52062389  2.57481444 -2.20749462 -1.86406784  1.03607796\n",
      " -3.48102887]\n"
     ]
    }
   ],
   "source": [
    "### 모델 성능을 좌우하는 Hyper-parameter 제어 즉, 튜닝\n",
    "alpha_values = [0.,1.0,10,100]\n",
    "\n",
    "for value in alpha_values:\n",
    "    ridge_model = Ridge(alpha=value)\n",
    "# 모델 인스턴스 생성\n",
    "    ridge_model = Ridge(alpha=1.0) # 기본값 1.0\n",
    "\n",
    "# 학습 진행\n",
    "# - cv : 3개\n",
    "# - scoring : 'mean_squared_error', 'r2'\n",
    "# return_train_score\n",
    "    result = cross_validate(ridge_model,\n",
    "                            X_train_scaled,y_train,\n",
    "                            cv = 3,\n",
    "                            scoring=['neg_mean_squared_error','r2'],\n",
    "                            return_train_score=True,\n",
    "                            return_estimator=True)\n",
    "    \n",
    "    resultDF = pd.DataFrame(result)[['test_r2', 'train_r2']]\n",
    "\n",
    "    resultDF['diff'] = abs(resultDF['test_r2'] - resultDF['train_r2'])\n",
    "    best_idx = resultDF['diff'].sort_values()[0]\n",
    "    # print(best_idx)\n",
    "    print(result['estimator'][0].coef_)\n",
    "    # print(f'[Ridge(alpha={value})]')\n",
    "    # print(resultDF, end='\\n\\n')"
   ]
  },
  {
   "cell_type": "code",
   "execution_count": 30,
   "metadata": {},
   "outputs": [
    {
     "name": "stdout",
     "output_type": "stream",
     "text": [
      "[-0.76918209  1.30798802 -1.3660128   0.70871821 -1.12810945  3.13078874\n",
      "  0.20140226 -3.18951128  0.40006951 -1.02796444 -1.33246342  1.05170534\n",
      " -2.85931196]\n",
      "[-0.12685525  0.         -0.68948499  0.         -0.35867851  3.50097227\n",
      " -0.         -0.         -0.02775436 -0.34045443 -1.07046702  0.47097032\n",
      " -2.11146537]\n",
      "[-0.  0. -0.  0. -0.  0. -0.  0. -0. -0. -0.  0. -0.]\n",
      "[-0.  0. -0.  0. -0.  0. -0.  0. -0. -0. -0.  0. -0.]\n"
     ]
    },
    {
     "name": "stderr",
     "output_type": "stream",
     "text": [
      "c:\\Users\\kjy19\\anaconda3\\envs\\ML_38\\lib\\site-packages\\sklearn\\base.py:1151: UserWarning: With alpha=0, this algorithm does not converge well. You are advised to use the LinearRegression estimator\n",
      "  return fit_method(estimator, *args, **kwargs)\n",
      "c:\\Users\\kjy19\\anaconda3\\envs\\ML_38\\lib\\site-packages\\sklearn\\linear_model\\_coordinate_descent.py:628: UserWarning: Coordinate descent with no regularization may lead to unexpected results and is discouraged.\n",
      "  model = cd_fast.enet_coordinate_descent(\n",
      "c:\\Users\\kjy19\\anaconda3\\envs\\ML_38\\lib\\site-packages\\sklearn\\linear_model\\_coordinate_descent.py:628: ConvergenceWarning: Objective did not converge. You might want to increase the number of iterations, check the scale of the features or consider increasing regularisation. Duality gap: 2.779e+03, tolerance: 2.078e+00 Linear regression models with null weight for the l1 regularization term are more efficiently fitted using one of the solvers implemented in sklearn.linear_model.Ridge/RidgeCV instead.\n",
      "  model = cd_fast.enet_coordinate_descent(\n",
      "c:\\Users\\kjy19\\anaconda3\\envs\\ML_38\\lib\\site-packages\\sklearn\\base.py:1151: UserWarning: With alpha=0, this algorithm does not converge well. You are advised to use the LinearRegression estimator\n",
      "  return fit_method(estimator, *args, **kwargs)\n",
      "c:\\Users\\kjy19\\anaconda3\\envs\\ML_38\\lib\\site-packages\\sklearn\\linear_model\\_coordinate_descent.py:628: UserWarning: Coordinate descent with no regularization may lead to unexpected results and is discouraged.\n",
      "  model = cd_fast.enet_coordinate_descent(\n",
      "c:\\Users\\kjy19\\anaconda3\\envs\\ML_38\\lib\\site-packages\\sklearn\\linear_model\\_coordinate_descent.py:628: ConvergenceWarning: Objective did not converge. You might want to increase the number of iterations, check the scale of the features or consider increasing regularisation. Duality gap: 2.500e+03, tolerance: 1.772e+00 Linear regression models with null weight for the l1 regularization term are more efficiently fitted using one of the solvers implemented in sklearn.linear_model.Ridge/RidgeCV instead.\n",
      "  model = cd_fast.enet_coordinate_descent(\n",
      "c:\\Users\\kjy19\\anaconda3\\envs\\ML_38\\lib\\site-packages\\sklearn\\base.py:1151: UserWarning: With alpha=0, this algorithm does not converge well. You are advised to use the LinearRegression estimator\n",
      "  return fit_method(estimator, *args, **kwargs)\n",
      "c:\\Users\\kjy19\\anaconda3\\envs\\ML_38\\lib\\site-packages\\sklearn\\linear_model\\_coordinate_descent.py:628: UserWarning: Coordinate descent with no regularization may lead to unexpected results and is discouraged.\n",
      "  model = cd_fast.enet_coordinate_descent(\n",
      "c:\\Users\\kjy19\\anaconda3\\envs\\ML_38\\lib\\site-packages\\sklearn\\linear_model\\_coordinate_descent.py:628: ConvergenceWarning: Objective did not converge. You might want to increase the number of iterations, check the scale of the features or consider increasing regularisation. Duality gap: 2.460e+03, tolerance: 2.045e+00 Linear regression models with null weight for the l1 regularization term are more efficiently fitted using one of the solvers implemented in sklearn.linear_model.Ridge/RidgeCV instead.\n",
      "  model = cd_fast.enet_coordinate_descent(\n",
      "c:\\Users\\kjy19\\anaconda3\\envs\\ML_38\\lib\\site-packages\\sklearn\\linear_model\\_coordinate_descent.py:628: ConvergenceWarning: Objective did not converge. You might want to increase the number of iterations, check the scale of the features or consider increasing regularisation. Duality gap: 8.691e+02, tolerance: 2.078e+00\n",
      "  model = cd_fast.enet_coordinate_descent(\n",
      "c:\\Users\\kjy19\\anaconda3\\envs\\ML_38\\lib\\site-packages\\sklearn\\linear_model\\_coordinate_descent.py:628: ConvergenceWarning: Objective did not converge. You might want to increase the number of iterations, check the scale of the features or consider increasing regularisation. Duality gap: 6.640e+02, tolerance: 1.772e+00\n",
      "  model = cd_fast.enet_coordinate_descent(\n",
      "c:\\Users\\kjy19\\anaconda3\\envs\\ML_38\\lib\\site-packages\\sklearn\\linear_model\\_coordinate_descent.py:628: ConvergenceWarning: Objective did not converge. You might want to increase the number of iterations, check the scale of the features or consider increasing regularisation. Duality gap: 1.011e+03, tolerance: 2.045e+00\n",
      "  model = cd_fast.enet_coordinate_descent(\n"
     ]
    }
   ],
   "source": [
    "alpha_values = [0.,1.0,10,100]\n",
    "for value in alpha_values:\n",
    "    ridge_model = Lasso(alpha=value, max_iter=3) # 기본값 1.0\n",
    "\n",
    "    result = cross_validate(ridge_model,\n",
    "                            X_train_scaled,y_train,\n",
    "                            cv = 3,\n",
    "                            scoring=['neg_mean_squared_error','r2'],\n",
    "                            return_train_score=True,\n",
    "                            return_estimator=True)\n",
    "    \n",
    "    resultDF = pd.DataFrame(result)[['test_r2', 'train_r2']]\n",
    "\n",
    "    resultDF['diff'] = abs(resultDF['test_r2'] - resultDF['train_r2'])\n",
    "    best_idx = resultDF['diff'].sort_values()[0]\n",
    "    # print(best_idx)\n",
    "    print(result['estimator'][0].coef_)\n",
    "    # print(f'[Ridge(alpha={value})]')\n",
    "    # print(resultDF, end='\\n\\n')"
   ]
  },
  {
   "cell_type": "markdown",
   "metadata": {},
   "source": [
    "- 하이퍼 파라미터 튜닝과 교차 검증을 동시에 진행"
   ]
  },
  {
   "cell_type": "code",
   "execution_count": 31,
   "metadata": {},
   "outputs": [],
   "source": [
    "from sklearn.model_selection import GridSearchCV"
   ]
  },
  {
   "cell_type": "code",
   "execution_count": 32,
   "metadata": {},
   "outputs": [],
   "source": [
    "# Ridge의 Hyper-parameter 값 설정\n",
    "params = {'alpha':[0.,0.1,0.5,1.0],\n",
    "          'max_iter':[3,5]}\n",
    "    # (self) 8개의 모델이 만들어진다. 조합이 되는 것.\n",
    "    # ==> 0., 3 => model    #==> 0., 5 -> Model\n",
    "    # ==> 0.1, 3 => model    #==> 0.1, 5 -> Model\n",
    "    # ==> 0.5, 3 => model    #==> 0.5, 5 -> Model\n",
    "    # ==> 1.0, 3 => model    #==> 1.0, 5 -> Model\n",
    "    # ==> 8개의 Ridge 모델 생성"
   ]
  },
  {
   "cell_type": "code",
   "execution_count": 34,
   "metadata": {},
   "outputs": [],
   "source": [
    "# 인스턴스 생성\n",
    "rModel = Ridge()\n",
    "\n",
    "searchCV = GridSearchCV(rModel, params, cv =3, verbose=True, return_train_score=True)"
   ]
  },
  {
   "cell_type": "code",
   "execution_count": 35,
   "metadata": {},
   "outputs": [
    {
     "name": "stdout",
     "output_type": "stream",
     "text": [
      "Fitting 3 folds for each of 8 candidates, totalling 24 fits\n"
     ]
    },
    {
     "data": {
      "text/html": [
       "<style>#sk-container-id-2 {color: black;}#sk-container-id-2 pre{padding: 0;}#sk-container-id-2 div.sk-toggleable {background-color: white;}#sk-container-id-2 label.sk-toggleable__label {cursor: pointer;display: block;width: 100%;margin-bottom: 0;padding: 0.3em;box-sizing: border-box;text-align: center;}#sk-container-id-2 label.sk-toggleable__label-arrow:before {content: \"▸\";float: left;margin-right: 0.25em;color: #696969;}#sk-container-id-2 label.sk-toggleable__label-arrow:hover:before {color: black;}#sk-container-id-2 div.sk-estimator:hover label.sk-toggleable__label-arrow:before {color: black;}#sk-container-id-2 div.sk-toggleable__content {max-height: 0;max-width: 0;overflow: hidden;text-align: left;background-color: #f0f8ff;}#sk-container-id-2 div.sk-toggleable__content pre {margin: 0.2em;color: black;border-radius: 0.25em;background-color: #f0f8ff;}#sk-container-id-2 input.sk-toggleable__control:checked~div.sk-toggleable__content {max-height: 200px;max-width: 100%;overflow: auto;}#sk-container-id-2 input.sk-toggleable__control:checked~label.sk-toggleable__label-arrow:before {content: \"▾\";}#sk-container-id-2 div.sk-estimator input.sk-toggleable__control:checked~label.sk-toggleable__label {background-color: #d4ebff;}#sk-container-id-2 div.sk-label input.sk-toggleable__control:checked~label.sk-toggleable__label {background-color: #d4ebff;}#sk-container-id-2 input.sk-hidden--visually {border: 0;clip: rect(1px 1px 1px 1px);clip: rect(1px, 1px, 1px, 1px);height: 1px;margin: -1px;overflow: hidden;padding: 0;position: absolute;width: 1px;}#sk-container-id-2 div.sk-estimator {font-family: monospace;background-color: #f0f8ff;border: 1px dotted black;border-radius: 0.25em;box-sizing: border-box;margin-bottom: 0.5em;}#sk-container-id-2 div.sk-estimator:hover {background-color: #d4ebff;}#sk-container-id-2 div.sk-parallel-item::after {content: \"\";width: 100%;border-bottom: 1px solid gray;flex-grow: 1;}#sk-container-id-2 div.sk-label:hover label.sk-toggleable__label {background-color: #d4ebff;}#sk-container-id-2 div.sk-serial::before {content: \"\";position: absolute;border-left: 1px solid gray;box-sizing: border-box;top: 0;bottom: 0;left: 50%;z-index: 0;}#sk-container-id-2 div.sk-serial {display: flex;flex-direction: column;align-items: center;background-color: white;padding-right: 0.2em;padding-left: 0.2em;position: relative;}#sk-container-id-2 div.sk-item {position: relative;z-index: 1;}#sk-container-id-2 div.sk-parallel {display: flex;align-items: stretch;justify-content: center;background-color: white;position: relative;}#sk-container-id-2 div.sk-item::before, #sk-container-id-2 div.sk-parallel-item::before {content: \"\";position: absolute;border-left: 1px solid gray;box-sizing: border-box;top: 0;bottom: 0;left: 50%;z-index: -1;}#sk-container-id-2 div.sk-parallel-item {display: flex;flex-direction: column;z-index: 1;position: relative;background-color: white;}#sk-container-id-2 div.sk-parallel-item:first-child::after {align-self: flex-end;width: 50%;}#sk-container-id-2 div.sk-parallel-item:last-child::after {align-self: flex-start;width: 50%;}#sk-container-id-2 div.sk-parallel-item:only-child::after {width: 0;}#sk-container-id-2 div.sk-dashed-wrapped {border: 1px dashed gray;margin: 0 0.4em 0.5em 0.4em;box-sizing: border-box;padding-bottom: 0.4em;background-color: white;}#sk-container-id-2 div.sk-label label {font-family: monospace;font-weight: bold;display: inline-block;line-height: 1.2em;}#sk-container-id-2 div.sk-label-container {text-align: center;}#sk-container-id-2 div.sk-container {/* jupyter's `normalize.less` sets `[hidden] { display: none; }` but bootstrap.min.css set `[hidden] { display: none !important; }` so we also need the `!important` here to be able to override the default hidden behavior on the sphinx rendered scikit-learn.org. See: https://github.com/scikit-learn/scikit-learn/issues/21755 */display: inline-block !important;position: relative;}#sk-container-id-2 div.sk-text-repr-fallback {display: none;}</style><div id=\"sk-container-id-2\" class=\"sk-top-container\"><div class=\"sk-text-repr-fallback\"><pre>GridSearchCV(cv=3, estimator=Ridge(),\n",
       "             param_grid={&#x27;alpha&#x27;: [0.0, 0.1, 0.5, 1.0], &#x27;max_iter&#x27;: [3, 5]},\n",
       "             return_train_score=True, verbose=True)</pre><b>In a Jupyter environment, please rerun this cell to show the HTML representation or trust the notebook. <br />On GitHub, the HTML representation is unable to render, please try loading this page with nbviewer.org.</b></div><div class=\"sk-container\" hidden><div class=\"sk-item sk-dashed-wrapped\"><div class=\"sk-label-container\"><div class=\"sk-label sk-toggleable\"><input class=\"sk-toggleable__control sk-hidden--visually\" id=\"sk-estimator-id-2\" type=\"checkbox\" ><label for=\"sk-estimator-id-2\" class=\"sk-toggleable__label sk-toggleable__label-arrow\">GridSearchCV</label><div class=\"sk-toggleable__content\"><pre>GridSearchCV(cv=3, estimator=Ridge(),\n",
       "             param_grid={&#x27;alpha&#x27;: [0.0, 0.1, 0.5, 1.0], &#x27;max_iter&#x27;: [3, 5]},\n",
       "             return_train_score=True, verbose=True)</pre></div></div></div><div class=\"sk-parallel\"><div class=\"sk-parallel-item\"><div class=\"sk-item\"><div class=\"sk-label-container\"><div class=\"sk-label sk-toggleable\"><input class=\"sk-toggleable__control sk-hidden--visually\" id=\"sk-estimator-id-3\" type=\"checkbox\" ><label for=\"sk-estimator-id-3\" class=\"sk-toggleable__label sk-toggleable__label-arrow\">estimator: Ridge</label><div class=\"sk-toggleable__content\"><pre>Ridge()</pre></div></div></div><div class=\"sk-serial\"><div class=\"sk-item\"><div class=\"sk-estimator sk-toggleable\"><input class=\"sk-toggleable__control sk-hidden--visually\" id=\"sk-estimator-id-4\" type=\"checkbox\" ><label for=\"sk-estimator-id-4\" class=\"sk-toggleable__label sk-toggleable__label-arrow\">Ridge</label><div class=\"sk-toggleable__content\"><pre>Ridge()</pre></div></div></div></div></div></div></div></div></div></div>"
      ],
      "text/plain": [
       "GridSearchCV(cv=3, estimator=Ridge(),\n",
       "             param_grid={'alpha': [0.0, 0.1, 0.5, 1.0], 'max_iter': [3, 5]},\n",
       "             return_train_score=True, verbose=True)"
      ]
     },
     "execution_count": 35,
     "metadata": {},
     "output_type": "execute_result"
    }
   ],
   "source": [
    "searchCV.fit(X_train_scaled, y_train)"
   ]
  },
  {
   "cell_type": "code",
   "execution_count": 36,
   "metadata": {},
   "outputs": [
    {
     "data": {
      "text/plain": [
       "{'alpha': 1.0, 'max_iter': 3}"
      ]
     },
     "execution_count": 36,
     "metadata": {},
     "output_type": "execute_result"
    }
   ],
   "source": [
    "# fit() 진행 후 모델 파라미터 확인\n",
    "searchCV.best_params_"
   ]
  },
  {
   "cell_type": "code",
   "execution_count": 37,
   "metadata": {},
   "outputs": [
    {
     "data": {
      "text/plain": [
       "6"
      ]
     },
     "execution_count": 37,
     "metadata": {},
     "output_type": "execute_result"
    }
   ],
   "source": [
    "searchCV.best_index_"
   ]
  },
  {
   "cell_type": "code",
   "execution_count": 40,
   "metadata": {},
   "outputs": [
    {
     "data": {
      "text/html": [
       "<style>#sk-container-id-3 {color: black;}#sk-container-id-3 pre{padding: 0;}#sk-container-id-3 div.sk-toggleable {background-color: white;}#sk-container-id-3 label.sk-toggleable__label {cursor: pointer;display: block;width: 100%;margin-bottom: 0;padding: 0.3em;box-sizing: border-box;text-align: center;}#sk-container-id-3 label.sk-toggleable__label-arrow:before {content: \"▸\";float: left;margin-right: 0.25em;color: #696969;}#sk-container-id-3 label.sk-toggleable__label-arrow:hover:before {color: black;}#sk-container-id-3 div.sk-estimator:hover label.sk-toggleable__label-arrow:before {color: black;}#sk-container-id-3 div.sk-toggleable__content {max-height: 0;max-width: 0;overflow: hidden;text-align: left;background-color: #f0f8ff;}#sk-container-id-3 div.sk-toggleable__content pre {margin: 0.2em;color: black;border-radius: 0.25em;background-color: #f0f8ff;}#sk-container-id-3 input.sk-toggleable__control:checked~div.sk-toggleable__content {max-height: 200px;max-width: 100%;overflow: auto;}#sk-container-id-3 input.sk-toggleable__control:checked~label.sk-toggleable__label-arrow:before {content: \"▾\";}#sk-container-id-3 div.sk-estimator input.sk-toggleable__control:checked~label.sk-toggleable__label {background-color: #d4ebff;}#sk-container-id-3 div.sk-label input.sk-toggleable__control:checked~label.sk-toggleable__label {background-color: #d4ebff;}#sk-container-id-3 input.sk-hidden--visually {border: 0;clip: rect(1px 1px 1px 1px);clip: rect(1px, 1px, 1px, 1px);height: 1px;margin: -1px;overflow: hidden;padding: 0;position: absolute;width: 1px;}#sk-container-id-3 div.sk-estimator {font-family: monospace;background-color: #f0f8ff;border: 1px dotted black;border-radius: 0.25em;box-sizing: border-box;margin-bottom: 0.5em;}#sk-container-id-3 div.sk-estimator:hover {background-color: #d4ebff;}#sk-container-id-3 div.sk-parallel-item::after {content: \"\";width: 100%;border-bottom: 1px solid gray;flex-grow: 1;}#sk-container-id-3 div.sk-label:hover label.sk-toggleable__label {background-color: #d4ebff;}#sk-container-id-3 div.sk-serial::before {content: \"\";position: absolute;border-left: 1px solid gray;box-sizing: border-box;top: 0;bottom: 0;left: 50%;z-index: 0;}#sk-container-id-3 div.sk-serial {display: flex;flex-direction: column;align-items: center;background-color: white;padding-right: 0.2em;padding-left: 0.2em;position: relative;}#sk-container-id-3 div.sk-item {position: relative;z-index: 1;}#sk-container-id-3 div.sk-parallel {display: flex;align-items: stretch;justify-content: center;background-color: white;position: relative;}#sk-container-id-3 div.sk-item::before, #sk-container-id-3 div.sk-parallel-item::before {content: \"\";position: absolute;border-left: 1px solid gray;box-sizing: border-box;top: 0;bottom: 0;left: 50%;z-index: -1;}#sk-container-id-3 div.sk-parallel-item {display: flex;flex-direction: column;z-index: 1;position: relative;background-color: white;}#sk-container-id-3 div.sk-parallel-item:first-child::after {align-self: flex-end;width: 50%;}#sk-container-id-3 div.sk-parallel-item:last-child::after {align-self: flex-start;width: 50%;}#sk-container-id-3 div.sk-parallel-item:only-child::after {width: 0;}#sk-container-id-3 div.sk-dashed-wrapped {border: 1px dashed gray;margin: 0 0.4em 0.5em 0.4em;box-sizing: border-box;padding-bottom: 0.4em;background-color: white;}#sk-container-id-3 div.sk-label label {font-family: monospace;font-weight: bold;display: inline-block;line-height: 1.2em;}#sk-container-id-3 div.sk-label-container {text-align: center;}#sk-container-id-3 div.sk-container {/* jupyter's `normalize.less` sets `[hidden] { display: none; }` but bootstrap.min.css set `[hidden] { display: none !important; }` so we also need the `!important` here to be able to override the default hidden behavior on the sphinx rendered scikit-learn.org. See: https://github.com/scikit-learn/scikit-learn/issues/21755 */display: inline-block !important;position: relative;}#sk-container-id-3 div.sk-text-repr-fallback {display: none;}</style><div id=\"sk-container-id-3\" class=\"sk-top-container\"><div class=\"sk-text-repr-fallback\"><pre>Ridge(max_iter=3)</pre><b>In a Jupyter environment, please rerun this cell to show the HTML representation or trust the notebook. <br />On GitHub, the HTML representation is unable to render, please try loading this page with nbviewer.org.</b></div><div class=\"sk-container\" hidden><div class=\"sk-item\"><div class=\"sk-estimator sk-toggleable\"><input class=\"sk-toggleable__control sk-hidden--visually\" id=\"sk-estimator-id-5\" type=\"checkbox\" checked><label for=\"sk-estimator-id-5\" class=\"sk-toggleable__label sk-toggleable__label-arrow\">Ridge</label><div class=\"sk-toggleable__content\"><pre>Ridge(max_iter=3)</pre></div></div></div></div></div>"
      ],
      "text/plain": [
       "Ridge(max_iter=3)"
      ]
     },
     "execution_count": 40,
     "metadata": {},
     "output_type": "execute_result"
    }
   ],
   "source": [
    "bestModel = searchCV.best_estimator_\n",
    "bestModel"
   ]
  },
  {
   "cell_type": "code",
   "execution_count": 41,
   "metadata": {},
   "outputs": [
    {
     "data": {
      "text/html": [
       "<div>\n",
       "<style scoped>\n",
       "    .dataframe tbody tr th:only-of-type {\n",
       "        vertical-align: middle;\n",
       "    }\n",
       "\n",
       "    .dataframe tbody tr th {\n",
       "        vertical-align: top;\n",
       "    }\n",
       "\n",
       "    .dataframe thead th {\n",
       "        text-align: right;\n",
       "    }\n",
       "</style>\n",
       "<table border=\"1\" class=\"dataframe\">\n",
       "  <thead>\n",
       "    <tr style=\"text-align: right;\">\n",
       "      <th></th>\n",
       "      <th>mean_fit_time</th>\n",
       "      <th>std_fit_time</th>\n",
       "      <th>mean_score_time</th>\n",
       "      <th>std_score_time</th>\n",
       "      <th>param_alpha</th>\n",
       "      <th>param_max_iter</th>\n",
       "      <th>params</th>\n",
       "      <th>split0_test_score</th>\n",
       "      <th>split1_test_score</th>\n",
       "      <th>split2_test_score</th>\n",
       "      <th>mean_test_score</th>\n",
       "      <th>std_test_score</th>\n",
       "      <th>rank_test_score</th>\n",
       "      <th>split0_train_score</th>\n",
       "      <th>split1_train_score</th>\n",
       "      <th>split2_train_score</th>\n",
       "      <th>mean_train_score</th>\n",
       "      <th>std_train_score</th>\n",
       "    </tr>\n",
       "  </thead>\n",
       "  <tbody>\n",
       "    <tr>\n",
       "      <th>0</th>\n",
       "      <td>0.001671</td>\n",
       "      <td>4.728315e-04</td>\n",
       "      <td>0.001003</td>\n",
       "      <td>1.123916e-07</td>\n",
       "      <td>0.0</td>\n",
       "      <td>3</td>\n",
       "      <td>{'alpha': 0.0, 'max_iter': 3}</td>\n",
       "      <td>0.747022</td>\n",
       "      <td>0.756482</td>\n",
       "      <td>0.680801</td>\n",
       "      <td>0.728101</td>\n",
       "      <td>0.033669</td>\n",
       "      <td>7</td>\n",
       "      <td>0.755720</td>\n",
       "      <td>0.740082</td>\n",
       "      <td>0.786156</td>\n",
       "      <td>0.760653</td>\n",
       "      <td>0.019131</td>\n",
       "    </tr>\n",
       "    <tr>\n",
       "      <th>1</th>\n",
       "      <td>0.001663</td>\n",
       "      <td>4.845202e-04</td>\n",
       "      <td>0.000334</td>\n",
       "      <td>4.721571e-04</td>\n",
       "      <td>0.0</td>\n",
       "      <td>5</td>\n",
       "      <td>{'alpha': 0.0, 'max_iter': 5}</td>\n",
       "      <td>0.747022</td>\n",
       "      <td>0.756482</td>\n",
       "      <td>0.680801</td>\n",
       "      <td>0.728101</td>\n",
       "      <td>0.033669</td>\n",
       "      <td>7</td>\n",
       "      <td>0.755720</td>\n",
       "      <td>0.740082</td>\n",
       "      <td>0.786156</td>\n",
       "      <td>0.760653</td>\n",
       "      <td>0.019131</td>\n",
       "    </tr>\n",
       "    <tr>\n",
       "      <th>2</th>\n",
       "      <td>0.002005</td>\n",
       "      <td>1.123916e-07</td>\n",
       "      <td>0.000000</td>\n",
       "      <td>0.000000e+00</td>\n",
       "      <td>0.1</td>\n",
       "      <td>3</td>\n",
       "      <td>{'alpha': 0.1, 'max_iter': 3}</td>\n",
       "      <td>0.747159</td>\n",
       "      <td>0.756462</td>\n",
       "      <td>0.680831</td>\n",
       "      <td>0.728151</td>\n",
       "      <td>0.033675</td>\n",
       "      <td>5</td>\n",
       "      <td>0.755720</td>\n",
       "      <td>0.740081</td>\n",
       "      <td>0.786156</td>\n",
       "      <td>0.760652</td>\n",
       "      <td>0.019131</td>\n",
       "    </tr>\n",
       "    <tr>\n",
       "      <th>3</th>\n",
       "      <td>0.001003</td>\n",
       "      <td>1.123916e-07</td>\n",
       "      <td>0.001002</td>\n",
       "      <td>2.973602e-07</td>\n",
       "      <td>0.1</td>\n",
       "      <td>5</td>\n",
       "      <td>{'alpha': 0.1, 'max_iter': 5}</td>\n",
       "      <td>0.747159</td>\n",
       "      <td>0.756462</td>\n",
       "      <td>0.680831</td>\n",
       "      <td>0.728151</td>\n",
       "      <td>0.033675</td>\n",
       "      <td>5</td>\n",
       "      <td>0.755720</td>\n",
       "      <td>0.740081</td>\n",
       "      <td>0.786156</td>\n",
       "      <td>0.760652</td>\n",
       "      <td>0.019131</td>\n",
       "    </tr>\n",
       "    <tr>\n",
       "      <th>4</th>\n",
       "      <td>0.001003</td>\n",
       "      <td>1.946680e-07</td>\n",
       "      <td>0.001003</td>\n",
       "      <td>4.052337e-07</td>\n",
       "      <td>0.5</td>\n",
       "      <td>3</td>\n",
       "      <td>{'alpha': 0.5, 'max_iter': 3}</td>\n",
       "      <td>0.747682</td>\n",
       "      <td>0.756385</td>\n",
       "      <td>0.680927</td>\n",
       "      <td>0.728331</td>\n",
       "      <td>0.033708</td>\n",
       "      <td>3</td>\n",
       "      <td>0.755705</td>\n",
       "      <td>0.740070</td>\n",
       "      <td>0.786141</td>\n",
       "      <td>0.760639</td>\n",
       "      <td>0.019129</td>\n",
       "    </tr>\n",
       "    <tr>\n",
       "      <th>5</th>\n",
       "      <td>0.001337</td>\n",
       "      <td>4.726067e-04</td>\n",
       "      <td>0.000343</td>\n",
       "      <td>4.846326e-04</td>\n",
       "      <td>0.5</td>\n",
       "      <td>5</td>\n",
       "      <td>{'alpha': 0.5, 'max_iter': 5}</td>\n",
       "      <td>0.747682</td>\n",
       "      <td>0.756385</td>\n",
       "      <td>0.680927</td>\n",
       "      <td>0.728331</td>\n",
       "      <td>0.033708</td>\n",
       "      <td>3</td>\n",
       "      <td>0.755705</td>\n",
       "      <td>0.740070</td>\n",
       "      <td>0.786141</td>\n",
       "      <td>0.760639</td>\n",
       "      <td>0.019129</td>\n",
       "    </tr>\n",
       "    <tr>\n",
       "      <th>6</th>\n",
       "      <td>0.001003</td>\n",
       "      <td>2.247832e-07</td>\n",
       "      <td>0.001003</td>\n",
       "      <td>1.946680e-07</td>\n",
       "      <td>1.0</td>\n",
       "      <td>3</td>\n",
       "      <td>{'alpha': 1.0, 'max_iter': 3}</td>\n",
       "      <td>0.748283</td>\n",
       "      <td>0.756292</td>\n",
       "      <td>0.680991</td>\n",
       "      <td>0.728522</td>\n",
       "      <td>0.033768</td>\n",
       "      <td>1</td>\n",
       "      <td>0.755663</td>\n",
       "      <td>0.740039</td>\n",
       "      <td>0.786097</td>\n",
       "      <td>0.760600</td>\n",
       "      <td>0.019124</td>\n",
       "    </tr>\n",
       "    <tr>\n",
       "      <th>7</th>\n",
       "      <td>0.001002</td>\n",
       "      <td>2.973602e-07</td>\n",
       "      <td>0.000677</td>\n",
       "      <td>4.788495e-04</td>\n",
       "      <td>1.0</td>\n",
       "      <td>5</td>\n",
       "      <td>{'alpha': 1.0, 'max_iter': 5}</td>\n",
       "      <td>0.748283</td>\n",
       "      <td>0.756292</td>\n",
       "      <td>0.680991</td>\n",
       "      <td>0.728522</td>\n",
       "      <td>0.033768</td>\n",
       "      <td>1</td>\n",
       "      <td>0.755663</td>\n",
       "      <td>0.740039</td>\n",
       "      <td>0.786097</td>\n",
       "      <td>0.760600</td>\n",
       "      <td>0.019124</td>\n",
       "    </tr>\n",
       "  </tbody>\n",
       "</table>\n",
       "</div>"
      ],
      "text/plain": [
       "   mean_fit_time  std_fit_time  mean_score_time  std_score_time param_alpha  \\\n",
       "0       0.001671  4.728315e-04         0.001003    1.123916e-07         0.0   \n",
       "1       0.001663  4.845202e-04         0.000334    4.721571e-04         0.0   \n",
       "2       0.002005  1.123916e-07         0.000000    0.000000e+00         0.1   \n",
       "3       0.001003  1.123916e-07         0.001002    2.973602e-07         0.1   \n",
       "4       0.001003  1.946680e-07         0.001003    4.052337e-07         0.5   \n",
       "5       0.001337  4.726067e-04         0.000343    4.846326e-04         0.5   \n",
       "6       0.001003  2.247832e-07         0.001003    1.946680e-07         1.0   \n",
       "7       0.001002  2.973602e-07         0.000677    4.788495e-04         1.0   \n",
       "\n",
       "  param_max_iter                         params  split0_test_score  \\\n",
       "0              3  {'alpha': 0.0, 'max_iter': 3}           0.747022   \n",
       "1              5  {'alpha': 0.0, 'max_iter': 5}           0.747022   \n",
       "2              3  {'alpha': 0.1, 'max_iter': 3}           0.747159   \n",
       "3              5  {'alpha': 0.1, 'max_iter': 5}           0.747159   \n",
       "4              3  {'alpha': 0.5, 'max_iter': 3}           0.747682   \n",
       "5              5  {'alpha': 0.5, 'max_iter': 5}           0.747682   \n",
       "6              3  {'alpha': 1.0, 'max_iter': 3}           0.748283   \n",
       "7              5  {'alpha': 1.0, 'max_iter': 5}           0.748283   \n",
       "\n",
       "   split1_test_score  split2_test_score  mean_test_score  std_test_score  \\\n",
       "0           0.756482           0.680801         0.728101        0.033669   \n",
       "1           0.756482           0.680801         0.728101        0.033669   \n",
       "2           0.756462           0.680831         0.728151        0.033675   \n",
       "3           0.756462           0.680831         0.728151        0.033675   \n",
       "4           0.756385           0.680927         0.728331        0.033708   \n",
       "5           0.756385           0.680927         0.728331        0.033708   \n",
       "6           0.756292           0.680991         0.728522        0.033768   \n",
       "7           0.756292           0.680991         0.728522        0.033768   \n",
       "\n",
       "   rank_test_score  split0_train_score  split1_train_score  \\\n",
       "0                7            0.755720            0.740082   \n",
       "1                7            0.755720            0.740082   \n",
       "2                5            0.755720            0.740081   \n",
       "3                5            0.755720            0.740081   \n",
       "4                3            0.755705            0.740070   \n",
       "5                3            0.755705            0.740070   \n",
       "6                1            0.755663            0.740039   \n",
       "7                1            0.755663            0.740039   \n",
       "\n",
       "   split2_train_score  mean_train_score  std_train_score  \n",
       "0            0.786156          0.760653         0.019131  \n",
       "1            0.786156          0.760653         0.019131  \n",
       "2            0.786156          0.760652         0.019131  \n",
       "3            0.786156          0.760652         0.019131  \n",
       "4            0.786141          0.760639         0.019129  \n",
       "5            0.786141          0.760639         0.019129  \n",
       "6            0.786097          0.760600         0.019124  \n",
       "7            0.786097          0.760600         0.019124  "
      ]
     },
     "execution_count": 41,
     "metadata": {},
     "output_type": "execute_result"
    },
    {
     "ename": "",
     "evalue": "",
     "output_type": "error",
     "traceback": [
      "\u001b[1;31mThe Kernel crashed while executing code in the current cell or a previous cell. \n",
      "\u001b[1;31mPlease review the code in the cell(s) to identify a possible cause of the failure. \n",
      "\u001b[1;31mClick <a href='https://aka.ms/vscodeJupyterKernelCrash'>here</a> for more info. \n",
      "\u001b[1;31mView Jupyter <a href='command:jupyter.viewOutput'>log</a> for further details."
     ]
    }
   ],
   "source": [
    "resultDF = pd.DataFrame(searchCV.cv_results_)\n",
    "resultDF"
   ]
  },
  {
   "cell_type": "code",
   "execution_count": null,
   "metadata": {},
   "outputs": [],
   "source": []
  }
 ],
 "metadata": {
  "kernelspec": {
   "display_name": "ML_38",
   "language": "python",
   "name": "python3"
  },
  "language_info": {
   "codemirror_mode": {
    "name": "ipython",
    "version": 3
   },
   "file_extension": ".py",
   "mimetype": "text/x-python",
   "name": "python",
   "nbconvert_exporter": "python",
   "pygments_lexer": "ipython3",
   "version": "3.8.19"
  }
 },
 "nbformat": 4,
 "nbformat_minor": 2
}
