{
 "cells": [
  {
   "cell_type": "markdown",
   "metadata": {},
   "source": [
    "##### - DNN기반 회귀 구현\n",
    " - 데이터셋 : IRIS.csv\n",
    " - 피쳐/속성 : 3개 Setal_Length, Sepal_Width, Petal_Width\n",
    " - 타겟/라벨 : 1개 Petal_Length\n",
    " - 학습-방법 : 지도학습 > 회귀\n",
    " - 알고 리즘 : 인공신경망(ANN) -> 심층신경망(MLP), DNN : 은닉층이 많은 구성\n",
    " - 프레임워크 : Pytorch"
   ]
  },
  {
   "cell_type": "markdown",
   "metadata": {},
   "source": [
    "[1] 모듈 로딩과 데이터 준비 <hr>"
   ]
  },
  {
   "cell_type": "code",
   "execution_count": 83,
   "metadata": {},
   "outputs": [],
   "source": [
    "# 모듈 로딩\n",
    "import torch\n",
    "import torch.nn as nn\n",
    "import torch.nn.functional as F\n",
    "from torch.utils.data import Dataset, DataLoader\n",
    "import torch.optim as optim\n",
    "from torchmetrics.regression import R2Score, MeanSquaredError\n",
    "from torchinfo import summary\n",
    " \n",
    "# Data 및 시각화 관련\n",
    "import pandas as pd\n",
    "import matplotlib.pyplot as plt\n",
    "from sklearn.preprocessing import *\n",
    "from sklearn.model_selection import train_test_split"
   ]
  },
  {
   "cell_type": "code",
   "execution_count": 84,
   "metadata": {},
   "outputs": [
    {
     "name": "stdout",
     "output_type": "stream",
     "text": [
      "torch v.2.4.1\n",
      "Pandas v.2.0.3\n"
     ]
    }
   ],
   "source": [
    "# 활용 패키지 버전 체크 ==> 사용자 정의 함수로 구현하기\n",
    "print(f'torch v.{torch.__version__}')\n",
    "print(f'Pandas v.{pd.__version__}')"
   ]
  },
  {
   "cell_type": "code",
   "execution_count": 85,
   "metadata": {},
   "outputs": [
    {
     "name": "stdout",
     "output_type": "stream",
     "text": [
      "['BATCH_SIZE', 'Binarizer', 'CNT', 'DATA_FILE', 'DEVICE', 'DataLoader', 'Dataset', 'EPOCH', 'F', 'FunctionTransformer', 'In', 'IrisDataset', 'IrisRegModel', 'KBinsDiscretizer', 'KernelCenterer', 'LOSS_HISTORY', 'LR', 'LabelBinarizer', 'LabelEncoder', 'MaxAbsScaler', 'MeanSquaredError', 'MinMaxScaler', 'MultiLabelBinarizer', 'Normalizer', 'OneHotEncoder', 'OrdinalEncoder', 'Out', 'PolynomialFeatures', 'PowerTransformer', 'QuantileTransformer', 'R2Score', 'RobustScaler', 'SCORE_HISTORY', 'SplineTransformer', 'StandardScaler', 'TargetEncoder', '_', '_14', '_22', '_25', '_30', '_37', '_40', '_45', '_53', '_56', '_6', '_61', '_63', '_69', '_72', '_77', '_9', '__', '___', '__builtin__', '__builtins__', '__doc__', '__loader__', '__name__', '__package__', '__spec__', '__vsc_ipynb_file__', '_dh', '_i', '_i1', '_i10', '_i11', '_i12', '_i13', '_i14', '_i15', '_i16', '_i17', '_i18', '_i19', '_i2', '_i20', '_i21', '_i22', '_i23', '_i24', '_i25', '_i26', '_i27', '_i28', '_i29', '_i3', '_i30', '_i31', '_i32', '_i33', '_i34', '_i35', '_i36', '_i37', '_i38', '_i39', '_i4', '_i40', '_i41', '_i42', '_i43', '_i44', '_i45', '_i46', '_i47', '_i48', '_i49', '_i5', '_i50', '_i51', '_i52', '_i53', '_i54', '_i55', '_i56', '_i57', '_i58', '_i59', '_i6', '_i60', '_i61', '_i62', '_i63', '_i64', '_i65', '_i66', '_i67', '_i68', '_i69', '_i7', '_i70', '_i71', '_i72', '_i73', '_i74', '_i75', '_i76', '_i77', '_i78', '_i79', '_i8', '_i80', '_i81', '_i82', '_i83', '_i84', '_i85', '_i9', '_ih', '_ii', '_iii', '_oh', 'add_dummy_feature', 'binarize', 'epoch', 'exit', 'feature', 'featureDF', 'featureTS', 'get_ipython', 'irisDF', 'irisDL', 'irisDS', 'label_binarize', 'loss', 'loss_total', 'maxabs_scale', 'minmax_scale', 'model', 'nn', 'normalize', 'open', 'optim', 'optimizer', 'pd', 'plt', 'power_transform', 'pre_y', 'quantile_transform', 'quit', 'reqloss', 'robust_scale', 'scale', 'score', 'score_total', 'summary', 'target', 'targetDF', 'targetTS', 'torch', 'train_test_split', 'ver_check']\n"
     ]
    }
   ],
   "source": [
    "print(dir())"
   ]
  },
  {
   "cell_type": "code",
   "execution_count": 86,
   "metadata": {},
   "outputs": [],
   "source": [
    "def ver_check():\n",
    "    import_list = list(dir())\n",
    "    for i in import_list:\n",
    "        try:\n",
    "            \n",
    "            print(f'{i} v.',i.__version__)\n",
    "        except:\n",
    "            print(i)\n",
    "\n",
    "ver_check()"
   ]
  },
  {
   "cell_type": "code",
   "execution_count": 87,
   "metadata": {},
   "outputs": [],
   "source": [
    "# import_list = list(dir())\n",
    "# for i in import_list:\n",
    "#     print(i.__version__)"
   ]
  },
  {
   "cell_type": "code",
   "execution_count": 88,
   "metadata": {},
   "outputs": [
    {
     "data": {
      "text/html": [
       "<div>\n",
       "<style scoped>\n",
       "    .dataframe tbody tr th:only-of-type {\n",
       "        vertical-align: middle;\n",
       "    }\n",
       "\n",
       "    .dataframe tbody tr th {\n",
       "        vertical-align: top;\n",
       "    }\n",
       "\n",
       "    .dataframe thead th {\n",
       "        text-align: right;\n",
       "    }\n",
       "</style>\n",
       "<table border=\"1\" class=\"dataframe\">\n",
       "  <thead>\n",
       "    <tr style=\"text-align: right;\">\n",
       "      <th></th>\n",
       "      <th>sepal.length</th>\n",
       "      <th>sepal.width</th>\n",
       "      <th>petal.length</th>\n",
       "      <th>petal.width</th>\n",
       "    </tr>\n",
       "  </thead>\n",
       "  <tbody>\n",
       "    <tr>\n",
       "      <th>0</th>\n",
       "      <td>5.1</td>\n",
       "      <td>3.5</td>\n",
       "      <td>1.4</td>\n",
       "      <td>0.2</td>\n",
       "    </tr>\n",
       "    <tr>\n",
       "      <th>1</th>\n",
       "      <td>4.9</td>\n",
       "      <td>3.0</td>\n",
       "      <td>1.4</td>\n",
       "      <td>0.2</td>\n",
       "    </tr>\n",
       "  </tbody>\n",
       "</table>\n",
       "</div>"
      ],
      "text/plain": [
       "   sepal.length  sepal.width  petal.length  petal.width\n",
       "0           5.1          3.5           1.4          0.2\n",
       "1           4.9          3.0           1.4          0.2"
      ]
     },
     "execution_count": 88,
     "metadata": {},
     "output_type": "execute_result"
    }
   ],
   "source": [
    "### 데이터로딩\n",
    "DATA_FILE = 'iris.csv'\n",
    "\n",
    "### CSV => DataFrame\n",
    "irisDF = pd.read_csv(DATA_FILE, usecols=[0,1,2,3])\n",
    "\n",
    "### 확인\n",
    "irisDF.head(2)"
   ]
  },
  {
   "cell_type": "markdown",
   "metadata": {},
   "source": [
    "[2] 모델 클래스 설계 및 정의 <hr>\n",
    " - 클래스목적 : iris 데이터를 학습 및 추론 목적 \n",
    " - 클래스이름 : IrisRegModel\n",
    " - 부모클래스 : nn.Module\n",
    " - 매개__변수 : 층별 입출력 개수 고정하기 때문에 필요없음!\n",
    " - 속성__필드 : featureDF, targetDF, n_rows, n_features \n",
    " - 기능  역할 : __init__()  : 모델 구조 설정, forward() : 순방향 학습, <= 오버라이딩(overriding)\n",
    " - 클래스구조 \n",
    "    * 입력층 : 입력 3개 (피쳐)   출력 10개 (퍼셉트론 / 뉴런 10개 존재)\n",
    "    * 은닉층 : 입력 10개         출력 30개 (퍼셉트론 / 뉴런 30개 존재)\n",
    "    * 출력층 : 입력 30개         출력 1개 (너비값)\n",
    "\n",
    "\n",
    " - 활성화함수\n",
    "   * 클래스 형태 ==> nn.MESLoss, nn.ReLU ==> __init__() 메서드\n",
    "   * 함수 형태 ==> torch.nn.functional 아래에 ==> forward() 메서드"
   ]
  },
  {
   "cell_type": "code",
   "execution_count": 89,
   "metadata": {},
   "outputs": [],
   "source": [
    "class IrisRegModel(nn.Module):\n",
    "    # 모델 구조 구성 및 인스턴스 생성 메서드\n",
    "    def __init__(self):\n",
    "        super().__init__()\n",
    "\n",
    "        self.in_layer = nn.Linear(3,10)\n",
    "        self.hidden_layer = nn.Linear(10,30)\n",
    "        self.out_layer = nn.Linear(30,1)\n",
    "\n",
    "\n",
    "    def forward(self, input_data):\n",
    "        y = self.in_layer(input_data)   # f11w11 + f12w12 + f13w13 ... + f103w103 + b\n",
    "        # 여러 정보를 저장하는 배열\n",
    "        # 활성화 함수에 들어가야지?\n",
    "        y = F.relu(y)                       # relu => y 값의 범위 : 0 <= y  // 시그모이드는 0 ~ 1이긴 해.\n",
    "\n",
    "        # 10개의 숫자를 갖고 은닉층 출동\n",
    "        # - 은닉층 : 10개의 숫자 값 (>= 0)\n",
    "        y = self.hidden_layer(y)                # f21w11 + f22+w12 + f23w13 ... f210w210 + b , f230w201 + f230w202 ... f230w230+b  \n",
    "        y = F.relu(y)                       # 2번의 1번부터 시작, 2번의 30번까지.\n",
    "\n",
    "        # - 출력층 : 30개의 숫자 값 (>=0)\n",
    "        return self.out_layer(y)                   # f31w31 .... f330w330 + b   // 3번의 30번\n",
    "        # 회귀이므로 바로 반환        "
   ]
  },
  {
   "cell_type": "code",
   "execution_count": 90,
   "metadata": {},
   "outputs": [],
   "source": [
    "### 모델 인스턴스\n",
    "model = IrisRegModel()\n",
    "\n"
   ]
  },
  {
   "cell_type": "code",
   "execution_count": 91,
   "metadata": {},
   "outputs": [
    {
     "data": {
      "text/plain": [
       "==========================================================================================\n",
       "Layer (type:depth-idx)                   Output Shape              Param #\n",
       "==========================================================================================\n",
       "IrisRegModel                             [10, 1]                   --\n",
       "├─Linear: 1-1                            [10, 10]                  40\n",
       "├─Linear: 1-2                            [10, 30]                  330\n",
       "├─Linear: 1-3                            [10, 1]                   31\n",
       "==========================================================================================\n",
       "Total params: 401\n",
       "Trainable params: 401\n",
       "Non-trainable params: 0\n",
       "Total mult-adds (M): 0.00\n",
       "==========================================================================================\n",
       "Input size (MB): 0.00\n",
       "Forward/backward pass size (MB): 0.00\n",
       "Params size (MB): 0.00\n",
       "Estimated Total Size (MB): 0.01\n",
       "=========================================================================================="
      ]
     },
     "execution_count": 91,
     "metadata": {},
     "output_type": "execute_result"
    }
   ],
   "source": [
    "### 모델 사용 메모리 정보 확인\n",
    "summary(model, input_size=(10,3))"
   ]
  },
  {
   "cell_type": "markdown",
   "metadata": {},
   "source": [
    "[1] 데이터셋 클래스 설계 및 정의 <hr>\n",
    " - 데이터셋 : iris.csv\n",
    " - 피쳐_개수 : 3개\n",
    " - 타겟_개수 : 1개\n",
    " - 클래스이름 : IrisDataset\n",
    " - 부모클래스 : utils.data.Dataset\n",
    " - 속성_필드 : featureDF, targetDF, n_rows, n_features\n",
    " - 필수 메서드\n",
    "    * __init__(self) : 데이터셋 저장 및 전처리, 개발자가 필요한 속성 설정\n",
    "    * __len__(self) : 데이터 개수 반환\n",
    "    * __getitem__(self, index): 특정 인덱스의 피쳐와 타겟 반환"
   ]
  },
  {
   "cell_type": "code",
   "execution_count": 92,
   "metadata": {},
   "outputs": [],
   "source": [
    "class IrisDataset(Dataset):\n",
    "    def __init__(self, featureDF, targetDF):\n",
    "        self.featureDF = featureDF\n",
    "        self.targetDF = targetDF\n",
    "        self.n_rows = featureDF.shape[0]\n",
    "        self.n_features = featureDF.shape[1]\n",
    "        \n",
    "    def __len__(self):\n",
    "        return self.n_rows\n",
    "\n",
    "    def __getitem__(self, index):\n",
    "        # 텐서화\n",
    "\n",
    "        featureTS = torch.FloatTensor(self.featureDF.iloc[index].values) # 그대로 가져오면 시리즈니까 values로 형 변환\n",
    "        targetTS = torch.FloatTensor(self.targetDF.iloc[index].values)\n",
    "        # 피쳐와 타겟 변환\n",
    "\n",
    "        return featureTS, targetTS"
   ]
  },
  {
   "cell_type": "code",
   "execution_count": 93,
   "metadata": {},
   "outputs": [],
   "source": [
    "## 데이터셋 인스턴스 생성\n",
    "# - DataFrame에서 피쳐와 타겟 추출\n",
    "featureDF = irisDF[irisDF.columns[:-1]] # 2D (150,1)\n",
    "targetDF = irisDF[irisDF.columns[-1:]]  # 2D (150,1)\n",
    "\n",
    "# 커스텀데이터셋 인스턴스 생성\n",
    "irisDS = IrisDataset(featureDF, targetDF)"
   ]
  },
  {
   "cell_type": "markdown",
   "metadata": {},
   "source": [
    "[4] 학습 준비\n",
    " - 학습 횟수 : EPOCH            <- 처음 ~ 끝까지 공부하는 단위\n",
    " - 배치 크기 : BATCH_SIZE       <- 한번에 학습할 데이터셋 양\n",
    " - 위치 지정 : DEVICE           <- 텐서 저장 및 실행 위치 (GPU / CPU)\n",
    " - 학_습_률 : 가중치와 절편 업데이트 시 경사하강법으로 업데이트 간격 설정 0.001 ~ 0.1"
   ]
  },
  {
   "cell_type": "code",
   "execution_count": 94,
   "metadata": {},
   "outputs": [],
   "source": [
    "### 학습 진행 관련 설정\n",
    "EPOCH = 1\n",
    "BATCH_SIZE = 10\n",
    "DEVICE = 'cuda' if torch.cuda.is_available() else 'cpu'\n",
    "LR = 0.001\n",
    "\n",
    "# print(f'BATCH_CNT : {BATCH_CNT}')"
   ]
  },
  {
   "cell_type": "markdown",
   "metadata": {},
   "source": [
    " - 인스턴스 / 객체 : 모델, 데이터셋, 최적화 (, 손실함수 , 성능지표)"
   ]
  },
  {
   "cell_type": "code",
   "execution_count": 95,
   "metadata": {},
   "outputs": [],
   "source": [
    "# 모델 인스턴스\n",
    "model = IrisRegModel()\n",
    "\n",
    "# # 데이터셋 인스턴스\n",
    "irisDS = IrisDataset(featureDF,targetDF)\n",
    "\n",
    "# 데이터셋 인스턴스\n",
    "X_train, X_test, y_train, y_test = train_test_split(featureDF, targetDF, random_state=1)\n",
    "X_train, X_val, y_train, y_val = train_test_split(X_train, y_train, random_state=1)\n",
    "\n",
    "\n",
    "trainDS = IrisDataset(X_train,y_train)\n",
    "valDS = IrisDataset(X_val, y_val)\n",
    "testDS = IrisDataset(X_test,y_test)\n",
    "\n",
    "trainDL = DataLoader(irisDS, batch_size=BATCH_SIZE)\n",
    "\n",
    "\n",
    "\n",
    "# # 데이터로더 인스턴스\n",
    "irisDL = DataLoader(irisDS, batch_size=BATCH_SIZE)"
   ]
  },
  {
   "cell_type": "code",
   "execution_count": 96,
   "metadata": {},
   "outputs": [
    {
     "data": {
      "text/plain": [
       "(3, 150)"
      ]
     },
     "execution_count": 96,
     "metadata": {},
     "output_type": "execute_result"
    }
   ],
   "source": [
    "irisDL.dataset.n_features, irisDL.dataset.n_rows"
   ]
  },
  {
   "cell_type": "code",
   "execution_count": 97,
   "metadata": {},
   "outputs": [
    {
     "name": "stdout",
     "output_type": "stream",
     "text": [
      "torch.Size([10, 3]) torch.Size([10, 1])\n"
     ]
    }
   ],
   "source": [
    "## [테스트] 데이터로더\n",
    "for feature, target in irisDL:\n",
    "    print(feature.shape, target.shape)\n",
    "    break"
   ]
  },
  {
   "cell_type": "code",
   "execution_count": 98,
   "metadata": {},
   "outputs": [],
   "source": [
    "# 최적화 인스턴스 => W,b 텐서 즉, model.parameters() 전달\n",
    "optimizer = optim.Adam(model.parameters(), lr=LR)\n",
    "\n",
    "# 손실함수 인스턴스 => 회귀, MSE, MAE, RMSE ....\n",
    "reqloss = nn.MSELoss()\n"
   ]
  },
  {
   "cell_type": "markdown",
   "metadata": {},
   "source": [
    "[5] 학습 진행"
   ]
  },
  {
   "cell_type": "code",
   "execution_count": 106,
   "metadata": {},
   "outputs": [],
   "source": [
    "## 학습의 효과 확인 손실값과 성능평가값 저장 필요\n",
    "LOSS_HISTORY, SCORE_HISTORY = [[],[]], [[],[]]\n",
    "CNT = irisDS.n_rows/BATCH_SIZE\n",
    "\n",
    "for epoch in range(EPOCH):\n",
    "    # 학습 모드로 모델 설정\n",
    "    model.train()\n",
    "\n",
    "    # 배치 크기 만큼 데이터 로딩해서 학습 진행\n",
    "    score_total, loss_total = 0,0\n",
    "    for featureTS, targetTS in irisDL:\n",
    "        # 학습 진행\n",
    "        pre_y = model(featureTS)\n",
    "\n",
    "        # 손실 계산\n",
    "        loss = reqloss(pre_y, targetTS)\n",
    "        loss_total += loss.item()\n",
    "        # 성능평가 개선\n",
    "        score = R2Score()(pre_y,targetTS)\n",
    "        score_total += score.item()\n",
    "\n",
    "        optimizer.zero_grad()\n",
    "        loss.backward()\n",
    "        optimizer.step()\n",
    "\n",
    "    # 에포크 당 검증기능\n",
    "    # 모델 검증 모드 설정\n",
    "    model.eval()\n",
    "\n",
    "\n",
    "    with torch.no_grad():\n",
    "        # 검증 데이터셋 \n",
    "        # 일부 뽑기 ....을마나 뽑을까 ... ㅎㅎ,ㅔ헤헤ㅔ\n",
    "        val_featureTS = torch.FloatTensor(valDS.featureDF.values)\n",
    "        val_targetTS = torch.FloatTensor(valDS.targetDF.values)\n",
    "        # 평가\n",
    "        pre_val = model(val_featureTS)\n",
    "        # 손실\n",
    "        loss_val = reqloss(pre_val, val_targetTS)\n",
    "        # 성능평가\n",
    "        score_val = R2Score()(pre_val, val_targetTS)\n",
    "\n",
    "    LOSS_HISTORY[0].append(loss_total/CNT)\n",
    "    SCORE_HISTORY[0].append(score_total/CNT)\n",
    "    LOSS_HISTORY[1].append(loss_val)\n",
    "    SCORE_HISTORY[1].append(score_val)"
   ]
  },
  {
   "cell_type": "code",
   "execution_count": 101,
   "metadata": {},
   "outputs": [
    {
     "data": {
      "text/plain": [
       "(torch.Size([28, 3]), torch.Size([28, 1]))"
      ]
     },
     "execution_count": 101,
     "metadata": {},
     "output_type": "execute_result"
    }
   ],
   "source": [
    "val_featureTS = torch.FloatTensor(valDS.featureDF.values)\n",
    "val_targetTS = torch.FloatTensor(valDS.targetDF.values)\n",
    "\n",
    "val_featureTS.shape, val_targetTS.shape"
   ]
  },
  {
   "cell_type": "code",
   "execution_count": null,
   "metadata": {},
   "outputs": [],
   "source": [
    "print(f'CNT : {CNT}')"
   ]
  }
 ],
 "metadata": {
  "kernelspec": {
   "display_name": "TORCH_38",
   "language": "python",
   "name": "python3"
  },
  "language_info": {
   "codemirror_mode": {
    "name": "ipython",
    "version": 3
   },
   "file_extension": ".py",
   "mimetype": "text/x-python",
   "name": "python",
   "nbconvert_exporter": "python",
   "pygments_lexer": "ipython3",
   "version": "3.8.19"
  }
 },
 "nbformat": 4,
 "nbformat_minor": 2
}
