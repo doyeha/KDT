{
 "cells": [
  {
   "cell_type": "markdown",
   "metadata": {},
   "source": [
    "##### - DNN기반 회귀 구현 + 학습 스케쥴링\n",
    " - 데이터셋 : IRIS.csv\n",
    " - 피쳐/속성 : 3개 Setal_Length, Sepal_Width, Petal_Width\n",
    " - 타겟/라벨 : 1개 Petal_Length\n",
    " - 학습-방법 : 지도학습 > 회귀\n",
    " - 알고 리즘 : 인공신경망(ANN) -> 심층신경망(MLP), DNN : 은닉층이 많은 구성\n",
    " - 프레임워크 : Pytorch\n",
    " * * *\n",
    " - 모니터링\n",
    "    * 시 동적으로 LR값을 조정해주는 "
   ]
  },
  {
   "cell_type": "markdown",
   "metadata": {},
   "source": [
    "[1] 모듈 로딩과 데이터 준비 <hr>"
   ]
  },
  {
   "cell_type": "code",
   "execution_count": 89,
   "metadata": {},
   "outputs": [],
   "source": [
    "# 모듈 로딩\n",
    "import torch\n",
    "import torch.nn as nn\n",
    "import torch.nn.functional as F\n",
    "from torch.utils.data import Dataset, DataLoader\n",
    "\n",
    "\n",
    "import torch.optim as optim\n",
    "import torch.optim.lr_scheduler as lr_scheduler\n",
    "from torchmetrics.regression import R2Score, MeanSquaredError\n",
    "from torchinfo import summary\n",
    " \n",
    "# Data 및 시각화 관련\n",
    "import pandas as pd\n",
    "import matplotlib.pyplot as plt\n",
    "from sklearn.preprocessing import *\n",
    "from sklearn.model_selection import train_test_split"
   ]
  },
  {
   "cell_type": "code",
   "execution_count": 90,
   "metadata": {},
   "outputs": [
    {
     "name": "stdout",
     "output_type": "stream",
     "text": [
      "torch v.2.4.1\n",
      "Pandas v.2.0.3\n"
     ]
    }
   ],
   "source": [
    "# 활용 패키지 버전 체크 ==> 사용자 정의 함수로 구현하기\n",
    "print(f'torch v.{torch.__version__}')\n",
    "print(f'Pandas v.{pd.__version__}')"
   ]
  },
  {
   "cell_type": "code",
   "execution_count": 91,
   "metadata": {},
   "outputs": [
    {
     "name": "stdout",
     "output_type": "stream",
     "text": [
      "['BATCH_CNT', 'BATCH_SIZE', 'BREAK_CNT', 'Binarizer', 'CNT', 'DATA_FILE', 'DEVICE', 'DataLoader', 'Dataset', 'EPOCH', 'F', 'FunctionTransformer', 'In', 'IrisDataset', 'IrisRegModel', 'KBinsDiscretizer', 'KernelCenterer', 'LOSS_HISTORY', 'LR', 'LabelBinarizer', 'LabelEncoder', 'MaxAbsScaler', 'MeanSquaredError', 'MinMaxScaler', 'MultiLabelBinarizer', 'Normalizer', 'OneHotEncoder', 'OrdinalEncoder', 'Out', 'PolynomialFeatures', 'PowerTransformer', 'QuantileTransformer', 'R2Score', 'RobustScaler', 'SAVE_FILE', 'SAVE_PATH', 'SCORE_HISTORY', 'SplineTransformer', 'StandardScaler', 'TargetEncoder', 'X_test', 'X_train', 'X_val', '_', '_19', '_22', '_27', '_37', '_40', '_45', '_49', '_52', '_57', '_65', '_68', '_73', '_77', '_80', '_85', '__', '___', '__builtin__', '__builtins__', '__doc__', '__loader__', '__name__', '__package__', '__spec__', '__vsc_ipynb_file__', '_dh', '_i', '_i1', '_i10', '_i11', '_i12', '_i13', '_i14', '_i15', '_i16', '_i17', '_i18', '_i19', '_i2', '_i20', '_i21', '_i22', '_i23', '_i24', '_i25', '_i26', '_i27', '_i28', '_i29', '_i3', '_i30', '_i31', '_i32', '_i33', '_i34', '_i35', '_i36', '_i37', '_i38', '_i39', '_i4', '_i40', '_i41', '_i42', '_i43', '_i44', '_i45', '_i46', '_i47', '_i48', '_i49', '_i5', '_i50', '_i51', '_i52', '_i53', '_i54', '_i55', '_i56', '_i57', '_i58', '_i59', '_i6', '_i60', '_i61', '_i62', '_i63', '_i64', '_i65', '_i66', '_i67', '_i68', '_i69', '_i7', '_i70', '_i71', '_i72', '_i73', '_i74', '_i75', '_i76', '_i77', '_i78', '_i79', '_i8', '_i80', '_i81', '_i82', '_i83', '_i84', '_i85', '_i86', '_i87', '_i88', '_i89', '_i9', '_i90', '_i91', '_ih', '_ii', '_iii', '_oh', 'add_dummy_feature', 'binarize', 'epoch', 'exit', 'feature', 'featureDF', 'featureTS', 'get_ipython', 'irisDF', 'irisDL', 'irisDS', 'label_binarize', 'loss', 'loss_total', 'loss_val', 'lr_scheduler', 'maxabs_scale', 'minmax_scale', 'model', 'nn', 'normalize', 'open', 'optim', 'optimizer', 'os', 'pd', 'plt', 'power_transform', 'pre_val', 'pre_y', 'quantile_transform', 'quit', 'reqloss', 'robust_scale', 'scale', 'scheduler', 'score', 'score_total', 'score_val', 'summary', 'target', 'targetDF', 'targetTS', 'testDS', 'torch', 'trainDL', 'trainDS', 'train_test_split', 'valDS', 'val_featureTS', 'val_targetTS', 'ver_check', 'wbTS', 'y_test', 'y_train', 'y_val']\n"
     ]
    }
   ],
   "source": [
    "print(dir())"
   ]
  },
  {
   "cell_type": "code",
   "execution_count": 92,
   "metadata": {},
   "outputs": [],
   "source": [
    "def ver_check():\n",
    "    import_list = list(dir())\n",
    "    for i in import_list:\n",
    "        try:\n",
    "            \n",
    "            print(f'{i} v.',i.__version__)\n",
    "        except:\n",
    "            print(i)\n",
    "\n",
    "ver_check()"
   ]
  },
  {
   "cell_type": "code",
   "execution_count": 93,
   "metadata": {},
   "outputs": [],
   "source": [
    "# import_list = list(dir())\n",
    "# for i in import_list:\n",
    "#     print(i.__version__)"
   ]
  },
  {
   "cell_type": "code",
   "execution_count": 94,
   "metadata": {},
   "outputs": [
    {
     "data": {
      "text/html": [
       "<div>\n",
       "<style scoped>\n",
       "    .dataframe tbody tr th:only-of-type {\n",
       "        vertical-align: middle;\n",
       "    }\n",
       "\n",
       "    .dataframe tbody tr th {\n",
       "        vertical-align: top;\n",
       "    }\n",
       "\n",
       "    .dataframe thead th {\n",
       "        text-align: right;\n",
       "    }\n",
       "</style>\n",
       "<table border=\"1\" class=\"dataframe\">\n",
       "  <thead>\n",
       "    <tr style=\"text-align: right;\">\n",
       "      <th></th>\n",
       "      <th>sepal.length</th>\n",
       "      <th>sepal.width</th>\n",
       "      <th>petal.length</th>\n",
       "      <th>petal.width</th>\n",
       "    </tr>\n",
       "  </thead>\n",
       "  <tbody>\n",
       "    <tr>\n",
       "      <th>0</th>\n",
       "      <td>5.1</td>\n",
       "      <td>3.5</td>\n",
       "      <td>1.4</td>\n",
       "      <td>0.2</td>\n",
       "    </tr>\n",
       "    <tr>\n",
       "      <th>1</th>\n",
       "      <td>4.9</td>\n",
       "      <td>3.0</td>\n",
       "      <td>1.4</td>\n",
       "      <td>0.2</td>\n",
       "    </tr>\n",
       "  </tbody>\n",
       "</table>\n",
       "</div>"
      ],
      "text/plain": [
       "   sepal.length  sepal.width  petal.length  petal.width\n",
       "0           5.1          3.5           1.4          0.2\n",
       "1           4.9          3.0           1.4          0.2"
      ]
     },
     "execution_count": 94,
     "metadata": {},
     "output_type": "execute_result"
    }
   ],
   "source": [
    "### 데이터로딩\n",
    "DATA_FILE = r'C:\\Git\\KDT\\BigData\\data\\iris.csv'\n",
    "\n",
    "### CSV => DataFrame\n",
    "irisDF = pd.read_csv(DATA_FILE, usecols=[0,1,2,3])\n",
    "\n",
    "### 확인\n",
    "irisDF.head(2)"
   ]
  },
  {
   "cell_type": "markdown",
   "metadata": {},
   "source": [
    "[2] 모델 클래스 설계 및 정의 <hr>\n",
    " - 클래스목적 : iris 데이터를 학습 및 추론 목적 \n",
    " - 클래스이름 : IrisRegModel\n",
    " - 부모클래스 : nn.Module\n",
    " - 매개__변수 : 층별 입출력 개수 고정하기 때문에 필요없음!\n",
    " - 속성__필드 : featureDF, targetDF, n_rows, n_features \n",
    " - 기능  역할 : __init__()  : 모델 구조 설정, forward() : 순방향 학습, <= 오버라이딩(overriding)\n",
    " - 클래스구조 \n",
    "    * 입력층 : 입력 3개 (피쳐)   출력 10개 (퍼셉트론 / 뉴런 10개 존재)\n",
    "    * 은닉층 : 입력 10개         출력 30개 (퍼셉트론 / 뉴런 30개 존재)\n",
    "    * 출력층 : 입력 30개         출력 1개 (너비값)\n",
    "\n",
    "\n",
    " - 활성화함수\n",
    "   * 클래스 형태 ==> nn.MESLoss, nn.ReLU ==> __init__() 메서드\n",
    "   * 함수 형태 ==> torch.nn.functional 아래에 ==> forward() 메서드"
   ]
  },
  {
   "cell_type": "code",
   "execution_count": 95,
   "metadata": {},
   "outputs": [],
   "source": [
    "class IrisRegModel(nn.Module):\n",
    "    # 모델 구조 구성 및 인스턴스 생성 메서드\n",
    "    def __init__(self):\n",
    "        super().__init__()\n",
    "\n",
    "        self.in_layer = nn.Linear(3,10)\n",
    "        self.hidden_layer = nn.Linear(10,30)\n",
    "        self.out_layer = nn.Linear(30,1)\n",
    "\n",
    "\n",
    "    def forward(self, input_data):\n",
    "        y = self.in_layer(input_data)   # f11w11 + f12w12 + f13w13 ... + f103w103 + b\n",
    "        # 여러 정보를 저장하는 배열\n",
    "        # 활성화 함수에 들어가야지?\n",
    "        y = F.relu(y)                       # relu => y 값의 범위 : 0 <= y  // 시그모이드는 0 ~ 1이긴 해.\n",
    "\n",
    "        # 10개의 숫자를 갖고 은닉층 출동\n",
    "        # - 은닉층 : 10개의 숫자 값 (>= 0)\n",
    "        y = self.hidden_layer(y)                # f21w11 + f22+w12 + f23w13 ... f210w210 + b , f230w201 + f230w202 ... f230w230+b  \n",
    "        y = F.relu(y)                       # 2번의 1번부터 시작, 2번의 30번까지.\n",
    "\n",
    "        # - 출력층 : 30개의 숫자 값 (>=0)\n",
    "        return self.out_layer(y)                   # f31w31 .... f330w330 + b   // 3번의 30번\n",
    "        # 회귀이므로 바로 반환        "
   ]
  },
  {
   "cell_type": "code",
   "execution_count": 96,
   "metadata": {},
   "outputs": [],
   "source": [
    "### 모델 인스턴스\n",
    "model = IrisRegModel()\n",
    "\n"
   ]
  },
  {
   "cell_type": "code",
   "execution_count": 97,
   "metadata": {},
   "outputs": [
    {
     "data": {
      "text/plain": [
       "==========================================================================================\n",
       "Layer (type:depth-idx)                   Output Shape              Param #\n",
       "==========================================================================================\n",
       "IrisRegModel                             [10, 1]                   --\n",
       "├─Linear: 1-1                            [10, 10]                  40\n",
       "├─Linear: 1-2                            [10, 30]                  330\n",
       "├─Linear: 1-3                            [10, 1]                   31\n",
       "==========================================================================================\n",
       "Total params: 401\n",
       "Trainable params: 401\n",
       "Non-trainable params: 0\n",
       "Total mult-adds (M): 0.00\n",
       "==========================================================================================\n",
       "Input size (MB): 0.00\n",
       "Forward/backward pass size (MB): 0.00\n",
       "Params size (MB): 0.00\n",
       "Estimated Total Size (MB): 0.01\n",
       "=========================================================================================="
      ]
     },
     "execution_count": 97,
     "metadata": {},
     "output_type": "execute_result"
    }
   ],
   "source": [
    "### 모델 사용 메모리 정보 확인\n",
    "summary(model, input_size=(10,3))"
   ]
  },
  {
   "cell_type": "markdown",
   "metadata": {},
   "source": [
    "[1] 데이터셋 클래스 설계 및 정의 <hr>\n",
    " - 데이터셋 : iris.csv\n",
    " - 피쳐_개수 : 3개\n",
    " - 타겟_개수 : 1개\n",
    " - 클래스이름 : IrisDataset\n",
    " - 부모클래스 : utils.data.Dataset\n",
    " - 속성_필드 : featureDF, targetDF, n_rows, n_features\n",
    " - 필수 메서드\n",
    "    * __init__(self) : 데이터셋 저장 및 전처리, 개발자가 필요한 속성 설정\n",
    "    * __len__(self) : 데이터 개수 반환\n",
    "    * __getitem__(self, index): 특정 인덱스의 피쳐와 타겟 반환"
   ]
  },
  {
   "cell_type": "code",
   "execution_count": 98,
   "metadata": {},
   "outputs": [],
   "source": [
    "class IrisDataset(Dataset):\n",
    "    def __init__(self, featureDF, targetDF):\n",
    "        self.featureDF = featureDF\n",
    "        self.targetDF = targetDF\n",
    "        self.n_rows = featureDF.shape[0]\n",
    "        self.n_features = featureDF.shape[1]\n",
    "        \n",
    "    def __len__(self):\n",
    "        return self.n_rows\n",
    "\n",
    "    def __getitem__(self, index):\n",
    "        # 텐서화\n",
    "\n",
    "        featureTS = torch.FloatTensor(self.featureDF.iloc[index].values) # 그대로 가져오면 시리즈니까 values로 형 변환\n",
    "        targetTS = torch.FloatTensor(self.targetDF.iloc[index].values)\n",
    "        # 피쳐와 타겟 변환\n",
    "\n",
    "        return featureTS, targetTS"
   ]
  },
  {
   "cell_type": "code",
   "execution_count": 99,
   "metadata": {},
   "outputs": [],
   "source": [
    "## 데이터셋 인스턴스 생성\n",
    "# - DataFrame에서 피쳐와 타겟 추출\n",
    "featureDF = irisDF[irisDF.columns[:-1]] # 2D (150,1)\n",
    "targetDF = irisDF[irisDF.columns[-1:]]  # 2D (150,1)\n",
    "\n",
    "# 커스텀데이터셋 인스턴스 생성\n",
    "irisDS = IrisDataset(featureDF, targetDF)"
   ]
  },
  {
   "cell_type": "markdown",
   "metadata": {},
   "source": [
    "[4] 학습 준비\n",
    " - 학습 횟수 : EPOCH            <- 처음 ~ 끝까지 공부하는 단위\n",
    " - 배치 크기 : BATCH_SIZE       <- 한번에 학습할 데이터셋 양\n",
    " - 위치 지정 : DEVICE           <- 텐서 저장 및 실행 위치 (GPU / CPU)\n",
    " - 학_습_률 : 가중치와 절편 업데이트 시 경사하강법으로 업데이트 간격 설정 0.001 ~ 0.1"
   ]
  },
  {
   "cell_type": "code",
   "execution_count": 100,
   "metadata": {},
   "outputs": [],
   "source": [
    "### 학습 진행 관련 설정\n",
    "EPOCH = 100\n",
    "BATCH_SIZE = 10\n",
    "BATCH_CNT = irisDF.shape[0]/BATCH_SIZE\n",
    "DEVICE = 'cuda' if torch.cuda.is_available() else 'cpu'\n",
    "LR = 0.001\n",
    "\n",
    "# print(f'BATCH_CNT : {BATCH_CNT}')"
   ]
  },
  {
   "cell_type": "markdown",
   "metadata": {},
   "source": [
    " - 인스턴스 / 객체 : 모델, 데이터셋, 최적화 (, 손실함수 , 성능지표)"
   ]
  },
  {
   "cell_type": "code",
   "execution_count": 101,
   "metadata": {},
   "outputs": [],
   "source": [
    "# 모델 인스턴스\n",
    "model = IrisRegModel()\n",
    "\n",
    "# # 데이터셋 인스턴스\n",
    "irisDS = IrisDataset(featureDF,targetDF)\n",
    "\n",
    "# 데이터셋 인스턴스\n",
    "X_train, X_test, y_train, y_test = train_test_split(featureDF, targetDF, random_state=1)\n",
    "X_train, X_val, y_train, y_val = train_test_split(X_train, y_train, random_state=1)\n",
    "\n",
    "\n",
    "trainDS = IrisDataset(X_train,y_train)\n",
    "valDS = IrisDataset(X_val, y_val)\n",
    "testDS = IrisDataset(X_test,y_test)\n",
    "\n",
    "trainDL = DataLoader(irisDS, batch_size=BATCH_SIZE)\n",
    "\n",
    "\n",
    "\n",
    "# # 데이터로더 인스턴스\n",
    "irisDL = DataLoader(irisDS, batch_size=BATCH_SIZE)"
   ]
  },
  {
   "cell_type": "code",
   "execution_count": 102,
   "metadata": {},
   "outputs": [
    {
     "data": {
      "text/plain": [
       "(3, 150)"
      ]
     },
     "execution_count": 102,
     "metadata": {},
     "output_type": "execute_result"
    }
   ],
   "source": [
    "irisDL.dataset.n_features, irisDL.dataset.n_rows"
   ]
  },
  {
   "cell_type": "code",
   "execution_count": 103,
   "metadata": {},
   "outputs": [
    {
     "name": "stdout",
     "output_type": "stream",
     "text": [
      "torch.Size([10, 3]) torch.Size([10, 1])\n"
     ]
    }
   ],
   "source": [
    "## [테스트] 데이터로더\n",
    "for feature, target in irisDL:\n",
    "    print(feature.shape, target.shape)\n",
    "    break"
   ]
  },
  {
   "cell_type": "code",
   "execution_count": 104,
   "metadata": {},
   "outputs": [
    {
     "name": "stderr",
     "output_type": "stream",
     "text": [
      "c:\\Users\\kjy19\\anaconda3\\envs\\TORCH_38\\lib\\site-packages\\torch\\optim\\lr_scheduler.py:60: UserWarning: The verbose parameter is deprecated. Please use get_last_lr() to access the learning rate.\n",
      "  warnings.warn(\n"
     ]
    }
   ],
   "source": [
    "# 최적화 인스턴스 => W,b 텐서 즉, model.parameters() 전달\n",
    "optimizer = optim.Adam(model.parameters(), lr=LR)\n",
    "\n",
    "# 최적화 스케쥴링 인스턴스 생성 => lr 조절 및 성능 개선 여부 체크\n",
    "scheduler = lr_scheduler.ReduceLROnPlateau(optimizer, mode = 'max', patience =5, verbose = True)\n",
    "\n",
    "# 손실함수 인스턴스 => 회귀, MSE, MAE, RMSE ....\n",
    "reqloss = nn.MSELoss()\n"
   ]
  },
  {
   "cell_type": "markdown",
   "metadata": {},
   "source": [
    "[5] 학습 진행"
   ]
  },
  {
   "cell_type": "code",
   "execution_count": 105,
   "metadata": {},
   "outputs": [
    {
     "name": "stdout",
     "output_type": "stream",
     "text": [
      "CNT => 15.0\n",
      "scheduler.num_bad_epochs 0 scheduler.patience 5\n",
      "scheduler.num_bad_epochs 0 scheduler.patience 5\n",
      "scheduler.num_bad_epochs 0 scheduler.patience 5\n",
      "scheduler.num_bad_epochs 0 scheduler.patience 5\n",
      "scheduler.num_bad_epochs 0 scheduler.patience 5\n",
      "scheduler.num_bad_epochs 0 scheduler.patience 5\n",
      "scheduler.num_bad_epochs 0 scheduler.patience 5\n",
      "scheduler.num_bad_epochs 0 scheduler.patience 5\n",
      "scheduler.num_bad_epochs 0 scheduler.patience 5\n",
      "scheduler.num_bad_epochs 0 scheduler.patience 5\n",
      "scheduler.num_bad_epochs 0 scheduler.patience 5\n",
      "scheduler.num_bad_epochs 0 scheduler.patience 5\n",
      "scheduler.num_bad_epochs 0 scheduler.patience 5\n",
      "scheduler.num_bad_epochs 0 scheduler.patience 5\n",
      "scheduler.num_bad_epochs 0 scheduler.patience 5\n",
      "scheduler.num_bad_epochs 0 scheduler.patience 5\n",
      "scheduler.num_bad_epochs 0 scheduler.patience 5\n",
      "scheduler.num_bad_epochs 0 scheduler.patience 5\n",
      "scheduler.num_bad_epochs 0 scheduler.patience 5\n",
      "scheduler.num_bad_epochs 0 scheduler.patience 5\n",
      "scheduler.num_bad_epochs 0 scheduler.patience 5\n",
      "scheduler.num_bad_epochs 1 scheduler.patience 5\n",
      "scheduler.num_bad_epochs 2 scheduler.patience 5\n",
      "scheduler.num_bad_epochs 3 scheduler.patience 5\n",
      "scheduler.num_bad_epochs 4 scheduler.patience 5\n",
      "scheduler.num_bad_epochs 5 scheduler.patience 5\n",
      "5EPOCH 성능 개선이 없어 조기종료함\n"
     ]
    }
   ],
   "source": [
    "## 학습의 효과 확인 손실값과 성능평가값 저장 필요\n",
    "LOSS_HISTORY, SCORE_HISTORY = [[],[]], [[],[]]\n",
    "CNT = irisDS.n_rows/BATCH_SIZE\n",
    "print(f'CNT => {CNT}')\n",
    "\n",
    "## 학습 모니터링 / 스케쥴링 설정\n",
    "# => LOSS_HISTORY, SCORE_HISTORY 활용\n",
    "# => 임계기준 : 10번\n",
    "BREAK_CNT = 0\n",
    "\n",
    "for epoch in range(EPOCH):\n",
    "    # 학습 모드로 모델 설정\n",
    "    model.train()\n",
    "\n",
    "    # 배치 크기 만큼 데이터 로딩해서 학습 진행\n",
    "    score_total, loss_total = 0,0\n",
    "    for featureTS, targetTS in irisDL:\n",
    "        # 학습 진행\n",
    "        pre_y = model(featureTS)\n",
    "\n",
    "        # 손실 계산\n",
    "        loss = reqloss(pre_y, targetTS)\n",
    "        loss_total += loss.item()\n",
    "        # 성능평가 개선\n",
    "        score = R2Score()(pre_y,targetTS)\n",
    "        score_total += score.item()\n",
    "\n",
    "        optimizer.zero_grad()\n",
    "        loss.backward()\n",
    "        optimizer.step()\n",
    "\n",
    "    # 에포크 당 검증기능\n",
    "    # 모델 검증 모드 설정\n",
    "    model.eval()\n",
    "    with torch.no_grad():\n",
    "\n",
    "        # 에포크 당 손실값과 성능평가값 저장\n",
    "        # 검증 데이터셋 \n",
    "        # 일부 뽑기 ....을마나 뽑을까 ... ㅎㅎ,ㅔ헤헤ㅔ\n",
    "        val_featureTS = torch.FloatTensor(valDS.featureDF.values)\n",
    "        val_targetTS = torch.FloatTensor(valDS.targetDF.values)\n",
    "        # 평가\n",
    "        pre_val = model(val_featureTS)\n",
    "        # 손실\n",
    "        loss_val = reqloss(pre_val, val_targetTS)\n",
    "        # 성능평가\n",
    "        score_val = R2Score()(pre_val, val_targetTS)\n",
    "\n",
    "\n",
    "    # 최적화 스케쥴러 인스턴스 업데이트\n",
    "    # scheduler.step(loss_val)  # 최소값이 좋은 것.\n",
    "    scheduler.step(score_val)   # 최댓값 해야함 scheduler에 모드 max 추가.\n",
    "    \n",
    "    print(f'scheduler.num_bad_epochs {scheduler.num_bad_epochs}', end=\" \")\n",
    "    print(f'scheduler.patience {scheduler.patience}')\n",
    "    # 손실 감소 (또는 성능 개선)이 안되는 경우 조기종료\n",
    "    if scheduler.num_bad_epochs >= scheduler.patience:\n",
    "        print(f'{scheduler.patience}EPOCH 성능 개선이 없어 조기종료함')\n",
    "        break"
   ]
  },
  {
   "cell_type": "code",
   "execution_count": 106,
   "metadata": {},
   "outputs": [
    {
     "data": {
      "text/plain": [
       "(torch.Size([28, 3]), torch.Size([28, 1]))"
      ]
     },
     "execution_count": 106,
     "metadata": {},
     "output_type": "execute_result"
    }
   ],
   "source": [
    "val_featureTS = torch.FloatTensor(valDS.featureDF.values)\n",
    "val_targetTS = torch.FloatTensor(valDS.targetDF.values)\n",
    "\n",
    "val_featureTS.shape, val_targetTS.shape"
   ]
  },
  {
   "cell_type": "code",
   "execution_count": 107,
   "metadata": {},
   "outputs": [
    {
     "name": "stdout",
     "output_type": "stream",
     "text": [
      "CNT : 15.0\n"
     ]
    }
   ],
   "source": [
    "print(f'CNT : {CNT}')"
   ]
  },
  {
   "cell_type": "code",
   "execution_count": 108,
   "metadata": {},
   "outputs": [
    {
     "name": "stdout",
     "output_type": "stream",
     "text": [
      "LOSS HISTORY => [[], []]\n",
      "SCORE HISTORY => [[], []]\n"
     ]
    }
   ],
   "source": [
    "print(f'LOSS HISTORY => {LOSS_HISTORY}')\n",
    "print(f'SCORE HISTORY => {SCORE_HISTORY}')\n"
   ]
  },
  {
   "cell_type": "markdown",
   "metadata": {},
   "source": [
    " - 모델 저장 방법 <hr>\n",
    " * 방법1 : 모델 파라미터만 저장\n",
    " * 방법2 : 모델 설계 구조 및 파라미터까지 모두 저장"
   ]
  },
  {
   "cell_type": "code",
   "execution_count": 109,
   "metadata": {},
   "outputs": [
    {
     "data": {
      "text/plain": [
       "OrderedDict([('in_layer.weight',\n",
       "              tensor([[ 0.5431,  0.4900, -0.4409],\n",
       "                      [ 0.2134, -0.3632,  0.6082],\n",
       "                      [-0.2089, -0.2161, -0.4890],\n",
       "                      [-0.2563,  0.0673,  0.3008],\n",
       "                      [-0.1674, -0.0349, -0.5671],\n",
       "                      [ 0.5713,  0.3292, -0.0136],\n",
       "                      [-0.3658,  0.2943,  0.0271],\n",
       "                      [ 0.0862,  0.4203, -0.3746],\n",
       "                      [-0.3287,  0.1831, -0.4099],\n",
       "                      [ 0.4205, -0.0985, -0.1420]])),\n",
       "             ('in_layer.bias',\n",
       "              tensor([ 0.5687, -0.4836,  0.3944, -0.4592,  0.0905, -0.4817,  0.3690,  0.4837,\n",
       "                       0.2955, -0.1898])),\n",
       "             ('hidden_layer.weight',\n",
       "              tensor([[ 2.6192e-01,  1.2231e-01, -2.7211e-01, -9.0293e-02,  3.8885e-02,\n",
       "                        1.1733e-02, -1.8474e-01,  3.6989e-02,  8.5088e-02, -1.0200e-01],\n",
       "                      [-2.7434e-02, -2.1623e-01, -2.8044e-02,  1.5134e-01,  2.5213e-01,\n",
       "                       -7.7582e-02,  2.1146e-01,  1.2554e-01,  8.2004e-02,  1.6773e-02],\n",
       "                      [ 1.7102e-01, -9.5650e-02, -7.3240e-02,  5.6450e-02, -4.1412e-02,\n",
       "                       -1.9163e-01,  7.7906e-02, -8.8232e-02, -1.1606e-01,  8.0964e-03],\n",
       "                      [ 2.0093e-01, -3.2063e-01,  1.9646e-01,  1.9605e-01,  2.1363e-01,\n",
       "                        1.1753e-01, -2.3425e-02, -1.3365e-01, -1.3613e-01,  3.0757e-02],\n",
       "                      [-2.9864e-01, -1.1644e-01,  1.2961e-01,  2.9370e-01, -3.0554e-02,\n",
       "                       -2.4372e-01, -6.6330e-02, -2.2320e-01, -2.9948e-01,  1.6785e-01],\n",
       "                      [-1.9206e-01,  3.6485e-01, -1.5951e-03, -1.5252e-01,  2.1963e-01,\n",
       "                        1.6712e-01,  9.6792e-02,  1.1091e-01,  6.5030e-02,  3.3366e-01],\n",
       "                      [-1.4585e-01,  1.6094e-01,  1.2494e-02, -2.0270e-01, -3.2422e-03,\n",
       "                       -1.1560e-01, -1.0558e-01,  4.5500e-02, -7.8769e-02, -7.1558e-02],\n",
       "                      [-2.1139e-02,  3.6145e-01,  2.2103e-01,  1.1792e-02, -6.2460e-03,\n",
       "                        1.6729e-01, -7.1543e-02, -2.5612e-01,  1.0080e-01, -5.4631e-02],\n",
       "                      [ 3.1563e-01,  1.4166e-01,  1.9559e-01, -1.5529e-01, -2.9166e-01,\n",
       "                        1.6080e-01, -1.0104e-01,  1.0868e-01,  1.6048e-01, -1.0493e-01],\n",
       "                      [ 3.6418e-01,  4.1599e-02,  1.1080e-01,  2.4818e-01,  8.7706e-02,\n",
       "                        6.1951e-02,  1.0953e-01, -2.4579e-01,  1.0605e-02,  9.6457e-02],\n",
       "                      [ 1.1463e-01,  1.7741e-01, -5.9922e-02, -3.1059e-01,  2.9891e-01,\n",
       "                       -2.4080e-01, -7.3487e-02, -2.6560e-01, -7.4413e-02,  2.3402e-01],\n",
       "                      [-2.5111e-01,  1.7841e-01,  8.0680e-02,  6.0631e-03, -2.4734e-01,\n",
       "                       -2.7180e-01, -1.0691e-01,  2.5668e-01, -3.0032e-01, -2.7806e-01],\n",
       "                      [-1.9618e-01,  9.3897e-02, -2.3663e-01,  1.0974e-01,  1.5443e-02,\n",
       "                       -8.2987e-02,  2.0552e-01, -1.2826e-01,  4.8555e-02,  6.8455e-02],\n",
       "                      [ 3.5549e-02, -3.0706e-01, -1.0238e-01,  2.7058e-01,  1.5811e-01,\n",
       "                       -2.8748e-01,  2.1509e-01,  2.2428e-01,  2.7029e-01, -3.7979e-03],\n",
       "                      [-1.6736e-01,  2.1102e-01,  4.8852e-02, -1.5008e-01,  2.3819e-02,\n",
       "                       -2.1228e-01, -1.4690e-01,  6.6839e-02, -1.1322e-01, -1.2057e-02],\n",
       "                      [ 2.8646e-02,  1.4502e-01,  1.0268e-01,  1.7903e-01, -1.1617e-01,\n",
       "                       -2.2853e-01,  2.5790e-02,  2.9392e-01, -1.7448e-01,  7.6362e-03],\n",
       "                      [-9.8009e-02,  2.2809e-01,  1.8599e-01, -3.4179e-02,  2.5603e-01,\n",
       "                       -9.4139e-02,  1.5264e-01, -3.4621e-01,  2.4387e-01,  2.0557e-01],\n",
       "                      [ 3.0547e-01,  3.8279e-01,  5.2951e-02,  2.8474e-01,  2.6220e-01,\n",
       "                        2.1760e-01, -1.1407e-01, -2.4873e-01,  2.6151e-01,  4.9285e-02],\n",
       "                      [-2.8719e-01, -2.5910e-01, -5.3793e-05, -2.6523e-01,  1.5382e-01,\n",
       "                        2.2073e-01,  2.2485e-01, -1.4175e-01,  3.0193e-02, -2.4358e-01],\n",
       "                      [ 3.2665e-01, -4.0376e-01, -2.0899e-01,  9.0663e-02,  1.4811e-01,\n",
       "                        1.2137e-02, -1.7808e-01,  1.0007e-01, -1.1380e-01,  3.1111e-01],\n",
       "                      [-9.3582e-04, -2.0902e-01, -2.2870e-01, -2.4536e-01,  1.7292e-01,\n",
       "                       -2.5299e-01, -2.1608e-01, -1.1064e-01, -2.8016e-01,  1.6025e-01],\n",
       "                      [-4.7095e-02,  3.7259e-02,  3.0700e-02,  1.7510e-01, -3.7958e-02,\n",
       "                        1.2748e-01, -3.0757e-01, -6.0665e-03,  6.0411e-02,  2.3113e-04],\n",
       "                      [ 2.8184e-01,  3.5174e-01,  1.7167e-01, -1.6280e-01, -4.7292e-02,\n",
       "                       -1.3894e-01, -4.2489e-02, -3.7582e-01,  1.8592e-01,  1.2828e-01],\n",
       "                      [-2.6315e-01, -2.1902e-01,  1.6250e-02, -3.1387e-01,  6.5937e-02,\n",
       "                       -2.8510e-01, -1.7108e-02,  9.8830e-02, -2.3550e-01,  3.9521e-02],\n",
       "                      [-2.0844e-01,  3.0308e-01,  2.6012e-01, -2.4617e-01,  7.7318e-02,\n",
       "                       -9.4264e-03,  3.0048e-01,  2.8364e-01,  9.7079e-03,  3.1148e-01],\n",
       "                      [-1.7408e-01, -1.0315e-01,  2.5861e-02, -1.8880e-01,  7.8039e-02,\n",
       "                       -2.7748e-01, -1.2361e-01, -3.9650e-02,  1.8979e-01, -2.8106e-01],\n",
       "                      [ 2.6601e-01, -1.4234e-01,  1.1063e-01,  2.3948e-01, -2.9199e-03,\n",
       "                       -1.4189e-01, -2.7831e-01,  4.0148e-01, -1.7493e-01, -3.3876e-02],\n",
       "                      [ 2.9989e-02,  1.0429e-01,  3.0848e-01,  1.5996e-01,  2.6009e-01,\n",
       "                       -1.4833e-01, -2.9960e-01,  8.3536e-02,  1.6610e-01,  1.0705e-01],\n",
       "                      [ 2.5496e-01,  8.3233e-02, -1.1755e-01,  3.7990e-02,  1.8964e-01,\n",
       "                        1.2341e-01,  2.0709e-01, -1.5393e-01,  3.3273e-02, -4.3600e-02],\n",
       "                      [ 1.7674e-01,  4.0463e-01,  2.5879e-01, -8.5875e-02, -2.7810e-01,\n",
       "                        2.8942e-01,  6.9781e-02, -4.4633e-02,  2.7988e-01,  1.9402e-01]])),\n",
       "             ('hidden_layer.bias',\n",
       "              tensor([ 0.0252, -0.2834, -0.0712, -0.0884,  0.1982, -0.2044,  0.1398, -0.0617,\n",
       "                      -0.0215, -0.1306, -0.1683,  0.1901,  0.0760, -0.0024, -0.2369, -0.2199,\n",
       "                       0.2037,  0.3737,  0.2152, -0.2369,  0.1868,  0.1607,  0.3152, -0.2318,\n",
       "                      -0.2270,  0.0523,  0.1335, -0.0807,  0.1885,  0.3548])),\n",
       "             ('out_layer.weight',\n",
       "              tensor([[ 0.2184,  0.0421, -0.0664, -0.2249, -0.0904,  0.1126,  0.0183,  0.1784,\n",
       "                        0.0847,  0.0884, -0.1150,  0.0135, -0.1663, -0.0747, -0.0538,  0.0750,\n",
       "                       -0.0353,  0.0934, -0.1676, -0.1912,  0.0925, -0.0133,  0.1987, -0.0765,\n",
       "                        0.1246, -0.1755, -0.1547, -0.0254, -0.0928,  0.0820]])),\n",
       "             ('out_layer.bias', tensor([0.0271]))])"
      ]
     },
     "execution_count": 109,
     "metadata": {},
     "output_type": "execute_result"
    }
   ],
   "source": [
    "### 학습된 모델 파라미터 값 확인\n",
    "model.state_dict()"
   ]
  },
  {
   "cell_type": "markdown",
   "metadata": {},
   "source": [
    " - [방법 1] 모델 파라미터 즉, 층별 가중치와 절편들"
   ]
  },
  {
   "cell_type": "code",
   "execution_count": 110,
   "metadata": {},
   "outputs": [],
   "source": [
    "### models 폴더 아래 프로젝트 폴더 아래 모델 파일 저장\n",
    "import os\n",
    "\n",
    "# 저장 경로\n",
    "SAVE_PATH = '../models/iris'\n",
    "\n",
    "# 저장 파일명\n",
    "SAVE_FILE = 'model_train_wbs.pth'"
   ]
  },
  {
   "cell_type": "code",
   "execution_count": 111,
   "metadata": {},
   "outputs": [],
   "source": [
    "# 경로상 폴더 존재 여부 체크\n",
    "if not os.path.exists(SAVE_PATH):\n",
    "    os.makedirs(SAVE_PATH)  # 폴더 / 폴더 / ... 하위 폴더까지 생성"
   ]
  },
  {
   "cell_type": "code",
   "execution_count": 112,
   "metadata": {},
   "outputs": [],
   "source": [
    "# 모델 저장\n",
    "torch.save(model.state_dict(), SAVE_PATH + SAVE_FILE)"
   ]
  },
  {
   "cell_type": "code",
   "execution_count": 113,
   "metadata": {},
   "outputs": [
    {
     "name": "stdout",
     "output_type": "stream",
     "text": [
      "<class 'collections.OrderedDict'>\n"
     ]
    }
   ],
   "source": [
    "# 로딩으로 가중치 파일만 들고가서 다른 곳에서 같은 환경에서 그대로 돌리기 가능\n",
    "\n",
    "# 학습 된 것만 가져가서 쓰기도 간으\n",
    "\n",
    "# 모델 즉, 가중치와 절편 로딩\n",
    "# [1] 가중치와 절편 객체로 로딩\n",
    "# [2] 모델의 State_dict 속성에 저장\n",
    "# [3]\n",
    "\n",
    "# 읽기\n",
    "wbTS = torch.load(SAVE_PATH+SAVE_FILE, weights_only=True)\n",
    "print(type(wbTS))"
   ]
  },
  {
   "cell_type": "code",
   "execution_count": 114,
   "metadata": {},
   "outputs": [
    {
     "data": {
      "text/plain": [
       "<All keys matched successfully>"
      ]
     },
     "execution_count": 114,
     "metadata": {},
     "output_type": "execute_result"
    }
   ],
   "source": [
    "# 모델 인스턴스에 저장 \n",
    "model.load_state_dict(wbTS)"
   ]
  },
  {
   "cell_type": "code",
   "execution_count": 115,
   "metadata": {},
   "outputs": [
    {
     "ename": "NameError",
     "evalue": "name 'irisRegModel' is not defined",
     "output_type": "error",
     "traceback": [
      "\u001b[1;31m---------------------------------------------------------------------------\u001b[0m",
      "\u001b[1;31mNameError\u001b[0m                                 Traceback (most recent call last)",
      "Cell \u001b[1;32mIn[115], line 1\u001b[0m\n\u001b[1;32m----> 1\u001b[0m model2 \u001b[38;5;241m=\u001b[39m \u001b[43mirisRegModel\u001b[49m() \u001b[38;5;66;03m# W,b 초기화\u001b[39;00m\n\u001b[0;32m      3\u001b[0m model\u001b[38;5;241m.\u001b[39mload_state_dict(wbTS)\n",
      "\u001b[1;31mNameError\u001b[0m: name 'irisRegModel' is not defined"
     ]
    }
   ],
   "source": [
    "model2 = irisRegModel() # W,b 초기화\n",
    "\n",
    "model.load_state_dict(wbTS)"
   ]
  }
 ],
 "metadata": {
  "kernelspec": {
   "display_name": "TORCH_38",
   "language": "python",
   "name": "python3"
  },
  "language_info": {
   "codemirror_mode": {
    "name": "ipython",
    "version": 3
   },
   "file_extension": ".py",
   "mimetype": "text/x-python",
   "name": "python",
   "nbconvert_exporter": "python",
   "pygments_lexer": "ipython3",
   "version": "3.8.19"
  }
 },
 "nbformat": 4,
 "nbformat_minor": 2
}
