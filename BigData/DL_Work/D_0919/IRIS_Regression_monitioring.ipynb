{
 "cells": [
  {
   "cell_type": "markdown",
   "metadata": {},
   "source": [
    "##### - DNN기반 회귀 구현 + 학습 진행 모니터링\n",
    " - 데이터셋 : IRIS.csv\n",
    " - 피쳐/속성 : 3개 Setal_Length, Sepal_Width, Petal_Width\n",
    " - 타겟/라벨 : 1개 Petal_Length\n",
    " - 학습-방법 : 지도학습 > 회귀\n",
    " - 알고 리즘 : 인공신경망(ANN) -> 심층신경망(MLP), DNN : 은닉층이 많은 구성\n",
    " - 프레임워크 : Pytorch\n",
    " * * *\n",
    " - 모니터링\n",
    "    * 기준설정 : 검증데이터셋의 loss와 score \n",
    "    * 평가 : 학습데이터셋의 loss와 score 비교해서 학습 중단여부 결정\n",
    "    * 선택 : 현재까지 진행된 모델의 파라미터 (가중치, 절편) 저장 여부"
   ]
  },
  {
   "cell_type": "markdown",
   "metadata": {},
   "source": [
    "[1] 모듈 로딩과 데이터 준비 <hr>"
   ]
  },
  {
   "cell_type": "code",
   "execution_count": 1,
   "metadata": {},
   "outputs": [],
   "source": [
    "# 모듈 로딩\n",
    "import torch\n",
    "import torch.nn as nn\n",
    "import torch.nn.functional as F\n",
    "from torch.utils.data import Dataset, DataLoader\n",
    "import torch.optim as optim\n",
    "from torchmetrics.regression import R2Score, MeanSquaredError\n",
    "from torchinfo import summary\n",
    " \n",
    "# Data 및 시각화 관련\n",
    "import pandas as pd\n",
    "import matplotlib.pyplot as plt\n",
    "from sklearn.preprocessing import *\n",
    "from sklearn.model_selection import train_test_split"
   ]
  },
  {
   "cell_type": "code",
   "execution_count": 2,
   "metadata": {},
   "outputs": [
    {
     "name": "stdout",
     "output_type": "stream",
     "text": [
      "torch v.2.4.1\n",
      "Pandas v.2.0.3\n"
     ]
    }
   ],
   "source": [
    "# 활용 패키지 버전 체크 ==> 사용자 정의 함수로 구현하기\n",
    "print(f'torch v.{torch.__version__}')\n",
    "print(f'Pandas v.{pd.__version__}')"
   ]
  },
  {
   "cell_type": "code",
   "execution_count": 3,
   "metadata": {},
   "outputs": [
    {
     "name": "stdout",
     "output_type": "stream",
     "text": [
      "['Binarizer', 'DataLoader', 'Dataset', 'F', 'FunctionTransformer', 'In', 'KBinsDiscretizer', 'KernelCenterer', 'LabelBinarizer', 'LabelEncoder', 'MaxAbsScaler', 'MeanSquaredError', 'MinMaxScaler', 'MultiLabelBinarizer', 'Normalizer', 'OneHotEncoder', 'OrdinalEncoder', 'Out', 'PolynomialFeatures', 'PowerTransformer', 'QuantileTransformer', 'R2Score', 'RobustScaler', 'SplineTransformer', 'StandardScaler', 'TargetEncoder', '_', '__', '___', '__builtin__', '__builtins__', '__doc__', '__loader__', '__name__', '__package__', '__spec__', '__vsc_ipynb_file__', '_dh', '_i', '_i1', '_i2', '_i3', '_ih', '_ii', '_iii', '_oh', 'add_dummy_feature', 'binarize', 'exit', 'get_ipython', 'label_binarize', 'maxabs_scale', 'minmax_scale', 'nn', 'normalize', 'open', 'optim', 'pd', 'plt', 'power_transform', 'quantile_transform', 'quit', 'robust_scale', 'scale', 'summary', 'torch', 'train_test_split']\n"
     ]
    }
   ],
   "source": [
    "print(dir())"
   ]
  },
  {
   "cell_type": "code",
   "execution_count": 4,
   "metadata": {},
   "outputs": [],
   "source": [
    "def ver_check():\n",
    "    import_list = list(dir())\n",
    "    for i in import_list:\n",
    "        try:\n",
    "            \n",
    "            print(f'{i} v.',i.__version__)\n",
    "        except:\n",
    "            print(i)\n",
    "\n",
    "ver_check()"
   ]
  },
  {
   "cell_type": "code",
   "execution_count": 5,
   "metadata": {},
   "outputs": [],
   "source": [
    "# import_list = list(dir())\n",
    "# for i in import_list:\n",
    "#     print(i.__version__)"
   ]
  },
  {
   "cell_type": "markdown",
   "metadata": {},
   "source": [
    " - [방법 1] 모델 파라미터 즉, 층별 가중치와 절편들"
   ]
  },
  {
   "cell_type": "code",
   "execution_count": 6,
   "metadata": {},
   "outputs": [
    {
     "data": {
      "text/html": [
       "<div>\n",
       "<style scoped>\n",
       "    .dataframe tbody tr th:only-of-type {\n",
       "        vertical-align: middle;\n",
       "    }\n",
       "\n",
       "    .dataframe tbody tr th {\n",
       "        vertical-align: top;\n",
       "    }\n",
       "\n",
       "    .dataframe thead th {\n",
       "        text-align: right;\n",
       "    }\n",
       "</style>\n",
       "<table border=\"1\" class=\"dataframe\">\n",
       "  <thead>\n",
       "    <tr style=\"text-align: right;\">\n",
       "      <th></th>\n",
       "      <th>sepal.length</th>\n",
       "      <th>sepal.width</th>\n",
       "      <th>petal.length</th>\n",
       "      <th>petal.width</th>\n",
       "    </tr>\n",
       "  </thead>\n",
       "  <tbody>\n",
       "    <tr>\n",
       "      <th>0</th>\n",
       "      <td>5.1</td>\n",
       "      <td>3.5</td>\n",
       "      <td>1.4</td>\n",
       "      <td>0.2</td>\n",
       "    </tr>\n",
       "    <tr>\n",
       "      <th>1</th>\n",
       "      <td>4.9</td>\n",
       "      <td>3.0</td>\n",
       "      <td>1.4</td>\n",
       "      <td>0.2</td>\n",
       "    </tr>\n",
       "  </tbody>\n",
       "</table>\n",
       "</div>"
      ],
      "text/plain": [
       "   sepal.length  sepal.width  petal.length  petal.width\n",
       "0           5.1          3.5           1.4          0.2\n",
       "1           4.9          3.0           1.4          0.2"
      ]
     },
     "execution_count": 6,
     "metadata": {},
     "output_type": "execute_result"
    }
   ],
   "source": [
    "### 데이터로딩\n",
    "DATA_FILE = 'C:\\Git\\KDT\\BigData\\ML_Work\\data\\iris.csv'\n",
    "\n",
    "### CSV => DataFrame\n",
    "irisDF = pd.read_csv(DATA_FILE, usecols=[0,1,2,3])\n",
    "\n",
    "### 확인\n",
    "irisDF.head(2)"
   ]
  },
  {
   "cell_type": "code",
   "execution_count": 19,
   "metadata": {},
   "outputs": [],
   "source": [
    "### models 폴더 아래 프로젝트 폴더 아래 모델 파일 저장\n",
    "import os\n",
    "\n",
    "# 저장 경로\n",
    "SAVE_PATH = '../models/iris'\n",
    "\n",
    "# 저장 파일명\n",
    "SAVE_FILE = 'model_train_wbs.pth'\n",
    "\n",
    "SAVE_MODEL = 'model_all.pth'"
   ]
  },
  {
   "cell_type": "markdown",
   "metadata": {},
   "source": [
    "[2] 모델 클래스 설계 및 정의 <hr>\n",
    " - 클래스목적 : iris 데이터를 학습 및 추론 목적 \n",
    " - 클래스이름 : IrisRegModel\n",
    " - 부모클래스 : nn.Module\n",
    " - 매개__변수 : 층별 입출력 개수 고정하기 때문에 필요없음!\n",
    " - 속성__필드 : featureDF, targetDF, n_rows, n_features \n",
    " - 기능  역할 : __init__()  : 모델 구조 설정, forward() : 순방향 학습, <= 오버라이딩(overriding)\n",
    " - 클래스구조 \n",
    "    * 입력층 : 입력 3개 (피쳐)   출력 10개 (퍼셉트론 / 뉴런 10개 존재)\n",
    "    * 은닉층 : 입력 10개         출력 30개 (퍼셉트론 / 뉴런 30개 존재)\n",
    "    * 출력층 : 입력 30개         출력 1개 (너비값)\n",
    "\n",
    "\n",
    " - 활성화함수\n",
    "   * 클래스 형태 ==> nn.MESLoss, nn.ReLU ==> __init__() 메서드\n",
    "   * 함수 형태 ==> torch.nn.functional 아래에 ==> forward() 메서드"
   ]
  },
  {
   "cell_type": "code",
   "execution_count": 7,
   "metadata": {},
   "outputs": [],
   "source": [
    "class IrisRegModel(nn.Module):\n",
    "    # 모델 구조 구성 및 인스턴스 생성 메서드\n",
    "    def __init__(self):\n",
    "        super().__init__()\n",
    "\n",
    "        self.in_layer = nn.Linear(3,10)\n",
    "        self.hidden_layer = nn.Linear(10,30)\n",
    "        self.out_layer = nn.Linear(30,1)\n",
    "\n",
    "\n",
    "    def forward(self, input_data):\n",
    "        y = self.in_layer(input_data)   # f11w11 + f12w12 + f13w13 ... + f103w103 + b\n",
    "        # 여러 정보를 저장하는 배열\n",
    "        # 활성화 함수에 들어가야지?\n",
    "        y = F.relu(y)                       # relu => y 값의 범위 : 0 <= y  // 시그모이드는 0 ~ 1이긴 해.\n",
    "\n",
    "        # 10개의 숫자를 갖고 은닉층 출동\n",
    "        # - 은닉층 : 10개의 숫자 값 (>= 0)\n",
    "        y = self.hidden_layer(y)                # f21w11 + f22+w12 + f23w13 ... f210w210 + b , f230w201 + f230w202 ... f230w230+b  \n",
    "        y = F.relu(y)                       # 2번의 1번부터 시작, 2번의 30번까지.\n",
    "\n",
    "        # - 출력층 : 30개의 숫자 값 (>=0)\n",
    "        return self.out_layer(y)                   # f31w31 .... f330w330 + b   // 3번의 30번\n",
    "        # 회귀이므로 바로 반환        "
   ]
  },
  {
   "cell_type": "code",
   "execution_count": 8,
   "metadata": {},
   "outputs": [],
   "source": [
    "### 모델 인스턴스\n",
    "model = IrisRegModel()\n",
    "\n"
   ]
  },
  {
   "cell_type": "code",
   "execution_count": 9,
   "metadata": {},
   "outputs": [
    {
     "data": {
      "text/plain": [
       "==========================================================================================\n",
       "Layer (type:depth-idx)                   Output Shape              Param #\n",
       "==========================================================================================\n",
       "IrisRegModel                             [10, 1]                   --\n",
       "├─Linear: 1-1                            [10, 10]                  40\n",
       "├─Linear: 1-2                            [10, 30]                  330\n",
       "├─Linear: 1-3                            [10, 1]                   31\n",
       "==========================================================================================\n",
       "Total params: 401\n",
       "Trainable params: 401\n",
       "Non-trainable params: 0\n",
       "Total mult-adds (M): 0.00\n",
       "==========================================================================================\n",
       "Input size (MB): 0.00\n",
       "Forward/backward pass size (MB): 0.00\n",
       "Params size (MB): 0.00\n",
       "Estimated Total Size (MB): 0.01\n",
       "=========================================================================================="
      ]
     },
     "execution_count": 9,
     "metadata": {},
     "output_type": "execute_result"
    }
   ],
   "source": [
    "### 모델 사용 메모리 정보 확인\n",
    "summary(model, input_size=(10,3))"
   ]
  },
  {
   "cell_type": "markdown",
   "metadata": {},
   "source": [
    "[1] 데이터셋 클래스 설계 및 정의 <hr>\n",
    " - 데이터셋 : iris.csv\n",
    " - 피쳐_개수 : 3개\n",
    " - 타겟_개수 : 1개\n",
    " - 클래스이름 : IrisDataset\n",
    " - 부모클래스 : utils.data.Dataset\n",
    " - 속성_필드 : featureDF, targetDF, n_rows, n_features\n",
    " - 필수 메서드\n",
    "    * __init__(self) : 데이터셋 저장 및 전처리, 개발자가 필요한 속성 설정\n",
    "    * __len__(self) : 데이터 개수 반환\n",
    "    * __getitem__(self, index): 특정 인덱스의 피쳐와 타겟 반환"
   ]
  },
  {
   "cell_type": "code",
   "execution_count": 10,
   "metadata": {},
   "outputs": [],
   "source": [
    "class IrisDataset(Dataset):\n",
    "    def __init__(self, featureDF, targetDF):\n",
    "        self.featureDF = featureDF\n",
    "        self.targetDF = targetDF\n",
    "        self.n_rows = featureDF.shape[0]\n",
    "        self.n_features = featureDF.shape[1]\n",
    "        \n",
    "    def __len__(self):\n",
    "        return self.n_rows\n",
    "\n",
    "    def __getitem__(self, index):\n",
    "        # 텐서화\n",
    "\n",
    "        featureTS = torch.FloatTensor(self.featureDF.iloc[index].values) # 그대로 가져오면 시리즈니까 values로 형 변환\n",
    "        targetTS = torch.FloatTensor(self.targetDF.iloc[index].values)\n",
    "        # 피쳐와 타겟 변환\n",
    "\n",
    "        return featureTS, targetTS"
   ]
  },
  {
   "cell_type": "code",
   "execution_count": 11,
   "metadata": {},
   "outputs": [],
   "source": [
    "## 데이터셋 인스턴스 생성\n",
    "# - DataFrame에서 피쳐와 타겟 추출\n",
    "featureDF = irisDF[irisDF.columns[:-1]] # 2D (150,1)\n",
    "targetDF = irisDF[irisDF.columns[-1:]]  # 2D (150,1)\n",
    "\n",
    "# 커스텀데이터셋 인스턴스 생성\n",
    "irisDS = IrisDataset(featureDF, targetDF)"
   ]
  },
  {
   "cell_type": "markdown",
   "metadata": {},
   "source": [
    "[4] 학습 준비\n",
    " - 학습 횟수 : EPOCH            <- 처음 ~ 끝까지 공부하는 단위\n",
    " - 배치 크기 : BATCH_SIZE       <- 한번에 학습할 데이터셋 양\n",
    " - 위치 지정 : DEVICE           <- 텐서 저장 및 실행 위치 (GPU / CPU)\n",
    " - 학_습_률 : 가중치와 절편 업데이트 시 경사하강법으로 업데이트 간격 설정 0.001 ~ 0.1"
   ]
  },
  {
   "cell_type": "code",
   "execution_count": 12,
   "metadata": {},
   "outputs": [],
   "source": [
    "### 학습 진행 관련 설정\n",
    "EPOCH = 1\n",
    "BATCH_SIZE = 10\n",
    "DEVICE = 'cuda' if torch.cuda.is_available() else 'cpu'\n",
    "LR = 0.001\n",
    "\n",
    "# print(f'BATCH_CNT : {BATCH_CNT}')"
   ]
  },
  {
   "cell_type": "markdown",
   "metadata": {},
   "source": [
    " - 인스턴스 / 객체 : 모델, 데이터셋, 최적화 (, 손실함수 , 성능지표)"
   ]
  },
  {
   "cell_type": "code",
   "execution_count": 13,
   "metadata": {},
   "outputs": [],
   "source": [
    "# 모델 인스턴스\n",
    "model = IrisRegModel()\n",
    "\n",
    "# # 데이터셋 인스턴스\n",
    "irisDS = IrisDataset(featureDF,targetDF)\n",
    "\n",
    "# 데이터셋 인스턴스\n",
    "X_train, X_test, y_train, y_test = train_test_split(featureDF, targetDF, random_state=1)\n",
    "X_train, X_val, y_train, y_val = train_test_split(X_train, y_train, random_state=1)\n",
    "\n",
    "\n",
    "trainDS = IrisDataset(X_train,y_train)\n",
    "valDS = IrisDataset(X_val, y_val)\n",
    "testDS = IrisDataset(X_test,y_test)\n",
    "\n",
    "trainDL = DataLoader(irisDS, batch_size=BATCH_SIZE)\n",
    "\n",
    "\n",
    "\n",
    "# # 데이터로더 인스턴스\n",
    "irisDL = DataLoader(irisDS, batch_size=BATCH_SIZE)"
   ]
  },
  {
   "cell_type": "code",
   "execution_count": 14,
   "metadata": {},
   "outputs": [
    {
     "data": {
      "text/plain": [
       "(3, 150)"
      ]
     },
     "execution_count": 14,
     "metadata": {},
     "output_type": "execute_result"
    }
   ],
   "source": [
    "irisDL.dataset.n_features, irisDL.dataset.n_rows"
   ]
  },
  {
   "cell_type": "code",
   "execution_count": 15,
   "metadata": {},
   "outputs": [
    {
     "name": "stdout",
     "output_type": "stream",
     "text": [
      "torch.Size([10, 3]) torch.Size([10, 1])\n"
     ]
    }
   ],
   "source": [
    "## [테스트] 데이터로더\n",
    "for feature, target in irisDL:\n",
    "    print(feature.shape, target.shape)\n",
    "    break"
   ]
  },
  {
   "cell_type": "code",
   "execution_count": 16,
   "metadata": {},
   "outputs": [],
   "source": [
    "# 최적화 인스턴스 => W,b 텐서 즉, model.parameters() 전달\n",
    "optimizer = optim.Adam(model.parameters(), lr=LR)\n",
    "\n",
    "# 손실함수 인스턴스 => 회귀, MSE, MAE, RMSE ....\n",
    "reqloss = nn.MSELoss()\n"
   ]
  },
  {
   "cell_type": "markdown",
   "metadata": {},
   "source": [
    "[5] 학습 진행 <hr>"
   ]
  },
  {
   "cell_type": "code",
   "execution_count": 17,
   "metadata": {},
   "outputs": [
    {
     "ename": "SyntaxError",
     "evalue": "invalid syntax (569744281.py, line 71)",
     "output_type": "error",
     "traceback": [
      "\u001b[1;36m  Cell \u001b[1;32mIn[17], line 71\u001b[1;36m\u001b[0m\n\u001b[1;33m    if BREAK_CNT > LIMIT_VALIE: 10:\u001b[0m\n\u001b[1;37m                                   ^\u001b[0m\n\u001b[1;31mSyntaxError\u001b[0m\u001b[1;31m:\u001b[0m invalid syntax\n"
     ]
    }
   ],
   "source": [
    "## 학습의 효과 확인 손실값과 성능평가값 저장 필요\n",
    "LOSS_HISTORY, SCORE_HISTORY = [[],[]], [[],[]]\n",
    "CNT = irisDS.n_rows/BATCH_SIZE\n",
    "print(f'CNT => {CNT}')\n",
    "\n",
    "## 학습 모니터링 / 스케쥴링 설정\n",
    "# => LOSS_HISTORY, SCORE_HISTORY 활용\n",
    "# => 임계기준 : 10번\n",
    "BREAK_CNT = 0\n",
    "\n",
    "for epoch in range(EPOCH):\n",
    "    # 학습 모드로 모델 설정\n",
    "    model.train()\n",
    "\n",
    "    # 배치 크기 만큼 데이터 로딩해서 학습 진행\n",
    "    score_total, loss_total = 0,0\n",
    "    for featureTS, targetTS in irisDL:\n",
    "        # 학습 진행\n",
    "        pre_y = model(featureTS)\n",
    "\n",
    "        # 손실 계산\n",
    "        loss = reqloss(pre_y, targetTS)\n",
    "        loss_total += loss.item()\n",
    "        # 성능평가 개선\n",
    "        score = R2Score()(pre_y,targetTS)\n",
    "        score_total += score.item()\n",
    "\n",
    "        optimizer.zero_grad()\n",
    "        loss.backward()\n",
    "        optimizer.step()\n",
    "\n",
    "    # 에포크 당 검증기능\n",
    "    # 모델 검증 모드 설정\n",
    "    model.eval()\n",
    "    with torch.no_grad():\n",
    "\n",
    "        # 에포크 당 손실값과 성능평가값 저장\n",
    "        # 검증 데이터셋 \n",
    "        # 일부 뽑기 ....을마나 뽑을까 ... ㅎㅎ,ㅔ헤헤ㅔ\n",
    "        val_featureTS = torch.FloatTensor(valDS.featureDF.values)\n",
    "        val_targetTS = torch.FloatTensor(valDS.targetDF.values)\n",
    "        # 평가\n",
    "        pre_val = model(val_featureTS)\n",
    "        # 손실\n",
    "        loss_val = reqloss(pre_val, val_targetTS)\n",
    "        # 성능평가\n",
    "        score_val = R2Score()(pre_val, val_targetTS)\n",
    "\n",
    "    LOSS_HISTORY[0].append(loss_total/CNT)\n",
    "    SCORE_HISTORY[0].append(score_total/CNT)\n",
    "\n",
    "    LOSS_HISTORY[1].append(loss_val)\n",
    "    SCORE_HISTORY[1].append(score_val)\n",
    "\n",
    "    # 학습진행 모니터링 / 스케쥴링\n",
    "    # LOSS\n",
    "    if len(LOSS_HISTORY) == 1:\n",
    "        # 성능이 좋ㄹ으은좋갛 ㅂ공디호가 ㅈ전\n",
    "        torch.save(model.state_dict(), SAVE_PATH + SAVE_FILE)\n",
    "        # 모모\n",
    "    else:\n",
    "        if SCORE_HISTORY[1][-1] > max(SCORE_HISTORY[1]):\n",
    "            \n",
    "            BREAK_CNT += 1\n",
    "\n",
    "\n",
    "    # 성능이 좋ㅇ느 가즈ㅜ잋 저장\n",
    "\n",
    "    # 학습 중단 여부 설정\n",
    "    if BREAK_CNT > LIMIT_VALIE: 10:\n",
    "        print(\"성능 및 손실 개선이 없어서 학습 중단\")\n",
    "    break\n",
    "\n",
    "\n",
    "    "
   ]
  },
  {
   "cell_type": "code",
   "execution_count": 80,
   "metadata": {},
   "outputs": [
    {
     "data": {
      "text/plain": [
       "(torch.Size([28, 3]), torch.Size([28, 1]))"
      ]
     },
     "execution_count": 80,
     "metadata": {},
     "output_type": "execute_result"
    }
   ],
   "source": [
    "val_featureTS = torch.FloatTensor(valDS.featureDF.values)\n",
    "val_targetTS = torch.FloatTensor(valDS.targetDF.values)\n",
    "\n",
    "val_featureTS.shape, val_targetTS.shape"
   ]
  },
  {
   "cell_type": "code",
   "execution_count": 81,
   "metadata": {},
   "outputs": [
    {
     "name": "stdout",
     "output_type": "stream",
     "text": [
      "CNT : 15.0\n"
     ]
    }
   ],
   "source": [
    "print(f'CNT : {CNT}')"
   ]
  },
  {
   "cell_type": "code",
   "execution_count": 82,
   "metadata": {},
   "outputs": [
    {
     "name": "stdout",
     "output_type": "stream",
     "text": [
      "LOSS HISTORY => [[1.7006155379116534], [tensor(1.4176)]]\n",
      "SCORE HISTORY => [[-39.454028860727945], [tensor(-1.1961)]]\n"
     ]
    }
   ],
   "source": [
    "print(f'LOSS HISTORY => {LOSS_HISTORY}')\n",
    "print(f'SCORE HISTORY => {SCORE_HISTORY}')\n"
   ]
  },
  {
   "cell_type": "markdown",
   "metadata": {},
   "source": [
    " - 모델 저장 방법 <hr>\n",
    " * 방법1 : 모델 파라미터만 저장\n",
    " * 방법2 : 모델 설계 구조 및 파라미터까지 모두 저장"
   ]
  },
  {
   "cell_type": "code",
   "execution_count": 83,
   "metadata": {},
   "outputs": [
    {
     "data": {
      "text/plain": [
       "OrderedDict([('in_layer.weight',\n",
       "              tensor([[-0.1631, -0.2690,  0.1742],\n",
       "                      [-0.4243,  0.4332,  0.4923],\n",
       "                      [ 0.1501, -0.5477, -0.5012],\n",
       "                      [-0.0750,  0.0970, -0.2593],\n",
       "                      [ 0.4330,  0.2867, -0.1626],\n",
       "                      [-0.5492,  0.1858,  0.3321],\n",
       "                      [ 0.1536, -0.4899, -0.0231],\n",
       "                      [ 0.3070, -0.3619, -0.0102],\n",
       "                      [-0.4258,  0.5767,  0.0025],\n",
       "                      [-0.4284, -0.4127,  0.2821]])),\n",
       "             ('in_layer.bias',\n",
       "              tensor([ 0.2228, -0.3043,  0.3737,  0.4455,  0.4062, -0.4727,  0.2160,  0.3295,\n",
       "                      -0.1730,  0.4166])),\n",
       "             ('hidden_layer.weight',\n",
       "              tensor([[-0.1392,  0.0689,  0.2519, -0.2972,  0.0336, -0.1782, -0.3162, -0.2201,\n",
       "                        0.2687,  0.2669],\n",
       "                      [ 0.0818, -0.1430, -0.0231,  0.0984,  0.0660, -0.2774, -0.2943, -0.1048,\n",
       "                       -0.2625, -0.1682],\n",
       "                      [ 0.2997, -0.2328, -0.1695,  0.3160, -0.2571,  0.1153, -0.1535, -0.0546,\n",
       "                       -0.0866,  0.1819],\n",
       "                      [ 0.1015, -0.1178,  0.2394, -0.1653,  0.0151, -0.1208, -0.1240, -0.0861,\n",
       "                       -0.1964,  0.3108],\n",
       "                      [-0.0277, -0.1739, -0.0394,  0.1971, -0.1329,  0.0272, -0.1529,  0.2741,\n",
       "                       -0.1824, -0.2883],\n",
       "                      [ 0.0481, -0.2286, -0.2423,  0.1721, -0.2545,  0.1552,  0.1539,  0.1761,\n",
       "                        0.1485, -0.2709],\n",
       "                      [ 0.1666, -0.0441, -0.0053, -0.0293,  0.0148, -0.2195,  0.2290,  0.1662,\n",
       "                       -0.1887,  0.2892],\n",
       "                      [-0.0766,  0.2763,  0.0864,  0.0953, -0.2782, -0.2985, -0.0777,  0.1906,\n",
       "                       -0.1416, -0.2631],\n",
       "                      [-0.1715, -0.3058, -0.2563,  0.2728,  0.1427,  0.0234, -0.2395,  0.1255,\n",
       "                        0.0226,  0.0152],\n",
       "                      [-0.2313,  0.2592,  0.1660,  0.0847, -0.0098,  0.2261, -0.2708, -0.0832,\n",
       "                       -0.3159,  0.2233],\n",
       "                      [ 0.1663,  0.0014,  0.1605,  0.0609,  0.0423,  0.1122,  0.2853,  0.0382,\n",
       "                        0.2613, -0.2960],\n",
       "                      [-0.3074,  0.1254, -0.1439, -0.0225,  0.1772,  0.3037, -0.2520,  0.1646,\n",
       "                        0.2818,  0.1673],\n",
       "                      [ 0.3055,  0.2477, -0.1285,  0.1847,  0.0568,  0.1795, -0.1556, -0.2851,\n",
       "                       -0.3015,  0.2057],\n",
       "                      [-0.1716, -0.2075, -0.0154, -0.1891, -0.0151, -0.2238, -0.0100, -0.1371,\n",
       "                       -0.2925,  0.2107],\n",
       "                      [ 0.2416, -0.3229, -0.2864, -0.2530,  0.1275,  0.2955, -0.1341, -0.1656,\n",
       "                        0.1743,  0.2610],\n",
       "                      [-0.2137,  0.0707, -0.3152, -0.3121,  0.0425,  0.2382, -0.0083,  0.2113,\n",
       "                       -0.2816,  0.0999],\n",
       "                      [ 0.0124, -0.0786,  0.1004,  0.1652, -0.0283, -0.0673, -0.0800, -0.1209,\n",
       "                        0.1884,  0.1364],\n",
       "                      [ 0.2389, -0.2145,  0.1320, -0.0930, -0.2791,  0.0956, -0.1900,  0.2225,\n",
       "                        0.1878,  0.2067],\n",
       "                      [-0.2426, -0.2568, -0.1961, -0.2562,  0.0670, -0.1625,  0.2381, -0.0691,\n",
       "                       -0.1593,  0.0453],\n",
       "                      [ 0.2036,  0.0416,  0.0422,  0.2447, -0.0219, -0.0304,  0.0935,  0.1824,\n",
       "                        0.1315, -0.0361],\n",
       "                      [ 0.1525, -0.2286,  0.1817, -0.1454,  0.2003,  0.0342, -0.2176,  0.0142,\n",
       "                       -0.1792,  0.0708],\n",
       "                      [ 0.3073, -0.0616, -0.2986, -0.1914,  0.1296,  0.3109, -0.0153,  0.1677,\n",
       "                        0.0032, -0.1191],\n",
       "                      [-0.0816, -0.0010,  0.1197,  0.1385,  0.1883,  0.0100, -0.1466,  0.2959,\n",
       "                       -0.0246,  0.1732],\n",
       "                      [ 0.0101,  0.2493, -0.2175,  0.2844,  0.1175,  0.2300,  0.2626, -0.2696,\n",
       "                        0.2945, -0.1554],\n",
       "                      [ 0.0389,  0.2251,  0.0624,  0.0202, -0.1431,  0.0336, -0.3006,  0.0448,\n",
       "                        0.1355, -0.0893],\n",
       "                      [-0.1463,  0.0678,  0.2615,  0.0113, -0.0608,  0.1583, -0.1221,  0.1821,\n",
       "                       -0.3032, -0.2302],\n",
       "                      [-0.2842,  0.2665, -0.1075,  0.1635,  0.0010,  0.2851, -0.2229, -0.1509,\n",
       "                       -0.1249, -0.0846],\n",
       "                      [ 0.1568,  0.2711,  0.1882,  0.1264, -0.0160,  0.1839, -0.2263, -0.2385,\n",
       "                       -0.0618, -0.0756],\n",
       "                      [-0.2478,  0.2318, -0.2672, -0.2861,  0.1304,  0.2967, -0.0632, -0.1292,\n",
       "                        0.1508, -0.0324],\n",
       "                      [ 0.0244,  0.0238,  0.2584, -0.2644,  0.0249,  0.0731, -0.0072, -0.2048,\n",
       "                       -0.1548,  0.2610]])),\n",
       "             ('hidden_layer.bias',\n",
       "              tensor([-0.2539, -0.1241,  0.1235, -0.2432, -0.2991, -0.2790,  0.1950, -0.3155,\n",
       "                      -0.0654,  0.2678, -0.2240, -0.1319,  0.0006,  0.1075,  0.2306,  0.0445,\n",
       "                       0.0407, -0.2532, -0.1396, -0.2384, -0.0161, -0.1817, -0.2126,  0.2446,\n",
       "                       0.2608, -0.2953, -0.2684, -0.2387, -0.0171, -0.0347])),\n",
       "             ('out_layer.weight',\n",
       "              tensor([[ 0.1757,  0.0543, -0.0307, -0.0931,  0.1299,  0.0647,  0.0160,  0.1165,\n",
       "                       -0.0420,  0.1131,  0.0385,  0.0542,  0.0807,  0.1397, -0.0726, -0.1377,\n",
       "                       -0.1806, -0.0531, -0.0469, -0.0096, -0.0445,  0.0975,  0.0181, -0.1040,\n",
       "                       -0.0099, -0.1129, -0.1500, -0.1450,  0.1501,  0.1575]])),\n",
       "             ('out_layer.bias', tensor([0.1722]))])"
      ]
     },
     "execution_count": 83,
     "metadata": {},
     "output_type": "execute_result"
    }
   ],
   "source": [
    "### 학습된 모델 파라미터 값 확인\n",
    "model.state_dict()"
   ]
  },
  {
   "cell_type": "code",
   "execution_count": 20,
   "metadata": {},
   "outputs": [],
   "source": [
    "# 경로상 폴더 존재 여부 체크\n",
    "if not os.path.exists(SAVE_PATH):\n",
    "    os.makedirs(SAVE_PATH)  # 폴더 / 폴더 / ... 하위 폴더까지 생성- >>>"
   ]
  },
  {
   "cell_type": "code",
   "execution_count": null,
   "metadata": {},
   "outputs": [],
   "source": [
    "# 머ㅗ데[ㄹ 저장 주닙중ㅇㄷㅇㅇㅇㅇㅇㅇㅇㅇㅇㅇㅇㅇㅇㅇㅇㅇㅇㅇㅇㅇㅇㅇㅇㅇㅇㅇㅇㅇㅇㅇㅇㅇㅇㅇㅇㅇ]"
   ]
  },
  {
   "cell_type": "code",
   "execution_count": null,
   "metadata": {},
   "outputs": [],
   "source": [
    "# 학븐줍시\n"
   ]
  },
  {
   "cell_type": "code",
   "execution_count": 86,
   "metadata": {},
   "outputs": [],
   "source": [
    "# 모델 저장\n",
    "torch.save(model.state_dict(), SAVE_PATH + SAVE_FILE)"
   ]
  },
  {
   "cell_type": "code",
   "execution_count": 88,
   "metadata": {},
   "outputs": [
    {
     "name": "stdout",
     "output_type": "stream",
     "text": [
      "<class 'collections.OrderedDict'>\n"
     ]
    }
   ],
   "source": [
    "# 로딩으로 가중치 파일만 들고가서 다른 곳에서 같은 환경에서 그대로 돌리기 가능\n",
    "\n",
    "# 학습 된 것만 가져가서 쓰기도 간으\n",
    "\n",
    "# 모델 즉, 가중치와 절편 로딩\n",
    "# [1] 가중치와 절편 객체로 로딩\n",
    "# [2] 모델의 State_dict 속성에 저장\n",
    "# [3]\n",
    "\n",
    "# 읽기\n",
    "wbTS = torch.load(SAVE_PATH+SAVE_FILE, weights_only=True)\n",
    "print(type(wbTS))"
   ]
  },
  {
   "cell_type": "code",
   "execution_count": 90,
   "metadata": {},
   "outputs": [
    {
     "data": {
      "text/plain": [
       "<All keys matched successfully>"
      ]
     },
     "execution_count": 90,
     "metadata": {},
     "output_type": "execute_result"
    }
   ],
   "source": [
    "# 모델 인스턴스에 저장 \n",
    "model.load_state_dict(wbTS)"
   ]
  },
  {
   "cell_type": "code",
   "execution_count": 91,
   "metadata": {},
   "outputs": [
    {
     "ename": "NameError",
     "evalue": "name 'irisRegModel' is not defined",
     "output_type": "error",
     "traceback": [
      "\u001b[1;31m---------------------------------------------------------------------------\u001b[0m",
      "\u001b[1;31mNameError\u001b[0m                                 Traceback (most recent call last)",
      "Cell \u001b[1;32mIn[91], line 1\u001b[0m\n\u001b[1;32m----> 1\u001b[0m model2 \u001b[38;5;241m=\u001b[39m \u001b[43mirisRegModel\u001b[49m() \u001b[38;5;66;03m# W,b 초기화\u001b[39;00m\n\u001b[0;32m      3\u001b[0m model\u001b[38;5;241m.\u001b[39mload_state_dict(wbTS)\n",
      "\u001b[1;31mNameError\u001b[0m: name 'irisRegModel' is not defined"
     ]
    }
   ],
   "source": [
    "model2 = irisRegModel() # W,b 초기화\n",
    "\n",
    "model.load_state_dict(wbTS)"
   ]
  }
 ],
 "metadata": {
  "kernelspec": {
   "display_name": "TORCH_38",
   "language": "python",
   "name": "python3"
  },
  "language_info": {
   "codemirror_mode": {
    "name": "ipython",
    "version": 3
   },
   "file_extension": ".py",
   "mimetype": "text/x-python",
   "name": "python",
   "nbconvert_exporter": "python",
   "pygments_lexer": "ipython3",
   "version": "3.8.19"
  }
 },
 "nbformat": 4,
 "nbformat_minor": 2
}
