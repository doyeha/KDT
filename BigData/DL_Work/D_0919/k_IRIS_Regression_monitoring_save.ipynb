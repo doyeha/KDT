{
 "cells": [
  {
   "cell_type": "markdown",
   "metadata": {},
   "source": [
    "#####  DNN기반 회귀 모델 구현 + 학습 진행 모니터링 + 진행 파라미터 저장\n",
    "- 데이터 셋 : iris.csv\n",
    "- 피쳐/속성 : 3개 Sepal_Length, Sepal_Width, Petal_Length\n",
    "- 타겟/라벨 : 1개 Petal_Width\n",
    "- 학습-방법 : 지도학습 > 회귀\n",
    "- 알고 리즘 : 인공신경망(ANN) -> MLP, DNN : 은닉층이 많은 구성 \n",
    "- 프레임워크 : Pytorch\n",
    "***\n",
    "- 모니터링\n",
    "    * 기준 : 검증데이터셋의 loss 또는 score\n",
    "    * 평가 : 학습데이터셋의 loss 또는 score와 비교해서 학습 중단여부 결정\n",
    "    * 저장 : 현재까지 진행된 모델의 파라미터(가중치, 절편) 저장 여부 또는 모델 전체 저장\n"
   ]
  },
  {
   "cell_type": "markdown",
   "metadata": {},
   "source": [
    "[1] 모듈 로딩 및 데이터 준비 <hr>"
   ]
  },
  {
   "cell_type": "code",
   "execution_count": 10,
   "metadata": {},
   "outputs": [],
   "source": [
    "\n",
    "# 모듈 로딩\n",
    "# - Model관련\n",
    "import torch              \n",
    "import torch.nn as nn              \n",
    "import torch.nn.functional as F \n",
    "from torch.utils.data import Dataset, DataLoader \n",
    "import torch.optim as optim    \n",
    "from torchmetrics.regression import R2Score, MeanSquaredError \n",
    "from torchinfo import summary \n",
    "\n",
    "#- Data 및 시각화 관련\n",
    "import pandas as pd \n",
    "import matplotlib.pyplot as plt              \n",
    "from sklearn.preprocessing import * \n",
    "from sklearn.model_selection import train_test_split  "
   ]
  },
  {
   "cell_type": "code",
   "execution_count": 11,
   "metadata": {},
   "outputs": [
    {
     "name": "stdout",
     "output_type": "stream",
     "text": [
      "Pytorch v.2.4.1\n",
      "Pandas  v.2.0.3\n"
     ]
    }
   ],
   "source": [
    "# 활용 패키지 버전 체크 ==> 사용자 정의함수로 구현하세요~!!\n",
    "print(f'Pytorch v.{torch.__version__}')\n",
    "print(f'Pandas  v.{pd.__version__}')"
   ]
  },
  {
   "cell_type": "code",
   "execution_count": 12,
   "metadata": {},
   "outputs": [
    {
     "data": {
      "text/html": [
       "<div>\n",
       "<style scoped>\n",
       "    .dataframe tbody tr th:only-of-type {\n",
       "        vertical-align: middle;\n",
       "    }\n",
       "\n",
       "    .dataframe tbody tr th {\n",
       "        vertical-align: top;\n",
       "    }\n",
       "\n",
       "    .dataframe thead th {\n",
       "        text-align: right;\n",
       "    }\n",
       "</style>\n",
       "<table border=\"1\" class=\"dataframe\">\n",
       "  <thead>\n",
       "    <tr style=\"text-align: right;\">\n",
       "      <th></th>\n",
       "      <th>sepal.length</th>\n",
       "      <th>sepal.width</th>\n",
       "      <th>petal.length</th>\n",
       "      <th>petal.width</th>\n",
       "    </tr>\n",
       "  </thead>\n",
       "  <tbody>\n",
       "    <tr>\n",
       "      <th>0</th>\n",
       "      <td>5.1</td>\n",
       "      <td>3.5</td>\n",
       "      <td>1.4</td>\n",
       "      <td>0.2</td>\n",
       "    </tr>\n",
       "  </tbody>\n",
       "</table>\n",
       "</div>"
      ],
      "text/plain": [
       "   sepal.length  sepal.width  petal.length  petal.width\n",
       "0           5.1          3.5           1.4          0.2"
      ]
     },
     "execution_count": 12,
     "metadata": {},
     "output_type": "execute_result"
    }
   ],
   "source": [
    "###  데이터 로딩\n",
    "DATA_FILE='C:\\Git\\KDT\\BigData\\data\\iris.csv' \n",
    "\n",
    "### CSV >>> DataFrame\n",
    "irisDF = pd.read_csv(DATA_FILE, usecols=[0,1,2,3])\n",
    "\n",
    "### 확인\n",
    "irisDF.head(1)"
   ]
  },
  {
   "cell_type": "markdown",
   "metadata": {},
   "source": [
    "[2] 모델 클래스 설계 및 정의 <hr>\n",
    "- 클래스목적 : iris 데이터를 학습 및 추론 목적\n",
    "- 클래스이름 : IrisRegModel\n",
    "- 부모클래스 : nn.Module\n",
    "- 매개__변수 : 층별 입출력 개수 고정하기때문에 필요 없음!\n",
    "- 속성__필드 : \n",
    "- 기능__역할 : __init__() : 모델 구조 설정 ,  forward() : 순방향 학습 <= 오바라이딩(overriding)\n",
    "- 클래스구조 \n",
    "    * 입력층 : 입력 3개(피쳐)      출력   10개(퍼셉트론/뉴런 10개 존재)\n",
    "    * 은닉층 : 입력 10개           출력   30개(퍼셉트론/뉴런 30개 존재)\n",
    "    * 출력층 : 입력 30개           출력   1개(너비값)\n",
    "\n",
    "- 활성화함수\n",
    "    * 클래스 형태 ==> nn.MESLoss, nn.ReLU ==> __init__() 메서드 \n",
    "    * 함수 형태 ==> torch.nn.functional 아래에  ==> forward()메서드"
   ]
  },
  {
   "cell_type": "code",
   "execution_count": 13,
   "metadata": {},
   "outputs": [],
   "source": [
    "class IrisRegModel(nn.Module):\n",
    "    \n",
    "    # 모델 구조 구성 및 인스턴스 생성 메서드\n",
    "    def __init__(self):\n",
    "        super().__init__()\n",
    "        self.in_layer=nn.Linear(3, 10)\n",
    "        self.hd_layer=nn.Linear(10, 30)\n",
    "        self.out_layer=nn.Linear(30, 1)\n",
    "        \n",
    "    # 순방향 학습 진행 메서드\n",
    "    def forward(self, input_data):\n",
    "        #- 입력층\n",
    "        y=self.in_layer(input_data)   # fi1W11+f12W12+f13W13+b, ... , fi101W101+f102W102+fi103W103+b\n",
    "        y=F.relu(y)                   # relu => y 값의 범위 : 0 <= y\n",
    "        \n",
    "        # - 은닉층 : 10개의 숫자 값(>=0)\n",
    "        y=self.hd_layer(y)            # f21W11+f22W12...+f210W210+b, ... , f230W201+...+f230W210+b\n",
    "        y=F.relu(y)                   # relu => y 값의 범위 : 0 <= y\n",
    "        \n",
    "        #- 출력층 : 30개의 숫자 값(>=0) 회귀이므로 바로 반환(return)\n",
    "        return self.out_layer(y)              # f31W31+.....+f330W330+b  \n"
   ]
  },
  {
   "cell_type": "code",
   "execution_count": 14,
   "metadata": {},
   "outputs": [
    {
     "name": "stdout",
     "output_type": "stream",
     "text": [
      "IrisRegModel(\n",
      "  (in_layer): Linear(in_features=3, out_features=10, bias=True)\n",
      "  (hd_layer): Linear(in_features=10, out_features=30, bias=True)\n",
      "  (out_layer): Linear(in_features=30, out_features=1, bias=True)\n",
      ")\n"
     ]
    }
   ],
   "source": [
    "### 모델 인스턴스 생성\n",
    "model = IrisRegModel()\n",
    "\n",
    "print(model)"
   ]
  },
  {
   "cell_type": "code",
   "execution_count": 15,
   "metadata": {},
   "outputs": [
    {
     "data": {
      "text/plain": [
       "==========================================================================================\n",
       "Layer (type:depth-idx)                   Output Shape              Param #\n",
       "==========================================================================================\n",
       "IrisRegModel                             [1000000, 1]              --\n",
       "├─Linear: 1-1                            [1000000, 10]             40\n",
       "├─Linear: 1-2                            [1000000, 30]             330\n",
       "├─Linear: 1-3                            [1000000, 1]              31\n",
       "==========================================================================================\n",
       "Total params: 401\n",
       "Trainable params: 401\n",
       "Non-trainable params: 0\n",
       "Total mult-adds (M): 401\n",
       "==========================================================================================\n",
       "Input size (MB): 12.00\n",
       "Forward/backward pass size (MB): 328.00\n",
       "Params size (MB): 0.00\n",
       "Estimated Total Size (MB): 340.00\n",
       "=========================================================================================="
      ]
     },
     "execution_count": 15,
     "metadata": {},
     "output_type": "execute_result"
    }
   ],
   "source": [
    "# 모델 사용 메모리 정보 확인\n",
    "summary(model, input_size=(1000000,3))"
   ]
  },
  {
   "cell_type": "markdown",
   "metadata": {},
   "source": [
    "[3] 데이터셋 클래스 설계 및 정의 <hr>\n",
    "- 데이터_셋 : iris.csv\n",
    "- 피쳐_개수 : 3개\n",
    "- 타겟_개수 : 1개\n",
    "- 클래스이름 : IrisDataset\n",
    "- 부모클래스 : utils.data.Dataset\n",
    "- 속성__필드 : featureDF, targetDF, n_rows, n_features\n",
    "- 필수메서드 \n",
    "    * _ _init_ _(self) : 데이터셋 저장 및 전처리, 개발자가 필요한 속성 설정\n",
    "    * _ _len_ _(self) : 데이터의 개수 반환\n",
    "    * _ _getItem_ _(self, index) : 특정 인덱스의 피쳐와 타겟 반환"
   ]
  },
  {
   "cell_type": "code",
   "execution_count": 16,
   "metadata": {},
   "outputs": [],
   "source": [
    "class IrisDataset(Dataset):\n",
    "    \n",
    "    def __init__(self, featureDF, targetDF):\n",
    "        self.featureDF=featureDF \n",
    "        self.targetDF=targetDF\n",
    "        self.n_rows=featureDF.shape[0]\n",
    "        self.n_features=featureDF.shape[1]\n",
    "    \n",
    "    def __len__(self):\n",
    "        return self.n_rows\n",
    "    \n",
    "    def __getitem__(self, index):\n",
    "        # 텐서화\n",
    "        featureTS=torch.FloatTensor(self.featureDF.iloc[index].values)\n",
    "        targetTS=torch.FloatTensor(self.targetDF.iloc[index].values) \n",
    "        \n",
    "        # 피쳐와 타겟 반환\n",
    "        return featureTS, targetTS"
   ]
  },
  {
   "cell_type": "code",
   "execution_count": 17,
   "metadata": {},
   "outputs": [],
   "source": [
    "## 데이터셋 인스턴스 생성\n",
    "\n",
    "# - DataFram에서 피쳐와 타겟 추출\n",
    "featureDF = irisDF[irisDF.columns[:-1]]   # 2D (150, 3)\n",
    "targetDF = irisDF[irisDF.columns[-1:]]    # 2D (150, 1)\n",
    "\n",
    "# - 커스텀데이터셋 인스턴스 생성\n",
    "irisDS=IrisDataset(featureDF, targetDF)"
   ]
  },
  {
   "cell_type": "markdown",
   "metadata": {},
   "source": [
    "[4] 학습 준비 \n",
    "- 학습_횟수 : EPOCH         <- 처음~끝까지 공부하는 단위\n",
    "- 배치_크기 : BATCH_SIZE    <- 한번에 학습할 데이터셋 양 \n",
    "- 위치_지정 : DEVICE    <- 텐서 저장 및 실행 위치 (GPU/CPU)\n",
    "- 학_습_률 : LR 가중치와 절편 업데이트 시 경사하강법으로 업데이트 간격 설정 0.001~0.1 "
   ]
  },
  {
   "cell_type": "code",
   "execution_count": 18,
   "metadata": {},
   "outputs": [
    {
     "name": "stdout",
     "output_type": "stream",
     "text": [
      "BATCH_CNT : 15\n"
     ]
    }
   ],
   "source": [
    "\n",
    "### 학습 진행 관련 설정\n",
    "EPOPCH = 1\n",
    "BATCH_SIZE = 10\n",
    "BATCH_CNT = irisDF.shape[0]//BATCH_SIZE\n",
    "DEVICE = 'cuda' if torch.cuda.is_available() else 'cpu'\n",
    "LR = 0.001\n",
    "\n",
    "print(f'BATCH_CNT : {BATCH_CNT}')"
   ]
  },
  {
   "cell_type": "markdown",
   "metadata": {},
   "source": [
    "- 인스턴스/객체 : 모델, 데이터셋, 최적화 (, 손실함수, 성능지표)"
   ]
  },
  {
   "cell_type": "code",
   "execution_count": 19,
   "metadata": {},
   "outputs": [
    {
     "name": "stdout",
     "output_type": "stream",
     "text": [
      "(84, 3) (38, 3) (28, 3)\n",
      "(84, 1) (38, 1) (28, 1)\n",
      "<class 'pandas.core.frame.DataFrame'> <class 'pandas.core.frame.DataFrame'> <class 'pandas.core.frame.DataFrame'>\n"
     ]
    }
   ],
   "source": [
    "\n",
    "# 모델 인스턴스\n",
    "model=IrisRegModel() \n",
    "\n",
    "# 데이터셋 인스턴스\n",
    "X_train, X_test, y_train, y_test =train_test_split(featureDF, targetDF, random_state=1)\n",
    "X_train, X_val, y_train, y_val =train_test_split(X_train, y_train, random_state=1)\n",
    "print(f'{X_train.shape} {X_test.shape} {X_val.shape}')\n",
    "print(f'{y_train.shape} {y_test.shape} {y_val.shape}')\n",
    "print(f'{type(X_train)} {type(X_test)} {type(X_val)}')\n",
    "\n",
    "trainDS=IrisDataset(X_train, y_train)\n",
    "valDS=IrisDataset(X_val, y_val)\n",
    "testDS=IrisDataset(X_test, y_test)\n",
    "\n",
    "# 데이터로더 인스턴스\n",
    "trainDL=DataLoader(trainDS, batch_size=BATCH_SIZE)"
   ]
  },
  {
   "cell_type": "code",
   "execution_count": 20,
   "metadata": {},
   "outputs": [
    {
     "name": "stdout",
     "output_type": "stream",
     "text": [
      "torch.Size([10, 3]) torch.Size([10, 1])\n"
     ]
    }
   ],
   "source": [
    "## [테스트]데이터로더와 데이터셋 체크\n",
    "for feature, target in trainDL: \n",
    "    print(feature.shape, target.shape)\n",
    "    break"
   ]
  },
  {
   "cell_type": "code",
   "execution_count": 21,
   "metadata": {},
   "outputs": [],
   "source": [
    "# 최적화 인스턴스 => W,b 텐서 즉, model.parameters() 전달\n",
    "optimizer=optim.Adam(model.parameters(), lr=LR)\n",
    "\n",
    "# 손실함수 인스턴스 => 회귀, MSE, MAE, RMSE ....\n",
    "reqLoss=nn.MSELoss()"
   ]
  },
  {
   "cell_type": "markdown",
   "metadata": {},
   "source": [
    "[5] 학습 진행"
   ]
  },
  {
   "cell_type": "markdown",
   "metadata": {},
   "source": [
    "- >>> 모델 저장 준비"
   ]
  },
  {
   "cell_type": "code",
   "execution_count": 22,
   "metadata": {},
   "outputs": [],
   "source": [
    "### models 폴더 아래 프로젝트 폴더 아래 모델 파일 저장\n",
    "import os\n",
    "\n",
    "\n",
    "# 저장 경로\n",
    "SAVE_PATH='../models/iris/'\n",
    "# 저장 파일명\n",
    "SAVE_FILE='model_train_wbs.pth'\n",
    "\n",
    "# 모델 구조 및 파라미터 모두 저장 파일명명\n",
    "SAVE_MODEL='model_all.pth'"
   ]
  },
  {
   "cell_type": "code",
   "execution_count": 23,
   "metadata": {},
   "outputs": [],
   "source": [
    "# 경로상 폴더 존재 여부 체크\n",
    "if not os.path.exists(SAVE_PATH):\n",
    "    os.makedirs(SAVE_PATH)      # 폴더/폴더/... 하위 폴더까지 생성"
   ]
  },
  {
   "cell_type": "markdown",
   "metadata": {},
   "source": [
    "- >>> 학습 진행"
   ]
  },
  {
   "cell_type": "code",
   "execution_count": 24,
   "metadata": {},
   "outputs": [
    {
     "name": "stdout",
     "output_type": "stream",
     "text": [
      "CNT => 15.0\n"
     ]
    }
   ],
   "source": [
    "## 학습의 효과 확인 손실값과 성능평가값 저장 필요\n",
    "LOSS_HISTORY, SCORE_HISTORY=[[],[]], [[],[]]\n",
    "CNT=irisDS.n_rows/BATCH_SIZE\n",
    "print(f'CNT => {CNT}')\n",
    "\n",
    "## 학습 모니터링/스케줄링 설정 => LOSS_HISTORY, SCORE_HISTORY 활용\n",
    "# => 임계기준 : 10번\n",
    "BREAK_CNT=0\n",
    "LIMIT_VALUE=10\n",
    "\n",
    "\n",
    "for epoch in range(EPOPCH):\n",
    "    # 학습 모드로 모델 설정\n",
    "    model.train()\n",
    "    \n",
    "    # 배치 크기 만큼 데이터 로딩해서 학습 진행\n",
    "    loss_total, score_total=0,0\n",
    "    for featureTS, targetTS in trainDL:\n",
    "        \n",
    "        # 학습 진행\n",
    "        pre_y=model(featureTS)\n",
    "        \n",
    "        # 손실 계산\n",
    "        loss=reqLoss(pre_y, targetTS)\n",
    "        loss_total += loss.item()\n",
    "        \n",
    "        # 성능평가 계산\n",
    "        score=R2Score()(pre_y, targetTS)\n",
    "        score_total += score.item()\n",
    "        \n",
    "        # 최적화 진행\n",
    "        optimizer.zero_grad()\n",
    "        loss.backward()\n",
    "        optimizer.step()\n",
    "        \n",
    "    # 에포크 당 검증기능\n",
    "    # 모델 검증 모드 설정\n",
    "    model.eval()\n",
    "    with torch.no_grad():\n",
    "        # 검증 데이터셋\n",
    "        val_featrueTS=torch.FloatTensor(valDS.featureDF.values)\n",
    "        val_targetTS=torch.FloatTensor(valDS.targetDF.values)\n",
    "        # 추론/평가\n",
    "        pre_val=model(val_featrueTS)\n",
    "        # 손실\n",
    "        loss_val=reqLoss(pre_val, val_targetTS)\n",
    "        # 성능평가\n",
    "        score_val=R2Score()(pre_val, val_targetTS)\n",
    "\n",
    "        \n",
    "    # 에포크 당 손실값과 성능평가값 저장    \n",
    "    LOSS_HISTORY[0].append(loss_total/CNT)\n",
    "    SCORE_HISTORY[0].append(score_total/CNT)\n",
    "    \n",
    "    LOSS_HISTORY[1].append(loss_val)\n",
    "    SCORE_HISTORY[1].append(score_val)\n",
    "\n",
    "    # 학습 진행 모니터링/스케줄링 - 검증 DS 기준\n",
    "    # Loss 기준\n",
    "    if len(LOSS_HISTORY[1]) >= 2:\n",
    "        if LOSS_HISTORY[1][-1] >= LOSS_HISTORY[1][-2]: BREAK_CNT +=1\n",
    "\n",
    "    # Score 기준\n",
    "    # if len(SCORE_HISTORY[1]) >= 2:\n",
    "    #     if SCORE_HISTORY[1][-1] <= SCORE_HISTORY[1][-2]: BREAK_CNT +=1\n",
    "\n",
    "    # 성능이 좋은 학습 가중치 저장\n",
    "    SAVE_FILE=f'model_train_wbs_{epoch}_{score_val}.pth'\n",
    "    if len(SCORE_HISTORY[1]) == 1:\n",
    "        # 첫번째라서 무조건 모델 저장\n",
    "        torch.save(model.state_dict(), SAVE_PATH+SAVE_FILE)\n",
    "        # 모델 전체 저장\n",
    "        torch.save(model, SAVE_PATH+SAVE_MODEL)\n",
    "    else:\n",
    "        if SCORE_HISTORY[1][-1] > max(SCORE_HISTORY[1][:-1]): \n",
    "            torch.save(model.state_dict(), SAVE_PATH+SAVE_FILE)\n",
    "            torch.save(model, SAVE_PATH+SAVE_MODEL)\n",
    "\n",
    "    # 학습 중단 여부 설정\n",
    "    if BREAK_CNT > LIMIT_VALUE:\n",
    "        print(f\"성능 및 손실 개선이 없어서 {epoch} EPOCH에 학습 중단\")\n",
    "        break"
   ]
  },
  {
   "cell_type": "code",
   "execution_count": 25,
   "metadata": {},
   "outputs": [
    {
     "data": {
      "text/plain": [
       "(torch.Size([28, 3]), torch.Size([28, 1]))"
      ]
     },
     "execution_count": 25,
     "metadata": {},
     "output_type": "execute_result"
    }
   ],
   "source": [
    "val_featrueTS=torch.FloatTensor(valDS.featureDF.values)\n",
    "val_targetTS=torch.FloatTensor(valDS.targetDF.values)\n",
    "\n",
    "val_featrueTS.shape, val_targetTS.shape"
   ]
  },
  {
   "cell_type": "code",
   "execution_count": 26,
   "metadata": {},
   "outputs": [
    {
     "name": "stdout",
     "output_type": "stream",
     "text": [
      "CNT => 15.0\n",
      "LOSS_HISTORY => [[0.7523853937784831], [tensor(0.8421)]]\n",
      "SCORE_HISTORY => [[-1.0290202776590982], [tensor(-0.3046)]]\n"
     ]
    }
   ],
   "source": [
    "print(f'CNT => {CNT}')\n",
    "print(f'LOSS_HISTORY => {LOSS_HISTORY}')\n",
    "print(f'SCORE_HISTORY => {SCORE_HISTORY}')"
   ]
  },
  {
   "cell_type": "markdown",
   "metadata": {},
   "source": [
    "- 모델 저장 방법 <hr>\n",
    "* 방법1 : 모델 파라미터만 저장\n",
    "* 방법2 : 모델 설계 구조 및 파라미터까지 모두 저장"
   ]
  },
  {
   "cell_type": "code",
   "execution_count": 27,
   "metadata": {},
   "outputs": [
    {
     "data": {
      "text/plain": [
       "OrderedDict([('in_layer.weight',\n",
       "              tensor([[-0.5222, -0.5232, -0.2224],\n",
       "                      [-0.0397, -0.2002, -0.5621],\n",
       "                      [-0.2052, -0.4948,  0.3440],\n",
       "                      [ 0.1271, -0.0541, -0.1739],\n",
       "                      [-0.4790,  0.4021, -0.3140],\n",
       "                      [-0.5731,  0.2958,  0.4848],\n",
       "                      [-0.0444, -0.2568,  0.3223],\n",
       "                      [ 0.5060, -0.1850, -0.1655],\n",
       "                      [ 0.5667,  0.1189, -0.1502],\n",
       "                      [ 0.4585, -0.4209,  0.1184]])),\n",
       "             ('in_layer.bias',\n",
       "              tensor([ 0.3209,  0.2210,  0.0073,  0.5365, -0.3508, -0.3754,  0.4453, -0.0080,\n",
       "                      -0.1184,  0.2942])),\n",
       "             ('hd_layer.weight',\n",
       "              tensor([[ 0.1728, -0.2776,  0.0649,  0.1023, -0.1538, -0.1832, -0.1814,  0.3076,\n",
       "                       -0.0664, -0.2050],\n",
       "                      [-0.1761,  0.0805,  0.2891,  0.1616,  0.2478, -0.2044,  0.1987,  0.3071,\n",
       "                        0.0815,  0.0792],\n",
       "                      [-0.1647,  0.0622,  0.1056,  0.2870, -0.2813, -0.1646,  0.2839,  0.1344,\n",
       "                        0.2934, -0.0746],\n",
       "                      [ 0.0655, -0.0612, -0.1594, -0.2640, -0.0596,  0.0167, -0.2151,  0.1325,\n",
       "                       -0.1793, -0.0168],\n",
       "                      [ 0.2448,  0.2059, -0.0553,  0.1721,  0.1959,  0.1143,  0.1236,  0.1304,\n",
       "                       -0.0950, -0.0222],\n",
       "                      [ 0.2370, -0.3042,  0.0810,  0.2707,  0.1165,  0.0828,  0.0252,  0.1560,\n",
       "                        0.0438, -0.0807],\n",
       "                      [-0.1462,  0.0422, -0.2671, -0.0326,  0.0236, -0.1113, -0.1727, -0.1896,\n",
       "                       -0.2428,  0.1522],\n",
       "                      [-0.1776,  0.0174,  0.0686, -0.0760, -0.2838, -0.1681,  0.2563,  0.2361,\n",
       "                        0.1877,  0.2158],\n",
       "                      [ 0.0597,  0.2717,  0.2112, -0.1590, -0.0948, -0.0113,  0.1988,  0.1819,\n",
       "                       -0.2279,  0.2389],\n",
       "                      [-0.2328, -0.1395, -0.1977, -0.2220,  0.2743, -0.1067,  0.1741, -0.1767,\n",
       "                        0.1445, -0.0648],\n",
       "                      [ 0.1200, -0.0494, -0.0846,  0.2098, -0.1391, -0.0017,  0.0597,  0.2131,\n",
       "                       -0.0347, -0.0703],\n",
       "                      [-0.0688,  0.0132,  0.1286,  0.3014,  0.1527, -0.1215,  0.1834,  0.2346,\n",
       "                        0.2062, -0.1245],\n",
       "                      [ 0.0676, -0.1624, -0.2466, -0.1154,  0.1093,  0.0445, -0.0596,  0.0032,\n",
       "                        0.1033,  0.2016],\n",
       "                      [ 0.1596, -0.0485, -0.1858, -0.0285, -0.1970, -0.2746, -0.2650, -0.1393,\n",
       "                       -0.1346, -0.1215],\n",
       "                      [ 0.0864, -0.1734,  0.0703,  0.0739,  0.2419,  0.0485, -0.1762, -0.0974,\n",
       "                       -0.2525, -0.2917],\n",
       "                      [-0.2355, -0.0963,  0.1782,  0.2876, -0.2413,  0.0176, -0.2100,  0.2392,\n",
       "                        0.0627,  0.2570],\n",
       "                      [ 0.1991,  0.2961,  0.1517,  0.0332,  0.2221, -0.0212,  0.0452,  0.1820,\n",
       "                       -0.1656,  0.2755],\n",
       "                      [-0.0532,  0.2421, -0.3106, -0.1622, -0.0447,  0.1704,  0.2989,  0.2121,\n",
       "                       -0.2624, -0.2560],\n",
       "                      [-0.3050,  0.2363,  0.1648,  0.0217,  0.3133, -0.2937,  0.2198, -0.0852,\n",
       "                        0.1334,  0.3025],\n",
       "                      [-0.1218,  0.2284,  0.2738,  0.2520, -0.0897, -0.1103, -0.0418, -0.0529,\n",
       "                       -0.0369,  0.2899],\n",
       "                      [-0.1378, -0.0353,  0.2507,  0.2910,  0.1254, -0.0126,  0.2611, -0.2787,\n",
       "                        0.0659,  0.2858],\n",
       "                      [ 0.2941, -0.2236, -0.2671,  0.1575, -0.1045,  0.0440,  0.1200, -0.1695,\n",
       "                       -0.1366, -0.0448],\n",
       "                      [-0.1407, -0.1031, -0.2760,  0.1015, -0.3014,  0.1397,  0.2255, -0.1072,\n",
       "                       -0.1336,  0.0217],\n",
       "                      [ 0.2072, -0.1976, -0.2910,  0.0921,  0.0467, -0.3097, -0.1594,  0.0091,\n",
       "                       -0.2945,  0.0432],\n",
       "                      [-0.0966,  0.1935, -0.2411, -0.1648,  0.3112,  0.0959,  0.0510,  0.2986,\n",
       "                        0.1928,  0.2230],\n",
       "                      [-0.0775,  0.0975,  0.0469, -0.0543, -0.2848, -0.1825, -0.2055, -0.3016,\n",
       "                        0.2620,  0.3024],\n",
       "                      [ 0.2518,  0.1582,  0.1413, -0.2913,  0.1466, -0.3009, -0.2499,  0.0235,\n",
       "                        0.0434,  0.2969],\n",
       "                      [ 0.0178, -0.2585, -0.1670, -0.1341,  0.2906, -0.1800,  0.1329,  0.1761,\n",
       "                       -0.0773,  0.3099],\n",
       "                      [ 0.2830, -0.0773,  0.1373,  0.1965, -0.2900, -0.0441,  0.0693,  0.0188,\n",
       "                        0.1150,  0.2591],\n",
       "                      [-0.1776,  0.3007, -0.0436, -0.2485, -0.2790,  0.0387, -0.0824,  0.2227,\n",
       "                       -0.0049, -0.3057]])),\n",
       "             ('hd_layer.bias',\n",
       "              tensor([ 0.0653,  0.1067,  0.2799,  0.0312, -0.2172,  0.2035,  0.0074,  0.1322,\n",
       "                       0.2167,  0.1286,  0.2193, -0.1235,  0.0435, -0.0548, -0.1340,  0.2214,\n",
       "                       0.2665,  0.0735, -0.2606,  0.0556,  0.0275,  0.0478, -0.2358,  0.0518,\n",
       "                       0.0577, -0.0578, -0.1546,  0.3005,  0.0308,  0.2064])),\n",
       "             ('out_layer.weight',\n",
       "              tensor([[-0.0979,  0.0392,  0.1345,  0.0032,  0.0773,  0.0343, -0.1087,  0.0589,\n",
       "                        0.0534, -0.1486, -0.0901,  0.0665,  0.0647, -0.0115,  0.0626, -0.0043,\n",
       "                        0.0826, -0.1435, -0.1568, -0.1397, -0.0972, -0.1217,  0.0472, -0.1085,\n",
       "                       -0.0268,  0.1694, -0.1009,  0.0541,  0.1766,  0.0967]])),\n",
       "             ('out_layer.bias', tensor([0.0716]))])"
      ]
     },
     "execution_count": 27,
     "metadata": {},
     "output_type": "execute_result"
    }
   ],
   "source": [
    "### 학습된 모델 파라미터 값 확인\n",
    "model.state_dict()"
   ]
  },
  {
   "cell_type": "markdown",
   "metadata": {},
   "source": [
    "- [방법 1] 모델 파라미터 즉, 층별 가중치와 절편들"
   ]
  },
  {
   "cell_type": "code",
   "execution_count": 28,
   "metadata": {},
   "outputs": [],
   "source": [
    "# 모델 저장\n",
    "torch.save(model.state_dict(), SAVE_PATH+SAVE_FILE)"
   ]
  },
  {
   "cell_type": "code",
   "execution_count": 29,
   "metadata": {},
   "outputs": [
    {
     "name": "stdout",
     "output_type": "stream",
     "text": [
      "<class 'collections.OrderedDict'>\n"
     ]
    }
   ],
   "source": [
    "# 모델 즉, 가중치와 절편 로딩\n",
    "# [1] 가중치와 절편 객체로 로딩\n",
    "# [2] 모델의 state_dict 속성에 저장\n",
    "\n",
    "# 읽기 \n",
    "wbTS=torch.load(SAVE_PATH+SAVE_FILE, weights_only=True)\n",
    "\n",
    "print(type(wbTS))"
   ]
  },
  {
   "cell_type": "code",
   "execution_count": 30,
   "metadata": {},
   "outputs": [
    {
     "data": {
      "text/plain": [
       "<All keys matched successfully>"
      ]
     },
     "execution_count": 30,
     "metadata": {},
     "output_type": "execute_result"
    }
   ],
   "source": [
    "# 모델 인스턴스에 저장\n",
    "model2=IrisRegModel()       # 층마다 W, b 초기화\n",
    "model2.load_state_dict(wbTS)"
   ]
  },
  {
   "cell_type": "code",
   "execution_count": 31,
   "metadata": {},
   "outputs": [
    {
     "name": "stdout",
     "output_type": "stream",
     "text": [
      "IrisRegModel(\n",
      "  (in_layer): Linear(in_features=3, out_features=10, bias=True)\n",
      "  (hd_layer): Linear(in_features=10, out_features=30, bias=True)\n",
      "  (out_layer): Linear(in_features=30, out_features=1, bias=True)\n",
      ")\n"
     ]
    }
   ],
   "source": [
    "print(model2)"
   ]
  },
  {
   "cell_type": "code",
   "execution_count": null,
   "metadata": {},
   "outputs": [],
   "source": []
  }
 ],
 "metadata": {
  "kernelspec": {
   "display_name": "TORCH_38",
   "language": "python",
   "name": "python3"
  },
  "language_info": {
   "codemirror_mode": {
    "name": "ipython",
    "version": 3
   },
   "file_extension": ".py",
   "mimetype": "text/x-python",
   "name": "python",
   "nbconvert_exporter": "python",
   "pygments_lexer": "ipython3",
   "version": "3.8.19"
  }
 },
 "nbformat": 4,
 "nbformat_minor": 2
}
