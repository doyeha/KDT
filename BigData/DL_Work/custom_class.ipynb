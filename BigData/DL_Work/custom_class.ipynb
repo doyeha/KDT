{
 "cells": [
  {
   "cell_type": "markdown",
   "metadata": {},
   "source": [
    "# 사용자 정의 클래스와 상속\n",
    "- 사용자 정의 클래스 : 개발자 필요에 의해서 생성한 클래스 \n"
   ]
  },
  {
   "cell_type": "code",
   "execution_count": 17,
   "metadata": {},
   "outputs": [],
   "source": [
    "# ----------------------------------------------\n",
    "# 저장 데이터 : 사람 정보 저장 클래스\n",
    "# 클래스 속성 : name, age, gender \n",
    "# 클래스 기능 : eat(), sleep()\n",
    "\n",
    "class person:\n",
    "    # 클래스 변수/속성 : 객체/인스턴스 생성 없이 사용 ㅇ \n",
    "    born = '대한민국'\n",
    "\n",
    "    # 메모리에서 빈 곳에 Self 저장하고 다음부터는 __init__ 호출됨 \n",
    "    # def __new__(cls) -> Self:\n",
    "    #     pass\n",
    "\n",
    "    # 인스턴스 생성해주는 메서드\n",
    "    # 인스턴스 생성 시 자동 호출 즉, 콜백메서드 \n",
    "    def __init__(self, name, age, gender) -> None:\n",
    "        print('__init__()')\n",
    "        self.name = name\n",
    "        self.age = age\n",
    "        self.gender = gender \n",
    "\n",
    "    # 인스턴스 매서드\n",
    "    def eat(self, food):\n",
    "        print(f'{self.name}이 {food} 옴뇽뇽 먹는당 ~ ')\n",
    "        # food는 사람의 특징이 아니라서 위의 인스턴스 속성성에 넣으면 안 됨 \n",
    "\n",
    "    def sleep(self, where):\n",
    "        print(f'{where}에서 잘거다')\n",
    "\n",
    "\n",
    "    # 클래스(static(정적)) 메서드 \n",
    "    @staticmethod # 데코레이터 - 명확하게 알려주기 위함 \n",
    "    def test(msg): # self 없으면 인스턴스 없이 사용 ㅇ \n",
    "        print(msg)\n",
    "\n",
    "    @classmethod\n",
    "    def test_test(cls, msg):\n",
    "        print(msg)"
   ]
  },
  {
   "cell_type": "code",
   "execution_count": 18,
   "metadata": {},
   "outputs": [
    {
     "name": "stdout",
     "output_type": "stream",
     "text": [
      "__init__()\n"
     ]
    }
   ],
   "source": [
    "# 인스턴스 / 객체 생성 \n",
    "kim = person('마징가',10,'남자')"
   ]
  },
  {
   "cell_type": "code",
   "execution_count": 19,
   "metadata": {},
   "outputs": [
    {
     "data": {
      "text/plain": [
       "'대한민국'"
      ]
     },
     "execution_count": 19,
     "metadata": {},
     "output_type": "execute_result"
    }
   ],
   "source": [
    "# 클래스 속성 : 객체/인스턴스 생성 없이 바로 사용 ㅇ \n",
    "person.born"
   ]
  },
  {
   "cell_type": "code",
   "execution_count": 20,
   "metadata": {},
   "outputs": [
    {
     "ename": "AttributeError",
     "evalue": "type object 'person' has no attribute 'gender'",
     "output_type": "error",
     "traceback": [
      "\u001b[1;31m---------------------------------------------------------------------------\u001b[0m",
      "\u001b[1;31mAttributeError\u001b[0m                            Traceback (most recent call last)",
      "Cell \u001b[1;32mIn[20], line 3\u001b[0m\n\u001b[0;32m      1\u001b[0m \u001b[38;5;66;03m# 인스턴스 속성 : 객체/인스턴스 생성 없이 사용 불가 -> error 발생 \u001b[39;00m\n\u001b[1;32m----> 3\u001b[0m \u001b[43mperson\u001b[49m\u001b[38;5;241;43m.\u001b[39;49m\u001b[43mgender\u001b[49m\n",
      "\u001b[1;31mAttributeError\u001b[0m: type object 'person' has no attribute 'gender'"
     ]
    }
   ],
   "source": [
    "# 인스턴스 속성 : 객체/인스턴스 생성 없이 사용 불가 -> error 발생 \n",
    "\n",
    "# person.gender"
   ]
  },
  {
   "cell_type": "code",
   "execution_count": 22,
   "metadata": {},
   "outputs": [
    {
     "name": "stdout",
     "output_type": "stream",
     "text": [
      "GOOD\n"
     ]
    }
   ],
   "source": [
    "person.test('GOOD')"
   ]
  },
  {
   "cell_type": "markdown",
   "metadata": {},
   "source": [
    "## 상속(Inheritance)\n",
    "- 기존 클래스의 속성과 메서드 재사용 \n",
    "- 추가 속성 및 메서드로 확장 "
   ]
  },
  {
   "cell_type": "code",
   "execution_count": 40,
   "metadata": {},
   "outputs": [],
   "source": [
    "class mother:\n",
    "    def __init__(self, name, age, gender):\n",
    "        print('__init__()')\n",
    "        self.name = name\n",
    "        self.age = age\n",
    "        self.gender = gender \n"
   ]
  },
  {
   "cell_type": "code",
   "execution_count": 46,
   "metadata": {},
   "outputs": [],
   "source": [
    "# ----------------------------------------------\n",
    "# 저장 데이터 : 소방관 정보 저장 클래스\n",
    "# 클래스 이름 : fireman <- sub class , 자식클래스 \n",
    "# 클래스 속성 : name, age, gender , group, position\n",
    "# 클래스 기능 : eat(), sleep(), extinguish()\n",
    "# 부모클래스 : person <- super class \n",
    "# --------------------------------------------\n",
    "\n",
    "class fireman(person, mother): # 부모 클래스 계속 추가 가능 (다중상속)\n",
    "    # - 적은 순서대로 따름 \n",
    "    #   - person에 인스턴스가 안 적혀있으면 mother에서 작성한 것 사용(반대도 가능)\n",
    "\n",
    "    # 인스턴스 생성 메서드\n",
    "    def __init__(self, name, age, gender, group, position):\n",
    "\n",
    "        # 부모/super 클래스 생성 \n",
    "        super().__init__(name, age, gender)\n",
    "\n",
    "        # 자식/sub 클래스 생성 \n",
    "        self.group = group\n",
    "        self.position = position\n",
    "    \n",
    "    def extinguish(self, where):\n",
    "        print(f'{self.name}은 {where}에서 불 끄고 있다')\n",
    "\n",
    "    # 오버라이딩(Overriding)\n",
    "    # 부모클래스로부터 상속받은 메서드 중에서 변경하고 싶은 메서드 \n",
    "    # 구현부만 변경 \n",
    "    # 부모클래스도 동일한 메서드 있으면 자신 것 먼저    \n",
    "    def eat(self, food):\n",
    "        print(f'{self.name}가 {food} 와아앙ㅇ 먹는다.')\n"
   ]
  },
  {
   "cell_type": "code",
   "execution_count": 47,
   "metadata": {},
   "outputs": [
    {
     "name": "stdout",
     "output_type": "stream",
     "text": [
      "__init__()\n"
     ]
    }
   ],
   "source": [
    "park = fireman('홍길동',30,'남','대구소방서','주임')"
   ]
  },
  {
   "cell_type": "code",
   "execution_count": 48,
   "metadata": {},
   "outputs": [
    {
     "name": "stdout",
     "output_type": "stream",
     "text": [
      "방에서 잘거다\n"
     ]
    }
   ],
   "source": [
    "park.sleep('방')"
   ]
  },
  {
   "cell_type": "code",
   "execution_count": 49,
   "metadata": {},
   "outputs": [
    {
     "name": "stdout",
     "output_type": "stream",
     "text": [
      "홍길동가 빵 와아앙ㅇ 먹는다.\n"
     ]
    }
   ],
   "source": [
    "park.eat('빵')"
   ]
  },
  {
   "cell_type": "code",
   "execution_count": 50,
   "metadata": {},
   "outputs": [
    {
     "name": "stdout",
     "output_type": "stream",
     "text": [
      "홍길동은 산에서 불 끄고 있다\n"
     ]
    }
   ],
   "source": [
    "park.extinguish('산')"
   ]
  },
  {
   "cell_type": "code",
   "execution_count": null,
   "metadata": {},
   "outputs": [],
   "source": []
  },
  {
   "cell_type": "code",
   "execution_count": null,
   "metadata": {},
   "outputs": [],
   "source": []
  },
  {
   "cell_type": "code",
   "execution_count": null,
   "metadata": {},
   "outputs": [],
   "source": []
  }
 ],
 "metadata": {
  "kernelspec": {
   "display_name": "TORCH_38",
   "language": "python",
   "name": "python3"
  },
  "language_info": {
   "codemirror_mode": {
    "name": "ipython",
    "version": 3
   },
   "file_extension": ".py",
   "mimetype": "text/x-python",
   "name": "python",
   "nbconvert_exporter": "python",
   "pygments_lexer": "ipython3",
   "version": "3.8.19"
  }
 },
 "nbformat": 4,
 "nbformat_minor": 2
}
