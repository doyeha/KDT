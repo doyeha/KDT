{
 "cells": [
  {
   "cell_type": "markdown",
   "metadata": {},
   "source": [
    "#### iris 데이터셋 활용 꽃잎 너비 예측\n",
    " - 데이터셋 : iris.csv에서 2개 Feature 사용\n",
    " - 구현프레임워크 : Pytorch"
   ]
  },
  {
   "cell_type": "markdown",
   "metadata": {},
   "source": [
    "- [1] 모듈 로딩 및 데이터 준비"
   ]
  },
  {
   "cell_type": "code",
   "execution_count": 346,
   "metadata": {},
   "outputs": [],
   "source": [
    "# 모듈 로딩\n",
    "import torch                    # 텐서 및 수치 계산 함수 관련 모듈\n",
    "import torch.nn as nn           # 인공신경망 관련 모듈\n",
    "import torch.nn.functional as F    # 손실, 거리 등 함수 관련 모듈\n",
    "import torch.optim as optimizer # 최적화 기법 관련 모듈\n",
    "\n",
    "import pandas as pd             # 데이터 파일 분석 관련 모듈\n",
    "from sklearn.model_selection import train_test_split"
   ]
  },
  {
   "cell_type": "code",
   "execution_count": 347,
   "metadata": {},
   "outputs": [
    {
     "data": {
      "text/html": [
       "<div>\n",
       "<style scoped>\n",
       "    .dataframe tbody tr th:only-of-type {\n",
       "        vertical-align: middle;\n",
       "    }\n",
       "\n",
       "    .dataframe tbody tr th {\n",
       "        vertical-align: top;\n",
       "    }\n",
       "\n",
       "    .dataframe thead th {\n",
       "        text-align: right;\n",
       "    }\n",
       "</style>\n",
       "<table border=\"1\" class=\"dataframe\">\n",
       "  <thead>\n",
       "    <tr style=\"text-align: right;\">\n",
       "      <th></th>\n",
       "      <th>sepal.length</th>\n",
       "      <th>sepal.width</th>\n",
       "      <th>petal.length</th>\n",
       "      <th>petal.width</th>\n",
       "    </tr>\n",
       "  </thead>\n",
       "  <tbody>\n",
       "    <tr>\n",
       "      <th>0</th>\n",
       "      <td>5.1</td>\n",
       "      <td>3.5</td>\n",
       "      <td>1.4</td>\n",
       "      <td>0.2</td>\n",
       "    </tr>\n",
       "    <tr>\n",
       "      <th>1</th>\n",
       "      <td>4.9</td>\n",
       "      <td>3.0</td>\n",
       "      <td>1.4</td>\n",
       "      <td>0.2</td>\n",
       "    </tr>\n",
       "  </tbody>\n",
       "</table>\n",
       "</div>"
      ],
      "text/plain": [
       "   sepal.length  sepal.width  petal.length  petal.width\n",
       "0           5.1          3.5           1.4          0.2\n",
       "1           4.9          3.0           1.4          0.2"
      ]
     },
     "execution_count": 347,
     "metadata": {},
     "output_type": "execute_result"
    }
   ],
   "source": [
    "# 데이터 로딩 : csv => DataFrame\n",
    "DATA_FILE = \"C:\\Git\\KDT\\BigData\\ML_Work\\data\\Iris.csv\"\n",
    "\n",
    "irisDF = pd.read_csv(DATA_FILE, usecols=[0,1,2,3])\n",
    "irisDF.head(2)"
   ]
  },
  {
   "cell_type": "markdown",
   "metadata": {},
   "source": [
    "[2] 모델 준비\n",
    " - 학습 방법 : 지도학습 > 회귀\n",
    " - 알고리즘 : 선형관계 >> 선형모델 ==> nn.Linear"
   ]
  },
  {
   "cell_type": "code",
   "execution_count": 348,
   "metadata": {},
   "outputs": [],
   "source": [
    "# in_features : petal.length 1개 \n",
    "# out_features : petal.width 1개\n",
    "model = nn.Linear(3,1)"
   ]
  },
  {
   "cell_type": "code",
   "execution_count": 349,
   "metadata": {},
   "outputs": [
    {
     "name": "stdout",
     "output_type": "stream",
     "text": [
      "<generator object Module.named_parameters at 0x000001958FFB0BA0>\n"
     ]
    }
   ],
   "source": [
    "# 가중치와 절편 확인\n",
    "print(model.named_parameters())"
   ]
  },
  {
   "cell_type": "code",
   "execution_count": 350,
   "metadata": {},
   "outputs": [
    {
     "name": "stdout",
     "output_type": "stream",
     "text": [
      "[weight] Parameter containing:\n",
      "tensor([[ 0.4416,  0.3941, -0.5404]], requires_grad=True)\n",
      "[bias] Parameter containing:\n",
      "tensor([0.4914], requires_grad=True)\n"
     ]
    }
   ],
   "source": [
    "for name, param in model.named_parameters():\n",
    "    print(f'[{name}] {param}')"
   ]
  },
  {
   "cell_type": "markdown",
   "metadata": {},
   "source": [
    "[3] 최적화 인스턴스 준비"
   ]
  },
  {
   "cell_type": "code",
   "execution_count": 351,
   "metadata": {},
   "outputs": [],
   "source": [
    "#### 모델의 가중치와 절편을 최적화 ==> 인스턴스에 전달\n",
    "adam_optim = optimizer.Adam(model.parameters(), lr=0.1)"
   ]
  },
  {
   "cell_type": "markdown",
   "metadata": {},
   "source": [
    "[4] 학습 ==> 개발자가 구현"
   ]
  },
  {
   "cell_type": "markdown",
   "metadata": {},
   "source": [
    "-[4-1] 데이터셋 Tensor화 진행 : 데이터준비 시 진행하거나 또는 학습 전 진행"
   ]
  },
  {
   "cell_type": "code",
   "execution_count": 352,
   "metadata": {},
   "outputs": [
    {
     "data": {
      "text/plain": [
       "torch.Size([150, 3])"
      ]
     },
     "execution_count": 352,
     "metadata": {},
     "output_type": "execute_result"
    }
   ],
   "source": [
    "featureTS = torch.from_numpy(irisDF[irisDF.columns[:-1]].values).float()\n",
    "featureTS.shape"
   ]
  },
  {
   "cell_type": "code",
   "execution_count": 353,
   "metadata": {},
   "outputs": [],
   "source": [
    "# irisDF['petal.length'].values.float()"
   ]
  },
  {
   "cell_type": "code",
   "execution_count": 354,
   "metadata": {},
   "outputs": [
    {
     "data": {
      "text/plain": [
       "torch.Size([150, 1])"
      ]
     },
     "execution_count": 354,
     "metadata": {},
     "output_type": "execute_result"
    }
   ],
   "source": [
    "targetTS = torch.from_numpy(irisDF[['petal.width']].values).float()\n",
    "targetTS.shape"
   ]
  },
  {
   "cell_type": "code",
   "execution_count": 355,
   "metadata": {},
   "outputs": [
    {
     "name": "stdout",
     "output_type": "stream",
     "text": [
      "TRAIN torch.Size([96, 3]), TEST torch.Size([30, 3]), VAL torch.Size([24, 3])\n",
      "TRAIN torch.Size([96, 1]), TEST torch.Size([30, 1]), VAL torch.Size([24, 1])\n"
     ]
    }
   ],
   "source": [
    "X_train, X_test, y_train, y_test = train_test_split(featureTS,\n",
    "                                                    targetTS,\n",
    "                                                    test_size = 0.2)\n",
    "\n",
    "# Train & valid\n",
    "X_train, X_val, y_train, y_val = train_test_split(X_train,\n",
    "                                                  y_train,\n",
    "                                                  test_size = 0.2)\n",
    "\n",
    "print(f'TRAIN {X_train.shape}, TEST {X_test.shape}, VAL {X_val.shape}')\n",
    "print(f'TRAIN {y_train.shape}, TEST {y_test.shape}, VAL {y_val.shape}')"
   ]
  },
  {
   "cell_type": "markdown",
   "metadata": {},
   "source": [
    "- [4-2] 학습진행\n",
    "    - 학습횟수 결정 ==> 에포크 설정\n",
    "    - 학습결과 저장 ==> 손실저장 변수"
   ]
  },
  {
   "cell_type": "code",
   "execution_count": 356,
   "metadata": {},
   "outputs": [],
   "source": [
    "EPOCH = 10\n"
   ]
  },
  {
   "cell_type": "code",
   "execution_count": 357,
   "metadata": {},
   "outputs": [],
   "source": [
    "##  테스트/검증 함수\n",
    "# ==> 가중치, 절편 업데이트 X,  최적화 미진행 \n",
    "# ==> 현재 가중치와 절편값으로 테스트 진행 \n",
    "def testing(testTS, targetTS, kind = 'val'):\n",
    "    # val_history = []\n",
    "\n",
    "    with torch.no_grad():   # 가중치 및 절편 업데이트 진행 X\n",
    "        # -(1) 학습 진행 - forward\n",
    "        pre_y = model(testTS)\n",
    "        print(f'{pre_y.shape}')\n",
    "\n",
    "        # -(2) 오차계산 - 손실함수\n",
    "        loss = F.mse_loss(pre_y, targetTS)\n",
    "\n",
    "\n",
    "        # -(4) 학습결과 출력 및 저장\n",
    "        print(f'[{kind}] LOSS : {loss}')\n",
    "    return loss"
   ]
  },
  {
   "cell_type": "code",
   "execution_count": 358,
   "metadata": {},
   "outputs": [],
   "source": [
    "def training(featureTS, targetTS, valTS,valTargetTS):\n",
    "    loss_history = [[],[]]\n",
    "\n",
    "    for epoch in range(EPOCH):\n",
    "        # -(1) 학습 진행 순전파 forward\n",
    "        pre_y = model(featureTS)\n",
    "        print(f'{pre_y.shape}')\n",
    "\n",
    "        # -(2) 오차계산 - 손실함수\n",
    "        loss = F.mse_loss(pre_y, targetTS)\n",
    "        loss_history[0].append(loss.item())   #tensor 형태니까.\n",
    "\n",
    "        # -(3) 최적화 - 가중치,절편 업데이트 backward\n",
    "        adam_optim.zero_grad()\n",
    "        loss.backward()\n",
    "        adam_optim.step()\n",
    "\n",
    "        # (4) 검증 - 모델이 제대로 돌아가는지 검사\n",
    "        val_loss = testing(valTS, valTargetTS)\n",
    "        loss_history[1].append(val_loss)\n",
    "\n",
    "        # -(4) 학습결과 출력 및 저장\n",
    "        print(f'[{epoch}/{EPOCH}] LOSS : {loss}')\n",
    "\n",
    "    return loss_history"
   ]
  },
  {
   "cell_type": "code",
   "execution_count": 359,
   "metadata": {},
   "outputs": [
    {
     "name": "stdout",
     "output_type": "stream",
     "text": [
      "torch.Size([96, 1])\n",
      "torch.Size([24, 1])\n",
      "[val] LOSS : 2.7747716903686523\n",
      "[0/10] LOSS : 3.0850188732147217\n",
      "torch.Size([96, 1])\n",
      "torch.Size([24, 1])\n",
      "[val] LOSS : 2.4939284324645996\n",
      "[1/10] LOSS : 2.875828504562378\n",
      "torch.Size([96, 1])\n",
      "torch.Size([24, 1])\n",
      "[val] LOSS : 2.103593111038208\n",
      "[2/10] LOSS : 2.674025535583496\n",
      "torch.Size([96, 1])\n",
      "torch.Size([24, 1])\n",
      "[val] LOSS : 2.0248377323150635\n",
      "[3/10] LOSS : 2.057605504989624\n",
      "torch.Size([96, 1])\n",
      "torch.Size([24, 1])\n",
      "[val] LOSS : 2.040001630783081\n",
      "[4/10] LOSS : 1.7508344650268555\n",
      "torch.Size([96, 1])\n",
      "torch.Size([24, 1])\n",
      "[val] LOSS : 1.7861264944076538\n",
      "[5/10] LOSS : 1.6735080480575562\n",
      "torch.Size([96, 1])\n",
      "torch.Size([24, 1])\n",
      "[val] LOSS : 1.3246426582336426\n",
      "[6/10] LOSS : 1.4611567258834839\n",
      "torch.Size([96, 1])\n",
      "torch.Size([24, 1])\n",
      "[val] LOSS : 0.9077587127685547\n",
      "[7/10] LOSS : 1.1167330741882324\n",
      "torch.Size([96, 1])\n",
      "torch.Size([24, 1])\n",
      "[val] LOSS : 0.667133629322052\n",
      "[8/10] LOSS : 0.8405501246452332\n",
      "torch.Size([96, 1])\n",
      "torch.Size([24, 1])\n",
      "[val] LOSS : 0.5363569259643555\n",
      "[9/10] LOSS : 0.717610776424408\n"
     ]
    }
   ],
   "source": [
    "# 모델 학습 진행\n",
    "loss = training(X_train, y_train, X_val, y_val)"
   ]
  },
  {
   "cell_type": "code",
   "execution_count": 360,
   "metadata": {},
   "outputs": [
    {
     "data": {
      "image/png": "[encoded data removed]",
      "text/plain": [
       "<Figure size 640x480 with 1 Axes>"
      ]
     },
     "metadata": {},
     "output_type": "display_data"
    }
   ],
   "source": [
    "# 학습 후 loss 시각화\n",
    "import matplotlib.pyplot as plt\n",
    "\n",
    "plt.plot(range(1,11), loss[0], label='Train')\n",
    "plt.plot(range(1,11), loss[1], label='Train')\n",
    "plt.title('Train & Valid')\n",
    "plt.grid()\n",
    "plt.xlabel('Epoch')\n",
    "plt.ylabel('Loss')\n",
    "plt.legend()\n",
    "plt.show()"
   ]
  }
 ],
 "metadata": {
  "kernelspec": {
   "display_name": "TORCH_38",
   "language": "python",
   "name": "python3"
  },
  "language_info": {
   "codemirror_mode": {
    "name": "ipython",
    "version": 3
   },
   "file_extension": ".py",
   "mimetype": "text/x-python",
   "name": "python",
   "nbconvert_exporter": "python",
   "pygments_lexer": "ipython3",
   "version": "3.8.19"
  }
 },
 "nbformat": 4,
 "nbformat_minor": 2
}
