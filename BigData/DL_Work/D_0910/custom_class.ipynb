{
 "cells": [
  {
   "cell_type": "markdown",
   "metadata": {},
   "source": [
    "#### 클래스 - 연산자 오버로딩(Over loading)\n",
    "    * 오버로딩(Overloading)\n",
    "        - 함수명은 동일하지만 매개변수의 개수, 종류, 순서가 다른 면 다른 함수로 인식\n",
    "        - 파이썬에서는 연산자(+,-,*,/...)에 대한 매직함수 / 매서드가 미리 정의되어 있음\n",
    "        - 연산자 매직함수 / 매서드는 클래스 별로 오버로딩하도록 되어있음"
   ]
  },
  {
   "cell_type": "code",
   "execution_count": 15,
   "metadata": {},
   "outputs": [],
   "source": [
    "## --------------------------------------------------------------------------------------\n",
    "## 저장데이터 : 햄버거\n",
    "## 클래스 이름 : Burger\n",
    "## 클래스 속성 : 번, 패티, 야채, 소스, 이름, 브랜드, 가격\n",
    "##               -  브랜드 : 클래스 속성\n",
    "##               - 브랜드 외 나머지 : 인스턴스 속성\n",
    "## 클래스 기능 : 버거 정보 출력 기능\n",
    "## --------------------------------------------------------------------------------------\n",
    "class Burger:\n",
    "    # 클래스 속성\n",
    "    maker = '맘스터치'\n",
    "\n",
    "    # 인스턴스 생성 메서드 즉, 생성자 메서드\n",
    "    # self : 인스턴스 정보가 저장될 메모리 정보 \n",
    "    def __init__(self, bun, patty, veg, sauce, name, price):\n",
    "        self.bun = bun\n",
    "        self.patty = patty\n",
    "        self.veg = veg\n",
    "        self.sauce = sauce\n",
    "        self.name = name\n",
    "        self.price = price\n",
    "\n",
    "    # 인스턴스 메서드 : 인스턴스/객체를 생성해야만 사용가능한 메서드\n",
    "    def showBurgerInfo(self):\n",
    "        print(f'[{self.name}] 정보')\n",
    "        print(f'- 가격 : {self.price}')\n",
    "        print(f'- 구성 : {self.bun}, {self.patty}, {self.veg}, {self.sauce}')\n",
    "\n",
    "    # 연산자 오버로딩\n",
    "    def __add__(self, other):\n",
    "        print('__add__')\n",
    "        return self.price + other.price\n",
    "\n",
    "    def __sub__(self, other):\n",
    "        print('__sub__')\n",
    "        return \"Nothing\"\n",
    "    \n",
    "    def __mul__(self, other):\n",
    "        print('__mul__')\n",
    "        return self.price * other"
   ]
  },
  {
   "cell_type": "markdown",
   "metadata": {},
   "source": [
    "- 인스턴스/객체 생성 => 메모리 힙(Heap)"
   ]
  },
  {
   "cell_type": "code",
   "execution_count": 17,
   "metadata": {},
   "outputs": [],
   "source": [
    "## 생성 문법 : 변수명 = 클래스명 (속성1, 속성2, ..., 속성n)\n",
    "Burger1 = Burger('브리오슈','소고기','토마토','스리라차','소고기버거',4900)\n",
    "Burger2 = Burger('참깨방','새우','양상추','마요네즈','새우버거', 5900)\n",
    "Burger3 = Burger('일반번','치킨','양파','핫소스','치킨버거',5400)"
   ]
  },
  {
   "cell_type": "markdown",
   "metadata": {},
   "source": [
    "- 인스턴스/객체 속성"
   ]
  },
  {
   "cell_type": "code",
   "execution_count": 6,
   "metadata": {},
   "outputs": [
    {
     "name": "stdout",
     "output_type": "stream",
     "text": [
      "burger1.name => 소고기버거\n",
      "burger1.price => 4900\n"
     ]
    }
   ],
   "source": [
    "## 사용 문법 : 변수명.속성명\n",
    "print(f'burger1.name => {Burger1.name}')\n",
    "print(f'burger1.price => {Burger1.price}')\n",
    "\n",
    "# print(f'burger2.name => {Burger2.name}')\n",
    "# print(f'burger3.name => {Burger3.name}')\n",
    "# print(f'burger1.name => {Burger1.name}')"
   ]
  },
  {
   "cell_type": "markdown",
   "metadata": {},
   "source": [
    "- 인스턴스/객체 메서드"
   ]
  },
  {
   "cell_type": "code",
   "execution_count": 8,
   "metadata": {},
   "outputs": [
    {
     "name": "stdout",
     "output_type": "stream",
     "text": [
      "[소고기버거] 정보\n",
      "- 가격 : 4900\n",
      "- 구성 : 브리오슈, 소고기, 토마토, 스리라차\n"
     ]
    }
   ],
   "source": [
    "Burger1.showBurgerInfo()"
   ]
  },
  {
   "cell_type": "markdown",
   "metadata": {},
   "source": [
    "- 인스턴스/객체 연산"
   ]
  },
  {
   "cell_type": "code",
   "execution_count": 11,
   "metadata": {},
   "outputs": [
    {
     "data": {
      "text/plain": [
       "('happynew', [1, 2, 3, 'a', 'b'], '**********')"
      ]
     },
     "execution_count": 11,
     "metadata": {},
     "output_type": "execute_result"
    }
   ],
   "source": [
    "'happy'+'new', [1,2,3]+['a','b'], '*'*10"
   ]
  },
  {
   "cell_type": "code",
   "execution_count": 19,
   "metadata": {},
   "outputs": [
    {
     "name": "stdout",
     "output_type": "stream",
     "text": [
      "__add__\n",
      "__mul__\n",
      "__sub__\n"
     ]
    },
    {
     "data": {
      "text/plain": [
       "(10800, 16200, 'Nothing')"
      ]
     },
     "execution_count": 19,
     "metadata": {},
     "output_type": "execute_result"
    }
   ],
   "source": [
    "Burger1+Burger2, Burger3*3, Burger1-Burger2"
   ]
  },
  {
   "cell_type": "markdown",
   "metadata": {},
   "source": [
    "- 최상위 부모 클래스 ==> Object"
   ]
  },
  {
   "cell_type": "code",
   "execution_count": 20,
   "metadata": {},
   "outputs": [],
   "source": [
    "class A:\n",
    "    pass"
   ]
  },
  {
   "cell_type": "code",
   "execution_count": 24,
   "metadata": {},
   "outputs": [
    {
     "ename": "TypeError",
     "evalue": "descriptor '__dir__' of 'object' object needs an argument",
     "output_type": "error",
     "traceback": [
      "\u001b[1;31m---------------------------------------------------------------------------\u001b[0m",
      "\u001b[1;31mTypeError\u001b[0m                                 Traceback (most recent call last)",
      "Cell \u001b[1;32mIn[24], line 1\u001b[0m\n\u001b[1;32m----> 1\u001b[0m \u001b[43mA\u001b[49m\u001b[38;5;241;43m.\u001b[39;49m\u001b[38;5;21;43m__dir__\u001b[39;49m\u001b[43m(\u001b[49m\u001b[43m)\u001b[49m\n",
      "\u001b[1;31mTypeError\u001b[0m: descriptor '__dir__' of 'object' object needs an argument"
     ]
    }
   ],
   "source": [
    "A.__dir__()"
   ]
  },
  {
   "cell_type": "markdown",
   "metadata": {},
   "source": []
  }
 ],
 "metadata": {
  "kernelspec": {
   "display_name": "TORCH_38",
   "language": "python",
   "name": "python3"
  },
  "language_info": {
   "codemirror_mode": {
    "name": "ipython",
    "version": 3
   },
   "file_extension": ".py",
   "mimetype": "text/x-python",
   "name": "python",
   "nbconvert_exporter": "python",
   "pygments_lexer": "ipython3",
   "version": "3.8.19"
  }
 },
 "nbformat": 4,
 "nbformat_minor": 2
}
