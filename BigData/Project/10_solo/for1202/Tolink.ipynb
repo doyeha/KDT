{
 "cells": [
  {
   "cell_type": "code",
   "execution_count": 2,
   "metadata": {},
   "outputs": [],
   "source": [
    "import pandas as pd\n",
    "import os\n",
    "import sys"
   ]
  },
  {
   "cell_type": "code",
   "execution_count": null,
   "metadata": {},
   "outputs": [
    {
     "name": "stdout",
     "output_type": "stream",
     "text": [
      "       태그                                        링크\n",
      "0      광고  https://www.instagram.com/p/Ck0CvJMtFNU/\n",
      "1      광고  https://www.instagram.com/p/DBLTYMiJBni/\n",
      "2      광고  https://www.instagram.com/p/DBimJfePS0P/\n",
      "3      광고  https://www.instagram.com/p/DBVetNIR_68/\n",
      "4      광고  https://www.instagram.com/p/DBf2sNDP9ST/\n",
      "...    ..                                       ...\n",
      "16312  해외  https://www.instagram.com/p/CnDGYHphqoZ/\n",
      "16313  해외  https://www.instagram.com/p/CsvywvzLOXB/\n",
      "16314  해외  https://www.instagram.com/p/Clv8kQ8Kpte/\n",
      "16315  해외  https://www.instagram.com/p/CpbMW0IJ3ln/\n",
      "16316  해외  https://www.instagram.com/p/CkZritSyaNf/\n",
      "\n",
      "[176865 rows x 2 columns]\n"
     ]
    }
   ],
   "source": [
    "# 여태 모은 링크들 태그 구분 없이 일단 다 합본.\n",
    "csvlist = os.listdir(\"csv\")\n",
    "csvlist\n",
    "linkDF = pd.DataFrame(columns=['태그','링크'])\n",
    "for csv in csvlist:\n",
    "    file_path = \"./csv/\"+csv\n",
    "    tempDF = pd.read_csv(file_path, usecols=[\"태그\",\"링크\"])\n",
    "    linkDF = pd.concat([linkDF, tempDF])\n",
    "    linkDF.drop_duplicates(subset='링크', inplace=True)\n",
    "    linkDF.reset_index(drop=True, inplace=True)\n",
    "print(linkDF)"
   ]
  },
  {
   "cell_type": "code",
   "execution_count": null,
   "metadata": {},
   "outputs": [],
   "source": [
    "# 사용할 태그 이외에는 삭제\n",
    "for tag in ['감성', '강아지', '고양이', '대구', '소통', '추천',  '셀카']:\n",
    "    idx = linkDF[linkDF['태그'] == tag].index\n",
    "    linkDF.drop(idx , inplace=True)\n",
    "linkDF['태그'].unique()"
   ]
  },
  {
   "cell_type": "code",
   "execution_count": null,
   "metadata": {},
   "outputs": [
    {
     "data": {
      "text/html": [
       "<div>\n",
       "<style scoped>\n",
       "    .dataframe tbody tr th:only-of-type {\n",
       "        vertical-align: middle;\n",
       "    }\n",
       "\n",
       "    .dataframe tbody tr th {\n",
       "        vertical-align: top;\n",
       "    }\n",
       "\n",
       "    .dataframe thead th {\n",
       "        text-align: right;\n",
       "    }\n",
       "</style>\n",
       "<table border=\"1\" class=\"dataframe\">\n",
       "  <thead>\n",
       "    <tr style=\"text-align: right;\">\n",
       "      <th></th>\n",
       "      <th>태그</th>\n",
       "      <th>링크</th>\n",
       "    </tr>\n",
       "  </thead>\n",
       "  <tbody>\n",
       "    <tr>\n",
       "      <th>0</th>\n",
       "      <td>광고</td>\n",
       "      <td>https://www.instagram.com/p/Ck0CvJMtFNU/</td>\n",
       "    </tr>\n",
       "    <tr>\n",
       "      <th>1</th>\n",
       "      <td>광고</td>\n",
       "      <td>https://www.instagram.com/p/DBLTYMiJBni/</td>\n",
       "    </tr>\n",
       "    <tr>\n",
       "      <th>2</th>\n",
       "      <td>광고</td>\n",
       "      <td>https://www.instagram.com/p/DBimJfePS0P/</td>\n",
       "    </tr>\n",
       "    <tr>\n",
       "      <th>3</th>\n",
       "      <td>광고</td>\n",
       "      <td>https://www.instagram.com/p/DBVetNIR_68/</td>\n",
       "    </tr>\n",
       "    <tr>\n",
       "      <th>4</th>\n",
       "      <td>광고</td>\n",
       "      <td>https://www.instagram.com/p/DBf2sNDP9ST/</td>\n",
       "    </tr>\n",
       "    <tr>\n",
       "      <th>...</th>\n",
       "      <td>...</td>\n",
       "      <td>...</td>\n",
       "    </tr>\n",
       "    <tr>\n",
       "      <th>176860</th>\n",
       "      <td>해외</td>\n",
       "      <td>https://www.instagram.com/p/CnDGYHphqoZ/</td>\n",
       "    </tr>\n",
       "    <tr>\n",
       "      <th>176861</th>\n",
       "      <td>해외</td>\n",
       "      <td>https://www.instagram.com/p/CsvywvzLOXB/</td>\n",
       "    </tr>\n",
       "    <tr>\n",
       "      <th>176862</th>\n",
       "      <td>해외</td>\n",
       "      <td>https://www.instagram.com/p/Clv8kQ8Kpte/</td>\n",
       "    </tr>\n",
       "    <tr>\n",
       "      <th>176863</th>\n",
       "      <td>해외</td>\n",
       "      <td>https://www.instagram.com/p/CpbMW0IJ3ln/</td>\n",
       "    </tr>\n",
       "    <tr>\n",
       "      <th>176864</th>\n",
       "      <td>해외</td>\n",
       "      <td>https://www.instagram.com/p/CkZritSyaNf/</td>\n",
       "    </tr>\n",
       "  </tbody>\n",
       "</table>\n",
       "<p>176865 rows × 2 columns</p>\n",
       "</div>"
      ],
      "text/plain": [
       "        태그                                        링크\n",
       "0       광고  https://www.instagram.com/p/Ck0CvJMtFNU/\n",
       "1       광고  https://www.instagram.com/p/DBLTYMiJBni/\n",
       "2       광고  https://www.instagram.com/p/DBimJfePS0P/\n",
       "3       광고  https://www.instagram.com/p/DBVetNIR_68/\n",
       "4       광고  https://www.instagram.com/p/DBf2sNDP9ST/\n",
       "...     ..                                       ...\n",
       "176860  해외  https://www.instagram.com/p/CnDGYHphqoZ/\n",
       "176861  해외  https://www.instagram.com/p/CsvywvzLOXB/\n",
       "176862  해외  https://www.instagram.com/p/Clv8kQ8Kpte/\n",
       "176863  해외  https://www.instagram.com/p/CpbMW0IJ3ln/\n",
       "176864  해외  https://www.instagram.com/p/CkZritSyaNf/\n",
       "\n",
       "[176865 rows x 2 columns]"
      ]
     },
     "execution_count": 17,
     "metadata": {},
     "output_type": "execute_result"
    }
   ],
   "source": [
    "linkDF['']"
   ]
  }
 ],
 "metadata": {
  "kernelspec": {
   "display_name": "slpj",
   "language": "python",
   "name": "python3"
  },
  "language_info": {
   "codemirror_mode": {
    "name": "ipython",
    "version": 3
   },
   "file_extension": ".py",
   "mimetype": "text/x-python",
   "name": "python",
   "nbconvert_exporter": "python",
   "pygments_lexer": "ipython3",
   "version": "3.8.19"
  }
 },
 "nbformat": 4,
 "nbformat_minor": 2
}
