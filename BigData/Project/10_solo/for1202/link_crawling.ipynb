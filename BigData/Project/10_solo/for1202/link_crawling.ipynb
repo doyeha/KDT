{
 "cells": [
  {
   "cell_type": "code",
   "execution_count": null,
   "metadata": {},
   "outputs": [],
   "source": [
    "# 1차. 태그를 통해 해당 태그가 포함되어있는 게시글의 link를 크롤링."
   ]
  },
  {
   "cell_type": "code",
   "execution_count": null,
   "metadata": {},
   "outputs": [],
   "source": [
    "import time\n",
    "from selenium import webdriver\n",
    "from selenium.webdriver.common.by import By\n",
    "from selenium.webdriver.chrome.service import Service\n",
    "\n",
    "# 로그인 관련 import 해옴. 참고한 블로그는 노션 인스타 로그인 문제 블로그 링크\n",
    "from selenium.webdriver import ActionChains \n",
    "from selenium.webdriver.common.keys import Keys\n",
    "from selenium.webdriver.common.by import By # HTML 요소를 찾아서 가져오고 싶을 때 쓰는 것\n",
    "\n",
    "import pandas as pd"
   ]
  },
  {
   "cell_type": "code",
   "execution_count": null,
   "metadata": {},
   "outputs": [],
   "source": [
    "chrome_driver_path = \"path_to_chromedriver\"  # 크롬 드라이버 설치 경로 입력\n",
    "service = Service(chrome_driver_path)\n",
    "base_link = \"https://www.instagram.com/explore/search/keyword/?q=%23\"   # + 태그 하면 태그 검색 화면 \n",
    "\n",
    "# 웹 드라이버 실행\n",
    "driver = webdriver.Chrome()\n",
    "url =\"https://www.instagram.com\"\n",
    "driver.get(url) # 1차 로그인 화면 \n",
    "time.sleep(10)  # 로그인할 시간"
   ]
  },
  {
   "cell_type": "code",
   "execution_count": null,
   "metadata": {},
   "outputs": [],
   "source": [
    "for tag in ['먹스타그램']:    # 검색할 태그 입력\n",
    "    insta_link_list = []\n",
    "    # 태그서치 url\n",
    "    url = base_link+tag\n",
    "    driver.get(url)\n",
    "\n",
    "    # 페이지 로딩 대기\n",
    "    time.sleep(5)\n",
    "    for i in range(400):  # 원하는 만큼 스크롤 (숫자를 늘리면 더 많은 리뷰를 가져옴)\n",
    "        driver.execute_script(\"window.scrollTo(0, document.body.scrollHeight);\")\n",
    "        time.sleep(3)\n",
    "\n",
    "    # 리뷰 평점과 내용 크롤링\n",
    "        first_result = driver.find_elements(By.CSS_SELECTOR, \"a.x1i10hfl.xjbqb8w.x1ejq31n\") # 처음에 온갖게 리스트 뭉탱이로 나오고\n",
    "        for f in first_result:  # 여기서 하나씩 뽑아서? href가 포함되어있는 것만 한다.\n",
    "            link = f.get_attribute(\"href\")\n",
    "            if \"/p/\" in link:\n",
    "                insta_link_list.append({tag:link})\n",
    "                # print(link, \"link 갯수 : \",len(insta_link_list))\n",
    "    # ratings = driver.find_elements(By.CLASS_NAME, 'aytsxOVO')  # 평점이 들어 있는 클래스 확인\n",
    "    instaDF = pd.DataFrame(columns=[\"태그\",\"링크\"])\n",
    "\n",
    "    idx = 0\n",
    "    for i in insta_link_list:\n",
    "        for k,v in i.items():\n",
    "            instaDF.loc[idx] = [k,v]\n",
    "            idx +=1\n",
    "\n",
    "    instaDF.to_csv(f\"{tag}태그.csv\")"
   ]
  }
 ],
 "metadata": {
  "kernelspec": {
   "display_name": "slpj",
   "language": "python",
   "name": "python3"
  },
  "language_info": {
   "name": "python",
   "version": "3.8.19"
  }
 },
 "nbformat": 4,
 "nbformat_minor": 2
}
