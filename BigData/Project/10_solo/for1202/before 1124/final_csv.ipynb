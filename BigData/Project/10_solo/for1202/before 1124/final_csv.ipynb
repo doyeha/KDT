{
 "cells": [
  {
   "cell_type": "code",
   "execution_count": 2,
   "metadata": {},
   "outputs": [],
   "source": [
    "import pandas as pd\n",
    "import os"
   ]
  },
  {
   "cell_type": "code",
   "execution_count": 3,
   "metadata": {},
   "outputs": [
    {
     "data": {
      "text/html": [
       "<div>\n",
       "<style scoped>\n",
       "    .dataframe tbody tr th:only-of-type {\n",
       "        vertical-align: middle;\n",
       "    }\n",
       "\n",
       "    .dataframe tbody tr th {\n",
       "        vertical-align: top;\n",
       "    }\n",
       "\n",
       "    .dataframe thead th {\n",
       "        text-align: right;\n",
       "    }\n",
       "</style>\n",
       "<table border=\"1\" class=\"dataframe\">\n",
       "  <thead>\n",
       "    <tr style=\"text-align: right;\">\n",
       "      <th></th>\n",
       "      <th>Unnamed: 0.3</th>\n",
       "      <th>태그</th>\n",
       "      <th>링크</th>\n",
       "      <th>Unnamed: 0</th>\n",
       "      <th>Unnamed: 0.2</th>\n",
       "      <th>Unnamed: 0.1</th>\n",
       "    </tr>\n",
       "  </thead>\n",
       "  <tbody>\n",
       "    <tr>\n",
       "      <th>0</th>\n",
       "      <td>0</td>\n",
       "      <td>감성</td>\n",
       "      <td>https://www.instagram.com/p/CjvNzS8vvMB/</td>\n",
       "      <td>0.0</td>\n",
       "      <td>NaN</td>\n",
       "      <td>NaN</td>\n",
       "    </tr>\n",
       "    <tr>\n",
       "      <th>1</th>\n",
       "      <td>1</td>\n",
       "      <td>감성</td>\n",
       "      <td>https://www.instagram.com/p/DBaX8STz2sf/</td>\n",
       "      <td>1.0</td>\n",
       "      <td>NaN</td>\n",
       "      <td>NaN</td>\n",
       "    </tr>\n",
       "    <tr>\n",
       "      <th>2</th>\n",
       "      <td>2</td>\n",
       "      <td>감성</td>\n",
       "      <td>https://www.instagram.com/p/DA0uUuESwOz/</td>\n",
       "      <td>2.0</td>\n",
       "      <td>NaN</td>\n",
       "      <td>NaN</td>\n",
       "    </tr>\n",
       "    <tr>\n",
       "      <th>3</th>\n",
       "      <td>3</td>\n",
       "      <td>감성</td>\n",
       "      <td>https://www.instagram.com/p/DAfAMV5TNKS/</td>\n",
       "      <td>3.0</td>\n",
       "      <td>NaN</td>\n",
       "      <td>NaN</td>\n",
       "    </tr>\n",
       "    <tr>\n",
       "      <th>4</th>\n",
       "      <td>4</td>\n",
       "      <td>감성</td>\n",
       "      <td>https://www.instagram.com/p/DAx1Xf2SQtm/</td>\n",
       "      <td>4.0</td>\n",
       "      <td>NaN</td>\n",
       "      <td>NaN</td>\n",
       "    </tr>\n",
       "    <tr>\n",
       "      <th>...</th>\n",
       "      <td>...</td>\n",
       "      <td>...</td>\n",
       "      <td>...</td>\n",
       "      <td>...</td>\n",
       "      <td>...</td>\n",
       "      <td>...</td>\n",
       "    </tr>\n",
       "    <tr>\n",
       "      <th>106810</th>\n",
       "      <td>20149</td>\n",
       "      <td>화장</td>\n",
       "      <td>https://www.instagram.com/p/CjiB3GEvEJM/</td>\n",
       "      <td>20149.0</td>\n",
       "      <td>NaN</td>\n",
       "      <td>NaN</td>\n",
       "    </tr>\n",
       "    <tr>\n",
       "      <th>106811</th>\n",
       "      <td>20150</td>\n",
       "      <td>화장</td>\n",
       "      <td>https://www.instagram.com/p/CYdo1OGJu55/</td>\n",
       "      <td>20150.0</td>\n",
       "      <td>NaN</td>\n",
       "      <td>NaN</td>\n",
       "    </tr>\n",
       "    <tr>\n",
       "      <th>106812</th>\n",
       "      <td>20151</td>\n",
       "      <td>화장</td>\n",
       "      <td>https://www.instagram.com/p/CYvaTvyLHOh/</td>\n",
       "      <td>20151.0</td>\n",
       "      <td>NaN</td>\n",
       "      <td>NaN</td>\n",
       "    </tr>\n",
       "    <tr>\n",
       "      <th>106813</th>\n",
       "      <td>20152</td>\n",
       "      <td>화장</td>\n",
       "      <td>https://www.instagram.com/p/CMNzqMiJS8V/</td>\n",
       "      <td>20152.0</td>\n",
       "      <td>NaN</td>\n",
       "      <td>NaN</td>\n",
       "    </tr>\n",
       "    <tr>\n",
       "      <th>106814</th>\n",
       "      <td>20153</td>\n",
       "      <td>화장</td>\n",
       "      <td>https://www.instagram.com/p/CjkFeJoLkeF/</td>\n",
       "      <td>20153.0</td>\n",
       "      <td>NaN</td>\n",
       "      <td>NaN</td>\n",
       "    </tr>\n",
       "  </tbody>\n",
       "</table>\n",
       "<p>106815 rows × 6 columns</p>\n",
       "</div>"
      ],
      "text/plain": [
       "        Unnamed: 0.3  태그                                        링크  \\\n",
       "0                  0  감성  https://www.instagram.com/p/CjvNzS8vvMB/   \n",
       "1                  1  감성  https://www.instagram.com/p/DBaX8STz2sf/   \n",
       "2                  2  감성  https://www.instagram.com/p/DA0uUuESwOz/   \n",
       "3                  3  감성  https://www.instagram.com/p/DAfAMV5TNKS/   \n",
       "4                  4  감성  https://www.instagram.com/p/DAx1Xf2SQtm/   \n",
       "...              ...  ..                                       ...   \n",
       "106810         20149  화장  https://www.instagram.com/p/CjiB3GEvEJM/   \n",
       "106811         20150  화장  https://www.instagram.com/p/CYdo1OGJu55/   \n",
       "106812         20151  화장  https://www.instagram.com/p/CYvaTvyLHOh/   \n",
       "106813         20152  화장  https://www.instagram.com/p/CMNzqMiJS8V/   \n",
       "106814         20153  화장  https://www.instagram.com/p/CjkFeJoLkeF/   \n",
       "\n",
       "        Unnamed: 0  Unnamed: 0.2  Unnamed: 0.1  \n",
       "0              0.0           NaN           NaN  \n",
       "1              1.0           NaN           NaN  \n",
       "2              2.0           NaN           NaN  \n",
       "3              3.0           NaN           NaN  \n",
       "4              4.0           NaN           NaN  \n",
       "...            ...           ...           ...  \n",
       "106810     20149.0           NaN           NaN  \n",
       "106811     20150.0           NaN           NaN  \n",
       "106812     20151.0           NaN           NaN  \n",
       "106813     20152.0           NaN           NaN  \n",
       "106814     20153.0           NaN           NaN  \n",
       "\n",
       "[106815 rows x 6 columns]"
      ]
     },
     "execution_count": 3,
     "metadata": {},
     "output_type": "execute_result"
    }
   ],
   "source": [
    "LinkDF = pd.read_csv(\"링크.csv\")\n",
    "LinkDF"
   ]
  },
  {
   "cell_type": "code",
   "execution_count": 5,
   "metadata": {},
   "outputs": [],
   "source": [
    "filelist = ['국내여행태그.csv', '독서태그.csv', '브랜드협찬태그.csv', '요리태그.csv', '코디태그.csv', '해외여행태그.csv', '협찬태그.csv']"
   ]
  },
  {
   "cell_type": "code",
   "execution_count": 6,
   "metadata": {},
   "outputs": [],
   "source": [
    "for file in filelist:\n",
    "    tempDF = pd.read_csv(file)\n",
    "    LinkDF = pd.concat([LinkDF,tempDF])"
   ]
  },
  {
   "cell_type": "code",
   "execution_count": 8,
   "metadata": {},
   "outputs": [
    {
     "data": {
      "text/plain": [
       "array(['감성', '카페', '강아지', '고양이', '공부', '광고', '대구', '데일리', '라이프', '사진',\n",
       "       '스타일', '여행', '일상', '취미', '뷰티', '산책', '셀카', '소통', '추천', '맛집',\n",
       "       '제품협찬', '해외', '화장', '국내여행', '독서', '브랜드협찬', '요리', '코디', '해외여행',\n",
       "       '협찬'], dtype=object)"
      ]
     },
     "execution_count": 8,
     "metadata": {},
     "output_type": "execute_result"
    }
   ],
   "source": [
    "LinkDF['태그'].unique()"
   ]
  },
  {
   "cell_type": "code",
   "execution_count": 10,
   "metadata": {},
   "outputs": [],
   "source": [
    "LinkDF.drop_duplicates(subset='링크', inplace=True)"
   ]
  },
  {
   "cell_type": "code",
   "execution_count": 11,
   "metadata": {},
   "outputs": [],
   "source": [
    "LinkDF.to_csv(\"최종 csv 모음.csv\")"
   ]
  },
  {
   "cell_type": "code",
   "execution_count": null,
   "metadata": {},
   "outputs": [],
   "source": [
    "# tempDF1 = pd.read_csv(\"대구태그.csv\", index_col=[0,1,2])\n",
    "# tempDF2 = pd.read_csv(\"라이프태그.csv\", index_col=[0,1,2])\n",
    "# tempDF = pd.concat([tempDF1,tempDF2])\n",
    "# tempDF"
   ]
  }
 ],
 "metadata": {
  "kernelspec": {
   "display_name": "base",
   "language": "python",
   "name": "python3"
  },
  "language_info": {
   "codemirror_mode": {
    "name": "ipython",
    "version": 3
   },
   "file_extension": ".py",
   "mimetype": "text/x-python",
   "name": "python",
   "nbconvert_exporter": "python",
   "pygments_lexer": "ipython3",
   "version": "3.12.4"
  }
 },
 "nbformat": 4,
 "nbformat_minor": 2
}
