{
 "cells": [
  {
   "cell_type": "code",
   "execution_count": 23,
   "metadata": {},
   "outputs": [],
   "source": [
    "import pandas as pd\n",
    "# import "
   ]
  },
  {
   "cell_type": "code",
   "execution_count": 24,
   "metadata": {},
   "outputs": [
    {
     "data": {
      "text/plain": [
       "array(['감성', '카페', '강아지', '고양이', '공부', '광고', '대구', '데일리', '라이프', '사진',\n",
       "       '스타일', '여행', '일상', '취미', '뷰티', '산책', '셀카', '소통', '추천', '맛집',\n",
       "       '제품협찬', '해외', '화장', '국내여행', '독서', '브랜드협찬', '요리', '코디', '해외여행',\n",
       "       '협찬'], dtype=object)"
      ]
     },
     "execution_count": 24,
     "metadata": {},
     "output_type": "execute_result"
    }
   ],
   "source": [
    "linkDF = pd.read_csv(\"./before 1124/third/최종 csv 모음.csv\")\n",
    "linkDF['태그'].unique()"
   ]
  },
  {
   "cell_type": "code",
   "execution_count": 25,
   "metadata": {},
   "outputs": [
    {
     "data": {
      "text/plain": [
       "\"\\n최종 csv 모음.csv 기준\\n삭제 : '감성', '강아지', '고양이', '대구', '소통', '추천',  '셀카', \\n추가 : 먹스타그램\\n\\n'공부', '데일리', '라이프', '일상',\\n'사진', '취미', '산책', '독서', \\n'여행','해외',  '국내여행','해외여행',\\n'광고','제품협찬','브랜드협찬', '협찬'\\n'스타일', '뷰티',  '화장', '코디', \\n'카페', '맛집', '요리',\\n\\n\""
      ]
     },
     "execution_count": 25,
     "metadata": {},
     "output_type": "execute_result"
    }
   ],
   "source": [
    "# 일상            : 공부 데일리 라이프 일상\n",
    "# 취미/여가       : 사진 산책 독서 취미\n",
    "# 여행            : 여행 해외 국내여행 해외여행\n",
    "# 광고/홍보       : 광고 제품협찬 협찬 브랜드협찬\n",
    "# 패션/뷰티       : 스타일 뷰티 화장 코디 \n",
    "# 음식/요리       : 카페 맛집 요리 먹스타그램\n",
    "\n",
    "\"\"\"\n",
    "최종 csv 모음.csv 기준\n",
    "삭제 : '감성', '강아지', '고양이', '대구', '소통', '추천',  '셀카', \n",
    "추가 : 먹스타그램\n",
    "\n",
    "'공부', '데일리', '라이프', '일상',\n",
    "'사진', '취미', '산책', '독서', \n",
    "'여행','해외',  '국내여행','해외여행',\n",
    "'광고','제품협찬','브랜드협찬', '협찬'\n",
    "'스타일', '뷰티',  '화장', '코디', \n",
    "'카페', '맛집', '요리',\n",
    "\n",
    "\"\"\"\n"
   ]
  },
  {
   "cell_type": "code",
   "execution_count": null,
   "metadata": {},
   "outputs": [
    {
     "data": {
      "text/plain": [
       "array(['카페', '공부', '광고', '데일리', '라이프', '사진', '스타일', '여행', '일상', '취미',\n",
       "       '뷰티', '산책', '맛집', '제품협찬', '해외', '화장', '국내여행', '독서', '브랜드협찬', '요리',\n",
       "       '코디', '해외여행', '협찬'], dtype=object)"
      ]
     },
     "execution_count": 26,
     "metadata": {},
     "output_type": "execute_result"
    }
   ],
   "source": [
    "linkDF = linkDF[['태그','링크']]\n",
    "# linkDF.drop()\n",
    "for tag in ['감성', '강아지', '고양이', '대구', '소통', '추천',  '셀카']:\n",
    "    idx = linkDF[linkDF['태그'] == tag].index\n",
    "    linkDF.drop(idx , inplace=True)\n",
    "linkDF['태그'].unique()"
   ]
  },
  {
   "cell_type": "code",
   "execution_count": 27,
   "metadata": {},
   "outputs": [
    {
     "data": {
      "text/html": [
       "<div>\n",
       "<style scoped>\n",
       "    .dataframe tbody tr th:only-of-type {\n",
       "        vertical-align: middle;\n",
       "    }\n",
       "\n",
       "    .dataframe tbody tr th {\n",
       "        vertical-align: top;\n",
       "    }\n",
       "\n",
       "    .dataframe thead th {\n",
       "        text-align: right;\n",
       "    }\n",
       "</style>\n",
       "<table border=\"1\" class=\"dataframe\">\n",
       "  <thead>\n",
       "    <tr style=\"text-align: right;\">\n",
       "      <th></th>\n",
       "      <th>카테고리</th>\n",
       "      <th>태그</th>\n",
       "      <th>링크</th>\n",
       "    </tr>\n",
       "  </thead>\n",
       "  <tbody>\n",
       "    <tr>\n",
       "      <th>2490</th>\n",
       "      <td></td>\n",
       "      <td>카페</td>\n",
       "      <td>https://www.instagram.com/p/DBSoAMUz_wk/</td>\n",
       "    </tr>\n",
       "    <tr>\n",
       "      <th>2491</th>\n",
       "      <td></td>\n",
       "      <td>카페</td>\n",
       "      <td>https://www.instagram.com/p/C_SxHn2v7kV/</td>\n",
       "    </tr>\n",
       "    <tr>\n",
       "      <th>2492</th>\n",
       "      <td></td>\n",
       "      <td>카페</td>\n",
       "      <td>https://www.instagram.com/p/ChRIQDKOT7B/</td>\n",
       "    </tr>\n",
       "    <tr>\n",
       "      <th>2493</th>\n",
       "      <td></td>\n",
       "      <td>카페</td>\n",
       "      <td>https://www.instagram.com/p/CLwUvXQJSpY/</td>\n",
       "    </tr>\n",
       "    <tr>\n",
       "      <th>2494</th>\n",
       "      <td></td>\n",
       "      <td>카페</td>\n",
       "      <td>https://www.instagram.com/p/C-18aE3SJAF/</td>\n",
       "    </tr>\n",
       "    <tr>\n",
       "      <th>...</th>\n",
       "      <td>...</td>\n",
       "      <td>...</td>\n",
       "      <td>...</td>\n",
       "    </tr>\n",
       "    <tr>\n",
       "      <th>147313</th>\n",
       "      <td></td>\n",
       "      <td>협찬</td>\n",
       "      <td>https://www.instagram.com/p/DAGGG2XSo_e/</td>\n",
       "    </tr>\n",
       "    <tr>\n",
       "      <th>147314</th>\n",
       "      <td></td>\n",
       "      <td>협찬</td>\n",
       "      <td>https://www.instagram.com/p/C_K63hzPTvw/</td>\n",
       "    </tr>\n",
       "    <tr>\n",
       "      <th>147315</th>\n",
       "      <td></td>\n",
       "      <td>협찬</td>\n",
       "      <td>https://www.instagram.com/p/C-z0pYtSMXk/</td>\n",
       "    </tr>\n",
       "    <tr>\n",
       "      <th>147316</th>\n",
       "      <td></td>\n",
       "      <td>협찬</td>\n",
       "      <td>https://www.instagram.com/p/DAa2Upcyq_4/</td>\n",
       "    </tr>\n",
       "    <tr>\n",
       "      <th>147317</th>\n",
       "      <td></td>\n",
       "      <td>협찬</td>\n",
       "      <td>https://www.instagram.com/p/C-_1_69TwXa/</td>\n",
       "    </tr>\n",
       "  </tbody>\n",
       "</table>\n",
       "<p>115192 rows × 3 columns</p>\n",
       "</div>"
      ],
      "text/plain": [
       "       카테고리  태그                                        링크\n",
       "2490         카페  https://www.instagram.com/p/DBSoAMUz_wk/\n",
       "2491         카페  https://www.instagram.com/p/C_SxHn2v7kV/\n",
       "2492         카페  https://www.instagram.com/p/ChRIQDKOT7B/\n",
       "2493         카페  https://www.instagram.com/p/CLwUvXQJSpY/\n",
       "2494         카페  https://www.instagram.com/p/C-18aE3SJAF/\n",
       "...     ...  ..                                       ...\n",
       "147313       협찬  https://www.instagram.com/p/DAGGG2XSo_e/\n",
       "147314       협찬  https://www.instagram.com/p/C_K63hzPTvw/\n",
       "147315       협찬  https://www.instagram.com/p/C-z0pYtSMXk/\n",
       "147316       협찬  https://www.instagram.com/p/DAa2Upcyq_4/\n",
       "147317       협찬  https://www.instagram.com/p/C-_1_69TwXa/\n",
       "\n",
       "[115192 rows x 3 columns]"
      ]
     },
     "execution_count": 27,
     "metadata": {},
     "output_type": "execute_result"
    }
   ],
   "source": [
    "# 항목 열 추가\n",
    "# df.insert(2, 'NewColumn', [1, 2, 3, 4])\n",
    "linkDF.insert(0, \"카테고리\", [\" \" for n in range(linkDF.shape[0])])\n",
    "linkDF"
   ]
  },
  {
   "cell_type": "code",
   "execution_count": null,
   "metadata": {},
   "outputs": [
    {
     "data": {
      "text/plain": [
       "Index([ 2490,  2491,  2492,  2493,  2494,  2495,  2496,  2497,  2498,  2499,\n",
       "       ...\n",
       "       91313, 91314, 91315, 91316, 91317, 91318, 91319, 91320, 91321, 91322],\n",
       "      dtype='int64', length=4171)"
      ]
     },
     "execution_count": 30,
     "metadata": {},
     "output_type": "execute_result"
    }
   ],
   "source": [
    "# 태그별로 카테고리화 \n",
    "daily = [\"공부\", \"데일리\", \"라이프\", \"일상\"]\n",
    "hobby = [\"사진\", \"산책\", \"독서\", \"취미\"]\n",
    "travel = [\"여행\", \"해외\", \"국내여행 \", \"해외여행\"]\n",
    "ad = [\"광고\", \"제품협찬\", \"협찬\", \"브랜드협찬\"]\n",
    "fashion = [\"스타일\", \"뷰티\", \"화장\", \"코디\"]\n",
    "food = [\"카페\", \"맛집\", \"요리\", \"먹스타그램\"]\n",
    "\n",
    "list_list = [daily, hobby, travel, ad, fashion, food]\n",
    "\n",
    "for list in list_list:\n",
    "    for cate in list:\n",
    "        if cate == daily: category = \"일상\"\n",
    "        elif cate == hobby: category = \"취미\"\n",
    "        elif cate == travel: category = \"여행\"\n",
    "        elif cate == ad: category = \"광고/홍보\"\n",
    "        elif cate == fashion: category = \"패션/뷰티\"\n",
    "        elif cate == food: category = \"음식/요리\"\n",
    "        DF_idx = linkDF[linkDF['태그'] == cate].index\n",
    "        for idx in DF_idx:\n",
    "            linkDF.loc[idx, \"카테고리\"] = f\"{cate}\"\n",
    "        idx"
   ]
  }
 ],
 "metadata": {
  "kernelspec": {
   "display_name": "base",
   "language": "python",
   "name": "python3"
  },
  "language_info": {
   "codemirror_mode": {
    "name": "ipython",
    "version": 3
   },
   "file_extension": ".py",
   "mimetype": "text/x-python",
   "name": "python",
   "nbconvert_exporter": "python",
   "pygments_lexer": "ipython3",
   "version": "3.12.4"
  }
 },
 "nbformat": 4,
 "nbformat_minor": 2
}
