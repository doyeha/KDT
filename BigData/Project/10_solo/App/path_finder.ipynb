{
 "cells": [
  {
   "cell_type": "code",
   "execution_count": 1,
   "metadata": {},
   "outputs": [],
   "source": [
    "import time\n",
    "from selenium import webdriver\n",
    "from selenium.webdriver.common.by import By\n",
    "from selenium.webdriver.chrome.service import Service\n",
    "from selenium.webdriver.chrome.options import Options   # Http 헤더값 변경 목적 \n",
    "\n",
    "# 로그인 관련 import 해옴. 참고한 블로그는 노션 인스타 로그인 문제 블로그 링크\n",
    "from selenium.webdriver.common.by import By # HTML 요소를 찾아서 가져오고 싶을 때 쓰는 것\n",
    "import time\n",
    "import re\n",
    "import pandas as pd\n",
    "import random as rd"
   ]
  },
  {
   "cell_type": "code",
   "execution_count": 41,
   "metadata": {},
   "outputs": [],
   "source": [
    "# 클릭은 안되지만, text 했을 때 \"로그인\" 나옴.\n",
    "log_submit_path = [\n",
    "        (By.CLASS_NAME, '_acan _acap _acas _aj1- _ap30'),\n",
    "        (By.CLASS_NAME, '_acan._acap._acas._aj1-._ap30'),\n",
    "        (By.CSS_SELECTOR, '#loginForm > div > div:nth-child(3) > button'),\n",
    "        (By.XPATH, '//*[@id=\"loginForm\"]/div/div[3]/button'),\n",
    "        (By.XPATH, '/html/body/div[2]/div/div/div[2]/div/div/div[1]/div[1]/div/section/main/article/div[2]/div[1]/div[2]/div/form/div/div[3]/button')\n",
    "        ]\n",
    "# https://www.instagram.com/"
   ]
  },
  {
   "cell_type": "code",
   "execution_count": 42,
   "metadata": {},
   "outputs": [],
   "source": [
    "# path 리스트 기초틀\n",
    "log_submit_path = [\n",
    "    (By.CLASS_NAME, ''),\n",
    "    (By.CLASS_NAME, ''),\n",
    "    (By.CSS_SELECTOR, ''),\n",
    "    (By.XPATH, ''),\n",
    "    (By.XPATH, '')\n",
    "    ]"
   ]
  },
  {
   "cell_type": "code",
   "execution_count": 10,
   "metadata": {},
   "outputs": [],
   "source": [
    "# 크롬창 실행 \n",
    "options = Options()\n",
    "user_agent = \"Mozilla/5.0 (Windows NT 10.0; Win64; x64) AppleWebKit/537.36 (KHTML, like Gecko) Chrome/115.0.0.0 Safari/537.36\"\n",
    "options.add_argument(f\"user-agent={user_agent}\")\n",
    "chrome_driver_path = \"chromedriver.exe\"  # 크롬 드라이버 설치 경로 입력\n",
    "service = Service(chrome_driver_path)\n",
    "# 웹 드라이버 실행\n",
    "driver = webdriver.Chrome(options=options)\n",
    "url =\"https://www.instagram.com\"\n",
    "driver.get(url)"
   ]
  },
  {
   "cell_type": "markdown",
   "metadata": {},
   "source": [
    "## 아이디,비번 입력 후 로그인 버튼 클릭"
   ]
  },
  {
   "cell_type": "markdown",
   "metadata": {},
   "source": [
    "### 1트 \n",
    "결과 : 2가지 버전 나옴."
   ]
  },
  {
   "cell_type": "code",
   "execution_count": 44,
   "metadata": {},
   "outputs": [],
   "source": [
    "# 찾는거에 성공은 함. 2번째 요소만. 확실해 띄워쓰기를 .으로 대체해야한다.\n",
    "# for by, path in log_submit_path:\n",
    "#     try:\n",
    "#         login_btn = driver.find_element(by, path).click()\n",
    "#         print(by, path, \"성공\")   \n",
    "#         break # 되면 더 찾지마\n",
    "#     except:           \n",
    "#         print(by, path, \"실패\")   \n",
    "#         continue"
   ]
  },
  {
   "cell_type": "code",
   "execution_count": 45,
   "metadata": {},
   "outputs": [],
   "source": [
    "# 로그인 버튼 클릭 시도. (올실패)\n",
    "# for by, path in log_submit_path:\n",
    "#     try:\n",
    "#         login_btn = driver.find_element(by, path).click()\n",
    "#         print(by, path, \"성공\")   \n",
    "#         break # 되면 더 찾지마\n",
    "#     except:           \n",
    "#         print(by, path, \"실패\")   \n",
    "#         continue"
   ]
  },
  {
   "cell_type": "code",
   "execution_count": 58,
   "metadata": {},
   "outputs": [],
   "source": [
    "# 로그인 클릭 가능 // text 로그인 뜸.\n",
    "log_submit_path = [\n",
    "        (By.CLASS_NAME, 'x9f619.xjbqb8w.x78zum5.x168nmei.x13lgxp2.x5pf9jr.xo71vjh.x1n2onr6.x1plvlek.xryxfnj.x1c4vz4f.x2lah0s.xdt5ytf.xqjyukv.x1qjc9v5.x1oa3qoh.x1nhvcw1'),\n",
    "        (By.CLASS_NAME, 'x9f619 xjbqb8w x78zum5 x168nmei x13lgxp2 x5pf9jr xo71vjh x1n2onr6 x1plvlek xryxfnj x1c4vz4f x2lah0s xdt5ytf xqjyukv x1qjc9v5 x1oa3qoh x1nhvcw1'),\n",
    "        (By.CSS_SELECTOR, '#loginForm > div > div:nth-child(3) > button > div'),\n",
    "        (By.XPATH, '//*[@id=\"loginForm\"]/div/div[3]/button/div'),\n",
    "        (By.XPATH, '/html/body/div[2]/div/div/div[2]/div/div/div[1]/div[1]/div/section/main/article/div[2]/div[1]/div[2]/div/form/div/div[3]/button/div')\n",
    "        ]"
   ]
  },
  {
   "cell_type": "code",
   "execution_count": 48,
   "metadata": {},
   "outputs": [],
   "source": [
    "# 버튼 클릭 1,3 성공 // But 1은 클릭은 안된다. 3번만 성공함. Text 출력 가능.\n",
    "# for by, path in log_submit_path:\n",
    "#     try:\n",
    "#         login_btn = driver.find_element(by, path).click()\n",
    "#         print(by, path, \"성공\")\n",
    "#         time.sleep(3)\n",
    "#         # break # 되면 더 찾지마\n",
    "#     except:           \n",
    "#         print(by, path, \"실패\")   \n",
    "#         continue"
   ]
  },
  {
   "cell_type": "markdown",
   "metadata": {},
   "source": [
    "## 로그인 실패 시 문구 path"
   ]
  },
  {
   "cell_type": "code",
   "execution_count": 49,
   "metadata": {},
   "outputs": [],
   "source": [
    "# 로그인 실패 시 뜨는 아이디 비번 문구\n",
    "log_submit_path = [\n",
    "    (By.CLASS_NAME, 'x1lliihq x1plvlek xryxfnj x1n2onr6 x1ji0vk5 x18bv5gf x193iq5w xeuugli x1fj9vlw x13faqbe x1vvkbs x1s928wv xhkezso x1gmr53x x1cpjm7i x1fgarty x1943h6x x1i0vuye xvs91rp xo1l8bm x5n08af x1tu3fi x3x7a5m x10wh9bi x1wdrske x8viiok x18hxmgj'),\n",
    "    (By.CLASS_NAME, 'x1lliihq x1plvlek xryxfnj x1n2onr6 x1ji0vk5 x18bv5gf x193iq5w xeuugli x1fj9vlw x13faqbe x1vvkbs x1s928wv xhkezso x1gmr53x x1cpjm7i x1fgarty x1943h6x x1i0vuye xvs91rp xo1l8bm x5n08af x1tu3fi x3x7a5m x10wh9bi x1wdrske x8viiok x18hxmgj'.replace(\" \",\".\")),\n",
    "    (By.CSS_SELECTOR, '#loginForm > span'),\n",
    "    (By.XPATH, '//*[@id=\"loginForm\"]/span'),\n",
    "    (By.XPATH, '/html/body/div[2]/div/div/div[2]/div/div/div[1]/div[1]/div/section/main/div/div/div[1]/div[2]/div/form/span')\n",
    "    ]"
   ]
  },
  {
   "cell_type": "code",
   "execution_count": 50,
   "metadata": {},
   "outputs": [],
   "source": [
    "# 일반 로그인 창에서는, 2번째꺼 성공\n",
    "# 만약 그냥 로그인 화면에서 하면 \"앱을 다운로드하세요\"가 뜬다.\n",
    "\n",
    "# 로그인 실패 화면에서는 2,3,4번 성공\n",
    "# 모두.text에서 \"잘못된 비밀번호입니다. 다시 확인하세요.\"가 나온다.\n",
    "# for by, path in log_submit_path:\n",
    "#     try:\n",
    "#         fail_login = driver.find_element(by, path)\n",
    "#         print(by, path, \"성공\")\n",
    "#         print(fail_login.text)\n",
    "#         # break # 되면 더 찾지마\n",
    "#     except:           \n",
    "#         print(by, path, \"실패\")   \n",
    "#         continue"
   ]
  },
  {
   "cell_type": "code",
   "execution_count": 51,
   "metadata": {},
   "outputs": [],
   "source": [
    "# 셀레니움에서 신규 로그인 시 로그인 정보 저장에 대해 나온다.\n",
    "# https://www.instagram.com/accounts/onetap/?next=%2F"
   ]
  },
  {
   "cell_type": "markdown",
   "metadata": {},
   "source": [
    "## 로그인 성공 이후, 로그인 정보 저장하겟냐는 질문 넘기기용. 나중에 하기 클릭."
   ]
  },
  {
   "cell_type": "code",
   "execution_count": 59,
   "metadata": {},
   "outputs": [],
   "source": [
    "# print(driver.current_url) # 이거면 현재 링크 위치가 나옴.\n",
    "# if driver.current_url == 'https://www.instagram.com/accounts/onetap/?next=%2F'"
   ]
  },
  {
   "cell_type": "code",
   "execution_count": null,
   "metadata": {},
   "outputs": [],
   "source": [
    "# 로그인 성공 이후, 로그인 정보 저장하겟냐는 질문 넘기기용. 나중에 하기 클릭.\n",
    "login_info_question_path = [\n",
    "    (By.CLASS_NAME, 'x1i10hfl xjqpnuy xa49m3k xqeqjp1 x2hbi6w xdl72j9 x2lah0s xe8uvvx xdj266r x11i5rnm xat24cr x1mh8g0r x2lwn1j xeuugli x1hl2dhg xggy1nq x1ja2u2z x1t137rt x1q0g3np x1lku1pv x1a2a7pz x6s0dn4 xjyslct x1ejq31n xd10rxx x1sy0etr x17r0tee x9f619 x1ypdohk x1f6kntn xwhw2v2 xl56j7k x17ydfre x2b8uid xlyipyv x87ps6o x14atkfc xcdnw81 x1i0vuye xjbqb8w xm3z3ea x1x8b98j x131883w x16mih1h x972fbf xcfux6l x1qhh985 xm0m39n xt0psk2 xt7dq6l xexx8yu x4uap5 x18d9i69 xkhd6sd x1n2onr6 x1n5bzlp x173jzuc x1yc6y37'.replace(\" \",\".\")),\n",
    "    (By.CSS_SELECTOR, '#mount_0_0_js > div > div > div > div.x9f619.x1n2onr6.x1ja2u2z > div > div > div.x78zum5.xdt5ytf.x1t2pt76.x1n2onr6.x1ja2u2z.x10cihs4 > div.x9f619.xvbhtw8.x78zum5.x168nmei.x13lgxp2.x5pf9jr.xo71vjh.x1uhb9sk.x1plvlek.xryxfnj.x1c4vz4f.x2lah0s.x1q0g3np.xqjyukv.x1qjc9v5.x1oa3qoh.x1qughib > div.x1gryazu.xh8yej3.x10o80wk.x14k21rp.x17snn68.x6osk4m.x1porb0y.x8vgawa > section > main > div > div > div > div > div'),\n",
    "    (By.XPATH, '//*[@id=\"mount_0_0_js\"]/div/div/div/div[2]/div/div/div[1]/div[1]/div[1]/section/main/div/div/div/div/div'),\n",
    "    (By.XPATH, '/html/body/div[2]/div/div/div/div[2]/div/div/div[1]/div[1]/div[1]/section/main/div/div/div/div/div')\n",
    "    ]"
   ]
  },
  {
   "cell_type": "code",
   "execution_count": 56,
   "metadata": {},
   "outputs": [
    {
     "name": "stdout",
     "output_type": "stream",
     "text": [
      "class name x1i10hfl xjqpnuy xa49m3k xqeqjp1 x2hbi6w xdl72j9 x2lah0s xe8uvvx xdj266r x11i5rnm xat24cr x1mh8g0r x2lwn1j xeuugli x1hl2dhg xggy1nq x1ja2u2z x1t137rt x1q0g3np x1lku1pv x1a2a7pz x6s0dn4 xjyslct x1ejq31n xd10rxx x1sy0etr x17r0tee x9f619 x1ypdohk x1f6kntn xwhw2v2 xl56j7k x17ydfre x2b8uid xlyipyv x87ps6o x14atkfc xcdnw81 x1i0vuye xjbqb8w xm3z3ea x1x8b98j x131883w x16mih1h x972fbf xcfux6l x1qhh985 xm0m39n xt0psk2 xt7dq6l xexx8yu x4uap5 x18d9i69 xkhd6sd x1n2onr6 x1n5bzlp x173jzuc x1yc6y37 실패\n",
      "class name x1i10hfl.xjqpnuy.xa49m3k.xqeqjp1.x2hbi6w.xdl72j9.x2lah0s.xe8uvvx.xdj266r.x11i5rnm.xat24cr.x1mh8g0r.x2lwn1j.xeuugli.x1hl2dhg.xggy1nq.x1ja2u2z.x1t137rt.x1q0g3np.x1lku1pv.x1a2a7pz.x6s0dn4.xjyslct.x1ejq31n.xd10rxx.x1sy0etr.x17r0tee.x9f619.x1ypdohk.x1f6kntn.xwhw2v2.xl56j7k.x17ydfre.x2b8uid.xlyipyv.x87ps6o.x14atkfc.xcdnw81.x1i0vuye.xjbqb8w.xm3z3ea.x1x8b98j.x131883w.x16mih1h.x972fbf.xcfux6l.x1qhh985.xm0m39n.xt0psk2.xt7dq6l.xexx8yu.x4uap5.x18d9i69.xkhd6sd.x1n2onr6.x1n5bzlp.x173jzuc.x1yc6y37 성공\n",
      "나중에 하기\n",
      "css selector #mount_0_0_js > div > div > div > div.x9f619.x1n2onr6.x1ja2u2z > div > div > div.x78zum5.xdt5ytf.x1t2pt76.x1n2onr6.x1ja2u2z.x10cihs4 > div.x9f619.xvbhtw8.x78zum5.x168nmei.x13lgxp2.x5pf9jr.xo71vjh.x1uhb9sk.x1plvlek.xryxfnj.x1c4vz4f.x2lah0s.x1q0g3np.xqjyukv.x1qjc9v5.x1oa3qoh.x1qughib > div.x1gryazu.xh8yej3.x10o80wk.x14k21rp.x17snn68.x6osk4m.x1porb0y.x8vgawa > section > main > div > div > div > div > div 성공\n",
      "나중에 하기\n",
      "xpath //*[@id=\"mount_0_0_js\"]/div/div/div/div[2]/div/div/div[1]/div[1]/div[1]/section/main/div/div/div/div/div 성공\n",
      "나중에 하기\n",
      "xpath /html/body/div[2]/div/div/div/div[2]/div/div/div[1]/div[1]/div[1]/section/main/div/div/div/div/div 성공\n",
      "나중에 하기\n"
     ]
    }
   ],
   "source": [
    "for by, path in login_info_question_path:\n",
    "    try:\n",
    "        mirugi = driver.find_element(by, path)\n",
    "        print(by, path, \"성공\")\n",
    "        print(mirugi.text)\n",
    "        # break # 되면 더 찾지마\n",
    "    except:           \n",
    "        print(by, path, \"실패\")   \n",
    "        continue"
   ]
  },
  {
   "cell_type": "code",
   "execution_count": 57,
   "metadata": {},
   "outputs": [
    {
     "name": "stdout",
     "output_type": "stream",
     "text": [
      "class name x1i10hfl xjqpnuy xa49m3k xqeqjp1 x2hbi6w xdl72j9 x2lah0s xe8uvvx xdj266r x11i5rnm xat24cr x1mh8g0r x2lwn1j xeuugli x1hl2dhg xggy1nq x1ja2u2z x1t137rt x1q0g3np x1lku1pv x1a2a7pz x6s0dn4 xjyslct x1ejq31n xd10rxx x1sy0etr x17r0tee x9f619 x1ypdohk x1f6kntn xwhw2v2 xl56j7k x17ydfre x2b8uid xlyipyv x87ps6o x14atkfc xcdnw81 x1i0vuye xjbqb8w xm3z3ea x1x8b98j x131883w x16mih1h x972fbf xcfux6l x1qhh985 xm0m39n xt0psk2 xt7dq6l xexx8yu x4uap5 x18d9i69 xkhd6sd x1n2onr6 x1n5bzlp x173jzuc x1yc6y37 실패\n",
      "class name x1i10hfl.xjqpnuy.xa49m3k.xqeqjp1.x2hbi6w.xdl72j9.x2lah0s.xe8uvvx.xdj266r.x11i5rnm.xat24cr.x1mh8g0r.x2lwn1j.xeuugli.x1hl2dhg.xggy1nq.x1ja2u2z.x1t137rt.x1q0g3np.x1lku1pv.x1a2a7pz.x6s0dn4.xjyslct.x1ejq31n.xd10rxx.x1sy0etr.x17r0tee.x9f619.x1ypdohk.x1f6kntn.xwhw2v2.xl56j7k.x17ydfre.x2b8uid.xlyipyv.x87ps6o.x14atkfc.xcdnw81.x1i0vuye.xjbqb8w.xm3z3ea.x1x8b98j.x131883w.x16mih1h.x972fbf.xcfux6l.x1qhh985.xm0m39n.xt0psk2.xt7dq6l.xexx8yu.x4uap5.x18d9i69.xkhd6sd.x1n2onr6.x1n5bzlp.x173jzuc.x1yc6y37 성공\n",
      "class name x1i10hfl.xjqpnuy.xa49m3k.xqeqjp1.x2hbi6w.xdl72j9.x2lah0s.xe8uvvx.xdj266r.x11i5rnm.xat24cr.x1mh8g0r.x2lwn1j.xeuugli.x1hl2dhg.xggy1nq.x1ja2u2z.x1t137rt.x1q0g3np.x1lku1pv.x1a2a7pz.x6s0dn4.xjyslct.x1ejq31n.xd10rxx.x1sy0etr.x17r0tee.x9f619.x1ypdohk.x1f6kntn.xwhw2v2.xl56j7k.x17ydfre.x2b8uid.xlyipyv.x87ps6o.x14atkfc.xcdnw81.x1i0vuye.xjbqb8w.xm3z3ea.x1x8b98j.x131883w.x16mih1h.x972fbf.xcfux6l.x1qhh985.xm0m39n.xt0psk2.xt7dq6l.xexx8yu.x4uap5.x18d9i69.xkhd6sd.x1n2onr6.x1n5bzlp.x173jzuc.x1yc6y37 실패\n",
      "css selector #mount_0_0_js > div > div > div > div.x9f619.x1n2onr6.x1ja2u2z > div > div > div.x78zum5.xdt5ytf.x1t2pt76.x1n2onr6.x1ja2u2z.x10cihs4 > div.x9f619.xvbhtw8.x78zum5.x168nmei.x13lgxp2.x5pf9jr.xo71vjh.x1uhb9sk.x1plvlek.xryxfnj.x1c4vz4f.x2lah0s.x1q0g3np.xqjyukv.x1qjc9v5.x1oa3qoh.x1qughib > div.x1gryazu.xh8yej3.x10o80wk.x14k21rp.x17snn68.x6osk4m.x1porb0y.x8vgawa > section > main > div > div > div > div > div 실패\n",
      "xpath //*[@id=\"mount_0_0_js\"]/div/div/div/div[2]/div/div/div[1]/div[1]/div[1]/section/main/div/div/div/div/div 실패\n",
      "xpath /html/body/div[2]/div/div/div/div[2]/div/div/div[1]/div[1]/div[1]/section/main/div/div/div/div/div 실패\n"
     ]
    }
   ],
   "source": [
    "for by, path in login_info_question_path:\n",
    "    try:\n",
    "        driver.find_element(by, path).click()\n",
    "        print(by, path, \"성공\")\n",
    "        print(mirugi.text)\n",
    "        time.sleep(5)\n",
    "        # break # 되면 더 찾지마\n",
    "    except:           \n",
    "        print(by, path, \"실패\")   \n",
    "        continue"
   ]
  },
  {
   "cell_type": "markdown",
   "metadata": {},
   "source": [
    "## asdf"
   ]
  },
  {
   "cell_type": "code",
   "execution_count": 1,
   "metadata": {},
   "outputs": [
    {
     "data": {
      "text/plain": [
       "40"
      ]
     },
     "execution_count": 1,
     "metadata": {},
     "output_type": "execute_result"
    }
   ],
   "source": [
    "len(\"https://www.instagram.com/p/DC1pzt1S60X/\")"
   ]
  },
  {
   "cell_type": "markdown",
   "metadata": {},
   "source": [
    "## 함께하는 사람 case"
   ]
  },
  {
   "cell_type": "code",
   "execution_count": 4,
   "metadata": {},
   "outputs": [
    {
     "data": {
      "text/plain": [
       "'tour.toctoc'"
      ]
     },
     "execution_count": 4,
     "metadata": {},
     "output_type": "execute_result"
    }
   ],
   "source": [
    "Oner_ID = driver.find_element(By.CLASS_NAME,'x1i10hfl.xjqpnuy.xa49m3k.xqeqjp1.x2hbi6w.xdl72j9.x2lah0s.xe8uvvx.xdj266r.x11i5rnm.xat24cr.x1mh8g0r.x2lwn1j.xeuugli.x1hl2dhg.xggy1nq.x1ja2u2z.x1t137rt.x1q0g3np.x1lku1pv.x1a2a7pz.x6s0dn4.xjyslct.x1ejq31n.xd10rxx.x1sy0etr.x17r0tee.x9f619.x1ypdohk.x1f6kntn.xwhw2v2.xl56j7k.x17ydfre.x2b8uid.xlyipyv.x87ps6o.x14atkfc.xcdnw81.x1i0vuye.xjbqb8w.xm3z3ea.x1x8b98j.x131883w.x16mih1h.x972fbf.xcfux6l.x1qhh985.xm0m39n.xt0psk2.xt7dq6l.xexx8yu.x4uap5.x18d9i69.xkhd6sd.x1n2onr6.x1n5bzlp.xqnirrm.xj34u2y.x568u83')\n",
    "Oner_ID.text\n",
    "# 잘 나오는데 ???????"
   ]
  },
  {
   "cell_type": "code",
   "execution_count": null,
   "metadata": {},
   "outputs": [],
   "source": []
  },
  {
   "cell_type": "markdown",
   "metadata": {},
   "source": [
    "## Lover"
   ]
  },
  {
   "cell_type": "code",
   "execution_count": 16,
   "metadata": {},
   "outputs": [
    {
     "name": "stdout",
     "output_type": "stream",
     "text": [
      "class name x193iq5w xeuugli x1fj9vlw x13faqbe x1vvkbs xt0psk2 x1i0vuye xvs91rp x1s688f x5n08af x10wh9bi x1wdrske x8viiok x18hxmgj 실패\n",
      "class name x193iq5w.xeuugli.x1fj9vlw.x13faqbe.x1vvkbs.xt0psk2.x1i0vuye.xvs91rp.x1s688f.x5n08af.x10wh9bi.x1wdrske.x8viiok.x18hxmgj 성공\n",
      "좋아요 1676만개\n"
     ]
    }
   ],
   "source": [
    "# lover_path = [\n",
    "#     (By.CLASS_NAME, ''),\n",
    "#     (By.CLASS_NAME, ''),\n",
    "#     (By.CSS_SELECTOR, 'body > div.x1n2onr6.xzkaem6 > div.x9f619.x1n2onr6.x1ja2u2z > div > div.x1uvtmcs.x4k7w5x.x1h91t0o.x1beo9mf.xaigb6o.x12ejxvf.x3igimt.xarpa2k.xedcshv.x1lytzrv.x1t2pt76.x7ja8zs.x1n2onr6.x1qrby5j.x1jfb8zj > div > div > div > div > div.xb88tzc.xw2csxc.x1odjw0f.x5fp0pe.x1qjc9v5.xjbqb8w.x1lcm9me.x1yr5g0i.xrt01vj.x10y3i5r.xr1yuqi.xkrivgy.x4ii5y1.x1gryazu.x15h9jz8.x47corl.xh8yej3.xir0mxb.x1juhsu6 > div > article > div > div.x1qjc9v5.x972fbf.xcfux6l.x1qhh985.xm0m39n.x9f619.x78zum5.xdt5ytf.x1iyjqo2.x5wqa0o.xln7xf2.xk390pu.xdj266r.x11i5rnm.xat24cr.x1mh8g0r.x65f84u.x1vq45kp.xexx8yu.x4uap5.x18d9i69.xkhd6sd.x1n2onr6.x11njtxf > div > div > div.x78zum5.xdt5ytf.x1q2y9iw.x1n2onr6.xh8yej3.x9f619.x1iyjqo2.x18l3tf1.x26u7qi.xy80clv.xexx8yu.x4uap5.x18d9i69.xkhd6sd > section.x12nagc.x182iqb8.x1pi30zi.x1swvt13 > div > div > span > a > span > span'),\n",
    "#     (By.XPATH, '/html/body/div[6]/div[1]/div/div[3]/div/div/div/div/div[2]/div/article/div/div[2]/div/div/div[2]/section[2]/div/div/span/a/span/span'),\n",
    "#     (By.XPATH, '/html/body/div[6]/div[1]/div/div[3]/div/div/div/div/div[2]/div/article/div/div[2]/div/div/div[2]/section[2]/div/div/span/a/span/span')\n",
    "#     ]\n",
    "\n",
    "# 좋아요 n.n개 전체\n",
    "lover_path = [\n",
    "    (By.CLASS_NAME, 'x193iq5w xeuugli x1fj9vlw x13faqbe x1vvkbs xt0psk2 x1i0vuye xvs91rp x1s688f x5n08af x10wh9bi x1wdrske x8viiok x18hxmgj'),\n",
    "    (By.CLASS_NAME, 'x193iq5w xeuugli x1fj9vlw x13faqbe x1vvkbs xt0psk2 x1i0vuye xvs91rp x1s688f x5n08af x10wh9bi x1wdrske x8viiok x18hxmgj'.replace(\" \",\".\")),\n",
    "    (By.CSS_SELECTOR, '#mount_0_0_nl > div > div > div > div.x9f619.x1n2onr6.x1ja2u2z > div > div > div.x78zum5.xdt5ytf.x1t2pt76.x1n2onr6.x1ja2u2z.x10cihs4 > div.x9f619.xvbhtw8.x78zum5.x168nmei.x13lgxp2.x5pf9jr.xo71vjh.x1uhb9sk.x1plvlek.xryxfnj.x1c4vz4f.x2lah0s.x1q0g3np.xqjyukv.x1qjc9v5.x1oa3qoh.x1qughib > div.x1gryazu.xh8yej3.x10o80wk.x14k21rp.x17snn68.x6osk4m.x1porb0y.x8vgawa > section > main > div > div.x6s0dn4.x78zum5.xdt5ytf.xdj266r.xkrivgy.xat24cr.x1gryazu.x1n2onr6.xh8yej3 > div > div.x4h1yfo > div > div.x1xp8e9x.x13fuv20.x178xt8z.x9f619.x1yrsyyn.x1pi30zi.x10b6aqq.x1swvt13.xh8yej3 > section.x12nagc > div > div > span > a > span'),\n",
    "    (By.XPATH, '//*[@id=\"mount_0_0_nl\"]/div/div/div/div[2]/div/div/div[1]/div[1]/div[1]/section/main/div/div[1]/div/div[2]/div/div[3]/section[2]/div/div/span/a/span'),\n",
    "    (By.XPATH, '/html/body/div[2]/div/div/div/div[2]/div/div/div[1]/div[1]/div[1]/section/main/div/div[1]/div/div[2]/div/div[3]/section[2]/div/div/span/a/span')\n",
    "    ]\n",
    "\n",
    "for by, path in lover_path:\n",
    "    try:\n",
    "        lover = driver.find_element(by, path)\n",
    "        print(by, path, \"성공\")\n",
    "        print(lover.text)\n",
    "        break # 되면 더 찾지마\n",
    "    except:           \n",
    "        print(by, path, \"실패\")   \n",
    "        continue\n",
    "\n",
    "# 여러명이 좋아한다.\n",
    "# 좋아요 3182개\n",
    "# 좋아요 3.1만개\n",
    "# 좋아요가 없는 경우도 있음.\n",
    "# 좋아요 127.6만개\n",
    "# 좋아요 1676만개"
   ]
  },
  {
   "cell_type": "code",
   "execution_count": 26,
   "metadata": {},
   "outputs": [
    {
     "name": "stdout",
     "output_type": "stream",
     "text": [
      "3182 <class 'int'>\n",
      "31000 <class 'int'>\n",
      "1276000 <class 'int'>\n",
      "16760000 <class 'int'>\n"
     ]
    }
   ],
   "source": [
    "text = [\n",
    "    # '여러명이 좋아한다.',\n",
    "'좋아요 3182개',\n",
    "'좋아요 3.1만개',\n",
    "'좋아요 127.6만개',\n",
    "'좋아요 1676만개']\n",
    "for t in text:\n",
    "    # if t == '여러명이 좋아한다.':\n",
    "    #     t = \"알수없음\"\n",
    "    # else:\n",
    "    t = t.replace(\"좋아요\",\"\").replace(\" \",\"\").replace(\"개\",\"\")\n",
    "\n",
    "    if (\"만\" in t) and (\".\" in t):\n",
    "        t = t.replace(\"만\",\"000\").replace(\".\",\"\")\n",
    "    elif \"만\" in t:\n",
    "        t = t.replace(\"만\",\"0000\")\n",
    "    try:\n",
    "        t = int(t)\n",
    "    except:\n",
    "        pass\n",
    "    print(t, type(t))"
   ]
  }
 ],
 "metadata": {
  "kernelspec": {
   "display_name": "slpj",
   "language": "python",
   "name": "python3"
  },
  "language_info": {
   "codemirror_mode": {
    "name": "ipython",
    "version": 3
   },
   "file_extension": ".py",
   "mimetype": "text/x-python",
   "name": "python",
   "nbconvert_exporter": "python",
   "pygments_lexer": "ipython3",
   "version": "3.8.19"
  }
 },
 "nbformat": 4,
 "nbformat_minor": 2
}
