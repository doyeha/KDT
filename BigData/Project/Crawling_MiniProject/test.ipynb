{
 "cells": [
  {
   "cell_type": "code",
   "execution_count": 5,
   "metadata": {},
   "outputs": [],
   "source": [
    "# 모듈 준비\n",
    "from bs4 import BeautifulSoup\n",
    "import requests\n",
    "from urllib.request import urlopen\n",
    "from konlpy.tag import Okt\n",
    "from collections import Counter\n",
    "from wordcloud import WordCloud\n",
    "import matplotlib.pyplot as plt\n",
    "import time\n",
    "import platform\n",
    "import numpy as np\n",
    "from PIL import Image"
   ]
  },
  {
   "cell_type": "markdown",
   "metadata": {},
   "source": [
    "https://www.jobkorea.co.kr/Search/?stext=Mysql&tabType=recruit&Page_No=1&focusGno=45226717 \n",
    "\n",
    "해당 사이트에서 Page "
   ]
  },
  {
   "cell_type": "markdown",
   "metadata": {},
   "source": [
    "지원자 수 -> 기업정보 -> 채용정보 딕셔너리형식으로 뽑아서, DF 만들고?\n",
    " 정규직 채용 얼마나 했는가.\n"
   ]
  },
  {
   "cell_type": "code",
   "execution_count": 6,
   "metadata": {},
   "outputs": [
    {
     "name": "stdout",
     "output_type": "stream",
     "text": [
      "[]\n"
     ]
    }
   ],
   "source": [
    "# 기업정보 리스트 만들기.\n",
    "\n",
    "\n",
    "# https://www.jobkorea.co.kr/ + site\n",
    "\n",
    "#container > section > div.readSumWrap.clear > article > div.tbRow.clear > div.tbCol.tbCoInfo > div.coBtn > a:nth-child(1)\n",
    "\n",
    "url = 'https://www.jobkorea.co.kr/Recruit/GI_Read/45185109?Oem_Code=C1&logpath=1&stext=Mysql&listno=6'\n",
    "html = requests.get(url)\n",
    "soup = BeautifulSoup(html.text, 'html.parser')\n",
    "\n",
    "#container > section > div.readSumWrap.clear > article > div.tbRow.clear > div.tbCol.tbCoInfo > div.coBtn > a:nth-child(1)\n",
    "temp = soup.find_all('div', {'class':'tbCoInfo'})\n",
    "print(temp)"
   ]
  },
  {
   "cell_type": "code",
   "execution_count": null,
   "metadata": {},
   "outputs": [],
   "source": []
  },
  {
   "cell_type": "code",
   "execution_count": 7,
   "metadata": {},
   "outputs": [],
   "source": [
    "def get_links(link_list):\n",
    "    '''\n",
    "    잡코리아 링크 가져오는 함수\n",
    "    parms= 링크 모아놓을 빈 리스트\n",
    "    return\n",
    "    '''\n",
    "    num=1\n",
    "    while num<=25:\n",
    "        url= urlopen(f'https://www.jobkorea.co.kr/Search/?stext=Mysql&ord=ApplicantDesc&tabType=recruit&Page_No={num}')\n",
    "        soup= BeautifulSoup(url, 'html.parser')\n",
    "\n",
    "        links= soup.find_all('a', {'class': \"corp-name-link dev-view\"})\n",
    "        for link in links:\n",
    "            link= link['href']\n",
    "            link_list.append(link)\n",
    "        num+=1"
   ]
  },
  {
   "cell_type": "code",
   "execution_count": 8,
   "metadata": {},
   "outputs": [],
   "source": [
    "emp_link_list = []\n",
    "get_links(emp_link_list)"
   ]
  },
  {
   "cell_type": "code",
   "execution_count": 9,
   "metadata": {},
   "outputs": [
    {
     "name": "stdout",
     "output_type": "stream",
     "text": [
      "['/Recruit/GI_Read/45215375?Oem_Code=C1&logpath=1&stext=Mysql&listno=1', '/Recruit/GI_Read/45108137?Oem_Code=C1&logpath=1&stext=Mysql&listno=2', '/Recruit/GI_Read/45222065?Oem_Code=C1&logpath=1&stext=Mysql&listno=3', '/Recruit/GI_Read/45158828?Oem_Code=C1&logpath=1&stext=Mysql&listno=4', '/Recruit/GI_Read/44946333?Oem_Code=C1&logpath=1&stext=Mysql&listno=5', '/Recruit/GI_Read/44936861?Oem_Code=C1&logpath=1&stext=Mysql&listno=6', '/Recruit/GI_Read/45282315?Oem_Code=C1&logpath=1&stext=Mysql&listno=7', '/Recruit/GI_Read/45003777?Oem_Code=C1&logpath=1&stext=Mysql&listno=8', '/Recruit/GI_Read/45203720?Oem_Code=C1&logpath=1&stext=Mysql&listno=9', '/Recruit/GI_Read/45175857?Oem_Code=C1&logpath=1&stext=Mysql&listno=10', '/Recruit/GI_Read/45283624?Oem_Code=C1&logpath=1&stext=Mysql&listno=11', '/Recruit/GI_Read/45051254?Oem_Code=C1&logpath=1&stext=Mysql&listno=12', '/Recruit/GI_Read/45043614?Oem_Code=C1&logpath=1&stext=Mysql&listno=13', '/Recruit/GI_Read/45004480?Oem_Code=C1&logpath=1&stext=Mysql&listno=14', '/Recruit/GI_Read/45206075?Oem_Code=C1&logpath=1&stext=Mysql&listno=15', '/Recruit/GI_Read/45259766?Oem_Code=C1&logpath=1&stext=Mysql&listno=16', '/Recruit/GI_Read/45220002?Oem_Code=C1&logpath=1&stext=Mysql&listno=17', '/Recruit/GI_Read/45285490?Oem_Code=C1&logpath=1&stext=Mysql&listno=18', '/Recruit/GI_Read/45272066?Oem_Code=C1&logpath=1&stext=Mysql&listno=19', '/Recruit/GI_Read/45301564?Oem_Code=C1&logpath=1&stext=Mysql&listno=20', '/Recruit/GI_Read/45064412?Oem_Code=C1&logpath=1&stext=Mysql&listno=21', '/Recruit/GI_Read/45166336?Oem_Code=C1&logpath=1&stext=Mysql&listno=22', '/Recruit/GI_Read/45265109?Oem_Code=C1&logpath=1&stext=Mysql&listno=23', '/Recruit/GI_Read/45118133?Oem_Code=C1&logpath=1&stext=Mysql&listno=24', '/Recruit/GI_Read/45180639?Oem_Code=C1&logpath=1&stext=Mysql&listno=25', '/Recruit/GI_Read/45225531?Oem_Code=C1&logpath=1&stext=Mysql&listno=26', '/Recruit/GI_Read/45196647?Oem_Code=C1&logpath=1&stext=Mysql&listno=27', '/Recruit/GI_Read/44955945?Oem_Code=C1&logpath=1&stext=Mysql&listno=28', '/Recruit/GI_Read/45194065?Oem_Code=C1&logpath=1&stext=Mysql&listno=29', '/Recruit/GI_Read/45285289?Oem_Code=C1&logpath=1&stext=Mysql&listno=30', '/Recruit/GI_Read/45200284?Oem_Code=C1&logpath=1&stext=Mysql&listno=31', '/Recruit/GI_Read/45022684?Oem_Code=C1&logpath=1&stext=Mysql&listno=32', '/Recruit/GI_Read/45262370?Oem_Code=C1&logpath=1&stext=Mysql&listno=33', '/Recruit/GI_Read/45186914?Oem_Code=C1&logpath=1&stext=Mysql&listno=34', '/Recruit/GI_Read/45217925?Oem_Code=C1&logpath=1&stext=Mysql&listno=35', '/Recruit/GI_Read/45159386?Oem_Code=C1&logpath=1&stext=Mysql&listno=36', '/Recruit/GI_Read/45262670?Oem_Code=C1&logpath=1&stext=Mysql&listno=37', '/Recruit/GI_Read/44967611?Oem_Code=C1&logpath=1&stext=Mysql&listno=38', '/Recruit/GI_Read/45234052?Oem_Code=C1&logpath=1&stext=Mysql&listno=39', '/Recruit/GI_Read/45274697?Oem_Code=C1&logpath=1&stext=Mysql&listno=40', '/Recruit/GI_Read/45134694?Oem_Code=C1&logpath=1&stext=Mysql&listno=41', '/Recruit/GI_Read/44989633?Oem_Code=C1&logpath=1&stext=Mysql&listno=42', '/Recruit/GI_Read/45247138?Oem_Code=C1&logpath=1&stext=Mysql&listno=43', '/Recruit/GI_Read/45095946?Oem_Code=C1&logpath=1&stext=Mysql&listno=44', '/Recruit/GI_Read/44956113?Oem_Code=C1&logpath=1&stext=Mysql&listno=45', '/Recruit/GI_Read/45294470?Oem_Code=C1&logpath=1&stext=Mysql&listno=46', '/Recruit/GI_Read/44987238?Oem_Code=C1&logpath=1&stext=Mysql&listno=47', '/Recruit/GI_Read/45236638?Oem_Code=C1&logpath=1&stext=Mysql&listno=48', '/Recruit/GI_Read/45164888?Oem_Code=C1&logpath=1&stext=Mysql&listno=49', '/Recruit/GI_Read/45254768?Oem_Code=C1&logpath=1&stext=Mysql&listno=50', '/Recruit/GI_Read/45241490?Oem_Code=C1&logpath=1&stext=Mysql&listno=51', '/Recruit/GI_Read/45294367?Oem_Code=C1&logpath=1&stext=Mysql&listno=52', '/Recruit/GI_Read/45292268?Oem_Code=C1&logpath=1&stext=Mysql&listno=53', '/Recruit/GI_Read/45118552?Oem_Code=C1&logpath=1&stext=Mysql&listno=54', '/Recruit/GI_Read/45237399?Oem_Code=C1&logpath=1&stext=Mysql&listno=55', '/Recruit/GI_Read/45034845?Oem_Code=C1&logpath=1&stext=Mysql&listno=56', '/Recruit/GI_Read/45334936?Oem_Code=C1&logpath=1&stext=Mysql&listno=57', '/Recruit/GI_Read/45319189?Oem_Code=C1&logpath=1&stext=Mysql&listno=58', '/Recruit/GI_Read/45066550?Oem_Code=C1&logpath=1&stext=Mysql&listno=59', '/Recruit/GI_Read/44927505?Oem_Code=C1&logpath=1&stext=Mysql&listno=60', '/Recruit/GI_Read/44943737?Oem_Code=C1&logpath=1&stext=Mysql&listno=61', '/Recruit/GI_Read/45289275?Oem_Code=C1&logpath=1&stext=Mysql&listno=62', '/Recruit/GI_Read/45045529?Oem_Code=C1&logpath=1&stext=Mysql&listno=63', '/Recruit/GI_Read/45283525?Oem_Code=C1&logpath=1&stext=Mysql&listno=64', '/Recruit/GI_Read/45198083?Oem_Code=C1&logpath=1&stext=Mysql&listno=65', '/Recruit/GI_Read/44969773?Oem_Code=C1&logpath=1&stext=Mysql&listno=66', '/Recruit/GI_Read/45006197?Oem_Code=C1&logpath=1&stext=Mysql&listno=67', '/Recruit/GI_Read/45188434?Oem_Code=C1&logpath=1&stext=Mysql&listno=68', '/Recruit/GI_Read/45004892?Oem_Code=C1&logpath=1&stext=Mysql&listno=69', '/Recruit/GI_Read/45212853?Oem_Code=C1&logpath=1&stext=Mysql&listno=70', '/Recruit/GI_Read/45139602?Oem_Code=C1&logpath=1&stext=Mysql&listno=71', '/Recruit/GI_Read/45281586?Oem_Code=C1&logpath=1&stext=Mysql&listno=72', '/Recruit/GI_Read/45203734?Oem_Code=C1&logpath=1&stext=Mysql&listno=73', '/Recruit/GI_Read/45081186?Oem_Code=C1&logpath=1&stext=Mysql&listno=74', '/Recruit/GI_Read/45338814?Oem_Code=C1&logpath=1&stext=Mysql&listno=75', '/Recruit/GI_Read/45186439?Oem_Code=C1&logpath=1&stext=Mysql&listno=76', '/Recruit/GI_Read/45093802?Oem_Code=C1&logpath=1&stext=Mysql&listno=77', '/Recruit/GI_Read/44957483?Oem_Code=C1&logpath=1&stext=Mysql&listno=78', '/Recruit/GI_Read/45141836?Oem_Code=C1&logpath=1&stext=Mysql&listno=79', '/Recruit/GI_Read/44950206?Oem_Code=C1&logpath=1&stext=Mysql&listno=80', '/Recruit/GI_Read/45224351?Oem_Code=C1&logpath=1&stext=Mysql&listno=81', '/Recruit/GI_Read/45045520?Oem_Code=C1&logpath=1&stext=Mysql&listno=82', '/Recruit/GI_Read/45171709?Oem_Code=C1&logpath=1&stext=Mysql&listno=83', '/Recruit/GI_Read/45199042?Oem_Code=C1&logpath=1&stext=Mysql&listno=84', '/Recruit/GI_Read/45078085?Oem_Code=C1&logpath=1&stext=Mysql&listno=85', '/Recruit/GI_Read/45282918?Oem_Code=C1&logpath=1&stext=Mysql&listno=86', '/Recruit/GI_Read/45237293?Oem_Code=C1&logpath=1&stext=Mysql&listno=87', '/Recruit/GI_Read/45237492?Oem_Code=C1&logpath=1&stext=Mysql&listno=88', '/Recruit/GI_Read/45157063?Oem_Code=C1&logpath=1&stext=Mysql&listno=89', '/Recruit/GI_Read/45156985?Oem_Code=C1&logpath=1&stext=Mysql&listno=90', '/Recruit/GI_Read/45155784?Oem_Code=C1&logpath=1&stext=Mysql&listno=91', '/Recruit/GI_Read/45017602?Oem_Code=C1&logpath=1&stext=Mysql&listno=92', '/Recruit/GI_Read/45280639?Oem_Code=C1&logpath=1&stext=Mysql&listno=93', '/Recruit/GI_Read/45161814?Oem_Code=C1&logpath=1&stext=Mysql&listno=94', '/Recruit/GI_Read/45337902?Oem_Code=C1&logpath=1&stext=Mysql&listno=95', '/Recruit/GI_Read/45013160?Oem_Code=C1&logpath=1&stext=Mysql&listno=96', '/Recruit/GI_Read/45194568?Oem_Code=C1&logpath=1&stext=Mysql&listno=97', '/Recruit/GI_Read/45280772?Oem_Code=C1&logpath=1&stext=Mysql&listno=98', '/Recruit/GI_Read/45235098?Oem_Code=C1&logpath=1&stext=Mysql&listno=99', '/Recruit/GI_Read/45318739?Oem_Code=C1&logpath=1&stext=Mysql&listno=100', '/Recruit/GI_Read/45067476?Oem_Code=C1&logpath=1&stext=Mysql&listno=101', '/Recruit/GI_Read/45020271?Oem_Code=C1&logpath=1&stext=Mysql&listno=102', '/Recruit/GI_Read/44933302?Oem_Code=C1&logpath=1&stext=Mysql&listno=103', '/Recruit/GI_Read/45269888?Oem_Code=C1&logpath=1&stext=Mysql&listno=104', '/Recruit/GI_Read/45308629?Oem_Code=C1&logpath=1&stext=Mysql&listno=105', '/Recruit/GI_Read/45314669?Oem_Code=C1&logpath=1&stext=Mysql&listno=106', '/Recruit/GI_Read/45211054?Oem_Code=C1&logpath=1&stext=Mysql&listno=107', '/Recruit/GI_Read/45163703?Oem_Code=C1&logpath=1&stext=Mysql&listno=108', '/Recruit/GI_Read/45167009?Oem_Code=C1&logpath=1&stext=Mysql&listno=109', '/Recruit/GI_Read/45149294?Oem_Code=C1&logpath=1&stext=Mysql&listno=110', '/Recruit/GI_Read/45199054?Oem_Code=C1&logpath=1&stext=Mysql&listno=111', '/Recruit/GI_Read/45230069?Oem_Code=C1&logpath=1&stext=Mysql&listno=112', '/Recruit/GI_Read/44965269?Oem_Code=C1&logpath=1&stext=Mysql&listno=113', '/Recruit/GI_Read/45262232?Oem_Code=C1&logpath=1&stext=Mysql&listno=114', '/Recruit/GI_Read/45264383?Oem_Code=C1&logpath=1&stext=Mysql&listno=115', '/Recruit/GI_Read/45202587?Oem_Code=C1&logpath=1&stext=Mysql&listno=116', '/Recruit/GI_Read/45188687?Oem_Code=C1&logpath=1&stext=Mysql&listno=117', '/Recruit/GI_Read/45270799?Oem_Code=C1&logpath=1&stext=Mysql&listno=118', '/Recruit/GI_Read/45284305?Oem_Code=C1&logpath=1&stext=Mysql&listno=119', '/Recruit/GI_Read/45185191?Oem_Code=C1&logpath=1&stext=Mysql&listno=120', '/Recruit/GI_Read/45241330?Oem_Code=C1&logpath=1&stext=Mysql&listno=121', '/Recruit/GI_Read/45256228?Oem_Code=C1&logpath=1&stext=Mysql&listno=122', '/Recruit/GI_Read/45217521?Oem_Code=C1&logpath=1&stext=Mysql&listno=123', '/Recruit/GI_Read/45238617?Oem_Code=C1&logpath=1&stext=Mysql&listno=124', '/Recruit/GI_Read/45286886?Oem_Code=C1&logpath=1&stext=Mysql&listno=125', '/Recruit/GI_Read/45251514?Oem_Code=C1&logpath=1&stext=Mysql&listno=126', '/Recruit/GI_Read/45159832?Oem_Code=C1&logpath=1&stext=Mysql&listno=127', '/Recruit/GI_Read/45245731?Oem_Code=C1&logpath=1&stext=Mysql&listno=128', '/Recruit/GI_Read/45041161?Oem_Code=C1&logpath=1&stext=Mysql&listno=129', '/Recruit/GI_Read/45165227?Oem_Code=C1&logpath=1&stext=Mysql&listno=130', '/Recruit/GI_Read/45194244?Oem_Code=C1&logpath=1&stext=Mysql&listno=131', '/Recruit/GI_Read/45006742?Oem_Code=C1&logpath=1&stext=Mysql&listno=132', '/Recruit/GI_Read/45253103?Oem_Code=C1&logpath=1&stext=Mysql&listno=133', '/Recruit/GI_Read/45249526?Oem_Code=C1&logpath=1&stext=Mysql&listno=134', '/Recruit/GI_Read/44959488?Oem_Code=C1&logpath=1&stext=Mysql&listno=135', '/Recruit/GI_Read/45185109?Oem_Code=C1&logpath=1&stext=Mysql&listno=136', '/Recruit/GI_Read/45332154?Oem_Code=C1&logpath=1&stext=Mysql&listno=137', '/Recruit/GI_Read/45164503?Oem_Code=C1&logpath=1&stext=Mysql&listno=138', '/Recruit/GI_Read/45259791?Oem_Code=C1&logpath=1&stext=Mysql&listno=139', '/Recruit/GI_Read/45184616?Oem_Code=C1&logpath=1&stext=Mysql&listno=140', '/Recruit/GI_Read/45056515?Oem_Code=C1&logpath=1&stext=Mysql&listno=141', '/Recruit/GI_Read/45105783?Oem_Code=C1&logpath=1&stext=Mysql&listno=142', '/Recruit/GI_Read/45292084?Oem_Code=C1&logpath=1&stext=Mysql&listno=143', '/Recruit/GI_Read/45259260?Oem_Code=C1&logpath=1&stext=Mysql&listno=144', '/Recruit/GI_Read/45227034?Oem_Code=C1&logpath=1&stext=Mysql&listno=145', '/Recruit/GI_Read/45187622?Oem_Code=C1&logpath=1&stext=Mysql&listno=146', '/Recruit/GI_Read/45214623?Oem_Code=C1&logpath=1&stext=Mysql&listno=147', '/Recruit/GI_Read/45236572?Oem_Code=C1&logpath=1&stext=Mysql&listno=148', '/Recruit/GI_Read/45227255?Oem_Code=C1&logpath=1&stext=Mysql&listno=149', '/Recruit/GI_Read/44983146?Oem_Code=C1&logpath=1&stext=Mysql&listno=150', '/Recruit/GI_Read/45191986?Oem_Code=C1&logpath=1&stext=Mysql&listno=151', '/Recruit/GI_Read/44983499?Oem_Code=C1&logpath=1&stext=Mysql&listno=152', '/Recruit/GI_Read/45093262?Oem_Code=C1&logpath=1&stext=Mysql&listno=153', '/Recruit/GI_Read/45172395?Oem_Code=C1&logpath=1&stext=Mysql&listno=154', '/Recruit/GI_Read/45257989?Oem_Code=C1&logpath=1&stext=Mysql&listno=155', '/Recruit/GI_Read/45217485?Oem_Code=C1&logpath=1&stext=Mysql&listno=156', '/Recruit/GI_Read/45316249?Oem_Code=C1&logpath=1&stext=Mysql&listno=157', '/Recruit/GI_Read/45296647?Oem_Code=C1&logpath=1&stext=Mysql&listno=158', '/Recruit/GI_Read/45170844?Oem_Code=C1&logpath=1&stext=Mysql&listno=159', '/Recruit/GI_Read/44961574?Oem_Code=C1&logpath=1&stext=Mysql&listno=160', '/Recruit/GI_Read/45029369?Oem_Code=C1&logpath=1&stext=Mysql&listno=161', '/Recruit/GI_Read/45225468?Oem_Code=C1&logpath=1&stext=Mysql&listno=162', '/Recruit/GI_Read/45287557?Oem_Code=C1&logpath=1&stext=Mysql&listno=163', '/Recruit/GI_Read/45260929?Oem_Code=C1&logpath=1&stext=Mysql&listno=164', '/Recruit/GI_Read/45286672?Oem_Code=C1&logpath=1&stext=Mysql&listno=165', '/Recruit/GI_Read/45232127?Oem_Code=C1&logpath=1&stext=Mysql&listno=166', '/Recruit/GI_Read/45295201?Oem_Code=C1&logpath=1&stext=Mysql&listno=167', '/Recruit/GI_Read/45177991?Oem_Code=C1&logpath=1&stext=Mysql&listno=168', '/Recruit/GI_Read/45174697?Oem_Code=C1&logpath=1&stext=Mysql&listno=169', '/Recruit/GI_Read/45202205?Oem_Code=C1&logpath=1&stext=Mysql&listno=170', '/Recruit/GI_Read/45143960?Oem_Code=C1&logpath=1&stext=Mysql&listno=171', '/Recruit/GI_Read/45315946?Oem_Code=C1&logpath=1&stext=Mysql&listno=172', '/Recruit/GI_Read/44925431?Oem_Code=C1&logpath=1&stext=Mysql&listno=173', '/Recruit/GI_Read/45234547?Oem_Code=C1&logpath=1&stext=Mysql&listno=174', '/Recruit/GI_Read/45264066?Oem_Code=C1&logpath=1&stext=Mysql&listno=175', '/Recruit/GI_Read/45107747?Oem_Code=C1&logpath=1&stext=Mysql&listno=176', '/Recruit/GI_Read/45196993?Oem_Code=C1&logpath=1&stext=Mysql&listno=177', '/Recruit/GI_Read/45320782?Oem_Code=C1&logpath=1&stext=Mysql&listno=178', '/Recruit/GI_Read/45205929?Oem_Code=C1&logpath=1&stext=Mysql&listno=179', '/Recruit/GI_Read/45269780?Oem_Code=C1&logpath=1&stext=Mysql&listno=180', '/Recruit/GI_Read/45214597?Oem_Code=C1&logpath=1&stext=Mysql&listno=181', '/Recruit/GI_Read/45274748?Oem_Code=C1&logpath=1&stext=Mysql&listno=182', '/Recruit/GI_Read/45030508?Oem_Code=C1&logpath=1&stext=Mysql&listno=183', '/Recruit/GI_Read/45272373?Oem_Code=C1&logpath=1&stext=Mysql&listno=184', '/Recruit/GI_Read/45253879?Oem_Code=C1&logpath=1&stext=Mysql&listno=185', '/Recruit/GI_Read/45174553?Oem_Code=C1&logpath=1&stext=Mysql&listno=186', '/Recruit/GI_Read/45323118?Oem_Code=C1&logpath=1&stext=Mysql&listno=187', '/Recruit/GI_Read/45268314?Oem_Code=C1&logpath=1&stext=Mysql&listno=188', '/Recruit/GI_Read/45216417?Oem_Code=C1&logpath=1&stext=Mysql&listno=189', '/Recruit/GI_Read/45273159?Oem_Code=C1&logpath=1&stext=Mysql&listno=190', '/Recruit/GI_Read/44956031?Oem_Code=C1&logpath=1&stext=Mysql&listno=191', '/Recruit/GI_Read/45152988?Oem_Code=C1&logpath=1&stext=Mysql&listno=192', '/Recruit/GI_Read/45158840?Oem_Code=C1&logpath=1&stext=Mysql&listno=193', '/Recruit/GI_Read/45217515?Oem_Code=C1&logpath=1&stext=Mysql&listno=194', '/Recruit/GI_Read/45273154?Oem_Code=C1&logpath=1&stext=Mysql&listno=195', '/Recruit/GI_Read/45150220?Oem_Code=C1&logpath=1&stext=Mysql&listno=196', '/Recruit/GI_Read/45254241?Oem_Code=C1&logpath=1&stext=Mysql&listno=197', '/Recruit/GI_Read/45194556?Oem_Code=C1&logpath=1&stext=Mysql&listno=198', '/Recruit/GI_Read/45298856?Oem_Code=C1&logpath=1&stext=Mysql&listno=199', '/Recruit/GI_Read/45090957?Oem_Code=C1&logpath=1&stext=Mysql&listno=200', '/Recruit/GI_Read/45005345?Oem_Code=C1&logpath=1&stext=Mysql&listno=201', '/Recruit/GI_Read/45331379?Oem_Code=C1&logpath=1&stext=Mysql&listno=202', '/Recruit/GI_Read/45284364?Oem_Code=C1&logpath=1&stext=Mysql&listno=203', '/Recruit/GI_Read/45214195?Oem_Code=C1&logpath=1&stext=Mysql&listno=204', '/Recruit/GI_Read/45287394?Oem_Code=C1&logpath=1&stext=Mysql&listno=205', '/Recruit/GI_Read/45175685?Oem_Code=C1&logpath=1&stext=Mysql&listno=206', '/Recruit/GI_Read/45294119?Oem_Code=C1&logpath=1&stext=Mysql&listno=207', '/Recruit/GI_Read/45217248?Oem_Code=C1&logpath=1&stext=Mysql&listno=208', '/Recruit/GI_Read/45334183?Oem_Code=C1&logpath=1&stext=Mysql&listno=209', '/Recruit/GI_Read/45264985?Oem_Code=C1&logpath=1&stext=Mysql&listno=210', '/Recruit/GI_Read/45232121?Oem_Code=C1&logpath=1&stext=Mysql&listno=211', '/Recruit/GI_Read/45209772?Oem_Code=C1&logpath=1&stext=Mysql&listno=212', '/Recruit/GI_Read/45149965?Oem_Code=C1&logpath=1&stext=Mysql&listno=213', '/Recruit/GI_Read/45255397?Oem_Code=C1&logpath=1&stext=Mysql&listno=214', '/Recruit/GI_Read/45158182?Oem_Code=C1&logpath=1&stext=Mysql&listno=215', '/Recruit/GI_Read/45070346?Oem_Code=C1&logpath=1&stext=Mysql&listno=216', '/Recruit/GI_Read/45315017?Oem_Code=C1&logpath=1&stext=Mysql&listno=217', '/Recruit/GI_Read/45157500?Oem_Code=C1&logpath=1&stext=Mysql&listno=218', '/Recruit/GI_Read/45347973?Oem_Code=C1&logpath=1&stext=Mysql&listno=219', '/Recruit/GI_Read/45156877?Oem_Code=C1&logpath=1&stext=Mysql&listno=220', '/Recruit/GI_Read/45145410?Oem_Code=C1&logpath=1&stext=Mysql&listno=221', '/Recruit/GI_Read/45218773?Oem_Code=C1&logpath=1&stext=Mysql&listno=222', '/Recruit/GI_Read/45158184?Oem_Code=C1&logpath=1&stext=Mysql&listno=223', '/Recruit/GI_Read/45348182?Oem_Code=C1&logpath=1&stext=Mysql&listno=224', '/Recruit/GI_Read/45121096?Oem_Code=C1&logpath=1&stext=Mysql&listno=225', '/Recruit/GI_Read/45204631?Oem_Code=C1&logpath=1&stext=Mysql&listno=226', '/Recruit/GI_Read/45234851?Oem_Code=C1&logpath=1&stext=Mysql&listno=227', '/Recruit/GI_Read/45268832?Oem_Code=C1&logpath=1&stext=Mysql&listno=228', '/Recruit/GI_Read/45201524?Oem_Code=C1&logpath=1&stext=Mysql&listno=229', '/Recruit/GI_Read/45088273?Oem_Code=C1&logpath=1&stext=Mysql&listno=230', '/Recruit/GI_Read/45100632?Oem_Code=C1&logpath=1&stext=Mysql&listno=231', '/Recruit/GI_Read/45303057?Oem_Code=C1&logpath=1&stext=Mysql&listno=232', '/Recruit/GI_Read/45264364?Oem_Code=C1&logpath=1&stext=Mysql&listno=233', '/Recruit/GI_Read/45217293?Oem_Code=C1&logpath=1&stext=Mysql&listno=234', '/Recruit/GI_Read/45165341?Oem_Code=C1&logpath=1&stext=Mysql&listno=235', '/Recruit/GI_Read/45226717?Oem_Code=C1&logpath=1&stext=Mysql&listno=236', '/Recruit/GI_Read/45271004?Oem_Code=C1&logpath=1&stext=Mysql&listno=237', '/Recruit/GI_Read/44960785?Oem_Code=C1&logpath=1&stext=Mysql&listno=238', '/Recruit/GI_Read/45235832?Oem_Code=C1&logpath=1&stext=Mysql&listno=239', '/Recruit/GI_Read/45268854?Oem_Code=C1&logpath=1&stext=Mysql&listno=240', '/Recruit/GI_Read/45208635?Oem_Code=C1&logpath=1&stext=Mysql&listno=241', '/Recruit/GI_Read/45300803?Oem_Code=C1&logpath=1&stext=Mysql&listno=242', '/Recruit/GI_Read/45204490?Oem_Code=C1&logpath=1&stext=Mysql&listno=243', '/Recruit/GI_Read/45160428?Oem_Code=C1&logpath=1&stext=Mysql&listno=244', '/Recruit/GI_Read/45246348?Oem_Code=C1&logpath=1&stext=Mysql&listno=245', '/Recruit/GI_Read/45316834?Oem_Code=C1&logpath=1&stext=Mysql&listno=246', '/Recruit/GI_Read/45250880?Oem_Code=C1&logpath=1&stext=Mysql&listno=247', '/Recruit/GI_Read/45152300?Oem_Code=C1&logpath=1&stext=Mysql&listno=248', '/Recruit/GI_Read/45183854?Oem_Code=C1&logpath=1&stext=Mysql&listno=249', '/Recruit/GI_Read/45293981?Oem_Code=C1&logpath=1&stext=Mysql&listno=250', '/Recruit/GI_Read/45249339?Oem_Code=C1&logpath=1&stext=Mysql&listno=251', '/Recruit/GI_Read/45223523?Oem_Code=C1&logpath=1&stext=Mysql&listno=252', '/Recruit/GI_Read/45305351?Oem_Code=C1&logpath=1&stext=Mysql&listno=253', '/Recruit/GI_Read/44968716?Oem_Code=C1&logpath=1&stext=Mysql&listno=254', '/Recruit/GI_Read/45262039?Oem_Code=C1&logpath=1&stext=Mysql&listno=255', '/Recruit/GI_Read/45170352?Oem_Code=C1&logpath=1&stext=Mysql&listno=256', '/Recruit/GI_Read/44937128?Oem_Code=C1&logpath=1&stext=Mysql&listno=257', '/Recruit/GI_Read/45045648?Oem_Code=C1&logpath=1&stext=Mysql&listno=258', '/Recruit/GI_Read/45075990?Oem_Code=C1&logpath=1&stext=Mysql&listno=259', '/Recruit/GI_Read/45315677?Oem_Code=C1&logpath=1&stext=Mysql&listno=260', '/Recruit/GI_Read/45065923?Oem_Code=C1&logpath=1&stext=Mysql&listno=261', '/Recruit/GI_Read/45157092?Oem_Code=C1&logpath=1&stext=Mysql&listno=262', '/Recruit/GI_Read/45157294?Oem_Code=C1&logpath=1&stext=Mysql&listno=263', '/Recruit/GI_Read/45101849?Oem_Code=C1&logpath=1&stext=Mysql&listno=264', '/Recruit/GI_Read/45048719?Oem_Code=C1&logpath=1&stext=Mysql&listno=265', '/Recruit/GI_Read/45239632?Oem_Code=C1&logpath=1&stext=Mysql&listno=266', '/Recruit/GI_Read/45194666?Oem_Code=C1&logpath=1&stext=Mysql&listno=267', '/Recruit/GI_Read/45277192?Oem_Code=C1&logpath=1&stext=Mysql&listno=268', '/Recruit/GI_Read/45289688?Oem_Code=C1&logpath=1&stext=Mysql&listno=269', '/Recruit/GI_Read/45217497?Oem_Code=C1&logpath=1&stext=Mysql&listno=270', '/Recruit/GI_Read/45187806?Oem_Code=C1&logpath=1&stext=Mysql&listno=271', '/Recruit/GI_Read/45295485?Oem_Code=C1&logpath=1&stext=Mysql&listno=272', '/Recruit/GI_Read/45053216?Oem_Code=C1&logpath=1&stext=Mysql&listno=273', '/Recruit/GI_Read/45333813?Oem_Code=C1&logpath=1&stext=Mysql&listno=274', '/Recruit/GI_Read/45114151?Oem_Code=C1&logpath=1&stext=Mysql&listno=275', '/Recruit/GI_Read/45221464?Oem_Code=C1&logpath=1&stext=Mysql&listno=276', '/Recruit/GI_Read/45217097?Oem_Code=C1&logpath=1&stext=Mysql&listno=277', '/Recruit/GI_Read/45250725?Oem_Code=C1&logpath=1&stext=Mysql&listno=278', '/Recruit/GI_Read/44983566?Oem_Code=C1&logpath=1&stext=Mysql&listno=279', '/Recruit/GI_Read/45330741?Oem_Code=C1&logpath=1&stext=Mysql&listno=280', '/Recruit/GI_Read/45145861?Oem_Code=C1&logpath=1&stext=Mysql&listno=281', '/Recruit/GI_Read/45211716?Oem_Code=C1&logpath=1&stext=Mysql&listno=282', '/Recruit/GI_Read/45257441?Oem_Code=C1&logpath=1&stext=Mysql&listno=283', '/Recruit/GI_Read/45153006?Oem_Code=C1&logpath=1&stext=Mysql&listno=284', '/Recruit/GI_Read/45319809?Oem_Code=C1&logpath=1&stext=Mysql&listno=285', '/Recruit/GI_Read/45224506?Oem_Code=C1&logpath=1&stext=Mysql&listno=286', '/Recruit/GI_Read/45262066?Oem_Code=C1&logpath=1&stext=Mysql&listno=287', '/Recruit/GI_Read/45186485?Oem_Code=C1&logpath=1&stext=Mysql&listno=288', '/Recruit/GI_Read/45343135?Oem_Code=C1&logpath=1&stext=Mysql&listno=289', '/Recruit/GI_Read/45215619?Oem_Code=C1&logpath=1&stext=Mysql&listno=290', '/Recruit/GI_Read/45253854?Oem_Code=C1&logpath=1&stext=Mysql&listno=291', '/Recruit/GI_Read/45031153?Oem_Code=C1&logpath=1&stext=Mysql&listno=292', '/Recruit/GI_Read/45259212?Oem_Code=C1&logpath=1&stext=Mysql&listno=293', '/Recruit/GI_Read/45205977?Oem_Code=C1&logpath=1&stext=Mysql&listno=294', '/Recruit/GI_Read/45137074?Oem_Code=C1&logpath=1&stext=Mysql&listno=295', '/Recruit/GI_Read/45229523?Oem_Code=C1&logpath=1&stext=Mysql&listno=296', '/Recruit/GI_Read/45214498?Oem_Code=C1&logpath=1&stext=Mysql&listno=297', '/Recruit/GI_Read/45029279?Oem_Code=C1&logpath=1&stext=Mysql&listno=298', '/Recruit/GI_Read/45165085?Oem_Code=C1&logpath=1&stext=Mysql&listno=299', '/Recruit/GI_Read/45312734?Oem_Code=C1&logpath=1&stext=Mysql&listno=300', '/Recruit/GI_Read/45319002?Oem_Code=C1&logpath=1&stext=Mysql&listno=301', '/Recruit/GI_Read/45249251?Oem_Code=C1&logpath=1&stext=Mysql&listno=302', '/Recruit/GI_Read/45276382?Oem_Code=C1&logpath=1&stext=Mysql&listno=303', '/Recruit/GI_Read/45239234?Oem_Code=C1&logpath=1&stext=Mysql&listno=304', '/Recruit/GI_Read/45259013?Oem_Code=C1&logpath=1&stext=Mysql&listno=305', '/Recruit/GI_Read/45265705?Oem_Code=C1&logpath=1&stext=Mysql&listno=306', '/Recruit/GI_Read/45155049?Oem_Code=C1&logpath=1&stext=Mysql&listno=307', '/Recruit/GI_Read/45231617?Oem_Code=C1&logpath=1&stext=Mysql&listno=308', '/Recruit/GI_Read/45146325?Oem_Code=C1&logpath=1&stext=Mysql&listno=309', '/Recruit/GI_Read/45223599?Oem_Code=C1&logpath=1&stext=Mysql&listno=310', '/Recruit/GI_Read/45084891?Oem_Code=C1&logpath=1&stext=Mysql&listno=311', '/Recruit/GI_Read/45274441?Oem_Code=C1&logpath=1&stext=Mysql&listno=312', '/Recruit/GI_Read/45035998?Oem_Code=C1&logpath=1&stext=Mysql&listno=313', '/Recruit/GI_Read/45295706?Oem_Code=C1&logpath=1&stext=Mysql&listno=314', '/Recruit/GI_Read/45013125?Oem_Code=C1&logpath=1&stext=Mysql&listno=315', '/Recruit/GI_Read/45188932?Oem_Code=C1&logpath=1&stext=Mysql&listno=316', '/Recruit/GI_Read/44993746?Oem_Code=C1&logpath=1&stext=Mysql&listno=317', '/Recruit/GI_Read/45111109?Oem_Code=C1&logpath=1&stext=Mysql&listno=318', '/Recruit/GI_Read/45234334?Oem_Code=C1&logpath=1&stext=Mysql&listno=319', '/Recruit/GI_Read/45304649?Oem_Code=C1&logpath=1&stext=Mysql&listno=320', '/Recruit/GI_Read/45253837?Oem_Code=C1&logpath=1&stext=Mysql&listno=321', '/Recruit/GI_Read/45233197?Oem_Code=C1&logpath=1&stext=Mysql&listno=322', '/Recruit/GI_Read/45185832?Oem_Code=C1&logpath=1&stext=Mysql&listno=323', '/Recruit/GI_Read/44961480?Oem_Code=C1&logpath=1&stext=Mysql&listno=324', '/Recruit/GI_Read/45345103?Oem_Code=C1&logpath=1&stext=Mysql&listno=325', '/Recruit/GI_Read/45211226?Oem_Code=C1&logpath=1&stext=Mysql&listno=326', '/Recruit/GI_Read/45176978?Oem_Code=C1&logpath=1&stext=Mysql&listno=327', '/Recruit/GI_Read/45270399?Oem_Code=C1&logpath=1&stext=Mysql&listno=328', '/Recruit/GI_Read/45177236?Oem_Code=C1&logpath=1&stext=Mysql&listno=329', '/Recruit/GI_Read/45212487?Oem_Code=C1&logpath=1&stext=Mysql&listno=330', '/Recruit/GI_Read/45252734?Oem_Code=C1&logpath=1&stext=Mysql&listno=331', '/Recruit/GI_Read/45282161?Oem_Code=C1&logpath=1&stext=Mysql&listno=332', '/Recruit/GI_Read/45234308?Oem_Code=C1&logpath=1&stext=Mysql&listno=333', '/Recruit/GI_Read/45020291?Oem_Code=C1&logpath=1&stext=Mysql&listno=334', '/Recruit/GI_Read/45237087?Oem_Code=C1&logpath=1&stext=Mysql&listno=335', '/Recruit/GI_Read/45233281?Oem_Code=C1&logpath=1&stext=Mysql&listno=336', '/Recruit/GI_Read/45270527?Oem_Code=C1&logpath=1&stext=Mysql&listno=337', '/Recruit/GI_Read/45341776?Oem_Code=C1&logpath=1&stext=Mysql&listno=338', '/Recruit/GI_Read/45300112?Oem_Code=C1&logpath=1&stext=Mysql&listno=339', '/Recruit/GI_Read/45251147?Oem_Code=C1&logpath=1&stext=Mysql&listno=340', '/Recruit/GI_Read/45246712?Oem_Code=C1&logpath=1&stext=Mysql&listno=341', '/Recruit/GI_Read/45189779?Oem_Code=C1&logpath=1&stext=Mysql&listno=342', '/Recruit/GI_Read/45326974?Oem_Code=C1&logpath=1&stext=Mysql&listno=343', '/Recruit/GI_Read/44964375?Oem_Code=C1&logpath=1&stext=Mysql&listno=344', '/Recruit/GI_Read/45183993?Oem_Code=C1&logpath=1&stext=Mysql&listno=345', '/Recruit/GI_Read/45070035?Oem_Code=C1&logpath=1&stext=Mysql&listno=346', '/Recruit/GI_Read/44983922?Oem_Code=C1&logpath=1&stext=Mysql&listno=347', '/Recruit/GI_Read/45065811?Oem_Code=C1&logpath=1&stext=Mysql&listno=348', '/Recruit/GI_Read/45250700?Oem_Code=C1&logpath=1&stext=Mysql&listno=349', '/Recruit/GI_Read/45251930?Oem_Code=C1&logpath=1&stext=Mysql&listno=350', '/Recruit/GI_Read/45318989?Oem_Code=C1&logpath=1&stext=Mysql&listno=351', '/Recruit/GI_Read/45199725?Oem_Code=C1&logpath=1&stext=Mysql&listno=352', '/Recruit/GI_Read/45106123?Oem_Code=C1&logpath=1&stext=Mysql&listno=353', '/Recruit/GI_Read/45231091?Oem_Code=C1&logpath=1&stext=Mysql&listno=354', '/Recruit/GI_Read/45343598?Oem_Code=C1&logpath=1&stext=Mysql&listno=355', '/Recruit/GI_Read/45294594?Oem_Code=C1&logpath=1&stext=Mysql&listno=356', '/Recruit/GI_Read/45059050?Oem_Code=C1&logpath=1&stext=Mysql&listno=357', '/Recruit/GI_Read/45135823?Oem_Code=C1&logpath=1&stext=Mysql&listno=358', '/Recruit/GI_Read/45084475?Oem_Code=C1&logpath=1&stext=Mysql&listno=359', '/Recruit/GI_Read/45220578?Oem_Code=C1&logpath=1&stext=Mysql&listno=360', '/Recruit/GI_Read/45220396?Oem_Code=C1&logpath=1&stext=Mysql&listno=361', '/Recruit/GI_Read/45307033?Oem_Code=C1&logpath=1&stext=Mysql&listno=362', '/Recruit/GI_Read/45084909?Oem_Code=C1&logpath=1&stext=Mysql&listno=363', '/Recruit/GI_Read/45213641?Oem_Code=C1&logpath=1&stext=Mysql&listno=364', '/Recruit/GI_Read/45176555?Oem_Code=C1&logpath=1&stext=Mysql&listno=365', '/Recruit/GI_Read/45198411?Oem_Code=C1&logpath=1&stext=Mysql&listno=366', '/Recruit/GI_Read/45281149?Oem_Code=C1&logpath=1&stext=Mysql&listno=367', '/Recruit/GI_Read/45284858?Oem_Code=C1&logpath=1&stext=Mysql&listno=368', '/Recruit/GI_Read/45017843?Oem_Code=C1&logpath=1&stext=Mysql&listno=369', '/Recruit/GI_Read/45024820?Oem_Code=C1&logpath=1&stext=Mysql&listno=370', '/Recruit/GI_Read/45271547?Oem_Code=C1&logpath=1&stext=Mysql&listno=371', '/Recruit/GI_Read/45065929?Oem_Code=C1&logpath=1&stext=Mysql&listno=372', '/Recruit/GI_Read/45234632?Oem_Code=C1&logpath=1&stext=Mysql&listno=373', '/Recruit/GI_Read/45337348?Oem_Code=C1&logpath=1&stext=Mysql&listno=374', '/Recruit/GI_Read/45078811?Oem_Code=C1&logpath=1&stext=Mysql&listno=375', '/Recruit/GI_Read/45018930?Oem_Code=C1&logpath=1&stext=Mysql&listno=376', '/Recruit/GI_Read/45138272?Oem_Code=C1&logpath=1&stext=Mysql&listno=377', '/Recruit/GI_Read/45058655?Oem_Code=C1&logpath=1&stext=Mysql&listno=378', '/Recruit/GI_Read/45204037?Oem_Code=C1&logpath=1&stext=Mysql&listno=379', '/Recruit/GI_Read/45259810?Oem_Code=C1&logpath=1&stext=Mysql&listno=380', '/Recruit/GI_Read/45272772?Oem_Code=C1&logpath=1&stext=Mysql&listno=381', '/Recruit/GI_Read/45169931?Oem_Code=C1&logpath=1&stext=Mysql&listno=382', '/Recruit/GI_Read/45107808?Oem_Code=C1&logpath=1&stext=Mysql&listno=383', '/Recruit/GI_Read/45318460?Oem_Code=C1&logpath=1&stext=Mysql&listno=384', '/Recruit/GI_Read/44970602?Oem_Code=C1&logpath=1&stext=Mysql&listno=385', '/Recruit/GI_Read/45018074?Oem_Code=C1&logpath=1&stext=Mysql&listno=386', '/Recruit/GI_Read/45194879?Oem_Code=C1&logpath=1&stext=Mysql&listno=387', '/Recruit/GI_Read/45263219?Oem_Code=C1&logpath=1&stext=Mysql&listno=388', '/Recruit/GI_Read/45010017?Oem_Code=C1&logpath=1&stext=Mysql&listno=389', '/Recruit/GI_Read/45288133?Oem_Code=C1&logpath=1&stext=Mysql&listno=390', '/Recruit/GI_Read/45183752?Oem_Code=C1&logpath=1&stext=Mysql&listno=391', '/Recruit/GI_Read/45046936?Oem_Code=C1&logpath=1&stext=Mysql&listno=392', '/Recruit/GI_Read/45153114?Oem_Code=C1&logpath=1&stext=Mysql&listno=393', '/Recruit/GI_Read/45152281?Oem_Code=C1&logpath=1&stext=Mysql&listno=394', '/Recruit/GI_Read/45335314?Oem_Code=C1&logpath=1&stext=Mysql&listno=395', '/Recruit/GI_Read/45258881?Oem_Code=C1&logpath=1&stext=Mysql&listno=396', '/Recruit/GI_Read/45020073?Oem_Code=C1&logpath=1&stext=Mysql&listno=397', '/Recruit/GI_Read/45319823?Oem_Code=C1&logpath=1&stext=Mysql&listno=398', '/Recruit/GI_Read/45268402?Oem_Code=C1&logpath=1&stext=Mysql&listno=399', '/Recruit/GI_Read/45082188?Oem_Code=C1&logpath=1&stext=Mysql&listno=400', '/Recruit/GI_Read/45310745?Oem_Code=C1&logpath=1&stext=Mysql&listno=401', '/Recruit/GI_Read/45286452?Oem_Code=C1&logpath=1&stext=Mysql&listno=402', '/Recruit/GI_Read/45141978?Oem_Code=C1&logpath=1&stext=Mysql&listno=403', '/Recruit/GI_Read/45114939?Oem_Code=C1&logpath=1&stext=Mysql&listno=404', '/Recruit/GI_Read/45293594?Oem_Code=C1&logpath=1&stext=Mysql&listno=405', '/Recruit/GI_Read/45288844?Oem_Code=C1&logpath=1&stext=Mysql&listno=406', '/Recruit/GI_Read/45270035?Oem_Code=C1&logpath=1&stext=Mysql&listno=407', '/Recruit/GI_Read/45276247?Oem_Code=C1&logpath=1&stext=Mysql&listno=408', '/Recruit/GI_Read/45269366?Oem_Code=C1&logpath=1&stext=Mysql&listno=409', '/Recruit/GI_Read/45180306?Oem_Code=C1&logpath=1&stext=Mysql&listno=410', '/Recruit/GI_Read/45205407?Oem_Code=C1&logpath=1&stext=Mysql&listno=411', '/Recruit/GI_Read/45198414?Oem_Code=C1&logpath=1&stext=Mysql&listno=412', '/Recruit/GI_Read/45237836?Oem_Code=C1&logpath=1&stext=Mysql&listno=413', '/Recruit/GI_Read/45321894?Oem_Code=C1&logpath=1&stext=Mysql&listno=414', '/Recruit/GI_Read/45252009?Oem_Code=C1&logpath=1&stext=Mysql&listno=415', '/Recruit/GI_Read/45200632?Oem_Code=C1&logpath=1&stext=Mysql&listno=416', '/Recruit/GI_Read/45272525?Oem_Code=C1&logpath=1&stext=Mysql&listno=417', '/Recruit/GI_Read/45008595?Oem_Code=C1&logpath=1&stext=Mysql&listno=418', '/Recruit/GI_Read/45223989?Oem_Code=C1&logpath=1&stext=Mysql&listno=419', '/Recruit/GI_Read/45282708?Oem_Code=C1&logpath=1&stext=Mysql&listno=420', '/Recruit/GI_Read/45153861?Oem_Code=C1&logpath=1&stext=Mysql&listno=421', '/Recruit/GI_Read/45272397?Oem_Code=C1&logpath=1&stext=Mysql&listno=422', '/Recruit/GI_Read/45351207?Oem_Code=C1&logpath=1&stext=Mysql&listno=423', '/Recruit/GI_Read/45287365?Oem_Code=C1&logpath=1&stext=Mysql&listno=424', '/Recruit/GI_Read/45006931?Oem_Code=C1&logpath=1&stext=Mysql&listno=425', '/Recruit/GI_Read/45198776?Oem_Code=C1&logpath=1&stext=Mysql&listno=426', '/Recruit/GI_Read/45346600?Oem_Code=C1&logpath=1&stext=Mysql&listno=427', '/Recruit/GI_Read/45282224?Oem_Code=C1&logpath=1&stext=Mysql&listno=428', '/Recruit/GI_Read/45337909?Oem_Code=C1&logpath=1&stext=Mysql&listno=429', '/Recruit/GI_Read/45045394?Oem_Code=C1&logpath=1&stext=Mysql&listno=430', '/Recruit/GI_Read/45283721?Oem_Code=C1&logpath=1&stext=Mysql&listno=431', '/Recruit/GI_Read/45214201?Oem_Code=C1&logpath=1&stext=Mysql&listno=432', '/Recruit/GI_Read/45008130?Oem_Code=C1&logpath=1&stext=Mysql&listno=433', '/Recruit/GI_Read/45287769?Oem_Code=C1&logpath=1&stext=Mysql&listno=434', '/Recruit/GI_Read/45316065?Oem_Code=C1&logpath=1&stext=Mysql&listno=435', '/Recruit/GI_Read/45291692?Oem_Code=C1&logpath=1&stext=Mysql&listno=436', '/Recruit/GI_Read/45107524?Oem_Code=C1&logpath=1&stext=Mysql&listno=437', '/Recruit/GI_Read/45210615?Oem_Code=C1&logpath=1&stext=Mysql&listno=438', '/Recruit/GI_Read/45255661?Oem_Code=C1&logpath=1&stext=Mysql&listno=439', '/Recruit/GI_Read/45164724?Oem_Code=C1&logpath=1&stext=Mysql&listno=440', '/Recruit/GI_Read/45164836?Oem_Code=C1&logpath=1&stext=Mysql&listno=441', '/Recruit/GI_Read/45253269?Oem_Code=C1&logpath=1&stext=Mysql&listno=442', '/Recruit/GI_Read/45195131?Oem_Code=C1&logpath=1&stext=Mysql&listno=443', '/Recruit/GI_Read/45237449?Oem_Code=C1&logpath=1&stext=Mysql&listno=444', '/Recruit/GI_Read/45195392?Oem_Code=C1&logpath=1&stext=Mysql&listno=445', '/Recruit/GI_Read/45020280?Oem_Code=C1&logpath=1&stext=Mysql&listno=446', '/Recruit/GI_Read/45188484?Oem_Code=C1&logpath=1&stext=Mysql&listno=447', '/Recruit/GI_Read/45272295?Oem_Code=C1&logpath=1&stext=Mysql&listno=448', '/Recruit/GI_Read/45222050?Oem_Code=C1&logpath=1&stext=Mysql&listno=449', '/Recruit/GI_Read/45217088?Oem_Code=C1&logpath=1&stext=Mysql&listno=450', '/Recruit/GI_Read/45285497?Oem_Code=C1&logpath=1&stext=Mysql&listno=451', '/Recruit/GI_Read/45185836?Oem_Code=C1&logpath=1&stext=Mysql&listno=452', '/Recruit/GI_Read/44999700?Oem_Code=C1&logpath=1&stext=Mysql&listno=453', '/Recruit/GI_Read/45343579?Oem_Code=C1&logpath=1&stext=Mysql&listno=454', '/Recruit/GI_Read/45348657?Oem_Code=C1&logpath=1&stext=Mysql&listno=455', '/Recruit/GI_Read/45144143?Oem_Code=C1&logpath=1&stext=Mysql&listno=456', '/Recruit/GI_Read/45211851?Oem_Code=C1&logpath=1&stext=Mysql&listno=457', '/Recruit/GI_Read/45329540?Oem_Code=C1&logpath=1&stext=Mysql&listno=458', '/Recruit/GI_Read/45258614?Oem_Code=C1&logpath=1&stext=Mysql&listno=459', '/Recruit/GI_Read/45314815?Oem_Code=C1&logpath=1&stext=Mysql&listno=460', '/Recruit/GI_Read/45106683?Oem_Code=C1&logpath=1&stext=Mysql&listno=461', '/Recruit/GI_Read/45135723?Oem_Code=C1&logpath=1&stext=Mysql&listno=462', '/Recruit/GI_Read/45236646?Oem_Code=C1&logpath=1&stext=Mysql&listno=463', '/Recruit/GI_Read/44926717?Oem_Code=C1&logpath=1&stext=Mysql&listno=464', '/Recruit/GI_Read/45307998?Oem_Code=C1&logpath=1&stext=Mysql&listno=465', '/Recruit/GI_Read/45311898?Oem_Code=C1&logpath=1&stext=Mysql&listno=466', '/Recruit/GI_Read/45295385?Oem_Code=C1&logpath=1&stext=Mysql&listno=467', '/Recruit/GI_Read/45286620?Oem_Code=C1&logpath=1&stext=Mysql&listno=468', '/Recruit/GI_Read/44952516?Oem_Code=C1&logpath=1&stext=Mysql&listno=469', '/Recruit/GI_Read/45185110?Oem_Code=C1&logpath=1&stext=Mysql&listno=470', '/Recruit/GI_Read/45302625?Oem_Code=C1&logpath=1&stext=Mysql&listno=471', '/Recruit/GI_Read/45310012?Oem_Code=C1&logpath=1&stext=Mysql&listno=472', '/Recruit/GI_Read/45332478?Oem_Code=C1&logpath=1&stext=Mysql&listno=473', '/Recruit/GI_Read/45211085?Oem_Code=C1&logpath=1&stext=Mysql&listno=474', '/Recruit/GI_Read/45330750?Oem_Code=C1&logpath=1&stext=Mysql&listno=475', '/Recruit/GI_Read/45087464?Oem_Code=C1&logpath=1&stext=Mysql&listno=476', '/Recruit/GI_Read/45258830?Oem_Code=C1&logpath=1&stext=Mysql&listno=477', '/Recruit/GI_Read/45207105?Oem_Code=C1&logpath=1&stext=Mysql&listno=478', '/Recruit/GI_Read/45321731?Oem_Code=C1&logpath=1&stext=Mysql&listno=479', '/Recruit/GI_Read/45138060?Oem_Code=C1&logpath=1&stext=Mysql&listno=480', '/Recruit/GI_Read/45337663?Oem_Code=C1&logpath=1&stext=Mysql&listno=481', '/Recruit/GI_Read/45085225?Oem_Code=C1&logpath=1&stext=Mysql&listno=482', '/Recruit/GI_Read/45136769?Oem_Code=C1&logpath=1&stext=Mysql&listno=483', '/Recruit/GI_Read/45255340?Oem_Code=C1&logpath=1&stext=Mysql&listno=484', '/Recruit/GI_Read/45215752?Oem_Code=C1&logpath=1&stext=Mysql&listno=485', '/Recruit/GI_Read/45195206?Oem_Code=C1&logpath=1&stext=Mysql&listno=486', '/Recruit/GI_Read/45239964?Oem_Code=C1&logpath=1&stext=Mysql&listno=487', '/Recruit/GI_Read/45027350?Oem_Code=C1&logpath=1&stext=Mysql&listno=488', '/Recruit/GI_Read/45197774?Oem_Code=C1&logpath=1&stext=Mysql&listno=489', '/Recruit/GI_Read/45303936?Oem_Code=C1&logpath=1&stext=Mysql&listno=490', '/Recruit/GI_Read/45330934?Oem_Code=C1&logpath=1&stext=Mysql&listno=491', '/Recruit/GI_Read/45283031?Oem_Code=C1&logpath=1&stext=Mysql&listno=492', '/Recruit/GI_Read/45106119?Oem_Code=C1&logpath=1&stext=Mysql&listno=493', '/Recruit/GI_Read/45238302?Oem_Code=C1&logpath=1&stext=Mysql&listno=494', '/Recruit/GI_Read/45273853?Oem_Code=C1&logpath=1&stext=Mysql&listno=495', '/Recruit/GI_Read/45176819?Oem_Code=C1&logpath=1&stext=Mysql&listno=496', '/Recruit/GI_Read/45185801?Oem_Code=C1&logpath=1&stext=Mysql&listno=497', '/Recruit/GI_Read/45342518?Oem_Code=C1&logpath=1&stext=Mysql&listno=498', '/Recruit/GI_Read/45315880?Oem_Code=C1&logpath=1&stext=Mysql&listno=499', '/Recruit/GI_Read/45243311?Oem_Code=C1&logpath=1&stext=Mysql&listno=500']\n",
      "500\n"
     ]
    }
   ],
   "source": [
    "print(emp_link_list)\n",
    "print(len(emp_link_list))"
   ]
  },
  {
   "cell_type": "code",
   "execution_count": 11,
   "metadata": {},
   "outputs": [
    {
     "ename": "AttributeError",
     "evalue": "'NoneType' object has no attribute 'attrs'",
     "output_type": "error",
     "traceback": [
      "\u001b[1;31m---------------------------------------------------------------------------\u001b[0m",
      "\u001b[1;31mAttributeError\u001b[0m                            Traceback (most recent call last)",
      "Cell \u001b[1;32mIn[11], line 4\u001b[0m\n\u001b[0;32m      2\u001b[0m url\u001b[38;5;241m=\u001b[39m urlopen(\u001b[38;5;124mf\u001b[39m\u001b[38;5;124m'\u001b[39m\u001b[38;5;124mhttps://www.jobkorea.co.kr/Recruit/GI_Read/45215375?Oem_Code=C1&logpath=1&stext=Mysql&listno=1\u001b[39m\u001b[38;5;124m'\u001b[39m)\n\u001b[0;32m      3\u001b[0m soup\u001b[38;5;241m=\u001b[39m BeautifulSoup(url, \u001b[38;5;124m'\u001b[39m\u001b[38;5;124mhtml.parser\u001b[39m\u001b[38;5;124m'\u001b[39m)\n\u001b[1;32m----> 4\u001b[0m links \u001b[38;5;241m=\u001b[39m soup\u001b[38;5;241m.\u001b[39mfind(\u001b[38;5;124m\"\u001b[39m\u001b[38;5;124ma\u001b[39m\u001b[38;5;124m\"\u001b[39m, {\u001b[38;5;124m'\u001b[39m\u001b[38;5;124mclass\u001b[39m\u001b[38;5;124m'\u001b[39m:\u001b[38;5;124m\"\u001b[39m\u001b[38;5;124mgirBtn girBtn_3\u001b[39m\u001b[38;5;124m\"\u001b[39m})\u001b[38;5;241m.\u001b[39mattrs[\u001b[38;5;124m'\u001b[39m\u001b[38;5;124mhref\u001b[39m\u001b[38;5;124m'\u001b[39m]   \u001b[38;5;66;03m#기업정보\u001b[39;00m\n\u001b[0;32m      5\u001b[0m \u001b[38;5;28mprint\u001b[39m(links)\n",
      "\u001b[1;31mAttributeError\u001b[0m: 'NoneType' object has no attribute 'attrs'"
     ]
    }
   ],
   "source": [
    "# 확인용\n",
    "url= urlopen(f'/Recruit/GI_Read/45215375?Oem_Code=C1&logpath=1&stext=Mysql&listno=1')\n",
    "soup= BeautifulSoup(url, 'html.parser')\n",
    "links = soup.find(\"a\", {'class':\"girBtn girBtn_3\"}).attrs['href']   #기업정보\n",
    "print(links)\n"
   ]
  },
  {
   "cell_type": "code",
   "execution_count": 12,
   "metadata": {},
   "outputs": [
    {
     "ename": "AttributeError",
     "evalue": "'NoneType' object has no attribute 'attrs'",
     "output_type": "error",
     "traceback": [
      "\u001b[1;31m---------------------------------------------------------------------------\u001b[0m",
      "\u001b[1;31mAttributeError\u001b[0m                            Traceback (most recent call last)",
      "Cell \u001b[1;32mIn[12], line 5\u001b[0m\n\u001b[0;32m      3\u001b[0m url\u001b[38;5;241m=\u001b[39m urlopen(\u001b[38;5;124mf\u001b[39m\u001b[38;5;124m'\u001b[39m\u001b[38;5;124mhttps://www.jobkorea.co.kr\u001b[39m\u001b[38;5;132;01m{\u001b[39;00msite\u001b[38;5;132;01m}\u001b[39;00m\u001b[38;5;124m'\u001b[39m)\n\u001b[0;32m      4\u001b[0m soup\u001b[38;5;241m=\u001b[39m BeautifulSoup(url, \u001b[38;5;124m'\u001b[39m\u001b[38;5;124mhtml.parser\u001b[39m\u001b[38;5;124m'\u001b[39m)\n\u001b[1;32m----> 5\u001b[0m links \u001b[38;5;241m=\u001b[39m soup\u001b[38;5;241m.\u001b[39mfind(\u001b[38;5;124m\"\u001b[39m\u001b[38;5;124ma\u001b[39m\u001b[38;5;124m\"\u001b[39m, {\u001b[38;5;124m'\u001b[39m\u001b[38;5;124mclass\u001b[39m\u001b[38;5;124m'\u001b[39m:\u001b[38;5;124m\"\u001b[39m\u001b[38;5;124mgirBtn girBtn_3\u001b[39m\u001b[38;5;124m\"\u001b[39m})\u001b[38;5;241m.\u001b[39mattrs[\u001b[38;5;124m'\u001b[39m\u001b[38;5;124mhref\u001b[39m\u001b[38;5;124m'\u001b[39m]   \u001b[38;5;66;03m#기업정보\u001b[39;00m\n\u001b[0;32m      6\u001b[0m links \u001b[38;5;241m=\u001b[39m \u001b[38;5;124m'\u001b[39m\u001b[38;5;124mhttps://www.jobkorea.co.kr\u001b[39m\u001b[38;5;124m'\u001b[39m\u001b[38;5;241m+\u001b[39mlinks\n\u001b[0;32m      7\u001b[0m \u001b[38;5;28mprint\u001b[39m(links)\n",
      "\u001b[1;31mAttributeError\u001b[0m: 'NoneType' object has no attribute 'attrs'"
     ]
    }
   ],
   "source": [
    "# 테스트용\n",
    "for site in emp_link_list[0:20]:\n",
    "    url= urlopen(f'https://www.jobkorea.co.kr{site}')\n",
    "    soup= BeautifulSoup(url, 'html.parser')\n",
    "    links = soup.find(\"a\", {'class':\"girBtn girBtn_3\"}).attrs['href']   #기업정보\n",
    "    links = 'https://www.jobkorea.co.kr'+links\n",
    "    print(links)"
   ]
  },
  {
   "cell_type": "markdown",
   "metadata": {},
   "source": [
    "### site_link 채용 공고 올린 회사정보 사이트 크롤링 "
   ]
  },
  {
   "cell_type": "code",
   "execution_count": null,
   "metadata": {},
   "outputs": [],
   "source": [
    "site_link = []"
   ]
  },
  {
   "cell_type": "code",
   "execution_count": null,
   "metadata": {},
   "outputs": [],
   "source": [
    "for site in emp_link_list[0:30]:\n",
    "    url= urlopen(f'https://www.jobkorea.co.kr{site}')\n",
    "    soup= BeautifulSoup(url, 'html.parser')\n",
    "    links = soup.find(\"a\", {'class':\"girBtn girBtn_3\"}).attrs['href']   #기업정보\n",
    "    links = 'https://www.jobkorea.co.kr'+links\n",
    "    site_link.append(links)"
   ]
  },
  {
   "cell_type": "code",
   "execution_count": null,
   "metadata": {},
   "outputs": [],
   "source": [
    "for site in emp_link_list[30:50]:\n",
    "    url= urlopen(f'https://www.jobkorea.co.kr{site}')\n",
    "    soup= BeautifulSoup(url, 'html.parser')\n",
    "    links = soup.find(\"a\", {'class':\"girBtn girBtn_3\"}).attrs['href']   #기업정보\n",
    "    links = 'https://www.jobkorea.co.kr'+links\n",
    "    site_link.append(links)"
   ]
  },
  {
   "cell_type": "code",
   "execution_count": null,
   "metadata": {},
   "outputs": [],
   "source": [
    "for site in emp_link_list[50:70]:\n",
    "    url= urlopen(f'https://www.jobkorea.co.kr{site}')\n",
    "    soup= BeautifulSoup(url, 'html.parser')\n",
    "    links = soup.find(\"a\", {'class':\"girBtn girBtn_3\"}).attrs['href']   #기업정보\n",
    "    links = 'https://www.jobkorea.co.kr'+links\n",
    "    site_link.append(links)"
   ]
  },
  {
   "cell_type": "code",
   "execution_count": null,
   "metadata": {},
   "outputs": [],
   "source": [
    "for site in emp_link_list[70:90]:\n",
    "    url= urlopen(f'https://www.jobkorea.co.kr{site}')\n",
    "    soup= BeautifulSoup(url, 'html.parser')\n",
    "    links = soup.find(\"a\", {'class':\"girBtn girBtn_3\"}).attrs['href']   #기업정보\n",
    "    links = 'https://www.jobkorea.co.kr'+links\n",
    "    site_link.append(links)"
   ]
  },
  {
   "cell_type": "code",
   "execution_count": null,
   "metadata": {},
   "outputs": [],
   "source": [
    "for site in emp_link_list[90:110]:\n",
    "    url= urlopen(f'https://www.jobkorea.co.kr{site}')\n",
    "    soup= BeautifulSoup(url, 'html.parser')\n",
    "    links = soup.find(\"a\", {'class':\"girBtn girBtn_3\"}).attrs['href']   #기업정보\n",
    "    links = 'https://www.jobkorea.co.kr'+links\n",
    "    site_link.append(links)"
   ]
  },
  {
   "cell_type": "code",
   "execution_count": null,
   "metadata": {},
   "outputs": [],
   "source": [
    "for site in emp_link_list[110:130]:\n",
    "    url= urlopen(f'https://www.jobkorea.co.kr{site}')\n",
    "    soup= BeautifulSoup(url, 'html.parser')\n",
    "    links = soup.find(\"a\", {'class':\"girBtn girBtn_3\"}).attrs['href']   #기업정보\n",
    "    links = 'https://www.jobkorea.co.kr'+links\n",
    "    site_link.append(links)"
   ]
  },
  {
   "cell_type": "code",
   "execution_count": null,
   "metadata": {},
   "outputs": [],
   "source": [
    "for site in emp_link_list[130:150]:\n",
    "    url= urlopen(f'https://www.jobkorea.co.kr{site}')\n",
    "    soup= BeautifulSoup(url, 'html.parser')\n",
    "    links = soup.find(\"a\", {'class':\"girBtn girBtn_3\"}).attrs['href']   #기업정보\n",
    "    links = 'https://www.jobkorea.co.kr'+links\n",
    "    site_link.append(links)"
   ]
  },
  {
   "cell_type": "code",
   "execution_count": null,
   "metadata": {},
   "outputs": [],
   "source": [
    "for site in emp_link_list[150:170]:\n",
    "    url= urlopen(f'https://www.jobkorea.co.kr{site}')\n",
    "    soup= BeautifulSoup(url, 'html.parser')\n",
    "    links = soup.find(\"a\", {'class':\"girBtn girBtn_3\"}).attrs['href']   #기업정보\n",
    "    links = 'https://www.jobkorea.co.kr'+links\n",
    "    site_link.append(links)"
   ]
  },
  {
   "cell_type": "code",
   "execution_count": null,
   "metadata": {},
   "outputs": [],
   "source": [
    "for site in emp_link_list[170:190]:\n",
    "    url= urlopen(f'https://www.jobkorea.co.kr{site}')\n",
    "    soup= BeautifulSoup(url, 'html.parser')\n",
    "    links = soup.find(\"a\", {'class':\"girBtn girBtn_3\"}).attrs['href']   #기업정보\n",
    "    links = 'https://www.jobkorea.co.kr'+links\n",
    "    site_link.append(links)"
   ]
  },
  {
   "cell_type": "code",
   "execution_count": null,
   "metadata": {},
   "outputs": [
    {
     "data": {
      "text/plain": [
       "183"
      ]
     },
     "execution_count": 118,
     "metadata": {},
     "output_type": "execute_result"
    }
   ],
   "source": [
    "len(set(site_link))"
   ]
  },
  {
   "cell_type": "code",
   "execution_count": null,
   "metadata": {},
   "outputs": [],
   "source": [
    "for site in emp_link_list[191:221]:\n",
    "    url= urlopen(f'https://www.jobkorea.co.kr{site}')\n",
    "    soup= BeautifulSoup(url, 'html.parser')\n",
    "    links = soup.find(\"a\", {'class':\"girBtn girBtn_3\"}).attrs['href']   #기업정보\n",
    "    links = 'https://www.jobkorea.co.kr'+links\n",
    "    site_link.append(links)"
   ]
  },
  {
   "cell_type": "code",
   "execution_count": null,
   "metadata": {},
   "outputs": [],
   "source": [
    "for site in emp_link_list[222:245]:\n",
    "    url= urlopen(f'https://www.jobkorea.co.kr{site}')\n",
    "    soup= BeautifulSoup(url, 'html.parser')\n",
    "    links = soup.find(\"a\", {'class':\"girBtn girBtn_3\"}).attrs['href']   #기업정보\n",
    "    links = 'https://www.jobkorea.co.kr'+links\n",
    "    site_link.append(links)"
   ]
  },
  {
   "cell_type": "code",
   "execution_count": null,
   "metadata": {},
   "outputs": [],
   "source": [
    "for site in emp_link_list[246:270]:\n",
    "    url= urlopen(f'https://www.jobkorea.co.kr{site}')\n",
    "    soup= BeautifulSoup(url, 'html.parser')\n",
    "    links = soup.find(\"a\", {'class':\"girBtn girBtn_3\"}).attrs['href']   #기업정보\n",
    "    links = 'https://www.jobkorea.co.kr'+links\n",
    "    site_link.append(links)"
   ]
  },
  {
   "cell_type": "code",
   "execution_count": null,
   "metadata": {},
   "outputs": [],
   "source": [
    "for site in emp_link_list[271:290]:\n",
    "    url= urlopen(f'https://www.jobkorea.co.kr{site}')\n",
    "    soup= BeautifulSoup(url, 'html.parser')\n",
    "    links = soup.find(\"a\", {'class':\"girBtn girBtn_3\"}).attrs['href']   #기업정보\n",
    "    links = 'https://www.jobkorea.co.kr'+links\n",
    "    site_link.append(links)"
   ]
  },
  {
   "cell_type": "code",
   "execution_count": null,
   "metadata": {},
   "outputs": [
    {
     "name": "stdout",
     "output_type": "stream",
     "text": [
      "425\n"
     ]
    }
   ],
   "source": [
    "print(len(site_link))"
   ]
  },
  {
   "cell_type": "code",
   "execution_count": null,
   "metadata": {},
   "outputs": [],
   "source": [
    "for site in emp_link_list[291:310]:\n",
    "    url= urlopen(f'https://www.jobkorea.co.kr{site}')\n",
    "    soup= BeautifulSoup(url, 'html.parser')\n",
    "    links = soup.find(\"a\", {'class':\"girBtn girBtn_3\"}).attrs['href']   #기업정보\n",
    "    links = 'https://www.jobkorea.co.kr'+links\n",
    "    site_link.append(links)"
   ]
  },
  {
   "cell_type": "code",
   "execution_count": null,
   "metadata": {},
   "outputs": [],
   "source": [
    "for site in emp_link_list[311:330]:\n",
    "    url= urlopen(f'https://www.jobkorea.co.kr{site}')\n",
    "    soup= BeautifulSoup(url, 'html.parser')\n",
    "    links = soup.find(\"a\", {'class':\"girBtn girBtn_3\"}).attrs['href']   #기업정보\n",
    "    links = 'https://www.jobkorea.co.kr'+links\n",
    "    site_link.append(links)"
   ]
  },
  {
   "cell_type": "code",
   "execution_count": null,
   "metadata": {},
   "outputs": [],
   "source": [
    "for site in emp_link_list[331:360]:\n",
    "    url= urlopen(f'https://www.jobkorea.co.kr{site}')\n",
    "    soup= BeautifulSoup(url, 'html.parser')\n",
    "    links = soup.find(\"a\", {'class':\"girBtn girBtn_3\"}).attrs['href']   #기업정보\n",
    "    links = 'https://www.jobkorea.co.kr'+links\n",
    "    site_link.append(links)"
   ]
  },
  {
   "cell_type": "code",
   "execution_count": null,
   "metadata": {},
   "outputs": [],
   "source": [
    "for site in emp_link_list[361:380]:\n",
    "    url= urlopen(f'https://www.jobkorea.co.kr{site}')\n",
    "    soup= BeautifulSoup(url, 'html.parser')\n",
    "    links = soup.find(\"a\", {'class':\"girBtn girBtn_3\"}).attrs['href']   #기업정보\n",
    "    links = 'https://www.jobkorea.co.kr'+links\n",
    "    site_link.append(links)"
   ]
  },
  {
   "cell_type": "code",
   "execution_count": null,
   "metadata": {},
   "outputs": [],
   "source": [
    "for site in emp_link_list[381:400]:\n",
    "    url= urlopen(f'https://www.jobkorea.co.kr{site}')\n",
    "    soup= BeautifulSoup(url, 'html.parser')\n",
    "    links = soup.find(\"a\", {'class':\"girBtn girBtn_3\"}).attrs['href']   #기업정보\n",
    "    links = 'https://www.jobkorea.co.kr'+links\n",
    "    site_link.append(links)"
   ]
  },
  {
   "cell_type": "code",
   "execution_count": null,
   "metadata": {},
   "outputs": [],
   "source": [
    "for site in emp_link_list[401:420]:\n",
    "    url= urlopen(f'https://www.jobkorea.co.kr{site}')\n",
    "    soup= BeautifulSoup(url, 'html.parser')\n",
    "    links = soup.find(\"a\", {'class':\"girBtn girBtn_3\"}).attrs['href']   #기업정보\n",
    "    links = 'https://www.jobkorea.co.kr'+links\n",
    "    site_link.append(links)"
   ]
  },
  {
   "cell_type": "code",
   "execution_count": null,
   "metadata": {},
   "outputs": [],
   "source": [
    "for site in emp_link_list[421:450]:\n",
    "    url= urlopen(f'https://www.jobkorea.co.kr{site}')\n",
    "    soup= BeautifulSoup(url, 'html.parser')\n",
    "    links = soup.find(\"a\", {'class':\"girBtn girBtn_3\"}).attrs['href']   #기업정보\n",
    "    links = 'https://www.jobkorea.co.kr'+links\n",
    "    site_link.append(links)"
   ]
  },
  {
   "cell_type": "code",
   "execution_count": null,
   "metadata": {},
   "outputs": [],
   "source": [
    "for site in emp_link_list[451:475]:\n",
    "    url= urlopen(f'https://www.jobkorea.co.kr{site}')\n",
    "    soup= BeautifulSoup(url, 'html.parser')\n",
    "    links = soup.find(\"a\", {'class':\"girBtn girBtn_3\"}).attrs['href']   #기업정보\n",
    "    links = 'https://www.jobkorea.co.kr'+links\n",
    "    site_link.append(links)"
   ]
  },
  {
   "cell_type": "code",
   "execution_count": null,
   "metadata": {},
   "outputs": [],
   "source": [
    "for site in emp_link_list[476:500]:\n",
    "    url= urlopen(f'https://www.jobkorea.co.kr{site}')\n",
    "    soup= BeautifulSoup(url, 'html.parser')\n",
    "    links = soup.find(\"a\", {'class':\"girBtn girBtn_3\"}).attrs['href']   #기업정보\n",
    "    links = 'https://www.jobkorea.co.kr'+links\n",
    "    site_link.append(links)"
   ]
  },
  {
   "cell_type": "markdown",
   "metadata": {},
   "source": [
    "### 회사 사이트 크롤링 활용"
   ]
  },
  {
   "cell_type": "code",
   "execution_count": null,
   "metadata": {},
   "outputs": [],
   "source": [
    "site_link"
   ]
  },
  {
   "cell_type": "code",
   "execution_count": null,
   "metadata": {},
   "outputs": [],
   "source": [
    "real_site_link = site_link"
   ]
  },
  {
   "cell_type": "code",
   "execution_count": null,
   "metadata": {},
   "outputs": [
    {
     "data": {
      "text/plain": [
       "708"
      ]
     },
     "execution_count": 152,
     "metadata": {},
     "output_type": "execute_result"
    }
   ],
   "source": [
    "len(real_site_link)"
   ]
  },
  {
   "cell_type": "code",
   "execution_count": null,
   "metadata": {},
   "outputs": [],
   "source": [
    "site_link = list(set(site_link))"
   ]
  },
  {
   "cell_type": "code",
   "execution_count": null,
   "metadata": {},
   "outputs": [
    {
     "data": {
      "text/plain": [
       "409"
      ]
     },
     "execution_count": 154,
     "metadata": {},
     "output_type": "execute_result"
    }
   ],
   "source": [
    "site_link[]"
   ]
  },
  {
   "cell_type": "code",
   "execution_count": null,
   "metadata": {},
   "outputs": [],
   "source": [
    "import pandas as pd\n",
    "site_link_DF = pd.DataFrame(site_link)"
   ]
  },
  {
   "cell_type": "code",
   "execution_count": null,
   "metadata": {},
   "outputs": [],
   "source": [
    "site_link_DF.to_csv('Ent_Link.csv')  #  기업정보 사이트 리스트"
   ]
  },
  {
   "cell_type": "code",
   "execution_count": null,
   "metadata": {},
   "outputs": [],
   "source": [
    "def get_Ent_links(link_list):\n",
    "    '''\n",
    "    잡코리아 링크 가져오는 함수\n",
    "    parms= 링크 모아놓을 빈 리스트\n",
    "    return\n",
    "    '''\n",
    "    for site in emp_link_list:\n",
    "        url= urlopen(f'https://www.jobkorea.co.kr{site}')\n",
    "        soup= BeautifulSoup(url, 'html.parser')\n",
    "\n",
    "        links= soup.find_all('a', {'class': \"corp-name-link dev-view\"})\n",
    "        for link in links:\n",
    "            link= link['href']\n",
    "            link_list.append(link)\n",
    "        num+=1"
   ]
  },
  {
   "cell_type": "code",
   "execution_count": null,
   "metadata": {},
   "outputs": [
    {
     "name": "stdout",
     "output_type": "stream",
     "text": [
      "<div class=\"value\"></div>\n"
     ]
    }
   ],
   "source": [
    "url= urlopen(f'https://www.jobkorea.co.kr/Recruit/Co_Read/C/39400448?Oem_Code=C1')\n",
    "soup= BeautifulSoup(url, 'html.parser')\n",
    "links = soup.find(\"div\", {'class':\"value\"})\n",
    "print(links)"
   ]
  },
  {
   "cell_type": "code",
   "execution_count": null,
   "metadata": {},
   "outputs": [
    {
     "name": "stdout",
     "output_type": "stream",
     "text": [
      "['솔루션·SI·CRM·ERP', '솔루션·SI·CRM·ERP', '20명', '20명', '20명', '', '중소기업', '중소기업', '2022.04.21(3년차)', '2022.04.21(3년차)', '2022.04.21', '(3년차)', '-', '-', '-', '', '-', '-', '-', '', '한준희', '한준희', '3,500만원', '3,500만원', '3,500만원', '3,500만원', '\\r\\r                                    금융기관 S/W개발 및 공급, 어플리케이션 제작 및 운영, 부동산 권리조사\\r                                ', '\\r\\r                                    금융기관 S/W개발 및 공급, 어플리케이션 제작 및 운영, 부동산 권리조사\\r                                ', '국민연금, 건강보험, 고용보험, 산재보험', '국민연금, 건강보험, 고용보험, 산재보험', 'https://www.bankclear.co.kr', 'https://www.bankclear.co.kr', '서울 중구 청계천로 100 (수표동, 시그니쳐타워) 11층, 1150호', '서울 중구 청계천로 100 (수표동, 시그니쳐타워) 11층, 1150호']\n"
     ]
    }
   ],
   "source": [
    "url= urlopen(f'https://www.jobkorea.co.kr/Recruit/Co_Read/C/39400448?Oem_Code=C1')\n",
    "soup= BeautifulSoup(url, 'html.parser')\n",
    "# links = soup.find(\"div\", {'class':\"table\"})\n",
    "# links = soup.find(\"tbody\")\n",
    "key = soup.find(\"tbody\").find_all(\"th\", {'class':'field-label'})\n",
    "# links = soup.find(\"tbody\").find_all(\"div\", {'class':'values'})\n",
    "links = soup.find(\"tbody\").find_all(\"div\")\n",
    "\n",
    "# for k in key:\n",
    "    # print(k)\n",
    "\n",
    "temp = []\n",
    "for l in links:\n",
    "    # print(l.text)\n",
    "    a = l.text\n",
    "    \n",
    "    a = a.replace('\\n','')\n",
    "    # print(a)\n",
    "    if a == '-':\n",
    "        temp.append(a)\n",
    "    elif a not in temp:\n",
    "        temp.append(a)\n",
    "\n",
    "    \n",
    "\n",
    "print(temp)\n",
    "# print(list(set(temp)))\n",
    "\n"
   ]
  },
  {
   "cell_type": "code",
   "execution_count": null,
   "metadata": {},
   "outputs": [
    {
     "name": "stdout",
     "output_type": "stream",
     "text": [
      "솔루션·SI·CRM·ERP\n",
      "20명\n",
      "중소기업\n",
      "3,500만원\n"
     ]
    }
   ],
   "source": [
    "# 사업. 인원수. 기업구분. 대졸초임 뽑음\n",
    "url= urlopen(f'https://www.jobkorea.co.kr/Recruit/Co_Read/C/39400448?Oem_Code=C1')\n",
    "soup= BeautifulSoup(url, 'html.parser')\n",
    "key = soup.find(\"tbody\").find_all(\"th\", {'class':'field-label'})\n",
    "links = soup.find(\"tbody\").find_all(\"div\", {'class':'value'})\n",
    "\n",
    "idx = 1\n",
    "for l in links:\n",
    "    print(l.text)\n",
    "    if idx == 3:\n",
    "        break\n",
    "    idx += 1\n",
    "\n",
    "salary  = soup.find(\"tbody\").find(\"div\", {'class':'salary-average-item'})\n",
    "print(salary.text)\n",
    "\n",
    "#company-body > div.company-body-infomation > div.company-infomation-row.basic-infomation > div > table > tbody > tr:nth-child(4) > td:nth-child(4) > div > div > div > div\n"
   ]
  },
  {
   "cell_type": "code",
   "execution_count": 1,
   "metadata": {},
   "outputs": [
    {
     "ename": "NameError",
     "evalue": "name 'urlopen' is not defined",
     "output_type": "error",
     "traceback": [
      "\u001b[1;31m---------------------------------------------------------------------------\u001b[0m",
      "\u001b[1;31mNameError\u001b[0m                                 Traceback (most recent call last)",
      "Cell \u001b[1;32mIn[1], line 1\u001b[0m\n\u001b[1;32m----> 1\u001b[0m url\u001b[38;5;241m=\u001b[39m urlopen(\u001b[38;5;124mf\u001b[39m\u001b[38;5;124m'\u001b[39m\u001b[38;5;124mhttps://www.jobkorea.co.kr/Recruit/Co_Read/C/21871054?Oem_Code=C1\u001b[39m\u001b[38;5;124m'\u001b[39m)\n\u001b[0;32m      2\u001b[0m soup\u001b[38;5;241m=\u001b[39m BeautifulSoup(url, \u001b[38;5;124m'\u001b[39m\u001b[38;5;124mhtml.parser\u001b[39m\u001b[38;5;124m'\u001b[39m)\n\u001b[0;32m      3\u001b[0m key \u001b[38;5;241m=\u001b[39m soup\u001b[38;5;241m.\u001b[39mfind(\u001b[38;5;124m\"\u001b[39m\u001b[38;5;124mtbody\u001b[39m\u001b[38;5;124m\"\u001b[39m)\u001b[38;5;241m.\u001b[39mfind_all(\u001b[38;5;124m\"\u001b[39m\u001b[38;5;124mth\u001b[39m\u001b[38;5;124m\"\u001b[39m, {\u001b[38;5;124m'\u001b[39m\u001b[38;5;124mclass\u001b[39m\u001b[38;5;124m'\u001b[39m:\u001b[38;5;124m'\u001b[39m\u001b[38;5;124mfield-label\u001b[39m\u001b[38;5;124m'\u001b[39m})\n",
      "\u001b[1;31mNameError\u001b[0m: name 'urlopen' is not defined"
     ]
    }
   ],
   "source": [
    "url= urlopen(f'https://www.jobkorea.co.kr/Recruit/Co_Read/C/21871054?Oem_Code=C1')\n",
    "soup= BeautifulSoup(url, 'html.parser')\n",
    "key = soup.find(\"tbody\").find_all(\"th\", {'class':'field-label'})\n",
    "links = soup.find(\"tbody\").find_all(\"div\", {'class':'value'})\n",
    "\n",
    "\n",
    "name = soup.find(\"div\", {'class':'name'}).text\n",
    "name = name.strip()\n",
    "print(name)\n",
    "\n",
    "\n",
    "\n",
    "idx = 1\n",
    "for l in links:\n",
    "    print(l.text)\n",
    "    if idx == 3:\n",
    "        break\n",
    "    idx += 1\n",
    "\n",
    "# 대졸초봉\n",
    "salary  = soup.find(\"tbody\").find(\"div\", {'class':'salary-average-item'})\n",
    "if salary is not None:\n",
    "    print(salary.text)\n",
    "else:\n",
    "    None\n",
    "\n",
    "pick = soup.find('div', {'class':'employment-status'}).find_all('strong')[1].text\n",
    "print(pick)"
   ]
  },
  {
   "cell_type": "code",
   "execution_count": null,
   "metadata": {},
   "outputs": [
    {
     "name": "stdout",
     "output_type": "stream",
     "text": [
      "㈜오앤트\n",
      "시스템 소프트웨어 개발 및 공급업\n",
      "10명\n",
      "중소기업\n",
      "99회\n"
     ]
    }
   ],
   "source": [
    "\n",
    "url= urlopen(f'https://www.jobkorea.co.kr/Recruit/Co_Read/C/38621790?Oem_Code=C1')\n",
    "soup= BeautifulSoup(url, 'html.parser')\n",
    "key = soup.find(\"tbody\").find_all(\"th\", {'class':'field-label'})\n",
    "links = soup.find(\"tbody\").find_all(\"div\", {'class':'value'})\n",
    "\n",
    "\n",
    "name = soup.find(\"div\", {'class':'name'}).text\n",
    "name = name.strip()\n",
    "print(name)\n",
    "\n",
    "\n",
    "\n",
    "idx = 1\n",
    "for l in links:\n",
    "    print(l.text)\n",
    "    if idx == 3:\n",
    "        break\n",
    "    idx += 1\n",
    "\n",
    "# 대졸초봉\n",
    "salary  = soup.find(\"tbody\").find(\"div\", {'class':'salary-average-item'})\n",
    "if salary is not None:\n",
    "    print(salary.text)\n",
    "else:\n",
    "    None\n",
    "\n",
    "pick = soup.find('div', {'class':'employment-status'}).find_all('strong')[1].text\n",
    "print(pick)"
   ]
  },
  {
   "cell_type": "code",
   "execution_count": null,
   "metadata": {},
   "outputs": [],
   "source": []
  },
  {
   "cell_type": "code",
   "execution_count": null,
   "metadata": {},
   "outputs": [
    {
     "data": {
      "text/plain": [
       "'https://www.jobkorea.co.kr/Recruit/Co_Read/C/21368538?Oem_Code=C1'"
      ]
     },
     "execution_count": 240,
     "metadata": {},
     "output_type": "execute_result"
    }
   ],
   "source": [
    "site_link[0]"
   ]
  },
  {
   "cell_type": "code",
   "execution_count": null,
   "metadata": {},
   "outputs": [],
   "source": [
    "import time"
   ]
  },
  {
   "cell_type": "code",
   "execution_count": null,
   "metadata": {},
   "outputs": [
    {
     "ename": "KeyboardInterrupt",
     "evalue": "",
     "output_type": "error",
     "traceback": [
      "\u001b[1;31m---------------------------------------------------------------------------\u001b[0m",
      "\u001b[1;31mKeyboardInterrupt\u001b[0m                         Traceback (most recent call last)",
      "Cell \u001b[1;32mIn[241], line 37\u001b[0m\n\u001b[0;32m     34\u001b[0m \u001b[38;5;66;03m# print(pick)\u001b[39;00m\n\u001b[0;32m     35\u001b[0m temp\u001b[38;5;241m.\u001b[39mappend(pick)\n\u001b[1;32m---> 37\u001b[0m time\u001b[38;5;241m.\u001b[39msleep(\u001b[38;5;241m4\u001b[39m)\n",
      "\u001b[1;31mKeyboardInterrupt\u001b[0m: "
     ]
    }
   ],
   "source": [
    "\n",
    "for url in site_link:\n",
    "    temp = []\n",
    "    url = urlopen(url)\n",
    "    soup = BeautifulSoup(url, 'html.parser')\n",
    "    key = soup.find(\"tbody\").find_all(\"th\", {'class':'field-label'})\n",
    "    links = soup.find(\"tbody\").find_all(\"div\", {'class':'value'})\n",
    "\n",
    "\n",
    "    name = soup.find(\"div\", {'class':'name'}).text\n",
    "    name = name.strip()\n",
    "    # print(name)\n",
    "    temp.append(name)\n",
    "\n",
    "    idx = 1\n",
    "    for l in links:\n",
    "        # print(l.text)\n",
    "        temp.append(l.text)\n",
    "        if idx == 3:\n",
    "            break\n",
    "        idx += 1\n",
    "\n",
    "    # 대졸초봉\n",
    "    salary  = soup.find(\"tbody\").find(\"div\", {'class':'salary-average-item'})\n",
    "    if salary is not None:\n",
    "        # print(salary.text)\n",
    "        temp.append(salary.text)\n",
    "    else:\n",
    "        temp.append('None')\n",
    "\n",
    "    pick = soup.find('div', {'class':'employment-status'}).find_all('strong')[1].text\n",
    "    # print(pick)\n",
    "    temp.append(pick)\n",
    "\n",
    "    time.sleep(4)"
   ]
  },
  {
   "cell_type": "code",
   "execution_count": null,
   "metadata": {},
   "outputs": [],
   "source": [
    "entlist = pd.read_csv('Ent_Link.csv')\n",
    "\n",
    "entlist = entlist['0']\n",
    "site_link = entlist.to_list()\n"
   ]
  },
  {
   "cell_type": "code",
   "execution_count": null,
   "metadata": {},
   "outputs": [],
   "source": [
    "last_list_test = []\n",
    "last_list = []"
   ]
  },
  {
   "cell_type": "code",
   "execution_count": null,
   "metadata": {},
   "outputs": [
    {
     "name": "stdout",
     "output_type": "stream",
     "text": [
      "1 넛지헬스케어㈜\n",
      "2 ㈜코리아페이먼트\n",
      "3 ㈜좋은정보기술\n",
      "4 테크에스지㈜\n",
      "5 한국스마트정보교육원\n",
      "6 코아아이티\n",
      "7 플레이워크\n",
      "8 디제이메디㈜\n",
      "9 ㈜오앤트\n",
      "10 ㈜큐브베리\n"
     ]
    }
   ],
   "source": [
    "# 10개 테스트\n",
    "idx_1 = 1\n",
    "for url in site_link:\n",
    "    if idx_1 == 11:\n",
    "        break\n",
    "    else:\n",
    "        temp = []\n",
    "        url = urlopen(url)\n",
    "        soup = BeautifulSoup(url, 'html.parser')\n",
    "        key = soup.find(\"tbody\").find_all(\"th\", {'class':'field-label'})\n",
    "        links = soup.find(\"tbody\").find_all(\"div\", {'class':'value'})\n",
    "\n",
    "\n",
    "        name = soup.find(\"div\", {'class':'name'}).text\n",
    "        name = name.strip()\n",
    "        # print(name)\n",
    "        temp.append(name)\n",
    "        idx = 1\n",
    "        for l in links:\n",
    "            # print(l.text)\n",
    "            temp.append(l.text)\n",
    "            if idx == 3:\n",
    "                break\n",
    "            idx += 1\n",
    "\n",
    "        # 대졸초봉\n",
    "        salary  = soup.find(\"tbody\").find(\"div\", {'class':'salary-average-item'})\n",
    "        if salary is not None:\n",
    "            # print(salary.text)\n",
    "            temp.append(salary.text)\n",
    "        else:\n",
    "            temp.append('None')\n",
    "        print(idx_1, name)\n",
    "        pick = soup.find('div', {'class':'employment-status'}).find_all('strong')[1].text\n",
    "        \n",
    "        # print(pick)\n",
    "        temp.append(pick)\n",
    "\n",
    "        time.sleep(4)\n",
    "        idx_1 += 1\n",
    "    last_list_test.append(temp)"
   ]
  },
  {
   "cell_type": "code",
   "execution_count": null,
   "metadata": {},
   "outputs": [
    {
     "data": {
      "text/plain": [
       "0      https://www.jobkorea.co.kr/Recruit/Co_Read/C/2...\n",
       "1      https://www.jobkorea.co.kr/Recruit/Co_Read/C/4...\n",
       "2      https://www.jobkorea.co.kr/Recruit/Co_Read/C/5...\n",
       "3      https://www.jobkorea.co.kr/Recruit/Co_Read/C/4...\n",
       "4      https://www.jobkorea.co.kr/Recruit/Co_Read/C/2...\n",
       "                             ...                        \n",
       "404    https://www.jobkorea.co.kr/Recruit/Co_Read/C/1...\n",
       "405    https://www.jobkorea.co.kr/Recruit/Co_Read/C/2...\n",
       "406    https://www.jobkorea.co.kr/Recruit/Co_Read/C/3...\n",
       "407    https://www.jobkorea.co.kr/Recruit/Co_Read/C/3...\n",
       "408    https://www.jobkorea.co.kr/Recruit/Co_Read/C/4...\n",
       "Name: 0, Length: 409, dtype: object"
      ]
     },
     "execution_count": 285,
     "metadata": {},
     "output_type": "execute_result"
    }
   ],
   "source": []
  },
  {
   "cell_type": "code",
   "execution_count": null,
   "metadata": {},
   "outputs": [
    {
     "data": {
      "text/plain": [
       "'https://www.jobkorea.co.kr/company/16153145?tabType=I'"
      ]
     },
     "execution_count": 287,
     "metadata": {},
     "output_type": "execute_result"
    }
   ],
   "source": [
    "entlist.iloc[26] = 'https://www.jobkorea.co.kr/company/16153145?tabType=I'\n",
    "entlist\n",
    "\n"
   ]
  },
  {
   "cell_type": "code",
   "execution_count": null,
   "metadata": {},
   "outputs": [
    {
     "name": "stdout",
     "output_type": "stream",
     "text": [
      "1 넛지헬스케어㈜\n",
      "2 ㈜코리아페이먼트\n",
      "3 ㈜좋은정보기술\n",
      "4 테크에스지㈜\n",
      "5 한국스마트정보교육원\n",
      "6 코아아이티\n",
      "7 플레이워크\n",
      "8 디제이메디㈜\n",
      "9 ㈜오앤트\n",
      "10 ㈜큐브베리\n",
      "11 제이이노텍\n",
      "12 ㈜메가젠임플란트\n",
      "13 몽구스에이아이㈜\n",
      "14 ㈜보인정보기술\n",
      "15 ㈜스냅컴퍼니\n",
      "16 아람㈜\n",
      "17 하솜정보기술㈜\n",
      "18 오아㈜\n",
      "19 ㈜에프아이티\n",
      "20 내가그린기린그림\n",
      "21 ㈜텐노드솔루션\n",
      "22 바이오링크㈜\n",
      "23 ㈜쓰리탑\n",
      "24 ㈜저스티드\n",
      "25 ㈜웅진\n",
      "26 ㈜케이에스씨앤씨(KSC&C Inc.)\n",
      "27 ㈜휴네시온\n",
      "27 대원씨티에스(주)\n",
      "28 ㈜커넥트웨이브\n",
      "29 ㈜쇼골프\n",
      "30 ㈜KLIM솔루션\n",
      "31 ㈜앱메이드\n",
      "32 ㈜유디아이디\n",
      "33 ㈜미니게이트\n",
      "34 ㈜에이에스티홀딩스\n",
      "35 ㈜인젠트\n",
      "36 ㈜빅브라더스\n",
      "37 ㈜스톤인테그리티\n",
      "38 ㈜엠로\n",
      "39 ㈜코어시큐리티\n",
      "40 주차장만드는사람들㈜\n",
      "41 ㈜러닝뱅크\n",
      "42 주식회사 로지올\n",
      "43 ㈜한성전자산업\n",
      "44 ㈜아인잡\n",
      "45 울랄라랩㈜\n",
      "46 ㈜한커뮤니케이션\n",
      "47 하이케어넷㈜\n",
      "48 유징테크(주)\n",
      "49 ㈜더제이디와이\n",
      "50 ㈜한국공교육원\n",
      "51 남양부직포㈜ 앤듀소프트사업부\n",
      "52 ㈜바이텍정보통신\n",
      "53 ㈜아파트스토리\n",
      "54 이쿠얼키㈜\n",
      "54 ㈜아이스크림미디어\n",
      "55 ㈜케이에스오토플랜\n",
      "56 ㈜뉴젠피앤피\n",
      "57 (주)아이덴티티게임즈\n",
      "58 ㈜싸이터(CYTUR Inc.)\n",
      "59 ㈜마켓링크\n",
      "60 ㈜마인드에이아이\n",
      "61 ㈜비디\n",
      "62 ㈜에이텍모빌리티\n",
      "63 ㈜위니텍\n",
      "64 키다리스튜디오\n",
      "65 베스핀글로벌㈜\n",
      "66 ㈜스데반정보\n",
      "67 ㈜왈라\n",
      "68 ㈜코드넛\n",
      "69 ㈜에이치씨엔씨\n",
      "70 엔프로젝트\n",
      "71 갤럭시아머니트리㈜\n",
      "71 ㈜옵티멀\n",
      "72 ㈜빅링크\n",
      "73 ㈜칼리버스\n",
      "74 ㈜바이와이제이\n",
      "74 유진아이티서비스㈜\n",
      "75 ㈜코페이\n",
      "76 ㈜뱅가드랩\n",
      "77 ㈜머스트핀테크\n",
      "78 홈텔리어㈜\n",
      "79 ㈜패스트뷰\n",
      "80 시크릿타운㈜\n",
      "81 ㈜티사이언티픽\n",
      "82 ㈜다에리소프트\n",
      "83 에이치디솔루션즈㈜\n",
      "84 ㈜프래믹스\n",
      "85 ㈜마인즈에이아이\n",
      "86 ㈜소프트제국\n",
      "87 ㈜피코이노베이션\n",
      "88 프라이빗테크놀로지㈜\n",
      "89 체크멀\n",
      "90 큐브플랫폼㈜\n",
      "91 브이웨이\n",
      "91 와이비에스\n",
      "91 ㈜델타엑스\n",
      "92 ㈜실리콘투\n",
      "93 ㈜파이디지털헬스케어\n",
      "94 ㈜두노소프트\n",
      "95 아스코 주식회사\n",
      "96 한국자산매입㈜\n",
      "97 ㈜버블콘\n",
      "98 넥스원소프트㈜\n",
      "99 ㈜아이니네트웍스\n",
      "100 ㈜힘스\n",
      "101 ㈜웨일로지스틱스\n",
      "102 ㈜스카이컴\n",
      "103 ㈜센티널테크놀로지\n",
      "103 트라이언소프트㈜\n",
      "104 ㈜가이스트코리아\n",
      "105 도미노피자(청오디피케이)\n",
      "106 ㈜비플스\n",
      "106 따벨라\n",
      "106 ㈜오아시스비즈니스\n",
      "107 한국유투더블유㈜\n",
      "108 아이넷피아커뮤니케이션\n",
      "109 ㈜디엑스지\n",
      "110 애커튼테크놀로지서비스\n",
      "111 ㈜씨에스엠17(CSM17)\n",
      "112 ㈜소도커뮤니케이션즈\n",
      "113 ㈜노르마\n",
      "114 ㈜올포랜드\n",
      "115 ㈜플랫브레드\n",
      "116 ㈜세번째 공간\n",
      "117 ㈜연세교육아카데미\n",
      "118 ㈜퍼즐데이터\n",
      "119 ㈜스타비젼\n",
      "120 ㈜비상교육영어사업부\n",
      "121 이롬넷\n",
      "121 ㈜누리인포스\n",
      "122 ㈜띵스파이어\n",
      "123 ㈜커넥트웨이브\n",
      "124 ㈜유니메오\n",
      "125 ㈜아이템베이\n",
      "125 ㈜세찬아이앤씨\n",
      "126 ㈜텔로스\n",
      "127 ㈜비젠소프트\n",
      "128 스마트레이저\n",
      "129 인피니언테크놀로지스파워세미텍(주)\n",
      "130 놀이의발견\n",
      "131 ㈜오케이포스\n",
      "132 오리진\n",
      "133 ㈜픽스\n",
      "134 다온플레이스㈜\n",
      "135 ㈜웨이브\n",
      "136 (주)유라클\n",
      "136 메가스터디교육(주)\n",
      "136 아이낸스㈜\n",
      "137 ㈜알에스엔\n",
      "137 ㈜스타일셀러\n",
      "138 ㈜케이제이프로퍼티\n",
      "139 ㈜웨어밸리\n",
      "140 ㈜테크랩스\n",
      "141 ㈜파비넷\n",
      "142 ㈜커넥션스튜디오\n",
      "143 렉스코드\n",
      "144 ㈜솔리데오시스템즈\n",
      "145 조인아이티\n",
      "146 ㈜이엠포커스\n",
      "147 ㈜보다컴\n",
      "148 ㈜그레이브릿지\n",
      "149 영성미디어㈜\n",
      "150 ㈜아이스크림에듀\n",
      "151 ㈜데이타솔루션\n",
      "151 ㈜아이서포트\n",
      "152 ㈜프라이스원\n",
      "153 마이데이터\n",
      "154 ㈜지로드코리아(CTS기독교TV)\n",
      "155 이티브코딩아트컴퓨터학원\n",
      "156 아이티컨버젼\n",
      "157 블록스퀘어서울\n",
      "158 ㈜아이락커뮤니케이션\n",
      "159 위즈덤마인드㈜\n",
      "160 ㈜셀키(CellKey)\n",
      "161 코드크레인(유)\n",
      "162 토크스테이션\n",
      "163 ㈜스컬드랩스\n",
      "164 엔디소프트㈜\n",
      "165 이지서티\n",
      "166 ㈜에이젠글로벌\n",
      "167 ㈜지니어스나인\n",
      "168 정책평가연구원\n",
      "169 ㈜인티그리트\n",
      "170 ㈜더줌코리아\n",
      "171 ㈜메이크인\n",
      "171 버터소프트(Buttersoft),㈜\n",
      "172 ㈜이엘온소프트\n",
      "173 ㈜뉴로코어\n",
      "174 ㈜마크로젠\n",
      "175 피플라이프㈜\n",
      "176 이데아텍\n",
      "177 주식회사 디자인오브\n",
      "178 아이유노글로벌\n",
      "179 (주)엠포스\n",
      "179 ㈜온택트헬스\n",
      "180 ㈜미래아이엔텍\n",
      "181 트리노드㈜\n",
      "182 한패스㈜\n",
      "183 ㈜에이이엠모빌리티\n",
      "183 스테이지랩스\n",
      "184 큐비트시큐리티\n",
      "185 컨설트인사이드\n",
      "186 ㈜그린잇\n",
      "187 나오빌리\n",
      "188 피나클나인㈜\n",
      "189 ㈜시즐\n",
      "190 ㈜리플럭스\n",
      "191 ㈜조인아이티\n",
      "192 ㈜한국에프디엑스네트웍스\n",
      "193 레몬헬스케어\n",
      "194 ㈜이도\n",
      "195 근남정보기술㈜\n",
      "196 ㈜씨앤에이커뮤니케이션즈\n",
      "197 ㈜엔에스솔루텍\n",
      "198 ㈜메타엠\n",
      "199 조앤소프트㈜\n",
      "200 ㈜피봇브릿지\n",
      "201 엑스솔콥코리아㈜\n",
      "202 ㈜더매치1\n",
      "203 언커먼랩㈜\n",
      "204 ㈜네트콤\n",
      "205 ㈜일렉오션\n",
      "206 ㈜창윤시스템\n",
      "207 아크로노드\n",
      "208 주식회사 온투인\n",
      "209 한신기계공업㈜\n",
      "210 로지브라더스\n",
      "211 ㈜지엔코\n",
      "212 토피아정보기술㈜\n",
      "213 오투오\n",
      "214 ㈜다날\n",
      "214 ㈜엔시스템\n",
      "215 ㈜다름\n",
      "216 ㈜레이풀시스템\n",
      "217 ㈜쓰리웨이\n",
      "218 ㈜솔브원\n",
      "219 ㈜클리프\n",
      "220 럽디㈜\n",
      "221 ㈜다스버스\n",
      "222 ㈜알파플러스\n",
      "223 유니시스템\n",
      "224 ㈜푸드테크\n",
      "225 경동물류\n",
      "226 ㈜더쇼소프웨어\n",
      "227 위티브\n",
      "228 ㈜조이시티\n",
      "229 ㈜알라딘커뮤니케이션\n",
      "230 ㈜디앤디랩\n",
      "231 ㈜태성에스엔아이\n",
      "232 ㈜맥스피아\n",
      "233 바이플㈜\n",
      "234 콜로세움코퍼레이션\n",
      "235 ㈜뱅크클리어\n",
      "236 ㈜우림엔알\n",
      "237 휴마니타스㈜\n",
      "237 ㈜퓨처플랫폼\n",
      "238 ㈜리노커뮤니케이션즈\n",
      "239 행복쇼핑 주식회사\n",
      "240 ㈜에스티엔인포텍\n",
      "241 ㈜피트릭스\n",
      "242 ㈜동행복권\n",
      "243 ㈜페이앤스토어\n",
      "244 (주)한드림넷\n",
      "245 ㈜상생소프트\n",
      "246 더조은아카데미신촌지점\n",
      "247 ㈜재파엑스\n",
      "248 데이터마케팅코리아\n",
      "249 ㈜트라이업\n",
      "250 케이엘정보통신㈜\n",
      "251 ㈜큐부스\n",
      "252 그린에이아이\n",
      "253 ㈜노리앤드\n",
      "254 아토리서치㈜\n",
      "255 ㈜와드\n",
      "256 마스코리아㈜\n",
      "257 ㈜라이브애플리케이션\n",
      "258 더화이트커뮤니케이션㈜\n",
      "259 주식회사 쿠캣\n",
      "260 ㈜부산웹\n",
      "261 ㈜트립토파즈\n",
      "262 ㈜천조\n",
      "263 ㈜비소프트\n",
      "264 ㈜한국이디에스\n",
      "265 리퓨어헬스케어㈜\n",
      "266 ㈜아이센스에프앤비\n",
      "267 ㈜캐시카우\n",
      "268 ㈜에스오더\n",
      "269 ㈜더캐리\n",
      "269 ㈜타임게이트\n",
      "270 씨아이랩스\n",
      "271 코아시스템\n",
      "272 ㈜에이치엔서브\n",
      "273 ㈜더블에스코어\n",
      "274 이브로드캐스팅㈜\n",
      "275 ㈜화물맨\n",
      "276 ㈜예스폼\n",
      "277 카페24(주)\n",
      "278 ㈜심비즈코리아\n",
      "279 ㈜와이오즈\n",
      "280 지니언스(주)\n",
      "281 (주)동아사이언스\n",
      "282 ㈜오너클랜\n",
      "283 ㈜아이퀘스트\n",
      "284 ㈜비전스페이스\n",
      "285 디어유\n",
      "286 ㈜코콤\n",
      "287 현대오토에버㈜\n",
      "288 ㈜기어세컨드\n",
      "289 엔스소프트\n",
      "290 ㈜유진로봇\n",
      "291 ㈜스카이블루\n",
      "292 주식회사 정감\n",
      "293 ㈜티에이치케이컴퍼니\n",
      "294 유니드잡\n",
      "295 ㈜뷰리드\n",
      "296 씨앤토트플러스㈜\n",
      "297 ㈜포커스정보\n",
      "298 ㈜뷰티올\n",
      "299 ㈜디엔에이소프트\n",
      "300 위버로프트㈜\n",
      "301 ㈜지엘엔인터내셔널\n",
      "302 (주)렛유인에듀\n",
      "303 케이알유통㈜\n",
      "304 서울랩스\n",
      "305 ㈜핑거\n",
      "306 에코인사이트글로벌\n",
      "307 ㈜곰앤컴퍼니\n",
      "308 ㈜티모넷\n",
      "309 ㈜한국정보공작소\n",
      "310 엠투클라우드\n",
      "311 아이비티에스㈜\n",
      "312 파인테크소프트㈜(PINETEC\n",
      "313 (주)클릭인포\n",
      "314 ㈜다올피플\n",
      "315 ㈜마켓트리\n",
      "316 ㈜포캐스크이엔엠(PoCask E&M)\n",
      "317 인포뱅크(주)\n",
      "318 ㈜스케치북\n"
     ]
    }
   ],
   "source": [
    "# 찐트\n",
    "idx_1 = 1\n",
    "for url in site_link:\n",
    "    try:\n",
    "        temp = []\n",
    "        url = urlopen(url)\n",
    "        soup = BeautifulSoup(url, 'html.parser')\n",
    "        key = soup.find(\"tbody\").find_all(\"th\", {'class':'field-label'})\n",
    "        links = soup.find(\"tbody\").find_all(\"div\", {'class':'value'})\n",
    "\n",
    "\n",
    "        name = soup.find(\"div\", {'class':'name'}).text\n",
    "        name = name.strip()\n",
    "        # print(name)\n",
    "        temp.append(name)\n",
    "        idx = 1\n",
    "        for l in links:\n",
    "            # print(l.text)\n",
    "            temp.append(l.text)\n",
    "            if idx == 3:\n",
    "                break\n",
    "            idx += 1\n",
    "\n",
    "        # 대졸초봉\n",
    "        salary  = soup.find(\"tbody\").find(\"div\", {'class':'salary-average-item'})\n",
    "        if salary is not None:\n",
    "            # print(salary.text)\n",
    "            temp.append(salary.text)\n",
    "        else:\n",
    "            temp.append('None')\n",
    "\n",
    "        \n",
    "        print(idx_1, name)\n",
    "        pick = soup.find('div', {'class':'employment-status'}).find_all('strong')[1].text\n",
    "        \n",
    "        # print(pick)\n",
    "        temp.append(pick)\n",
    "        time.sleep(4)\n",
    "        idx_1 += 1\n",
    "        last_list.append(temp)\n",
    "\n",
    "    except:\n",
    "        None"
   ]
  },
  {
   "cell_type": "code",
   "execution_count": null,
   "metadata": {},
   "outputs": [],
   "source": [
    "last_list_DF = pd.DataFrame(last_list, columns=('회사','사업', '직원수', '기업구분','대졸초임','정규직 채용'))\n",
    "last_list_DF.to_csv('Enter_info.csv', encoding='utf-8')\n",
    "last_list_DF.to_excel('Enter_info.xlsx')"
   ]
  },
  {
   "cell_type": "code",
   "execution_count": null,
   "metadata": {},
   "outputs": [
    {
     "data": {
      "text/html": [
       "<div>\n",
       "<style scoped>\n",
       "    .dataframe tbody tr th:only-of-type {\n",
       "        vertical-align: middle;\n",
       "    }\n",
       "\n",
       "    .dataframe tbody tr th {\n",
       "        vertical-align: top;\n",
       "    }\n",
       "\n",
       "    .dataframe thead th {\n",
       "        text-align: right;\n",
       "    }\n",
       "</style>\n",
       "<table border=\"1\" class=\"dataframe\">\n",
       "  <thead>\n",
       "    <tr style=\"text-align: right;\">\n",
       "      <th></th>\n",
       "      <th>회사</th>\n",
       "      <th>사업</th>\n",
       "      <th>직원수</th>\n",
       "      <th>기업구분</th>\n",
       "      <th>대졸초임</th>\n",
       "      <th>정규직 채용</th>\n",
       "    </tr>\n",
       "  </thead>\n",
       "  <tbody>\n",
       "    <tr>\n",
       "      <th>0</th>\n",
       "      <td>넛지헬스케어㈜</td>\n",
       "      <td>모바일·APP</td>\n",
       "      <td>227명</td>\n",
       "      <td>벤처기업</td>\n",
       "      <td>None</td>\n",
       "      <td>100회</td>\n",
       "    </tr>\n",
       "    <tr>\n",
       "      <th>1</th>\n",
       "      <td>㈜코리아페이먼트</td>\n",
       "      <td>솔루션·SI·CRM·ERP</td>\n",
       "      <td>8명</td>\n",
       "      <td>중소기업</td>\n",
       "      <td>None</td>\n",
       "      <td>2회</td>\n",
       "    </tr>\n",
       "    <tr>\n",
       "      <th>2</th>\n",
       "      <td>㈜좋은정보기술</td>\n",
       "      <td>응용 소프트웨어 개발 및 공급업</td>\n",
       "      <td>15명</td>\n",
       "      <td>중소기업</td>\n",
       "      <td>None</td>\n",
       "      <td>51회</td>\n",
       "    </tr>\n",
       "    <tr>\n",
       "      <th>3</th>\n",
       "      <td>테크에스지㈜</td>\n",
       "      <td>기타 부동산 개발 및 공급업</td>\n",
       "      <td>5명</td>\n",
       "      <td>중소기업</td>\n",
       "      <td>None</td>\n",
       "      <td>7회</td>\n",
       "    </tr>\n",
       "    <tr>\n",
       "      <th>4</th>\n",
       "      <td>한국스마트정보교육원</td>\n",
       "      <td>기타 기술 및 직업훈련학원</td>\n",
       "      <td>4명</td>\n",
       "      <td>중소기업</td>\n",
       "      <td>None</td>\n",
       "      <td>8회</td>\n",
       "    </tr>\n",
       "    <tr>\n",
       "      <th>...</th>\n",
       "      <td>...</td>\n",
       "      <td>...</td>\n",
       "      <td>...</td>\n",
       "      <td>...</td>\n",
       "      <td>...</td>\n",
       "      <td>...</td>\n",
       "    </tr>\n",
       "    <tr>\n",
       "      <th>365</th>\n",
       "      <td>㈜다올피플</td>\n",
       "      <td>응용 소프트웨어 개발 및 공급업</td>\n",
       "      <td>2명</td>\n",
       "      <td>중소기업</td>\n",
       "      <td>None</td>\n",
       "      <td>1회</td>\n",
       "    </tr>\n",
       "    <tr>\n",
       "      <th>366</th>\n",
       "      <td>㈜마켓트리</td>\n",
       "      <td>모바일·APP</td>\n",
       "      <td>20명</td>\n",
       "      <td>중소기업</td>\n",
       "      <td>3,900만원</td>\n",
       "      <td>72회</td>\n",
       "    </tr>\n",
       "    <tr>\n",
       "      <th>367</th>\n",
       "      <td>㈜포캐스크이엔엠(PoCask E&amp;M)</td>\n",
       "      <td>광고 대행업</td>\n",
       "      <td>15명</td>\n",
       "      <td>중소기업</td>\n",
       "      <td>None</td>\n",
       "      <td>21회</td>\n",
       "    </tr>\n",
       "    <tr>\n",
       "      <th>368</th>\n",
       "      <td>인포뱅크(주)</td>\n",
       "      <td>그 외 기타 정보 서비스업</td>\n",
       "      <td>181명</td>\n",
       "      <td>중견기업</td>\n",
       "      <td>4,100만원</td>\n",
       "      <td>122회</td>\n",
       "    </tr>\n",
       "    <tr>\n",
       "      <th>369</th>\n",
       "      <td>㈜스케치북</td>\n",
       "      <td>응용 소프트웨어 개발 및 공급업</td>\n",
       "      <td>20명</td>\n",
       "      <td>중소기업</td>\n",
       "      <td>3,120만원</td>\n",
       "      <td>22회</td>\n",
       "    </tr>\n",
       "  </tbody>\n",
       "</table>\n",
       "<p>370 rows × 6 columns</p>\n",
       "</div>"
      ],
      "text/plain": [
       "                       회사                 사업   직원수  기업구분     대졸초임 정규직 채용\n",
       "0                 넛지헬스케어㈜            모바일·APP  227명  벤처기업     None   100회\n",
       "1                ㈜코리아페이먼트     솔루션·SI·CRM·ERP    8명  중소기업     None     2회\n",
       "2                 ㈜좋은정보기술  응용 소프트웨어 개발 및 공급업   15명  중소기업     None    51회\n",
       "3                  테크에스지㈜    기타 부동산 개발 및 공급업    5명  중소기업     None     7회\n",
       "4              한국스마트정보교육원     기타 기술 및 직업훈련학원    4명  중소기업     None     8회\n",
       "..                    ...                ...   ...   ...      ...    ...\n",
       "365                 ㈜다올피플  응용 소프트웨어 개발 및 공급업    2명  중소기업     None     1회\n",
       "366                 ㈜마켓트리            모바일·APP   20명  중소기업  3,900만원    72회\n",
       "367  ㈜포캐스크이엔엠(PoCask E&M)             광고 대행업   15명  중소기업     None    21회\n",
       "368               인포뱅크(주)     그 외 기타 정보 서비스업  181명  중견기업  4,100만원   122회\n",
       "369                 ㈜스케치북  응용 소프트웨어 개발 및 공급업   20명  중소기업  3,120만원    22회\n",
       "\n",
       "[370 rows x 6 columns]"
      ]
     },
     "execution_count": 302,
     "metadata": {},
     "output_type": "execute_result"
    }
   ],
   "source": [
    "last_list_DF"
   ]
  },
  {
   "cell_type": "markdown",
   "metadata": {},
   "source": [
    "### 정규직 채용"
   ]
  },
  {
   "cell_type": "code",
   "execution_count": null,
   "metadata": {},
   "outputs": [
    {
     "ename": "NameError",
     "evalue": "name 'last_list_DF' is not defined",
     "output_type": "error",
     "traceback": [
      "\u001b[1;31m---------------------------------------------------------------------------\u001b[0m",
      "\u001b[1;31mNameError\u001b[0m                                 Traceback (most recent call last)",
      "Cell \u001b[1;32mIn[1], line 1\u001b[0m\n\u001b[1;32m----> 1\u001b[0m last_list_DF[\u001b[38;5;124m'\u001b[39m\u001b[38;5;124m정규직 채용\u001b[39m\u001b[38;5;124m'\u001b[39m]\u001b[38;5;241m.\u001b[39mreplace(\u001b[38;5;124m'\u001b[39m\u001b[38;5;124m회\u001b[39m\u001b[38;5;124m'\u001b[39m,\u001b[38;5;124m'\u001b[39m\u001b[38;5;124m'\u001b[39m,inplace\u001b[38;5;241m=\u001b[39m\u001b[38;5;28;01mTrue\u001b[39;00m)\n",
      "\u001b[1;31mNameError\u001b[0m: name 'last_list_DF' is not defined"
     ]
    }
   ],
   "source": [
    "last_list_DF['정규직 채용'].replace('회','',inplace=True)"
   ]
  }
 ],
 "metadata": {
  "kernelspec": {
   "display_name": "base",
   "language": "python",
   "name": "python3"
  },
  "language_info": {
   "codemirror_mode": {
    "name": "ipython",
    "version": 3
   },
   "file_extension": ".py",
   "mimetype": "text/x-python",
   "name": "python",
   "nbconvert_exporter": "python",
   "pygments_lexer": "ipython3",
   "version": "3.11.7"
  }
 },
 "nbformat": 4,
 "nbformat_minor": 2
}
