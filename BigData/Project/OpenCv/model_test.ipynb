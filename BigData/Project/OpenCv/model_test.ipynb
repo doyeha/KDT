{
 "cells": [
  {
   "cell_type": "code",
   "execution_count": 1,
   "metadata": {},
   "outputs": [],
   "source": [
    "import cv2  # 이미지 데이터 ndarray\n",
    "import os\n",
    "import numpy as np\n",
    "import matplotlib.pyplot as plt\n",
    "\n",
    "import torch\n",
    "import torch.nn as nn\n",
    "from torch.utils.data import random_split\n",
    "from torchvision.datasets import ImageFolder\n",
    "from torchvision.transforms import v2\n",
    "from torchvision import transforms\n",
    "from torch.utils.data import DataLoader,Dataset\n",
    "import torchvision.models as models\n",
    "from torchinfo import summary\n",
    "\n",
    "\n",
    "import pickle       # 피클(pickle)된 데이터를 역직렬화(deserialize)**하는 함수\n",
    "\n",
    "\n",
    "from PIL import Image   # 이미지 데이터 JPGImage"
   ]
  },
  {
   "cell_type": "code",
   "execution_count": 9,
   "metadata": {},
   "outputs": [
    {
     "name": "stdout",
     "output_type": "stream",
     "text": [
      "Predicted class: (tensor([[1.0000e+00, 9.5460e-09, 3.6003e-09, 2.6212e-07, 1.0860e-09, 8.8221e-08]]), 0)\n"
     ]
    }
   ],
   "source": [
    "def load_image(image_path):\n",
    "    image = Image.open(image_path).convert('RGB')\n",
    "    return image\n",
    "\n",
    "preprocess = transforms.Compose([\n",
    "    # transforms.Resize((224, 224)),  # 이미지 크기 조정 (모델에 따라 조정 필요)\n",
    "    transforms.ToTensor()          # 텐서로 변환\n",
    "    # transforms.Normalize(mean=[0.485, 0.456, 0.406], std=[0.229, 0.224, 0.225]),  # 정규화 (VGG16 모델에 맞춘 값)\n",
    "])\n",
    "\n",
    "def predict(image_path, model):\n",
    "    image = load_image(image_path)   # 이미지 로드\n",
    "    image = preprocess(image)         # 전처리 적용\n",
    "    image = image.unsqueeze(0)        # 배치 차원 추가\n",
    "    image = image         # 디바이스로 이동\n",
    "\n",
    "    with torch.no_grad():             # 그라디언트 계산 비활성화\n",
    "        outputs = model(image)        # 모델에 이미지 입력\n",
    "        probabilities = torch.softmax(outputs, dim=1)  # 소프트맥스 적용\n",
    "        # print(probabilities)          # 각 클래스에 대한 확률 출력\n",
    "        _, predicted = torch.max(probabilities.data, 1)  # 예측 클래스\n",
    "\n",
    "    return probabilities, predicted.item()\n",
    "\n",
    "# 모델 로드\n",
    "\n",
    "model = torch.load(r'C:\\Git\\KDT\\BigData\\Project\\OpenCv\\models\\6class_final_model_train_wbs.pth',weights_only=False ,map_location=torch.device('cpu'))  # 가중치 불러오기\n",
    "model.eval()  # 모델 평가 모드로 전환\n",
    "# model\n",
    "# 예측할 이미지 경로\n",
    "image_path = r'C:\\Git\\KDT\\BigData\\Project\\OpenCv\\Data_all\\test\\BearGGu (7).jpg'\n",
    "# print(r\"C:\\Users\\Doyeon\\Desktop\\KDT\\OpenCV\\test\\u76.jpg\")\n",
    "# 예측 수행\n",
    "predicted_class = predict(image_path, model)\n",
    "print(f'Predicted class: {predicted_class}')"
   ]
  },
  {
   "cell_type": "code",
   "execution_count": null,
   "metadata": {},
   "outputs": [],
   "source": [
    "model = models.resnet18(pretrained=True)\n",
    "num_ftrs = model.fc.in_features\n",
    "model.fc = nn.Linear(num_ftrs, 6)\n",
    "\n",
    "device = torch.device(\"cuda\" if torch.cuda.is_available() else \"cpu\")\n",
    "if device == 'cuda':\n",
    "    print(\"cuda\")\n",
    "else:\n",
    "    print(\"cpu\")\n",
    "model = model.to(device)\n",
    "\n",
    "def initialize_weights(m):\n",
    "    if isinstance(m, nn.Linear):\n",
    "        nn.init.kaiming_normal_(m.weight)\n",
    "        nn.init.constant_(m.bias, 0)\n",
    "\n",
    "model.apply(initialize_weights)\n",
    "# 손실 함수와 옵티마이저 설정\n",
    "class_weights = torch.tensor([1.0, 1.0, 1.0, 1.0, 1.0, 1.0]).to(device)\n",
    "criterion = nn.CrossEntropyLoss(weight=class_weights)\n",
    "optimizer = torch.optim.Adam(model.parameters(), lr=0.0001)"
   ]
  }
 ],
 "metadata": {
  "kernelspec": {
   "display_name": "TORCH_CV_38",
   "language": "python",
   "name": "python3"
  },
  "language_info": {
   "codemirror_mode": {
    "name": "ipython",
    "version": 3
   },
   "file_extension": ".py",
   "mimetype": "text/x-python",
   "name": "python",
   "nbconvert_exporter": "python",
   "pygments_lexer": "ipython3",
   "version": "3.8.19"
  }
 },
 "nbformat": 4,
 "nbformat_minor": 2
}
