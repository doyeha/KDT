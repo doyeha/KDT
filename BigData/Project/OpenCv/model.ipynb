{
 "cells": [
  {
   "cell_type": "code",
   "execution_count": 9,
   "metadata": {},
   "outputs": [],
   "source": [
    "import cv2  # 이미지 데이터 ndarray\n",
    "import os\n",
    "import numpy as np\n",
    "import matplotlib.pyplot as plt\n",
    "\n",
    "import torch\n",
    "from torchvision import transforms\n",
    "from torch.utils.data import DataLoader,Dataset\n",
    "\n",
    "import pickle       # 피클(pickle)된 데이터를 역직렬화(deserialize)**하는 함수\n",
    "\n",
    "\n",
    "from PIL import Image   # 이미지 데이터 JPGImage"
   ]
  },
  {
   "cell_type": "code",
   "execution_count": 8,
   "metadata": {},
   "outputs": [
    {
     "name": "stdout",
     "output_type": "stream",
     "text": [
      "BearGGu\n",
      "ChunSik\n",
      "GomDyoRi\n",
      "MangGom\n",
      "Retriever\n",
      "Wadada\n"
     ]
    }
   ],
   "source": [
    "FILE_PATH = r\"C:\\Users\\kjy19\\OneDrive\\Desktop\\Project_image\\Data/\"\n",
    "# \"C:\\Users\\kjy19\\OneDrive\\Desktop\\Project_image\\Data\"\n",
    "DataList = os.listdir(FILE_PATH)\n",
    "\n",
    "for item in DataList: print(item)"
   ]
  },
  {
   "cell_type": "code",
   "execution_count": 10,
   "metadata": {},
   "outputs": [],
   "source": [
    "def unpickle(file):\n",
    "    with open(file, 'rb') as fo:\n",
    "        dict = pickle.load(fo, encoding='bytes')\n",
    "    return dict"
   ]
  },
  {
   "cell_type": "code",
   "execution_count": 12,
   "metadata": {},
   "outputs": [
    {
     "ename": "NameError",
     "evalue": "name 'itemDict' is not defined",
     "output_type": "error",
     "traceback": [
      "\u001b[1;31m---------------------------------------------------------------------------\u001b[0m",
      "\u001b[1;31mNameError\u001b[0m                                 Traceback (most recent call last)",
      "Cell \u001b[1;32mIn[12], line 6\u001b[0m\n\u001b[0;32m      4\u001b[0m \u001b[38;5;28;01mexcept\u001b[39;00m:\n\u001b[0;32m      5\u001b[0m     \u001b[38;5;28;01mpass\u001b[39;00m\n\u001b[1;32m----> 6\u001b[0m \u001b[38;5;28mprint\u001b[39m(\u001b[38;5;124mf\u001b[39m\u001b[38;5;124m'\u001b[39m\u001b[38;5;124m[\u001b[39m\u001b[38;5;132;01m{\u001b[39;00mitem\u001b[38;5;132;01m}\u001b[39;00m\u001b[38;5;124m FILE] \u001b[39m\u001b[38;5;132;01m{\u001b[39;00mitemDict\u001b[38;5;241m.\u001b[39mkeys()\u001b[38;5;132;01m}\u001b[39;00m\u001b[38;5;124m'\u001b[39m)\n",
      "\u001b[1;31mNameError\u001b[0m: name 'itemDict' is not defined"
     ]
    }
   ],
   "source": [
    "for item in DataList:\n",
    "    try:\n",
    "        itemDict = unpickle(FILE_PATH + item)\n",
    "    except:\n",
    "        pass\n",
    "    print(f'[{item} FILE] {itemDict.keys()}')"
   ]
  }
 ],
 "metadata": {
  "kernelspec": {
   "display_name": "TORCH_CV_38",
   "language": "python",
   "name": "python3"
  },
  "language_info": {
   "codemirror_mode": {
    "name": "ipython",
    "version": 3
   },
   "file_extension": ".py",
   "mimetype": "text/x-python",
   "name": "python",
   "nbconvert_exporter": "python",
   "pygments_lexer": "ipython3",
   "version": "3.8.19"
  }
 },
 "nbformat": 4,
 "nbformat_minor": 2
}
