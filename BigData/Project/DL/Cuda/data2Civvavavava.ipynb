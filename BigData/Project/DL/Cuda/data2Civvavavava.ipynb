{
 "cells": [
  {
   "cell_type": "code",
   "execution_count": 2,
   "metadata": {},
   "outputs": [
    {
     "name": "stdout",
     "output_type": "stream",
     "text": [
      "<option> 1 </option>\n",
      "<option> 2 </option>\n",
      "<option> 3 </option>\n",
      "<option> 4 </option>\n",
      "<option> 5 </option>\n",
      "<option> 6 </option>\n",
      "<option> 7 </option>\n",
      "<option> 8 </option>\n",
      "<option> 9 </option>\n",
      "<option> 10 </option>\n",
      "<option> 11 </option>\n",
      "<option> 12 </option>\n",
      "<option> 13 </option>\n",
      "<option> 14 </option>\n",
      "<option> 15 </option>\n",
      "<option> 16 </option>\n",
      "<option> 17 </option>\n",
      "<option> 18 </option>\n",
      "<option> 19 </option>\n",
      "<option> 20 </option>\n",
      "<option> 21 </option>\n",
      "<option> 22 </option>\n",
      "<option> 23 </option>\n",
      "<option> 24 </option>\n",
      "<option> 25 </option>\n",
      "<option> 26 </option>\n",
      "<option> 27 </option>\n",
      "<option> 28 </option>\n",
      "<option> 29 </option>\n",
      "<option> 30 </option>\n",
      "<option> 31 </option>\n",
      "<option> 32 </option>\n",
      "<option> 33 </option>\n",
      "<option> 34 </option>\n",
      "<option> 35 </option>\n",
      "<option> 36 </option>\n",
      "<option> 37 </option>\n",
      "<option> 38 </option>\n",
      "<option> 39 </option>\n",
      "<option> 40 </option>\n",
      "<option> 41 </option>\n",
      "<option> 42 </option>\n",
      "<option> 43 </option>\n",
      "<option> 44 </option>\n",
      "<option> 45 </option>\n",
      "<option> 46 </option>\n",
      "<option> 47 </option>\n",
      "<option> 48 </option>\n",
      "<option> 49 </option>\n",
      "<option> 50 </option>\n"
     ]
    }
   ],
   "source": [
    "for i in range(1,51):\n",
    "    print(f'<option> {i} </option>')"
   ]
  }
 ],
 "metadata": {
  "kernelspec": {
   "display_name": "TORCH_38",
   "language": "python",
   "name": "python3"
  },
  "language_info": {
   "codemirror_mode": {
    "name": "ipython",
    "version": 3
   },
   "file_extension": ".py",
   "mimetype": "text/x-python",
   "name": "python",
   "nbconvert_exporter": "python",
   "pygments_lexer": "ipython3",
   "version": "3.8.19"
  }
 },
 "nbformat": 4,
 "nbformat_minor": 2
}
