{
 "cells": [
  {
   "cell_type": "code",
   "execution_count": 188,
   "metadata": {},
   "outputs": [],
   "source": [
    "import matplotlib.pyplot as plt\n",
    "import koreanize_matplotlib\n",
    "import pandas as pd\n",
    "import csv\n",
    "\n",
    "\n",
    "file_name = 'Climate_year_DF.xlsx'\n",
    "storm = 'pacific.csv'\n",
    "Climate = pd.read_excel(file_name)\n",
    "Cyclone = pd.read_csv(storm)"
   ]
  },
  {
   "cell_type": "code",
   "execution_count": 189,
   "metadata": {},
   "outputs": [],
   "source": [
    "# Cyclone['Date'] = pd.to_datetime(Cyclone['Date'])\n",
    "# 1980 ~ 2010 \n",
    "Cyclone['Date']\t=\tpd.to_datetime(Cyclone['Date'],\tformat='%Y%m%d')\n",
    "Cyclone = Cyclone[(Cyclone['Date'].dt.year>=1980) & (Cyclone['Date'].dt.year<=2010)]\n",
    "Cyclone.drop(['Low Wind NE','Low Wind SE','Low Wind SW','Low Wind NW','Moderate Wind NE','Moderate Wind SE','Moderate Wind SW','Moderate Wind NW','High Wind NE','High Wind SE','High Wind SW','High Wind NW'], axis=1, inplace=True)\n"
   ]
  },
  {
   "cell_type": "code",
   "execution_count": 190,
   "metadata": {},
   "outputs": [
    {
     "data": {
      "text/html": [
       "<div>\n",
       "<style scoped>\n",
       "    .dataframe tbody tr th:only-of-type {\n",
       "        vertical-align: middle;\n",
       "    }\n",
       "\n",
       "    .dataframe tbody tr th {\n",
       "        vertical-align: top;\n",
       "    }\n",
       "\n",
       "    .dataframe thead th {\n",
       "        text-align: right;\n",
       "    }\n",
       "</style>\n",
       "<table border=\"1\" class=\"dataframe\">\n",
       "  <thead>\n",
       "    <tr style=\"text-align: right;\">\n",
       "      <th></th>\n",
       "      <th>ID</th>\n",
       "      <th>Name</th>\n",
       "      <th>Date</th>\n",
       "      <th>Time</th>\n",
       "      <th>Event</th>\n",
       "      <th>Status</th>\n",
       "      <th>Latitude</th>\n",
       "      <th>Longitude</th>\n",
       "      <th>Maximum Wind</th>\n",
       "      <th>Minimum Pressure</th>\n",
       "    </tr>\n",
       "  </thead>\n",
       "  <tbody>\n",
       "    <tr>\n",
       "      <th>7625</th>\n",
       "      <td>EP011980</td>\n",
       "      <td>AGATHA</td>\n",
       "      <td>1980-06-09</td>\n",
       "      <td>0</td>\n",
       "      <td></td>\n",
       "      <td>TD</td>\n",
       "      <td>8.9N</td>\n",
       "      <td>111.0W</td>\n",
       "      <td>30</td>\n",
       "      <td>-999</td>\n",
       "    </tr>\n",
       "    <tr>\n",
       "      <th>7626</th>\n",
       "      <td>EP011980</td>\n",
       "      <td>AGATHA</td>\n",
       "      <td>1980-06-09</td>\n",
       "      <td>600</td>\n",
       "      <td></td>\n",
       "      <td>TD</td>\n",
       "      <td>8.7N</td>\n",
       "      <td>111.8W</td>\n",
       "      <td>30</td>\n",
       "      <td>-999</td>\n",
       "    </tr>\n",
       "    <tr>\n",
       "      <th>7627</th>\n",
       "      <td>EP011980</td>\n",
       "      <td>AGATHA</td>\n",
       "      <td>1980-06-09</td>\n",
       "      <td>1200</td>\n",
       "      <td></td>\n",
       "      <td>TD</td>\n",
       "      <td>8.5N</td>\n",
       "      <td>112.8W</td>\n",
       "      <td>30</td>\n",
       "      <td>-999</td>\n",
       "    </tr>\n",
       "    <tr>\n",
       "      <th>7628</th>\n",
       "      <td>EP011980</td>\n",
       "      <td>AGATHA</td>\n",
       "      <td>1980-06-09</td>\n",
       "      <td>1800</td>\n",
       "      <td></td>\n",
       "      <td>TS</td>\n",
       "      <td>8.3N</td>\n",
       "      <td>113.7W</td>\n",
       "      <td>45</td>\n",
       "      <td>-999</td>\n",
       "    </tr>\n",
       "    <tr>\n",
       "      <th>7629</th>\n",
       "      <td>EP011980</td>\n",
       "      <td>AGATHA</td>\n",
       "      <td>1980-06-10</td>\n",
       "      <td>0</td>\n",
       "      <td></td>\n",
       "      <td>TS</td>\n",
       "      <td>8.4N</td>\n",
       "      <td>114.5W</td>\n",
       "      <td>45</td>\n",
       "      <td>-999</td>\n",
       "    </tr>\n",
       "    <tr>\n",
       "      <th>...</th>\n",
       "      <td>...</td>\n",
       "      <td>...</td>\n",
       "      <td>...</td>\n",
       "      <td>...</td>\n",
       "      <td>...</td>\n",
       "      <td>...</td>\n",
       "      <td>...</td>\n",
       "      <td>...</td>\n",
       "      <td>...</td>\n",
       "      <td>...</td>\n",
       "    </tr>\n",
       "    <tr>\n",
       "      <th>23096</th>\n",
       "      <td>CP012010</td>\n",
       "      <td>OMEKA</td>\n",
       "      <td>2010-12-21</td>\n",
       "      <td>1800</td>\n",
       "      <td></td>\n",
       "      <td>PT</td>\n",
       "      <td>29.0N</td>\n",
       "      <td>172.6W</td>\n",
       "      <td>35</td>\n",
       "      <td>1002</td>\n",
       "    </tr>\n",
       "    <tr>\n",
       "      <th>23097</th>\n",
       "      <td>CP012010</td>\n",
       "      <td>OMEKA</td>\n",
       "      <td>2010-12-22</td>\n",
       "      <td>0</td>\n",
       "      <td></td>\n",
       "      <td>PT</td>\n",
       "      <td>30.7N</td>\n",
       "      <td>172.2W</td>\n",
       "      <td>30</td>\n",
       "      <td>1002</td>\n",
       "    </tr>\n",
       "    <tr>\n",
       "      <th>23098</th>\n",
       "      <td>CP012010</td>\n",
       "      <td>OMEKA</td>\n",
       "      <td>2010-12-22</td>\n",
       "      <td>600</td>\n",
       "      <td></td>\n",
       "      <td>PT</td>\n",
       "      <td>32.2N</td>\n",
       "      <td>172.4W</td>\n",
       "      <td>30</td>\n",
       "      <td>1004</td>\n",
       "    </tr>\n",
       "    <tr>\n",
       "      <th>23099</th>\n",
       "      <td>CP012010</td>\n",
       "      <td>OMEKA</td>\n",
       "      <td>2010-12-22</td>\n",
       "      <td>1200</td>\n",
       "      <td></td>\n",
       "      <td>PT</td>\n",
       "      <td>33.3N</td>\n",
       "      <td>172.3W</td>\n",
       "      <td>25</td>\n",
       "      <td>1006</td>\n",
       "    </tr>\n",
       "    <tr>\n",
       "      <th>23100</th>\n",
       "      <td>CP012010</td>\n",
       "      <td>OMEKA</td>\n",
       "      <td>2010-12-22</td>\n",
       "      <td>1800</td>\n",
       "      <td></td>\n",
       "      <td>PT</td>\n",
       "      <td>34.1N</td>\n",
       "      <td>172.0W</td>\n",
       "      <td>25</td>\n",
       "      <td>1008</td>\n",
       "    </tr>\n",
       "  </tbody>\n",
       "</table>\n",
       "<p>15476 rows × 10 columns</p>\n",
       "</div>"
      ],
      "text/plain": [
       "             ID                 Name       Date  Time Event Status Latitude  \\\n",
       "7625   EP011980               AGATHA 1980-06-09     0           TD     8.9N   \n",
       "7626   EP011980               AGATHA 1980-06-09   600           TD     8.7N   \n",
       "7627   EP011980               AGATHA 1980-06-09  1200           TD     8.5N   \n",
       "7628   EP011980               AGATHA 1980-06-09  1800           TS     8.3N   \n",
       "7629   EP011980               AGATHA 1980-06-10     0           TS     8.4N   \n",
       "...         ...                  ...        ...   ...   ...    ...      ...   \n",
       "23096  CP012010                OMEKA 2010-12-21  1800           PT    29.0N   \n",
       "23097  CP012010                OMEKA 2010-12-22     0           PT    30.7N   \n",
       "23098  CP012010                OMEKA 2010-12-22   600           PT    32.2N   \n",
       "23099  CP012010                OMEKA 2010-12-22  1200           PT    33.3N   \n",
       "23100  CP012010                OMEKA 2010-12-22  1800           PT    34.1N   \n",
       "\n",
       "      Longitude  Maximum Wind  Minimum Pressure  \n",
       "7625     111.0W            30              -999  \n",
       "7626     111.8W            30              -999  \n",
       "7627     112.8W            30              -999  \n",
       "7628     113.7W            45              -999  \n",
       "7629     114.5W            45              -999  \n",
       "...         ...           ...               ...  \n",
       "23096    172.6W            35              1002  \n",
       "23097    172.2W            30              1002  \n",
       "23098    172.4W            30              1004  \n",
       "23099    172.3W            25              1006  \n",
       "23100    172.0W            25              1008  \n",
       "\n",
       "[15476 rows x 10 columns]"
      ]
     },
     "execution_count": 190,
     "metadata": {},
     "output_type": "execute_result"
    }
   ],
   "source": [
    "Cyclone"
   ]
  },
  {
   "cell_type": "code",
   "execution_count": 191,
   "metadata": {},
   "outputs": [
    {
     "data": {
      "text/plain": [
       "63"
      ]
     },
     "execution_count": 191,
     "metadata": {},
     "output_type": "execute_result"
    }
   ],
   "source": [
    "Cyclone['Name']= Cyclone['Name'].str.rstrip().str.lstrip()\n",
    "len(Cyclone[Cyclone['Name'] == 'UNNAMED']['ID'].unique())   # 63개의 언네임드 태풍 존재."
   ]
  },
  {
   "cell_type": "code",
   "execution_count": 192,
   "metadata": {},
   "outputs": [
    {
     "data": {
      "text/plain": [
       "(594, 182)"
      ]
     },
     "execution_count": 192,
     "metadata": {},
     "output_type": "execute_result"
    }
   ],
   "source": [
    "len(Cyclone['ID'].unique()), len(Cyclone['Name'].unique())"
   ]
  },
  {
   "cell_type": "code",
   "execution_count": 193,
   "metadata": {},
   "outputs": [
    {
     "data": {
      "text/plain": [
       "[]"
      ]
     },
     "execution_count": 193,
     "metadata": {},
     "output_type": "execute_result"
    }
   ],
   "source": [
    "[]"
   ]
  },
  {
   "cell_type": "code",
   "execution_count": null,
   "metadata": {},
   "outputs": [],
   "source": []
  },
  {
   "cell_type": "code",
   "execution_count": 194,
   "metadata": {},
   "outputs": [
    {
     "data": {
      "text/plain": [
       "array([' TD', ' TS', ' HU', ' ET', ' LO', ' EX', ' DB', ' SD', ' SS',\n",
       "       ' PT'], dtype=object)"
      ]
     },
     "execution_count": 194,
     "metadata": {},
     "output_type": "execute_result"
    }
   ],
   "source": [
    "Cyclone['Status'].unique()"
   ]
  },
  {
   "cell_type": "code",
   "execution_count": 195,
   "metadata": {},
   "outputs": [],
   "source": [
    "# 년도별 ID 갯수 세기 = 년도별 태풍 발생 갯수\n",
    "# # len(Cyclone[Cyclone['Date'].dt.year == 1980]['ID'].unique())"
   ]
  },
  {
   "cell_type": "code",
   "execution_count": 196,
   "metadata": {},
   "outputs": [
    {
     "data": {
      "text/plain": [
       "[14,\n",
       " 15,\n",
       " 23,\n",
       " 21,\n",
       " 21,\n",
       " 23,\n",
       " 17,\n",
       " 20,\n",
       " 22,\n",
       " 24,\n",
       " 25,\n",
       " 16,\n",
       " 30,\n",
       " 18,\n",
       " 22,\n",
       " 11,\n",
       " 13,\n",
       " 24,\n",
       " 16,\n",
       " 14,\n",
       " 21,\n",
       " 19,\n",
       " 19,\n",
       " 17,\n",
       " 17,\n",
       " 17,\n",
       " 25,\n",
       " 15,\n",
       " 19,\n",
       " 23,\n",
       " 13]"
      ]
     },
     "execution_count": 196,
     "metadata": {},
     "output_type": "execute_result"
    }
   ],
   "source": [
    "Created_Cyclone = []\n",
    "for y in range(1980,2011):\n",
    "    Created_Cyclone.append(len(Cyclone[Cyclone['Date'].dt.year == y]['ID'].unique()))\n",
    "Created_Cyclone"
   ]
  },
  {
   "cell_type": "code",
   "execution_count": 197,
   "metadata": {},
   "outputs": [
    {
     "data": {
      "text/plain": [
       "{'1980': 14,\n",
       " '1981': 15,\n",
       " '1982': 23,\n",
       " '1983': 21,\n",
       " '1984': 21,\n",
       " '1985': 23,\n",
       " '1986': 17,\n",
       " '1987': 20,\n",
       " '1988': 22,\n",
       " '1989': 24,\n",
       " '1990': 25,\n",
       " '1991': 16,\n",
       " '1992': 30,\n",
       " '1993': 18,\n",
       " '1994': 22,\n",
       " '1995': 11,\n",
       " '1996': 13,\n",
       " '1997': 24,\n",
       " '1998': 16,\n",
       " '1999': 14,\n",
       " '2000': 21,\n",
       " '2001': 19,\n",
       " '2002': 19,\n",
       " '2003': 17,\n",
       " '2004': 17,\n",
       " '2005': 17,\n",
       " '2006': 25,\n",
       " '2007': 15,\n",
       " '2008': 19,\n",
       " '2009': 23,\n",
       " '2010': 13}"
      ]
     },
     "execution_count": 197,
     "metadata": {},
     "output_type": "execute_result"
    }
   ],
   "source": [
    "CC = {}\n",
    "idx = 0\n",
    "for i in range(1980,2011):\n",
    "    CC[f'{i}'] = Created_Cyclone[idx]\n",
    "    idx+=1\n",
    "CC\n"
   ]
  },
  {
   "cell_type": "code",
   "execution_count": 210,
   "metadata": {},
   "outputs": [
    {
     "ename": "AttributeError",
     "evalue": "'list' object has no attribute 'keys'",
     "output_type": "error",
     "traceback": [
      "\u001b[1;31m---------------------------------------------------------------------------\u001b[0m",
      "\u001b[1;31mAttributeError\u001b[0m                            Traceback (most recent call last)",
      "Cell \u001b[1;32mIn[210], line 2\u001b[0m\n\u001b[0;32m      1\u001b[0m \u001b[38;5;66;03m# CCdf = pd.DataFrame(CC)\u001b[39;00m\n\u001b[1;32m----> 2\u001b[0m CC \u001b[38;5;241m=\u001b[39m \u001b[38;5;28mlist\u001b[39m(\u001b[43mCC\u001b[49m\u001b[38;5;241;43m.\u001b[39;49m\u001b[43mkeys\u001b[49m())\n\u001b[0;32m      3\u001b[0m CC\n",
      "\u001b[1;31mAttributeError\u001b[0m: 'list' object has no attribute 'keys'"
     ]
    }
   ],
   "source": [
    "# CCdf = pd.DataFrame(CC)\n",
    "# CC = list(CC.keys())\n",
    "# CC"
   ]
  },
  {
   "cell_type": "code",
   "execution_count": 199,
   "metadata": {},
   "outputs": [
    {
     "data": {
      "image/png": "[encoded data removed]",
      "text/plain": [
       "<Figure size 640x480 with 1 Axes>"
      ]
     },
     "metadata": {},
     "output_type": "display_data"
    }
   ],
   "source": [
    "# year_list = [i for i in range(1980,2011)]\n",
    "plt.plot(CC,Created_Cyclone)\n",
    "plt.title('1980 ~ 2010년도 태풍 발생 빈도')\n",
    "plt.show()"
   ]
  },
  {
   "cell_type": "code",
   "execution_count": 209,
   "metadata": {},
   "outputs": [],
   "source": [
    "lat = len(Cyclone['Latitude'].values.tolist())\n",
    "lon = Cyclone['Longitude'].values.tolist()\n",
    "\n",
    "# type(Cyclone['Latitude'].values.tolist())"
   ]
  }
 ],
 "metadata": {
  "kernelspec": {
   "display_name": "EV_PY39",
   "language": "python",
   "name": "python3"
  },
  "language_info": {
   "codemirror_mode": {
    "name": "ipython",
    "version": 3
   },
   "file_extension": ".py",
   "mimetype": "text/x-python",
   "name": "python",
   "nbconvert_exporter": "python",
   "pygments_lexer": "ipython3",
   "version": "3.9.19"
  }
 },
 "nbformat": 4,
 "nbformat_minor": 2
}
