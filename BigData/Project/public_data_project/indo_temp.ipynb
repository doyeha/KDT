{
 "cells": [
  {
   "cell_type": "code",
   "execution_count": 11,
   "metadata": {},
   "outputs": [],
   "source": [
    "import matplotlib.pyplot as plt\n",
    "import koreanize_matplotlib\n",
    "import pandas as pd\n",
    "import csv\n",
    "\n",
    "\n",
    "file_name = 'Climate.xlsx'\n",
    "Climate = pd.read_excel(file_name)"
   ]
  },
  {
   "cell_type": "code",
   "execution_count": 12,
   "metadata": {},
   "outputs": [],
   "source": [
    "# Climate = "
   ]
  },
  {
   "cell_type": "code",
   "execution_count": 13,
   "metadata": {},
   "outputs": [
    {
     "data": {
      "text/plain": [
       "0        1980\n",
       "1        1980\n",
       "2        1980\n",
       "3        1980\n",
       "4        1980\n",
       "         ... \n",
       "90391    2010\n",
       "90392    2010\n",
       "90393    2010\n",
       "90394    2010\n",
       "90395    2010\n",
       "Name: dt, Length: 90396, dtype: int32"
      ]
     },
     "execution_count": 13,
     "metadata": {},
     "output_type": "execute_result"
    }
   ],
   "source": [
    "Climate['dt'].dt.year"
   ]
  },
  {
   "cell_type": "code",
   "execution_count": null,
   "metadata": {},
   "outputs": [],
   "source": []
  },
  {
   "cell_type": "code",
   "execution_count": 14,
   "metadata": {},
   "outputs": [
    {
     "data": {
      "text/html": [
       "<div>\n",
       "<style scoped>\n",
       "    .dataframe tbody tr th:only-of-type {\n",
       "        vertical-align: middle;\n",
       "    }\n",
       "\n",
       "    .dataframe tbody tr th {\n",
       "        vertical-align: top;\n",
       "    }\n",
       "\n",
       "    .dataframe thead th {\n",
       "        text-align: right;\n",
       "    }\n",
       "</style>\n",
       "<table border=\"1\" class=\"dataframe\">\n",
       "  <thead>\n",
       "    <tr style=\"text-align: right;\">\n",
       "      <th></th>\n",
       "      <th>dt</th>\n",
       "      <th>AverageTemperature</th>\n",
       "      <th>Country</th>\n",
       "    </tr>\n",
       "  </thead>\n",
       "  <tbody>\n",
       "    <tr>\n",
       "      <th>1</th>\n",
       "      <td>1980</td>\n",
       "      <td>14.89</td>\n",
       "      <td>Afghanistan</td>\n",
       "    </tr>\n",
       "    <tr>\n",
       "      <th>2</th>\n",
       "      <td>1981</td>\n",
       "      <td>14.86</td>\n",
       "      <td>Afghanistan</td>\n",
       "    </tr>\n",
       "    <tr>\n",
       "      <th>3</th>\n",
       "      <td>1982</td>\n",
       "      <td>13.73</td>\n",
       "      <td>Afghanistan</td>\n",
       "    </tr>\n",
       "    <tr>\n",
       "      <th>4</th>\n",
       "      <td>1983</td>\n",
       "      <td>14.61</td>\n",
       "      <td>Afghanistan</td>\n",
       "    </tr>\n",
       "    <tr>\n",
       "      <th>5</th>\n",
       "      <td>1984</td>\n",
       "      <td>14.25</td>\n",
       "      <td>Afghanistan</td>\n",
       "    </tr>\n",
       "    <tr>\n",
       "      <th>...</th>\n",
       "      <td>...</td>\n",
       "      <td>...</td>\n",
       "      <td>...</td>\n",
       "    </tr>\n",
       "    <tr>\n",
       "      <th>7529</th>\n",
       "      <td>2006</td>\n",
       "      <td>7.10</td>\n",
       "      <td>횇land</td>\n",
       "    </tr>\n",
       "    <tr>\n",
       "      <th>7530</th>\n",
       "      <td>2007</td>\n",
       "      <td>7.03</td>\n",
       "      <td>횇land</td>\n",
       "    </tr>\n",
       "    <tr>\n",
       "      <th>7531</th>\n",
       "      <td>2008</td>\n",
       "      <td>7.49</td>\n",
       "      <td>횇land</td>\n",
       "    </tr>\n",
       "    <tr>\n",
       "      <th>7532</th>\n",
       "      <td>2009</td>\n",
       "      <td>6.49</td>\n",
       "      <td>횇land</td>\n",
       "    </tr>\n",
       "    <tr>\n",
       "      <th>7533</th>\n",
       "      <td>2010</td>\n",
       "      <td>4.86</td>\n",
       "      <td>횇land</td>\n",
       "    </tr>\n",
       "  </tbody>\n",
       "</table>\n",
       "<p>7533 rows × 3 columns</p>\n",
       "</div>"
      ],
      "text/plain": [
       "        dt  AverageTemperature      Country\n",
       "1     1980               14.89  Afghanistan\n",
       "2     1981               14.86  Afghanistan\n",
       "3     1982               13.73  Afghanistan\n",
       "4     1983               14.61  Afghanistan\n",
       "5     1984               14.25  Afghanistan\n",
       "...    ...                 ...          ...\n",
       "7529  2006                7.10        횇land\n",
       "7530  2007                7.03        횇land\n",
       "7531  2008                7.49        횇land\n",
       "7532  2009                6.49        횇land\n",
       "7533  2010                4.86        횇land\n",
       "\n",
       "[7533 rows x 3 columns]"
      ]
     },
     "execution_count": 14,
     "metadata": {},
     "output_type": "execute_result"
    }
   ],
   "source": [
    "# temp = Climate[Climate['dt'].dt.year==1980]\n",
    "# temp = temp[temp['Country']=='Zimbabwe']\n",
    "\n",
    "idx = 1\n",
    "ClimateDF = pd.DataFrame(columns=['dt', 'AverageTemperature', 'Country'])\n",
    "Country = list(set(Climate['Country'].values))\n",
    "Country = sorted(Country)\n",
    "\n",
    "for Con in Country:\n",
    "    temp = Climate[Climate['Country']==Con]\n",
    "    # print(temp)\n",
    "    # for y in range(1980,2011,1):\n",
    "    #     print(temp['dt'].dt.year == y)\n",
    "        # print(temp['dt'].dt.year)\n",
    "        # temp = temp[temp['dt'].dt.year == y]\n",
    "        # print(temp[temp['dt'].dt.year == y])\n",
    "        # print(temp)\n",
    "        # print(temp.info())\n",
    "        # avg_temp = round(temp['AverageTemperature'].mean(), 2)\n",
    "        # print(avg_temp)\n",
    "        # ClimateDF.loc[f'{idx}'] = [year, avg_temp, Con]\n",
    "    year = 1980\n",
    "    while year <= 2010:\n",
    "        # print(year, type(year))\n",
    "        # print(temp[temp['dt'].dt.year == year])\n",
    "        new_temp = temp[temp['dt'].dt.year == year]\n",
    "        # print(new_temp)\n",
    "        # temp = temp[temp['dt'].dt.year == year]\n",
    "        # print(temp)\n",
    "        avg_temp = round(new_temp['AverageTemperature'].mean(), 2)\n",
    "        ClimateDF.loc[f'{idx}'] = [year, avg_temp, Con]\n",
    "        year += 1\n",
    "        idx += 1\n",
    "ClimateDF"
   ]
  },
  {
   "cell_type": "code",
   "execution_count": 15,
   "metadata": {},
   "outputs": [
    {
     "data": {
      "text/html": [
       "<div>\n",
       "<style scoped>\n",
       "    .dataframe tbody tr th:only-of-type {\n",
       "        vertical-align: middle;\n",
       "    }\n",
       "\n",
       "    .dataframe tbody tr th {\n",
       "        vertical-align: top;\n",
       "    }\n",
       "\n",
       "    .dataframe thead th {\n",
       "        text-align: right;\n",
       "    }\n",
       "</style>\n",
       "<table border=\"1\" class=\"dataframe\">\n",
       "  <thead>\n",
       "    <tr style=\"text-align: right;\">\n",
       "      <th></th>\n",
       "      <th>dt</th>\n",
       "      <th>AverageTemperature</th>\n",
       "      <th>Country</th>\n",
       "    </tr>\n",
       "  </thead>\n",
       "  <tbody>\n",
       "    <tr>\n",
       "      <th>1</th>\n",
       "      <td>1980</td>\n",
       "      <td>14.89</td>\n",
       "      <td>Afghanistan</td>\n",
       "    </tr>\n",
       "    <tr>\n",
       "      <th>2</th>\n",
       "      <td>1981</td>\n",
       "      <td>14.86</td>\n",
       "      <td>Afghanistan</td>\n",
       "    </tr>\n",
       "    <tr>\n",
       "      <th>3</th>\n",
       "      <td>1982</td>\n",
       "      <td>13.73</td>\n",
       "      <td>Afghanistan</td>\n",
       "    </tr>\n",
       "    <tr>\n",
       "      <th>4</th>\n",
       "      <td>1983</td>\n",
       "      <td>14.61</td>\n",
       "      <td>Afghanistan</td>\n",
       "    </tr>\n",
       "    <tr>\n",
       "      <th>5</th>\n",
       "      <td>1984</td>\n",
       "      <td>14.25</td>\n",
       "      <td>Afghanistan</td>\n",
       "    </tr>\n",
       "    <tr>\n",
       "      <th>...</th>\n",
       "      <td>...</td>\n",
       "      <td>...</td>\n",
       "      <td>...</td>\n",
       "    </tr>\n",
       "    <tr>\n",
       "      <th>7498</th>\n",
       "      <td>2006</td>\n",
       "      <td>21.62</td>\n",
       "      <td>Zimbabwe</td>\n",
       "    </tr>\n",
       "    <tr>\n",
       "      <th>7499</th>\n",
       "      <td>2007</td>\n",
       "      <td>21.60</td>\n",
       "      <td>Zimbabwe</td>\n",
       "    </tr>\n",
       "    <tr>\n",
       "      <th>7500</th>\n",
       "      <td>2008</td>\n",
       "      <td>21.55</td>\n",
       "      <td>Zimbabwe</td>\n",
       "    </tr>\n",
       "    <tr>\n",
       "      <th>7501</th>\n",
       "      <td>2009</td>\n",
       "      <td>21.38</td>\n",
       "      <td>Zimbabwe</td>\n",
       "    </tr>\n",
       "    <tr>\n",
       "      <th>7502</th>\n",
       "      <td>2010</td>\n",
       "      <td>21.99</td>\n",
       "      <td>Zimbabwe</td>\n",
       "    </tr>\n",
       "  </tbody>\n",
       "</table>\n",
       "<p>7502 rows × 3 columns</p>\n",
       "</div>"
      ],
      "text/plain": [
       "        dt  AverageTemperature      Country\n",
       "1     1980               14.89  Afghanistan\n",
       "2     1981               14.86  Afghanistan\n",
       "3     1982               13.73  Afghanistan\n",
       "4     1983               14.61  Afghanistan\n",
       "5     1984               14.25  Afghanistan\n",
       "...    ...                 ...          ...\n",
       "7498  2006               21.62     Zimbabwe\n",
       "7499  2007               21.60     Zimbabwe\n",
       "7500  2008               21.55     Zimbabwe\n",
       "7501  2009               21.38     Zimbabwe\n",
       "7502  2010               21.99     Zimbabwe\n",
       "\n",
       "[7502 rows x 3 columns]"
      ]
     },
     "execution_count": 15,
     "metadata": {},
     "output_type": "execute_result"
    }
   ],
   "source": [
    "GoodBye_land = ClimateDF[ClimateDF['Country']=='횇land']\n",
    "# GoodBye_land    # 7503:7533\n",
    "ClimateDF.drop(ClimateDF.index[7502:], inplace=True)\n",
    "ClimateDF\n",
    "# re\n",
    "# ClimateDF"
   ]
  },
  {
   "cell_type": "code",
   "execution_count": 16,
   "metadata": {},
   "outputs": [],
   "source": [
    "India = ClimateDF[ClimateDF['Country']=='India']\n",
    "\n",
    "India.to_excel('india.xlsx')"
   ]
  },
  {
   "cell_type": "code",
   "execution_count": 17,
   "metadata": {},
   "outputs": [
    {
     "data": {
      "text/plain": [
       "242"
      ]
     },
     "execution_count": 17,
     "metadata": {},
     "output_type": "execute_result"
    }
   ],
   "source": [
    "len(set(ClimateDF['Country'].values))"
   ]
  },
  {
   "cell_type": "code",
   "execution_count": 18,
   "metadata": {},
   "outputs": [
    {
     "data": {
      "text/plain": [
       "[21.13,\n",
       " 20.8,\n",
       " 21.57,\n",
       " 22.37,\n",
       " 21.71,\n",
       " 21.2,\n",
       " 21.2,\n",
       " 22.32,\n",
       " 21.48,\n",
       " 21.43,\n",
       " 22.13,\n",
       " 21.79,\n",
       " 22.84,\n",
       " 21.85,\n",
       " 21.61,\n",
       " 22.5,\n",
       " 21.55,\n",
       " 21.57,\n",
       " 22.14,\n",
       " 21.49,\n",
       " 21.15,\n",
       " 21.69,\n",
       " 22.08,\n",
       " 21.89,\n",
       " 21.33,\n",
       " 22.51,\n",
       " 21.62,\n",
       " 21.6,\n",
       " 21.55,\n",
       " 21.38,\n",
       " 21.99]"
      ]
     },
     "execution_count": 18,
     "metadata": {},
     "output_type": "execute_result"
    }
   ],
   "source": [
    "list(ClimateDF[ClimateDF['Country']=='Zimbabwe']['AverageTemperature'])"
   ]
  },
  {
   "cell_type": "code",
   "execution_count": 19,
   "metadata": {},
   "outputs": [
    {
     "data": {
      "text/plain": [
       "14.89"
      ]
     },
     "execution_count": 19,
     "metadata": {},
     "output_type": "execute_result"
    }
   ],
   "source": [
    "# ClimateDF[ClimateDF['dt']==1980].count()['dt']\n",
    "\n",
    "float(ClimateDF.iloc[0]['AverageTemperature'])"
   ]
  },
  {
   "cell_type": "code",
   "execution_count": 20,
   "metadata": {},
   "outputs": [],
   "source": [
    "# 혹시 1980~2010 빈 값있나 확인\n",
    "for i in range(1980,2011):\n",
    "    a = ClimateDF[ClimateDF['dt']==i].count()\n",
    "    a = a['dt']\n",
    "    if a < 242 or a > 242:\n",
    "        print(i)"
   ]
  },
  {
   "cell_type": "code",
   "execution_count": 21,
   "metadata": {},
   "outputs": [
    {
     "data": {
      "text/html": [
       "<div>\n",
       "<style scoped>\n",
       "    .dataframe tbody tr th:only-of-type {\n",
       "        vertical-align: middle;\n",
       "    }\n",
       "\n",
       "    .dataframe tbody tr th {\n",
       "        vertical-align: top;\n",
       "    }\n",
       "\n",
       "    .dataframe thead tr th {\n",
       "        text-align: left;\n",
       "    }\n",
       "</style>\n",
       "<table border=\"1\" class=\"dataframe\">\n",
       "  <thead>\n",
       "    <tr>\n",
       "      <th></th>\n",
       "      <th>1980</th>\n",
       "      <th>1981</th>\n",
       "      <th>1982</th>\n",
       "      <th>1983</th>\n",
       "      <th>1984</th>\n",
       "      <th>1985</th>\n",
       "      <th>1986</th>\n",
       "      <th>1987</th>\n",
       "      <th>1988</th>\n",
       "      <th>1989</th>\n",
       "      <th>...</th>\n",
       "      <th>2001</th>\n",
       "      <th>2002</th>\n",
       "      <th>2003</th>\n",
       "      <th>2004</th>\n",
       "      <th>2005</th>\n",
       "      <th>2006</th>\n",
       "      <th>2007</th>\n",
       "      <th>2008</th>\n",
       "      <th>2009</th>\n",
       "      <th>2010</th>\n",
       "    </tr>\n",
       "  </thead>\n",
       "  <tbody>\n",
       "  </tbody>\n",
       "</table>\n",
       "<p>0 rows × 31 columns</p>\n",
       "</div>"
      ],
      "text/plain": [
       "Empty DataFrame\n",
       "Columns: [(1980,), (1981,), (1982,), (1983,), (1984,), (1985,), (1986,), (1987,), (1988,), (1989,), (1990,), (1991,), (1992,), (1993,), (1994,), (1995,), (1996,), (1997,), (1998,), (1999,), (2000,), (2001,), (2002,), (2003,), (2004,), (2005,), (2006,), (2007,), (2008,), (2009,), (2010,)]\n",
       "Index: []\n",
       "\n",
       "[0 rows x 31 columns]"
      ]
     },
     "execution_count": 21,
     "metadata": {},
     "output_type": "execute_result"
    }
   ],
   "source": [
    "year_list = [i for i in range(1980, 2011)]\n",
    "Climate_year_DF = pd.DataFrame(columns=[year_list])\n",
    "Climate_year_DF\n",
    "# year_list"
   ]
  },
  {
   "cell_type": "code",
   "execution_count": 22,
   "metadata": {},
   "outputs": [
    {
     "ename": "ValueError",
     "evalue": "cannot set a row with mismatched columns",
     "output_type": "error",
     "traceback": [
      "\u001b[1;31m---------------------------------------------------------------------------\u001b[0m",
      "\u001b[1;31mValueError\u001b[0m                                Traceback (most recent call last)",
      "Cell \u001b[1;32mIn[22], line 5\u001b[0m\n\u001b[0;32m      3\u001b[0m \u001b[38;5;28;01mfor\u001b[39;00m con \u001b[38;5;129;01min\u001b[39;00m Country:\n\u001b[0;32m      4\u001b[0m     \u001b[38;5;28;01mfor\u001b[39;00m y \u001b[38;5;129;01min\u001b[39;00m \u001b[38;5;28mrange\u001b[39m(\u001b[38;5;241m242\u001b[39m): \u001b[38;5;66;03m# 년도\u001b[39;00m\n\u001b[1;32m----> 5\u001b[0m         \u001b[43mClimate_year_DF\u001b[49m\u001b[38;5;241;43m.\u001b[39;49m\u001b[43mloc\u001b[49m\u001b[43m[\u001b[49m\u001b[38;5;124;43mf\u001b[39;49m\u001b[38;5;124;43m'\u001b[39;49m\u001b[38;5;132;43;01m{\u001b[39;49;00m\u001b[43mcon\u001b[49m\u001b[38;5;132;43;01m}\u001b[39;49;00m\u001b[38;5;124;43m'\u001b[39;49m\u001b[43m]\u001b[49m \u001b[38;5;241m=\u001b[39m \u001b[38;5;28mlist\u001b[39m(ClimateDF[ClimateDF[\u001b[38;5;124m'\u001b[39m\u001b[38;5;124mCountry\u001b[39m\u001b[38;5;124m'\u001b[39m]\u001b[38;5;241m==\u001b[39mcon][\u001b[38;5;124m'\u001b[39m\u001b[38;5;124mAverageTemperature\u001b[39m\u001b[38;5;124m'\u001b[39m])\n\u001b[0;32m      7\u001b[0m         \u001b[38;5;66;03m# Climate['AverageTemperature']\u001b[39;00m\n\u001b[0;32m      8\u001b[0m         \u001b[38;5;66;03m# float(ClimateDF.iloc[y]['AverageTemperature'])\u001b[39;00m\n\u001b[0;32m      9\u001b[0m Climate_year_DF   \u001b[38;5;66;03m# 나라 : 1980~2010 식으로 더하기.\u001b[39;00m\n",
      "File \u001b[1;32mc:\\Users\\kjy19\\anaconda3\\envs\\EV_PY39\\lib\\site-packages\\pandas\\core\\indexing.py:911\u001b[0m, in \u001b[0;36m_LocationIndexer.__setitem__\u001b[1;34m(self, key, value)\u001b[0m\n\u001b[0;32m    908\u001b[0m \u001b[38;5;28mself\u001b[39m\u001b[38;5;241m.\u001b[39m_has_valid_setitem_indexer(key)\n\u001b[0;32m    910\u001b[0m iloc \u001b[38;5;241m=\u001b[39m \u001b[38;5;28mself\u001b[39m \u001b[38;5;28;01mif\u001b[39;00m \u001b[38;5;28mself\u001b[39m\u001b[38;5;241m.\u001b[39mname \u001b[38;5;241m==\u001b[39m \u001b[38;5;124m\"\u001b[39m\u001b[38;5;124miloc\u001b[39m\u001b[38;5;124m\"\u001b[39m \u001b[38;5;28;01melse\u001b[39;00m \u001b[38;5;28mself\u001b[39m\u001b[38;5;241m.\u001b[39mobj\u001b[38;5;241m.\u001b[39miloc\n\u001b[1;32m--> 911\u001b[0m \u001b[43miloc\u001b[49m\u001b[38;5;241;43m.\u001b[39;49m\u001b[43m_setitem_with_indexer\u001b[49m\u001b[43m(\u001b[49m\u001b[43mindexer\u001b[49m\u001b[43m,\u001b[49m\u001b[43m \u001b[49m\u001b[43mvalue\u001b[49m\u001b[43m,\u001b[49m\u001b[43m \u001b[49m\u001b[38;5;28;43mself\u001b[39;49m\u001b[38;5;241;43m.\u001b[39;49m\u001b[43mname\u001b[49m\u001b[43m)\u001b[49m\n",
      "File \u001b[1;32mc:\\Users\\kjy19\\anaconda3\\envs\\EV_PY39\\lib\\site-packages\\pandas\\core\\indexing.py:1932\u001b[0m, in \u001b[0;36m_iLocIndexer._setitem_with_indexer\u001b[1;34m(self, indexer, value, name)\u001b[0m\n\u001b[0;32m   1929\u001b[0m     indexer, missing \u001b[38;5;241m=\u001b[39m convert_missing_indexer(indexer)\n\u001b[0;32m   1931\u001b[0m     \u001b[38;5;28;01mif\u001b[39;00m missing:\n\u001b[1;32m-> 1932\u001b[0m         \u001b[38;5;28;43mself\u001b[39;49m\u001b[38;5;241;43m.\u001b[39;49m\u001b[43m_setitem_with_indexer_missing\u001b[49m\u001b[43m(\u001b[49m\u001b[43mindexer\u001b[49m\u001b[43m,\u001b[49m\u001b[43m \u001b[49m\u001b[43mvalue\u001b[49m\u001b[43m)\u001b[49m\n\u001b[0;32m   1933\u001b[0m         \u001b[38;5;28;01mreturn\u001b[39;00m\n\u001b[0;32m   1935\u001b[0m \u001b[38;5;28;01mif\u001b[39;00m name \u001b[38;5;241m==\u001b[39m \u001b[38;5;124m\"\u001b[39m\u001b[38;5;124mloc\u001b[39m\u001b[38;5;124m\"\u001b[39m:\n\u001b[0;32m   1936\u001b[0m     \u001b[38;5;66;03m# must come after setting of missing\u001b[39;00m\n",
      "File \u001b[1;32mc:\\Users\\kjy19\\anaconda3\\envs\\EV_PY39\\lib\\site-packages\\pandas\\core\\indexing.py:2306\u001b[0m, in \u001b[0;36m_iLocIndexer._setitem_with_indexer_missing\u001b[1;34m(self, indexer, value)\u001b[0m\n\u001b[0;32m   2303\u001b[0m     \u001b[38;5;28;01mif\u001b[39;00m is_list_like_indexer(value):\n\u001b[0;32m   2304\u001b[0m         \u001b[38;5;66;03m# must have conforming columns\u001b[39;00m\n\u001b[0;32m   2305\u001b[0m         \u001b[38;5;28;01mif\u001b[39;00m \u001b[38;5;28mlen\u001b[39m(value) \u001b[38;5;241m!=\u001b[39m \u001b[38;5;28mlen\u001b[39m(\u001b[38;5;28mself\u001b[39m\u001b[38;5;241m.\u001b[39mobj\u001b[38;5;241m.\u001b[39mcolumns):\n\u001b[1;32m-> 2306\u001b[0m             \u001b[38;5;28;01mraise\u001b[39;00m \u001b[38;5;167;01mValueError\u001b[39;00m(\u001b[38;5;124m\"\u001b[39m\u001b[38;5;124mcannot set a row with mismatched columns\u001b[39m\u001b[38;5;124m\"\u001b[39m)\n\u001b[0;32m   2308\u001b[0m     value \u001b[38;5;241m=\u001b[39m Series(value, index\u001b[38;5;241m=\u001b[39m\u001b[38;5;28mself\u001b[39m\u001b[38;5;241m.\u001b[39mobj\u001b[38;5;241m.\u001b[39mcolumns, name\u001b[38;5;241m=\u001b[39mindexer)\n\u001b[0;32m   2310\u001b[0m \u001b[38;5;28;01mif\u001b[39;00m \u001b[38;5;129;01mnot\u001b[39;00m \u001b[38;5;28mlen\u001b[39m(\u001b[38;5;28mself\u001b[39m\u001b[38;5;241m.\u001b[39mobj):\n\u001b[0;32m   2311\u001b[0m     \u001b[38;5;66;03m# We will ignore the existing dtypes instead of using\u001b[39;00m\n\u001b[0;32m   2312\u001b[0m     \u001b[38;5;66;03m#  internals.concat logic\u001b[39;00m\n",
      "\u001b[1;31mValueError\u001b[0m: cannot set a row with mismatched columns"
     ]
    }
   ],
   "source": [
    "# for i in range(7502)\n",
    "#     year = ClimateDF['Country'][i]\n",
    "for con in Country:\n",
    "    for y in range(242): # 년도\n",
    "        Climate_year_DF.loc[f'{con}'] = list(ClimateDF[ClimateDF['Country']==con]['AverageTemperature'])\n",
    "        \n",
    "        # Climate['AverageTemperature']\n",
    "        # float(ClimateDF.iloc[y]['AverageTemperature'])\n",
    "Climate_year_DF   # 나라 : 1980~2010 식으로 더하기."
   ]
  },
  {
   "cell_type": "code",
   "execution_count": null,
   "metadata": {},
   "outputs": [],
   "source": [
    "# year_list = [i for i in range(1980, 2011)]\n",
    "# Climate_year_DF = pd.DataFrame(index='Country', columns=[year_list])\n",
    "\n",
    "# for y in range(31): # 년도\n",
    "#     for idx in range(242):  # 나라 갯수\n",
    "#         Climate['AverageTemperature']\n",
    "#         float(ClimateDF.iloc[0]['AverageTemperature'])\n",
    "# Climate_year_DF.loc[]   # 나라 : 1980~2010 식으로 더하기.\n",
    "\n"
   ]
  }
 ],
 "metadata": {
  "kernelspec": {
   "display_name": "EV_PY39",
   "language": "python",
   "name": "python3"
  },
  "language_info": {
   "codemirror_mode": {
    "name": "ipython",
    "version": 3
   },
   "file_extension": ".py",
   "mimetype": "text/x-python",
   "name": "python",
   "nbconvert_exporter": "python",
   "pygments_lexer": "ipython3",
   "version": "3.9.19"
  }
 },
 "nbformat": 4,
 "nbformat_minor": 2
}
