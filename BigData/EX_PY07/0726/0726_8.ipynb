{
 "cells": [
  {
   "cell_type": "code",
   "execution_count": 1,
   "metadata": {},
   "outputs": [
    {
     "name": "stdout",
     "output_type": "stream",
     "text": [
      "Index(['날짜', '지점', '평균기온(℃)', '최저기온(℃)', '최고기온(℃)'], dtype='object')\n",
      "object\n"
     ]
    }
   ],
   "source": [
    "import pandas as pd\n",
    "\n",
    "weather_df = pd.read_csv(r'C:\\Git\\KDT\\BigData\\EX_PY07\\0726\\daegu-utf8.csv', encoding='utf-8-sig')\n",
    "print(weather_df.columns)\n",
    "print(weather_df['날짜'].dtype)"
   ]
  },
  {
   "cell_type": "code",
   "execution_count": 2,
   "metadata": {},
   "outputs": [
    {
     "name": "stdout",
     "output_type": "stream",
     "text": [
      "Index(['날짜', '지점', '평균기온', '최저기온', '최고기온'], dtype='object')\n"
     ]
    }
   ],
   "source": [
    "weather_df.columns=['날짜', '지점', '평균기온', '최저기온', '최고기온']\n",
    "print(weather_df.columns)"
   ]
  },
  {
   "cell_type": "code",
   "execution_count": 3,
   "metadata": {},
   "outputs": [
    {
     "name": "stdout",
     "output_type": "stream",
     "text": [
      "datetime64[ns]\n"
     ]
    }
   ],
   "source": [
    "weather_df['날짜']=pd.to_datetime(weather_df['날짜'], format='%Y-%m-%d')\n",
    "print(weather_df['날짜'].dtype)"
   ]
  },
  {
   "cell_type": "code",
   "execution_count": 4,
   "metadata": {},
   "outputs": [
    {
     "name": "stdout",
     "output_type": "stream",
     "text": [
      "          날짜     지점  평균기온  최저기온  최고기온\n",
      "0 1907-01-31  143.0   NaN  -7.0   0.8\n",
      "1 1907-02-01  143.0   NaN   NaN   NaN\n",
      "2 1907-02-02  143.0   NaN   NaN   NaN\n",
      "3 1907-02-03  143.0   NaN   NaN   NaN\n",
      "4 1907-02-04  143.0   NaN   NaN   NaN\n",
      "(42887, 5)\n",
      "날짜        1\n",
      "지점        1\n",
      "평균기온    704\n",
      "최저기온    630\n",
      "최고기온    632\n",
      "dtype: int64\n"
     ]
    }
   ],
   "source": [
    "print(weather_df.head(5))\n",
    "print(weather_df.shape)\n",
    "num_rows =\tweather_df.shape[0]\t\n",
    "num_missing = num_rows - weather_df.count()\n",
    "print(num_missing)"
   ]
  }
 ],
 "metadata": {
  "kernelspec": {
   "display_name": "EV_PY39",
   "language": "python",
   "name": "python3"
  },
  "language_info": {
   "codemirror_mode": {
    "name": "ipython",
    "version": 3
   },
   "file_extension": ".py",
   "mimetype": "text/x-python",
   "name": "python",
   "nbconvert_exporter": "python",
   "pygments_lexer": "ipython3",
   "version": "3.9.19"
  }
 },
 "nbformat": 4,
 "nbformat_minor": 2
}
