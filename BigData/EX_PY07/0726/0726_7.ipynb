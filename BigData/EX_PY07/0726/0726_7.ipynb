{
 "cells": [
  {
   "cell_type": "code",
   "execution_count": null,
   "metadata": {},
   "outputs": [],
   "source": [
    "import csv\n",
    "import matplotlib.pyplot as\tplt\n",
    "import platform\n",
    "import koreanize_matplotlib\n",
    "\n",
    "def draw_graph_on_date(start_year, month, day):\n",
    "    f = open(r'C:\\Git\\KDT\\BigData\\EX_PY07\\0726\\daegu-utf8.csv', encoding='utf-8-sig')\n",
    "    data = csv.reader(f)\n",
    "    next(data)\n",
    "    high_temp = []\n",
    "    low_temp = []\n",
    "    x_year=[]\n",
    "\n",
    "    for row in data:\n",
    "        if row[-1] != '':\n",
    "            date_string = row[0].split('-')\n",
    "            if int(date_string[0]) >= start_year:\n",
    "                if int(date_string[1]) == month and int(date_string[2]) == day:\n",
    "                    high_temp.append(float(row[-1]))\n",
    "                    low_temp.append(float(row[-2]))\n",
    "                    x_year.append(date_string[0])\n",
    "    f.close()\n",
    "    plt.figure(figsize=(20,4))\n",
    "    plt.plot(x_year, high_temp, 'hotpink', marker ='o', label='최고기온')\n",
    "    plt.plot(x_year, low_temp, 'royalblue', marker ='s', label='최저기온')\n",
    "    \n",
    "    plt.rcParams['axes.unicode_minus'] = False\n",
    "    plt.title(f'{start_year}년 {month}월 {day}일 최고 기운 변화 그래프', size=16)\n",
    "\n",
    "    plt.legend(loc=2)\n",
    "    plt.xlabel('year')\n",
    "    plt.ylabel('temperature')\n",
    "    plt.show()\n",
    "\n",
    "\n",
    "# month, date = input(\"날짜 월 일을 입력하세요,\").split()\n",
    "draw_graph_on_date(2000, 4, 11)"
   ]
  }
 ],
 "metadata": {
  "kernelspec": {
   "display_name": "EV_PY39",
   "language": "python",
   "name": "python3"
  },
  "language_info": {
   "name": "python",
   "version": "3.9.19"
  }
 },
 "nbformat": 4,
 "nbformat_minor": 2
}
