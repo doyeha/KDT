{
 "cells": [
  {
   "cell_type": "code",
   "execution_count": null,
   "metadata": {},
   "outputs": [],
   "source": [
    "import csv\n",
    "import matplotlib.pyplot as\tplt\n",
    "import koreanize_matplotlib\n",
    "\n",
    "def draw_graph_on_date(month, day):\n",
    "    f = open(r'C:\\Git\\KDT\\BigData\\EX_PY07\\0726\\daegu-utf8.csv', encoding='utf-8-sig')\n",
    "    data = csv.reader(f)\n",
    "    next(data)\n",
    "    result=[]\n",
    "\n",
    "    for row in data:\n",
    "        if row[-1] != '':\n",
    "            date_string = row[0].split('-')\n",
    "            if date_string[1] == month and date_string[2]:\n",
    "                result.append(float(row[-1]))\n",
    "\n",
    "\n",
    "    f.close()\n",
    "    plt.figure(figsize=(15,2))\n",
    "    plt.plot(result, 'royalblue')\n",
    "    plt.rc('axes', unicode_minus = False)\n",
    "    plt.title(f'매년 {month}월 {day}일 최고 기운 변화 ')\n",
    "    plt.show()\n",
    "\n",
    "\n",
    "month, date = input(\"날짜 월 일을 입력하세요,\").split()\n",
    "draw_graph_on_date(month, date)"
   ]
  }
 ],
 "metadata": {
  "kernelspec": {
   "display_name": "EV_PY39",
   "language": "python",
   "name": "python3"
  },
  "language_info": {
   "name": "python",
   "version": "3.9.19"
  }
 },
 "nbformat": 4,
 "nbformat_minor": 2
}
