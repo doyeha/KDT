{
 "cells": [
  {
   "cell_type": "code",
   "execution_count": 22,
   "metadata": {},
   "outputs": [],
   "source": [
    "import pandas as pd\n",
    "import matplotlib.pyplot as plt\n",
    "import koreanize_matplotlib\n",
    "\n",
    "\n",
    "file = r'C:\\Git\\KDT\\BigData\\EX_PY07\\0726\\daegu-utf8.csv'\n",
    "weatherDF = pd.read_csv(file)"
   ]
  },
  {
   "cell_type": "code",
   "execution_count": 23,
   "metadata": {},
   "outputs": [],
   "source": [
    "# 문자열 형태의 날짜 데이터 -> Datetime으로 변경\n",
    "weatherDF['날짜'] = pd.to_datetime(weatherDF['날짜'], format='%Y-%m-%d')"
   ]
  },
  {
   "cell_type": "code",
   "execution_count": 24,
   "metadata": {},
   "outputs": [],
   "source": [
    "# weatherDF\n",
    "\n",
    "# for i in weatherDF.head(10):\n",
    "#         print(i)"
   ]
  },
  {
   "cell_type": "code",
   "execution_count": 25,
   "metadata": {},
   "outputs": [
    {
     "data": {
      "text/plain": [
       "0        False\n",
       "1        False\n",
       "2        False\n",
       "3        False\n",
       "4        False\n",
       "         ...  \n",
       "42882     True\n",
       "42883     True\n",
       "42884     True\n",
       "42885     True\n",
       "42886    False\n",
       "Name: 날짜, Length: 42887, dtype: bool"
      ]
     },
     "execution_count": 25,
     "metadata": {},
     "output_type": "execute_result"
    }
   ],
   "source": [
    "weatherDF['날짜'].dt.year >= 2000"
   ]
  },
  {
   "cell_type": "code",
   "execution_count": 26,
   "metadata": {},
   "outputs": [
    {
     "data": {
      "text/html": [
       "<div>\n",
       "<style scoped>\n",
       "    .dataframe tbody tr th:only-of-type {\n",
       "        vertical-align: middle;\n",
       "    }\n",
       "\n",
       "    .dataframe tbody tr th {\n",
       "        vertical-align: top;\n",
       "    }\n",
       "\n",
       "    .dataframe thead th {\n",
       "        text-align: right;\n",
       "    }\n",
       "</style>\n",
       "<table border=\"1\" class=\"dataframe\">\n",
       "  <thead>\n",
       "    <tr style=\"text-align: right;\">\n",
       "      <th></th>\n",
       "      <th>날짜</th>\n",
       "      <th>지점</th>\n",
       "      <th>평균기온(℃)</th>\n",
       "      <th>최저기온(℃)</th>\n",
       "      <th>최고기온(℃)</th>\n",
       "    </tr>\n",
       "  </thead>\n",
       "  <tbody>\n",
       "    <tr>\n",
       "      <th>33938</th>\n",
       "      <td>2000-01-01</td>\n",
       "      <td>143.0</td>\n",
       "      <td>4.7</td>\n",
       "      <td>0.0</td>\n",
       "      <td>8.5</td>\n",
       "    </tr>\n",
       "    <tr>\n",
       "      <th>33939</th>\n",
       "      <td>2000-01-02</td>\n",
       "      <td>143.0</td>\n",
       "      <td>6.5</td>\n",
       "      <td>3.1</td>\n",
       "      <td>11.5</td>\n",
       "    </tr>\n",
       "    <tr>\n",
       "      <th>33940</th>\n",
       "      <td>2000-01-03</td>\n",
       "      <td>143.0</td>\n",
       "      <td>2.9</td>\n",
       "      <td>0.0</td>\n",
       "      <td>6.8</td>\n",
       "    </tr>\n",
       "    <tr>\n",
       "      <th>33941</th>\n",
       "      <td>2000-01-04</td>\n",
       "      <td>143.0</td>\n",
       "      <td>2.3</td>\n",
       "      <td>-2.4</td>\n",
       "      <td>7.5</td>\n",
       "    </tr>\n",
       "    <tr>\n",
       "      <th>33942</th>\n",
       "      <td>2000-01-05</td>\n",
       "      <td>143.0</td>\n",
       "      <td>4.9</td>\n",
       "      <td>-0.9</td>\n",
       "      <td>9.4</td>\n",
       "    </tr>\n",
       "    <tr>\n",
       "      <th>...</th>\n",
       "      <td>...</td>\n",
       "      <td>...</td>\n",
       "      <td>...</td>\n",
       "      <td>...</td>\n",
       "      <td>...</td>\n",
       "    </tr>\n",
       "    <tr>\n",
       "      <th>42881</th>\n",
       "      <td>2024-06-26</td>\n",
       "      <td>143.0</td>\n",
       "      <td>24.8</td>\n",
       "      <td>19.6</td>\n",
       "      <td>30.8</td>\n",
       "    </tr>\n",
       "    <tr>\n",
       "      <th>42882</th>\n",
       "      <td>2024-06-27</td>\n",
       "      <td>143.0</td>\n",
       "      <td>22.0</td>\n",
       "      <td>18.1</td>\n",
       "      <td>26.2</td>\n",
       "    </tr>\n",
       "    <tr>\n",
       "      <th>42883</th>\n",
       "      <td>2024-06-28</td>\n",
       "      <td>143.0</td>\n",
       "      <td>26.0</td>\n",
       "      <td>18.2</td>\n",
       "      <td>34.1</td>\n",
       "    </tr>\n",
       "    <tr>\n",
       "      <th>42884</th>\n",
       "      <td>2024-06-29</td>\n",
       "      <td>143.0</td>\n",
       "      <td>24.5</td>\n",
       "      <td>22.0</td>\n",
       "      <td>29.8</td>\n",
       "    </tr>\n",
       "    <tr>\n",
       "      <th>42885</th>\n",
       "      <td>2024-06-30</td>\n",
       "      <td>143.0</td>\n",
       "      <td>26.2</td>\n",
       "      <td>23.6</td>\n",
       "      <td>31.0</td>\n",
       "    </tr>\n",
       "  </tbody>\n",
       "</table>\n",
       "<p>8948 rows × 5 columns</p>\n",
       "</div>"
      ],
      "text/plain": [
       "              날짜     지점  평균기온(℃)  최저기온(℃)  최고기온(℃)\n",
       "33938 2000-01-01  143.0      4.7      0.0      8.5\n",
       "33939 2000-01-02  143.0      6.5      3.1     11.5\n",
       "33940 2000-01-03  143.0      2.9      0.0      6.8\n",
       "33941 2000-01-04  143.0      2.3     -2.4      7.5\n",
       "33942 2000-01-05  143.0      4.9     -0.9      9.4\n",
       "...          ...    ...      ...      ...      ...\n",
       "42881 2024-06-26  143.0     24.8     19.6     30.8\n",
       "42882 2024-06-27  143.0     22.0     18.1     26.2\n",
       "42883 2024-06-28  143.0     26.0     18.2     34.1\n",
       "42884 2024-06-29  143.0     24.5     22.0     29.8\n",
       "42885 2024-06-30  143.0     26.2     23.6     31.0\n",
       "\n",
       "[8948 rows x 5 columns]"
      ]
     },
     "execution_count": 26,
     "metadata": {},
     "output_type": "execute_result"
    }
   ],
   "source": [
    "first = 2000\n",
    "second = 2024\n",
    "decadeDF = weatherDF[(weatherDF['날짜'].dt.year >= first)& (weatherDF['날짜'].dt.year <= second)]\n",
    "decadeDF"
   ]
  },
  {
   "cell_type": "code",
   "execution_count": 29,
   "metadata": {},
   "outputs": [
    {
     "data": {
      "text/html": [
       "<div>\n",
       "<style scoped>\n",
       "    .dataframe tbody tr th:only-of-type {\n",
       "        vertical-align: middle;\n",
       "    }\n",
       "\n",
       "    .dataframe tbody tr th {\n",
       "        vertical-align: top;\n",
       "    }\n",
       "\n",
       "    .dataframe thead th {\n",
       "        text-align: right;\n",
       "    }\n",
       "</style>\n",
       "<table border=\"1\" class=\"dataframe\">\n",
       "  <thead>\n",
       "    <tr style=\"text-align: right;\">\n",
       "      <th></th>\n",
       "      <th>날짜</th>\n",
       "      <th>지점</th>\n",
       "      <th>평균기온(℃)</th>\n",
       "      <th>최저기온(℃)</th>\n",
       "      <th>최고기온(℃)</th>\n",
       "    </tr>\n",
       "  </thead>\n",
       "  <tbody>\n",
       "    <tr>\n",
       "      <th>34151</th>\n",
       "      <td>2000-08-01</td>\n",
       "      <td>143.0</td>\n",
       "      <td>25.4</td>\n",
       "      <td>21.3</td>\n",
       "      <td>30.9</td>\n",
       "    </tr>\n",
       "    <tr>\n",
       "      <th>34152</th>\n",
       "      <td>2000-08-02</td>\n",
       "      <td>143.0</td>\n",
       "      <td>23.7</td>\n",
       "      <td>21.3</td>\n",
       "      <td>26.6</td>\n",
       "    </tr>\n",
       "    <tr>\n",
       "      <th>34153</th>\n",
       "      <td>2000-08-03</td>\n",
       "      <td>143.0</td>\n",
       "      <td>24.1</td>\n",
       "      <td>22.6</td>\n",
       "      <td>26.6</td>\n",
       "    </tr>\n",
       "    <tr>\n",
       "      <th>34154</th>\n",
       "      <td>2000-08-04</td>\n",
       "      <td>143.0</td>\n",
       "      <td>23.4</td>\n",
       "      <td>22.0</td>\n",
       "      <td>25.5</td>\n",
       "    </tr>\n",
       "    <tr>\n",
       "      <th>34155</th>\n",
       "      <td>2000-08-05</td>\n",
       "      <td>143.0</td>\n",
       "      <td>27.4</td>\n",
       "      <td>22.8</td>\n",
       "      <td>32.1</td>\n",
       "    </tr>\n",
       "    <tr>\n",
       "      <th>...</th>\n",
       "      <td>...</td>\n",
       "      <td>...</td>\n",
       "      <td>...</td>\n",
       "      <td>...</td>\n",
       "      <td>...</td>\n",
       "    </tr>\n",
       "    <tr>\n",
       "      <th>42577</th>\n",
       "      <td>2023-08-27</td>\n",
       "      <td>143.0</td>\n",
       "      <td>25.5</td>\n",
       "      <td>22.3</td>\n",
       "      <td>30.9</td>\n",
       "    </tr>\n",
       "    <tr>\n",
       "      <th>42578</th>\n",
       "      <td>2023-08-28</td>\n",
       "      <td>143.0</td>\n",
       "      <td>25.5</td>\n",
       "      <td>23.0</td>\n",
       "      <td>27.9</td>\n",
       "    </tr>\n",
       "    <tr>\n",
       "      <th>42579</th>\n",
       "      <td>2023-08-29</td>\n",
       "      <td>143.0</td>\n",
       "      <td>25.7</td>\n",
       "      <td>23.2</td>\n",
       "      <td>28.0</td>\n",
       "    </tr>\n",
       "    <tr>\n",
       "      <th>42580</th>\n",
       "      <td>2023-08-30</td>\n",
       "      <td>143.0</td>\n",
       "      <td>24.7</td>\n",
       "      <td>22.3</td>\n",
       "      <td>25.9</td>\n",
       "    </tr>\n",
       "    <tr>\n",
       "      <th>42581</th>\n",
       "      <td>2023-08-31</td>\n",
       "      <td>143.0</td>\n",
       "      <td>23.3</td>\n",
       "      <td>21.2</td>\n",
       "      <td>25.7</td>\n",
       "    </tr>\n",
       "  </tbody>\n",
       "</table>\n",
       "<p>744 rows × 5 columns</p>\n",
       "</div>"
      ],
      "text/plain": [
       "              날짜     지점  평균기온(℃)  최저기온(℃)  최고기온(℃)\n",
       "34151 2000-08-01  143.0     25.4     21.3     30.9\n",
       "34152 2000-08-02  143.0     23.7     21.3     26.6\n",
       "34153 2000-08-03  143.0     24.1     22.6     26.6\n",
       "34154 2000-08-04  143.0     23.4     22.0     25.5\n",
       "34155 2000-08-05  143.0     27.4     22.8     32.1\n",
       "...          ...    ...      ...      ...      ...\n",
       "42577 2023-08-27  143.0     25.5     22.3     30.9\n",
       "42578 2023-08-28  143.0     25.5     23.0     27.9\n",
       "42579 2023-08-29  143.0     25.7     23.2     28.0\n",
       "42580 2023-08-30  143.0     24.7     22.3     25.9\n",
       "42581 2023-08-31  143.0     23.3     21.2     25.7\n",
       "\n",
       "[744 rows x 5 columns]"
      ]
     },
     "execution_count": 29,
     "metadata": {},
     "output_type": "execute_result"
    }
   ],
   "source": [
    "de_monDF = decadeDF[decadeDF['날짜'].dt.month == 8]\n",
    "de_monDF"
   ]
  },
  {
   "cell_type": "code",
   "execution_count": 31,
   "metadata": {},
   "outputs": [
    {
     "data": {
      "text/plain": [
       "np.float64(10.1)"
      ]
     },
     "execution_count": 31,
     "metadata": {},
     "output_type": "execute_result"
    }
   ],
   "source": [
    "a = weatherDF[weatherDF['날짜'].dt.year==2000]['최저기온(℃)'].mean()\n",
    "a = round(a,1)\n",
    "a"
   ]
  },
  {
   "cell_type": "code",
   "execution_count": 32,
   "metadata": {},
   "outputs": [
    {
     "data": {
      "text/plain": [
       "np.float64(10.493972602739726)"
      ]
     },
     "execution_count": 32,
     "metadata": {},
     "output_type": "execute_result"
    }
   ],
   "source": [
    "weatherDF[weatherDF['날짜'].dt.year==2014]['최저기온(℃)'].mean()"
   ]
  }
 ],
 "metadata": {
  "kernelspec": {
   "display_name": "EV_PY39",
   "language": "python",
   "name": "python3"
  },
  "language_info": {
   "codemirror_mode": {
    "name": "ipython",
    "version": 3
   },
   "file_extension": ".py",
   "mimetype": "text/x-python",
   "name": "python",
   "nbconvert_exporter": "python",
   "pygments_lexer": "ipython3",
   "version": "3.9.19"
  }
 },
 "nbformat": 4,
 "nbformat_minor": 2
}
