{
 "cells": [
  {
   "cell_type": "code",
   "execution_count": 1,
   "metadata": {},
   "outputs": [
    {
     "name": "stdout",
     "output_type": "stream",
     "text": [
      "+----+------------------------------------+--------------------------------------+---------------------------------+---------------------------------+---------------------------------+\n",
      "|    | ('호선명', 'Unnamed: 1_level_1')   | ('지하철역', 'Unnamed: 3_level_1')   |   ('07:00:00~07:59:59', '승차') |   ('08:00:00~08:59:59', '승차') |   ('09:00:00~09:59:59', '승차') |\n",
      "|----+------------------------------------+--------------------------------------+---------------------------------+---------------------------------+---------------------------------|\n",
      "|  0 | 1호선                              | 서울역                               |                           40205 |                           68945 |                           68501 |\n",
      "|  1 | 1호선                              | 시청                                 |                            7703 |                           10616 |                           12972 |\n",
      "|  2 | 1호선                              | 종각                                 |                            6588 |                           10892 |                           13378 |\n",
      "|  3 | 1호선                              | 종로3가                              |                            5968 |                           10284 |                           15280 |\n",
      "|  4 | 1호선                              | 종로5가                              |                            5783 |                           10330 |                           15744 |\n",
      "+----+------------------------------------+--------------------------------------+---------------------------------+---------------------------------+---------------------------------+\n"
     ]
    },
    {
     "name": "stderr",
     "output_type": "stream",
     "text": [
      "C:\\Users\\kjy19\\AppData\\Local\\Temp\\ipykernel_27000\\2040102395.py:16: SettingWithCopyWarning: \n",
      "A value is trying to be set on a copy of a slice from a DataFrame.\n",
      "Try using .loc[row_indexer,col_indexer] = value instead\n",
      "\n",
      "See the caveats in the documentation: https://pandas.pydata.org/pandas-docs/stable/user_guide/indexing.html#returning-a-view-versus-a-copy\n",
      "  commute_time_df[('07:00:00~07:59:59','승차')] = commute_time_df[('07:00:00~07:59:59','승차')].apply(lambda x : x.replace(',',''))\n",
      "C:\\Users\\kjy19\\AppData\\Local\\Temp\\ipykernel_27000\\2040102395.py:17: SettingWithCopyWarning: \n",
      "A value is trying to be set on a copy of a slice from a DataFrame.\n",
      "Try using .loc[row_indexer,col_indexer] = value instead\n",
      "\n",
      "See the caveats in the documentation: https://pandas.pydata.org/pandas-docs/stable/user_guide/indexing.html#returning-a-view-versus-a-copy\n",
      "  commute_time_df[('08:00:00~08:59:59','승차')] = commute_time_df[('08:00:00~08:59:59','승차')].apply(lambda x : x.replace(',',''))\n",
      "C:\\Users\\kjy19\\AppData\\Local\\Temp\\ipykernel_27000\\2040102395.py:18: SettingWithCopyWarning: \n",
      "A value is trying to be set on a copy of a slice from a DataFrame.\n",
      "Try using .loc[row_indexer,col_indexer] = value instead\n",
      "\n",
      "See the caveats in the documentation: https://pandas.pydata.org/pandas-docs/stable/user_guide/indexing.html#returning-a-view-versus-a-copy\n",
      "  commute_time_df[('09:00:00~09:59:59','승차')] = commute_time_df[('09:00:00~09:59:59','승차')].apply(lambda x : x.replace(',',''))\n"
     ]
    }
   ],
   "source": [
    "\n",
    "\n",
    "import pandas as pd\n",
    "from tabulate import tabulate\n",
    "\n",
    "\n",
    "df = pd.read_excel('subway.xls', sheet_name='지하철 시간대별 이용현황', header=[0,1])\n",
    "# print(df.head())\n",
    "# print(df.columns)\n",
    "# print(df[('호선명','Unnamed: 1_level_1')])\n",
    "commute_time_df = df.iloc[:,[1,3,10,12,14]]\n",
    "# print(tabulate(commute_time_df.head(), headers='keys', tablefmt = 'psql'))\n",
    "\n",
    "\n",
    "# print(df[('지하철역','Unnamed: 3_level_1')])\n",
    "# print(commute_time_df.dtypes)\n",
    "\n",
    "commute_time_df[('07:00:00~07:59:59','승차')] = commute_time_df[('07:00:00~07:59:59','승차')].apply(lambda x : x.replace(',',''))\n",
    "commute_time_df[('08:00:00~08:59:59','승차')] = commute_time_df[('08:00:00~08:59:59','승차')].apply(lambda x : x.replace(',',''))\n",
    "commute_time_df[('09:00:00~09:59:59','승차')] = commute_time_df[('09:00:00~09:59:59','승차')].apply(lambda x : x.replace(',',''))\n",
    "\n",
    "\n",
    "print(tabulate(commute_time_df.head(), headers='keys', tablefmt='psql'))"
   ]
  }
 ],
 "metadata": {
  "kernelspec": {
   "display_name": "EV_PY39",
   "language": "python",
   "name": "python3"
  },
  "language_info": {
   "codemirror_mode": {
    "name": "ipython",
    "version": 3
   },
   "file_extension": ".py",
   "mimetype": "text/x-python",
   "name": "python",
   "nbconvert_exporter": "python",
   "pygments_lexer": "ipython3",
   "version": "3.9.19"
  }
 },
 "nbformat": 4,
 "nbformat_minor": 2
}
